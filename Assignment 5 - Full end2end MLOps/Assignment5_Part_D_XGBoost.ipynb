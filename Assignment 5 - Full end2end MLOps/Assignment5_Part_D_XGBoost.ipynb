{
  "nbformat": 4,
  "nbformat_minor": 0,
  "metadata": {
    "colab": {
      "name": "Assignment5_Part_D_XGBoost.ipynb",
      "provenance": [],
      "toc_visible": true,
      "include_colab_link": true
    },
    "kernelspec": {
      "name": "python3",
      "display_name": "Python 3"
    },
    "language_info": {
      "name": "python"
    }
  },
  "cells": [
    {
      "cell_type": "markdown",
      "metadata": {
        "id": "view-in-github",
        "colab_type": "text"
      },
      "source": [
        "<a href=\"https://colab.research.google.com/github/arunt-sjsu/deep_learning/blob/main/Assignment5/Assignment5_Part_D_XGBoost.ipynb\" target=\"_parent\"><img src=\"https://colab.research.google.com/assets/colab-badge.svg\" alt=\"Open In Colab\"/></a>"
      ]
    },
    {
      "cell_type": "markdown",
      "metadata": {
        "id": "fzmPIZpJJ8TA"
      },
      "source": [
        "## Introduction\n",
        "### The goal of this notebook is to demonstrate the use of XGBoost to build a pipeline to predict the price of a taxi ride in NYC, using the NYC Taxi Dataset that is available online"
      ]
    },
    {
      "cell_type": "markdown",
      "metadata": {
        "id": "Gz1emA1xB3Fj"
      },
      "source": [
        "## Data Import"
      ]
    },
    {
      "cell_type": "code",
      "metadata": {
        "id": "zOW5yRV3BPRQ"
      },
      "source": [
        "# load some default Python modules\n",
        "import numpy as np\n",
        "import pandas as pd\n",
        "\n",
        "import matplotlib.pyplot as plt\n",
        "import seaborn as sns\n",
        "% matplotlib inline\n",
        "\n",
        "plt.style.use('seaborn-whitegrid')\n",
        "\n",
        "import warnings\n",
        "warnings.filterwarnings('ignore')"
      ],
      "execution_count": 1,
      "outputs": []
    },
    {
      "cell_type": "code",
      "metadata": {
        "id": "Zru9WC9lCBeH"
      },
      "source": [
        "import requests\n",
        "from io import BytesIO\n",
        "\n",
        "url = 'https://docs.google.com/spreadsheets/d/e/2PACX-1vSdR1c5jpsE5Kp2DzQoIm7H2XywINfGNMnTL7nP92mu_GBHgu2T0mPxnu5O0YVfSpAbAu1NGNrm0auq/pub?output=csv'\n",
        "r = requests.get(url)\n",
        "csv_data = r.content\n",
        "df_origin = pd.read_csv(BytesIO(csv_data))\n",
        "train = df_origin[:90000]\n",
        "test = df_origin[90000:]"
      ],
      "execution_count": 2,
      "outputs": []
    },
    {
      "cell_type": "code",
      "metadata": {
        "colab": {
          "base_uri": "https://localhost:8080/"
        },
        "id": "fkM_h-7tFtv2",
        "outputId": "d085179d-33a6-4b77-eabd-d9285c955140"
      },
      "source": [
        "# datatypes\n",
        "train.dtypes"
      ],
      "execution_count": 3,
      "outputs": [
        {
          "output_type": "execute_result",
          "data": {
            "text/plain": [
              "key                   object\n",
              "fare_amount          float64\n",
              "pickup_datetime       object\n",
              "pickup_longitude     float64\n",
              "pickup_latitude      float64\n",
              "dropoff_longitude    float64\n",
              "dropoff_latitude     float64\n",
              "passenger_count        int64\n",
              "dtype: object"
            ]
          },
          "metadata": {
            "tags": []
          },
          "execution_count": 3
        }
      ]
    },
    {
      "cell_type": "code",
      "metadata": {
        "colab": {
          "base_uri": "https://localhost:8080/",
          "height": 284
        },
        "id": "ICq2w8yKFx7m",
        "outputId": "c4f1b534-fa83-41b2-e5b8-3092d9dd45b8"
      },
      "source": [
        "# Basic Stats of the data set\n",
        "train.describe()"
      ],
      "execution_count": 4,
      "outputs": [
        {
          "output_type": "execute_result",
          "data": {
            "text/html": [
              "<div>\n",
              "<style scoped>\n",
              "    .dataframe tbody tr th:only-of-type {\n",
              "        vertical-align: middle;\n",
              "    }\n",
              "\n",
              "    .dataframe tbody tr th {\n",
              "        vertical-align: top;\n",
              "    }\n",
              "\n",
              "    .dataframe thead th {\n",
              "        text-align: right;\n",
              "    }\n",
              "</style>\n",
              "<table border=\"1\" class=\"dataframe\">\n",
              "  <thead>\n",
              "    <tr style=\"text-align: right;\">\n",
              "      <th></th>\n",
              "      <th>fare_amount</th>\n",
              "      <th>pickup_longitude</th>\n",
              "      <th>pickup_latitude</th>\n",
              "      <th>dropoff_longitude</th>\n",
              "      <th>dropoff_latitude</th>\n",
              "      <th>passenger_count</th>\n",
              "    </tr>\n",
              "  </thead>\n",
              "  <tbody>\n",
              "    <tr>\n",
              "      <th>count</th>\n",
              "      <td>90000.000000</td>\n",
              "      <td>90000.000000</td>\n",
              "      <td>90000.000000</td>\n",
              "      <td>90000.000000</td>\n",
              "      <td>90000.000000</td>\n",
              "      <td>90000.000000</td>\n",
              "    </tr>\n",
              "    <tr>\n",
              "      <th>mean</th>\n",
              "      <td>11.341009</td>\n",
              "      <td>-72.500507</td>\n",
              "      <td>39.917580</td>\n",
              "      <td>-72.494134</td>\n",
              "      <td>39.918458</td>\n",
              "      <td>1.672733</td>\n",
              "    </tr>\n",
              "    <tr>\n",
              "      <th>std</th>\n",
              "      <td>9.687934</td>\n",
              "      <td>10.696395</td>\n",
              "      <td>6.216535</td>\n",
              "      <td>10.457200</td>\n",
              "      <td>6.084845</td>\n",
              "      <td>1.299121</td>\n",
              "    </tr>\n",
              "    <tr>\n",
              "      <th>min</th>\n",
              "      <td>-44.900000</td>\n",
              "      <td>-736.550000</td>\n",
              "      <td>-74.007670</td>\n",
              "      <td>-84.654241</td>\n",
              "      <td>-74.006377</td>\n",
              "      <td>0.000000</td>\n",
              "    </tr>\n",
              "    <tr>\n",
              "      <th>25%</th>\n",
              "      <td>6.000000</td>\n",
              "      <td>-73.992016</td>\n",
              "      <td>40.734956</td>\n",
              "      <td>-73.991211</td>\n",
              "      <td>40.734200</td>\n",
              "      <td>1.000000</td>\n",
              "    </tr>\n",
              "    <tr>\n",
              "      <th>50%</th>\n",
              "      <td>8.500000</td>\n",
              "      <td>-73.981791</td>\n",
              "      <td>40.752742</td>\n",
              "      <td>-73.980018</td>\n",
              "      <td>40.753256</td>\n",
              "      <td>1.000000</td>\n",
              "    </tr>\n",
              "    <tr>\n",
              "      <th>75%</th>\n",
              "      <td>12.500000</td>\n",
              "      <td>-73.966995</td>\n",
              "      <td>40.767325</td>\n",
              "      <td>-73.963454</td>\n",
              "      <td>40.768182</td>\n",
              "      <td>2.000000</td>\n",
              "    </tr>\n",
              "    <tr>\n",
              "      <th>max</th>\n",
              "      <td>200.000000</td>\n",
              "      <td>40.783472</td>\n",
              "      <td>401.083332</td>\n",
              "      <td>40.851027</td>\n",
              "      <td>43.415190</td>\n",
              "      <td>6.000000</td>\n",
              "    </tr>\n",
              "  </tbody>\n",
              "</table>\n",
              "</div>"
            ],
            "text/plain": [
              "        fare_amount  pickup_longitude  ...  dropoff_latitude  passenger_count\n",
              "count  90000.000000      90000.000000  ...      90000.000000     90000.000000\n",
              "mean      11.341009        -72.500507  ...         39.918458         1.672733\n",
              "std        9.687934         10.696395  ...          6.084845         1.299121\n",
              "min      -44.900000       -736.550000  ...        -74.006377         0.000000\n",
              "25%        6.000000        -73.992016  ...         40.734200         1.000000\n",
              "50%        8.500000        -73.981791  ...         40.753256         1.000000\n",
              "75%       12.500000        -73.966995  ...         40.768182         2.000000\n",
              "max      200.000000         40.783472  ...         43.415190         6.000000\n",
              "\n",
              "[8 rows x 6 columns]"
            ]
          },
          "metadata": {
            "tags": []
          },
          "execution_count": 4
        }
      ]
    },
    {
      "cell_type": "markdown",
      "metadata": {
        "id": "bOKkFVcD_PFt"
      },
      "source": [
        "## Data Preparation"
      ]
    },
    {
      "cell_type": "markdown",
      "metadata": {
        "id": "sLF1fudC_Vp5"
      },
      "source": [
        "### Remove Missing Data\n",
        "- Drop Records with missing lat-long data\n"
      ]
    },
    {
      "cell_type": "code",
      "metadata": {
        "colab": {
          "base_uri": "https://localhost:8080/"
        },
        "id": "GWkpiptMGD1m",
        "outputId": "d5485a2d-3d50-45ef-9cd8-2b7581e3baef"
      },
      "source": [
        "# check missing data\n",
        "train.isnull().sum()"
      ],
      "execution_count": 5,
      "outputs": [
        {
          "output_type": "execute_result",
          "data": {
            "text/plain": [
              "key                  0\n",
              "fare_amount          0\n",
              "pickup_datetime      0\n",
              "pickup_longitude     0\n",
              "pickup_latitude      0\n",
              "dropoff_longitude    0\n",
              "dropoff_latitude     0\n",
              "passenger_count      0\n",
              "dtype: int64"
            ]
          },
          "metadata": {
            "tags": []
          },
          "execution_count": 5
        }
      ]
    },
    {
      "cell_type": "code",
      "metadata": {
        "colab": {
          "base_uri": "https://localhost:8080/"
        },
        "id": "E251uF1JGLV6",
        "outputId": "422f204f-e4e8-4e94-8aad-8ea6f7a3da9e"
      },
      "source": [
        "print(\"old size: %d\" % len(train))\n",
        "train = train.dropna(how='any', axis=0)\n",
        "print(\"New size after dropping missing value: %d\" % len(train))"
      ],
      "execution_count": 6,
      "outputs": [
        {
          "output_type": "stream",
          "text": [
            "old size: 90000\n",
            "New size after dropping missing value: 90000\n"
          ],
          "name": "stdout"
        }
      ]
    },
    {
      "cell_type": "markdown",
      "metadata": {
        "id": "8gu6nhnr_ka4"
      },
      "source": [
        "## Visualizing Data"
      ]
    },
    {
      "cell_type": "code",
      "metadata": {
        "colab": {
          "base_uri": "https://localhost:8080/",
          "height": 510
        },
        "id": "GaKUqhRhGQ_f",
        "outputId": "2152be7d-4adf-4e65-d44e-c4cc0248011f"
      },
      "source": [
        "# Lets see the distribution of fare amount \n",
        "train.fare_amount.hist(bins=100, figsize = (16,8))\n",
        "plt.xlabel(\"Fare Amount\")\n",
        "plt.ylabel(\"Frequency\")"
      ],
      "execution_count": 7,
      "outputs": [
        {
          "output_type": "execute_result",
          "data": {
            "text/plain": [
              "Text(0, 0.5, 'Frequency')"
            ]
          },
          "metadata": {
            "tags": []
          },
          "execution_count": 7
        },
        {
          "output_type": "display_data",
          "data": {
            "image/png": "[encoded data removed]",
            "text/plain": [
              "<Figure size 1152x576 with 1 Axes>"
            ]
          },
          "metadata": {
            "tags": [],
            "needs_background": "light"
          }
        }
      ]
    },
    {
      "cell_type": "markdown",
      "metadata": {
        "id": "7CTe79hUGUAs"
      },
      "source": [
        "### Distribution \n",
        "- Based on the distribution, we can split it into >100 and <100"
      ]
    },
    {
      "cell_type": "code",
      "metadata": {
        "colab": {
          "base_uri": "https://localhost:8080/",
          "height": 510
        },
        "id": "YV5VEBoJGUfm",
        "outputId": "01a77069-2109-4e71-b487-bda8ee4f7dee"
      },
      "source": [
        "# Lets see the distribution of fare amount less than 100\n",
        "train[train.fare_amount <100 ].fare_amount.hist(bins=100, figsize = (16,8))\n",
        "plt.xlabel(\"Fare Amount\")\n",
        "plt.ylabel(\"Frequency\")"
      ],
      "execution_count": 8,
      "outputs": [
        {
          "output_type": "execute_result",
          "data": {
            "text/plain": [
              "Text(0, 0.5, 'Frequency')"
            ]
          },
          "metadata": {
            "tags": []
          },
          "execution_count": 8
        },
        {
          "output_type": "display_data",
          "data": {
            "image/png": "[encoded data removed]",
            "text/plain": [
              "<Figure size 1152x576 with 1 Axes>"
            ]
          },
          "metadata": {
            "tags": [],
            "needs_background": "light"
          }
        }
      ]
    },
    {
      "cell_type": "markdown",
      "metadata": {
        "id": "p6QtLeaXGcKB"
      },
      "source": [
        "There are few points between 40 and 60 dollars which has slightly high frequency and that could be airport trips"
      ]
    },
    {
      "cell_type": "code",
      "metadata": {
        "colab": {
          "base_uri": "https://localhost:8080/"
        },
        "id": "lrNnAwwIGcmt",
        "outputId": "7b14412f-7ebe-479b-8c91-53358d5cc9e9"
      },
      "source": [
        "train[train.fare_amount >100 ].shape"
      ],
      "execution_count": 9,
      "outputs": [
        {
          "output_type": "execute_result",
          "data": {
            "text/plain": [
              "(34, 8)"
            ]
          },
          "metadata": {
            "tags": []
          },
          "execution_count": 9
        }
      ]
    },
    {
      "cell_type": "markdown",
      "metadata": {
        "id": "R-RfA3bLGtlR"
      },
      "source": [
        "Lets read the test data"
      ]
    },
    {
      "cell_type": "code",
      "metadata": {
        "colab": {
          "base_uri": "https://localhost:8080/"
        },
        "id": "dmVq_nEIGvFw",
        "outputId": "e541680e-4153-430d-db89-be74d4576ce6"
      },
      "source": [
        "#check for missing value\n",
        "test.isnull().sum()"
      ],
      "execution_count": 10,
      "outputs": [
        {
          "output_type": "execute_result",
          "data": {
            "text/plain": [
              "key                  0\n",
              "fare_amount          0\n",
              "pickup_datetime      0\n",
              "pickup_longitude     0\n",
              "pickup_latitude      0\n",
              "dropoff_longitude    0\n",
              "dropoff_latitude     0\n",
              "passenger_count      0\n",
              "dtype: int64"
            ]
          },
          "metadata": {
            "tags": []
          },
          "execution_count": 10
        }
      ]
    },
    {
      "cell_type": "markdown",
      "metadata": {
        "id": "SKOJZjqgG3rh"
      },
      "source": [
        "There are no missing values in test data set"
      ]
    },
    {
      "cell_type": "code",
      "metadata": {
        "colab": {
          "base_uri": "https://localhost:8080/",
          "height": 284
        },
        "id": "vxt2w9PoG63U",
        "outputId": "1e8282d3-b49c-474a-dd93-9262cfadea53"
      },
      "source": [
        "# checking for basic stats\n",
        "test.describe()"
      ],
      "execution_count": 11,
      "outputs": [
        {
          "output_type": "execute_result",
          "data": {
            "text/html": [
              "<div>\n",
              "<style scoped>\n",
              "    .dataframe tbody tr th:only-of-type {\n",
              "        vertical-align: middle;\n",
              "    }\n",
              "\n",
              "    .dataframe tbody tr th {\n",
              "        vertical-align: top;\n",
              "    }\n",
              "\n",
              "    .dataframe thead th {\n",
              "        text-align: right;\n",
              "    }\n",
              "</style>\n",
              "<table border=\"1\" class=\"dataframe\">\n",
              "  <thead>\n",
              "    <tr style=\"text-align: right;\">\n",
              "      <th></th>\n",
              "      <th>fare_amount</th>\n",
              "      <th>pickup_longitude</th>\n",
              "      <th>pickup_latitude</th>\n",
              "      <th>dropoff_longitude</th>\n",
              "      <th>dropoff_latitude</th>\n",
              "      <th>passenger_count</th>\n",
              "    </tr>\n",
              "  </thead>\n",
              "  <tbody>\n",
              "    <tr>\n",
              "      <th>count</th>\n",
              "      <td>9999.000000</td>\n",
              "      <td>9999.000000</td>\n",
              "      <td>9999.000000</td>\n",
              "      <td>9999.000000</td>\n",
              "      <td>9999.000000</td>\n",
              "      <td>9999.000000</td>\n",
              "    </tr>\n",
              "    <tr>\n",
              "      <th>mean</th>\n",
              "      <td>11.478017</td>\n",
              "      <td>-72.442105</td>\n",
              "      <td>39.886504</td>\n",
              "      <td>-72.462313</td>\n",
              "      <td>39.924325</td>\n",
              "      <td>1.683668</td>\n",
              "    </tr>\n",
              "    <tr>\n",
              "      <th>std</th>\n",
              "      <td>9.972600</td>\n",
              "      <td>10.672673</td>\n",
              "      <td>6.308000</td>\n",
              "      <td>10.599212</td>\n",
              "      <td>7.269734</td>\n",
              "      <td>1.309652</td>\n",
              "    </tr>\n",
              "    <tr>\n",
              "      <th>min</th>\n",
              "      <td>-3.000000</td>\n",
              "      <td>-78.083332</td>\n",
              "      <td>-74.005410</td>\n",
              "      <td>-74.895028</td>\n",
              "      <td>-73.999742</td>\n",
              "      <td>0.000000</td>\n",
              "    </tr>\n",
              "    <tr>\n",
              "      <th>25%</th>\n",
              "      <td>6.000000</td>\n",
              "      <td>-73.992333</td>\n",
              "      <td>40.735240</td>\n",
              "      <td>-73.991260</td>\n",
              "      <td>40.734005</td>\n",
              "      <td>1.000000</td>\n",
              "    </tr>\n",
              "    <tr>\n",
              "      <th>50%</th>\n",
              "      <td>8.500000</td>\n",
              "      <td>-73.981767</td>\n",
              "      <td>40.753087</td>\n",
              "      <td>-73.979848</td>\n",
              "      <td>40.753052</td>\n",
              "      <td>1.000000</td>\n",
              "    </tr>\n",
              "    <tr>\n",
              "      <th>75%</th>\n",
              "      <td>12.600000</td>\n",
              "      <td>-73.966873</td>\n",
              "      <td>40.766666</td>\n",
              "      <td>-73.963287</td>\n",
              "      <td>40.767966</td>\n",
              "      <td>2.000000</td>\n",
              "    </tr>\n",
              "    <tr>\n",
              "      <th>max</th>\n",
              "      <td>150.000000</td>\n",
              "      <td>40.787575</td>\n",
              "      <td>69.400000</td>\n",
              "      <td>40.810297</td>\n",
              "      <td>404.616667</td>\n",
              "      <td>6.000000</td>\n",
              "    </tr>\n",
              "  </tbody>\n",
              "</table>\n",
              "</div>"
            ],
            "text/plain": [
              "       fare_amount  pickup_longitude  ...  dropoff_latitude  passenger_count\n",
              "count  9999.000000       9999.000000  ...       9999.000000      9999.000000\n",
              "mean     11.478017        -72.442105  ...         39.924325         1.683668\n",
              "std       9.972600         10.672673  ...          7.269734         1.309652\n",
              "min      -3.000000        -78.083332  ...        -73.999742         0.000000\n",
              "25%       6.000000        -73.992333  ...         40.734005         1.000000\n",
              "50%       8.500000        -73.981767  ...         40.753052         1.000000\n",
              "75%      12.600000        -73.966873  ...         40.767966         2.000000\n",
              "max     150.000000         40.787575  ...        404.616667         6.000000\n",
              "\n",
              "[8 rows x 6 columns]"
            ]
          },
          "metadata": {
            "tags": []
          },
          "execution_count": 11
        }
      ]
    },
    {
      "cell_type": "markdown",
      "metadata": {
        "id": "JQlY6aVqAABd"
      },
      "source": [
        "## Min-Max of Data\n",
        "- We will store the minimum and maximum of the longitude and latitude from test data set and filter the train data set for those data points"
      ]
    },
    {
      "cell_type": "code",
      "metadata": {
        "colab": {
          "base_uri": "https://localhost:8080/"
        },
        "id": "H8Nh9vFbHAb_",
        "outputId": "62da80f2-1d55-484f-e821-c21bb5e0f377"
      },
      "source": [
        "min(test.pickup_longitude.min(),test.dropoff_longitude.min()), \\\n",
        "max(test.pickup_longitude.max(),test.dropoff_longitude.max())"
      ],
      "execution_count": 12,
      "outputs": [
        {
          "output_type": "execute_result",
          "data": {
            "text/plain": [
              "(-78.083332, 40.810297)"
            ]
          },
          "metadata": {
            "tags": []
          },
          "execution_count": 12
        }
      ]
    },
    {
      "cell_type": "code",
      "metadata": {
        "colab": {
          "base_uri": "https://localhost:8080/"
        },
        "id": "HOkILrltHGUZ",
        "outputId": "8f38aae4-2328-468a-d6d1-14e05bbdc91d"
      },
      "source": [
        "min(test.pickup_latitude.min(),test.dropoff_latitude.min()), \\\n",
        "max(test.pickup_latitude.max(),test.dropoff_latitude.max())"
      ],
      "execution_count": 13,
      "outputs": [
        {
          "output_type": "execute_result",
          "data": {
            "text/plain": [
              "(-74.00541, 404.616667)"
            ]
          },
          "metadata": {
            "tags": []
          },
          "execution_count": 13
        }
      ]
    },
    {
      "cell_type": "code",
      "metadata": {
        "id": "DrC68x7xHJUo"
      },
      "source": [
        "# this function will also be used with the test set below\n",
        "def select_within_test_boundary(df, BB):\n",
        "    return (df.pickup_longitude >= BB[0]) & (df.pickup_longitude <= BB[1]) & \\\n",
        "           (df.pickup_latitude >= BB[2]) & (df.pickup_latitude <= BB[3]) & \\\n",
        "           (df.dropoff_longitude >= BB[0]) & (df.dropoff_longitude <= BB[1]) & \\\n",
        "           (df.dropoff_latitude >= BB[2]) & (df.dropoff_latitude <= BB[3])"
      ],
      "execution_count": 14,
      "outputs": []
    },
    {
      "cell_type": "code",
      "metadata": {
        "colab": {
          "base_uri": "https://localhost:8080/"
        },
        "id": "Rnc-CvIOHL-c",
        "outputId": "e642d7ac-77d9-4d47-9c90-7cbf48092b4f"
      },
      "source": [
        "BB = (-74.5, -72.8, 40.5, 41.8)\n",
        "print('Old size: %d' % len(train))\n",
        "train = train[select_within_test_boundary(train, BB)]\n",
        "print('New size: %d' % len(train))"
      ],
      "execution_count": 15,
      "outputs": [
        {
          "output_type": "stream",
          "text": [
            "Old size: 90000\n",
            "New size: 88091\n"
          ],
          "name": "stdout"
        }
      ]
    },
    {
      "cell_type": "markdown",
      "metadata": {
        "id": "da3EA7LqHQxC"
      },
      "source": [
        "## Feature Engineering\n",
        "- We will add the following variables - distance metrics (pick distances from and to the airport)"
      ]
    },
    {
      "cell_type": "code",
      "metadata": {
        "id": "PyP7byQbHUS1"
      },
      "source": [
        "def prepare_time_features(df):\n",
        "    df['pickup_datetime'] = df['pickup_datetime'].str.slice(0, 16)\n",
        "    df['pickup_datetime'] = pd.to_datetime(df['pickup_datetime'], utc=True, format='%Y-%m-%d %H:%M')\n",
        "    df['hour_of_day'] = df.pickup_datetime.dt.hour\n",
        "#     df['week'] = df.pickup_datetime.dt.week\n",
        "    df['month'] = df.pickup_datetime.dt.month\n",
        "    df[\"year\"] = df.pickup_datetime.dt.year\n",
        "#     df['day_of_year'] = df.pickup_datetime.dt.dayofyear\n",
        "#     df['week_of_year'] = df.pickup_datetime.dt.weekofyear\n",
        "    df[\"weekday\"] = df.pickup_datetime.dt.weekday\n",
        "#     df[\"quarter\"] = df.pickup_datetime.dt.quarter\n",
        "#     df[\"day_of_month\"] = df.pickup_datetime.dt.day\n",
        "    \n",
        "    return df"
      ],
      "execution_count": 16,
      "outputs": []
    },
    {
      "cell_type": "code",
      "metadata": {
        "id": "i_9QyzVOHZEQ"
      },
      "source": [
        "train = prepare_time_features(train)\n",
        "test = prepare_time_features(test)"
      ],
      "execution_count": 17,
      "outputs": []
    },
    {
      "cell_type": "code",
      "metadata": {
        "id": "du1fO8uQHdzg"
      },
      "source": [
        "# calculate-distance-between-two-latitude-longitude-points-haversine-formula \n",
        "# Returns distance in miles\n",
        "def distance(lat1, lon1, lat2, lon2):\n",
        "    p = 0.017453292519943295 # Pi/180\n",
        "    a = 0.5 - np.cos((lat2 - lat1) * p)/2 + np.cos(lat1 * p) * np.cos(lat2 * p) * (1 - np.cos((lon2 - lon1) * p)) / 2\n",
        "    return 0.6213712 * 12742 * np.arcsin(np.sqrt(a))   # 2*R*asin..."
      ],
      "execution_count": 18,
      "outputs": []
    },
    {
      "cell_type": "code",
      "metadata": {
        "id": "oMb-jnyqHgpa"
      },
      "source": [
        "train['distance_miles'] = distance(train.pickup_latitude, train.pickup_longitude, \\\n",
        "                                      train.dropoff_latitude, train.dropoff_longitude)"
      ],
      "execution_count": 19,
      "outputs": []
    },
    {
      "cell_type": "code",
      "metadata": {
        "id": "lrmb-fmIHjmY"
      },
      "source": [
        "test['distance_miles'] = distance(test.pickup_latitude, test.pickup_longitude, \\\n",
        "                                      test.dropoff_latitude, test.dropoff_longitude)"
      ],
      "execution_count": 20,
      "outputs": []
    },
    {
      "cell_type": "markdown",
      "metadata": {
        "id": "1tntuqpYHmlF"
      },
      "source": [
        "Calculating pickup and drop distance from all 3 airports of Air Ports"
      ]
    },
    {
      "cell_type": "code",
      "metadata": {
        "id": "g9cNvNCxHnId"
      },
      "source": [
        "def transform(data):\n",
        "    # Distances to nearby airports, \n",
        "    jfk = (-73.7781, 40.6413)\n",
        "    ewr = (-74.1745, 40.6895)\n",
        "    lgr = (-73.8740, 40.7769)\n",
        "\n",
        "    data['pickup_distance_to_jfk'] = distance(jfk[1], jfk[0],\n",
        "                                         data['pickup_latitude'], data['pickup_longitude'])\n",
        "    data['dropoff_distance_to_jfk'] = distance(jfk[1], jfk[0],\n",
        "                                           data['dropoff_latitude'], data['dropoff_longitude'])\n",
        "    data['pickup_distance_to_ewr'] = distance(ewr[1], ewr[0], \n",
        "                                          data['pickup_latitude'], data['pickup_longitude'])\n",
        "    data['dropoff_distance_to_ewr'] = distance(ewr[1], ewr[0],\n",
        "                                           data['dropoff_latitude'], data['dropoff_longitude'])\n",
        "    data['pickup_distance_to_lgr'] = distance(lgr[1], lgr[0],\n",
        "                                          data['pickup_latitude'], data['pickup_longitude'])\n",
        "    data['dropoff_distance_to_lgr'] = distance(lgr[1], lgr[0],\n",
        "                                           data['dropoff_latitude'], data['dropoff_longitude'])\n",
        "    \n",
        "    return data\n",
        "\n",
        "train = transform(train)\n",
        "test = transform(test)"
      ],
      "execution_count": 21,
      "outputs": []
    },
    {
      "cell_type": "markdown",
      "metadata": {
        "id": "Qt9OEQTlHxFl"
      },
      "source": [
        "Delete these 15 record where distance covered and fare amount are zero, which won't help our model"
      ]
    },
    {
      "cell_type": "code",
      "metadata": {
        "colab": {
          "base_uri": "https://localhost:8080/",
          "height": 67
        },
        "id": "GimQ5M3UHxcm",
        "outputId": "18401ece-bab3-449f-beee-5e99a4a3adcd"
      },
      "source": [
        "train[(train['distance_miles']==0)&(train['fare_amount']==0)]"
      ],
      "execution_count": 22,
      "outputs": [
        {
          "output_type": "execute_result",
          "data": {
            "text/html": [
              "<div>\n",
              "<style scoped>\n",
              "    .dataframe tbody tr th:only-of-type {\n",
              "        vertical-align: middle;\n",
              "    }\n",
              "\n",
              "    .dataframe tbody tr th {\n",
              "        vertical-align: top;\n",
              "    }\n",
              "\n",
              "    .dataframe thead th {\n",
              "        text-align: right;\n",
              "    }\n",
              "</style>\n",
              "<table border=\"1\" class=\"dataframe\">\n",
              "  <thead>\n",
              "    <tr style=\"text-align: right;\">\n",
              "      <th></th>\n",
              "      <th>key</th>\n",
              "      <th>fare_amount</th>\n",
              "      <th>pickup_datetime</th>\n",
              "      <th>pickup_longitude</th>\n",
              "      <th>pickup_latitude</th>\n",
              "      <th>dropoff_longitude</th>\n",
              "      <th>dropoff_latitude</th>\n",
              "      <th>passenger_count</th>\n",
              "      <th>hour_of_day</th>\n",
              "      <th>month</th>\n",
              "      <th>year</th>\n",
              "      <th>weekday</th>\n",
              "      <th>distance_miles</th>\n",
              "      <th>pickup_distance_to_jfk</th>\n",
              "      <th>dropoff_distance_to_jfk</th>\n",
              "      <th>pickup_distance_to_ewr</th>\n",
              "      <th>dropoff_distance_to_ewr</th>\n",
              "      <th>pickup_distance_to_lgr</th>\n",
              "      <th>dropoff_distance_to_lgr</th>\n",
              "    </tr>\n",
              "  </thead>\n",
              "  <tbody>\n",
              "  </tbody>\n",
              "</table>\n",
              "</div>"
            ],
            "text/plain": [
              "Empty DataFrame\n",
              "Columns: [key, fare_amount, pickup_datetime, pickup_longitude, pickup_latitude, dropoff_longitude, dropoff_latitude, passenger_count, hour_of_day, month, year, weekday, distance_miles, pickup_distance_to_jfk, dropoff_distance_to_jfk, pickup_distance_to_ewr, dropoff_distance_to_ewr, pickup_distance_to_lgr, dropoff_distance_to_lgr]\n",
              "Index: []"
            ]
          },
          "metadata": {
            "tags": []
          },
          "execution_count": 22
        }
      ]
    },
    {
      "cell_type": "code",
      "metadata": {
        "colab": {
          "base_uri": "https://localhost:8080/"
        },
        "id": "S2IATsZ_H6-M",
        "outputId": "80ca6c36-e7b1-4e8d-938f-b5bd3d675537"
      },
      "source": [
        "print(\"old size: %d\" % len(train))\n",
        "train = train.drop(index= train[(train['distance_miles']==0)&(train['fare_amount']==0)].index, axis=0)\n",
        "print(\"New size: %d\" % len(train))\n"
      ],
      "execution_count": 23,
      "outputs": [
        {
          "output_type": "stream",
          "text": [
            "old size: 88091\n",
            "New size: 88091\n"
          ],
          "name": "stdout"
        }
      ]
    },
    {
      "cell_type": "markdown",
      "metadata": {
        "id": "_XTuyC4DH9if"
      },
      "source": [
        "There are 24 records where fare amount is zero but distance travelled is greater than 0, we will drop such case"
      ]
    },
    {
      "cell_type": "code",
      "metadata": {
        "colab": {
          "base_uri": "https://localhost:8080/"
        },
        "id": "TlkoeemlH95i",
        "outputId": "9f282054-02db-47a4-9d07-b5a1f0084846"
      },
      "source": [
        "train[train['fare_amount']==0].shape"
      ],
      "execution_count": 24,
      "outputs": [
        {
          "output_type": "execute_result",
          "data": {
            "text/plain": [
              "(3, 19)"
            ]
          },
          "metadata": {
            "tags": []
          },
          "execution_count": 24
        }
      ]
    },
    {
      "cell_type": "code",
      "metadata": {
        "colab": {
          "base_uri": "https://localhost:8080/"
        },
        "id": "TC9YEhipICKl",
        "outputId": "f74c00cb-0640-4958-d33d-7830e1f03c88"
      },
      "source": [
        "print(\"old size: %d\" % len(train))\n",
        "train = train.drop(index= train[train['fare_amount']==0].index, axis=0)\n",
        "print(\"New size: %d\" % len(train))"
      ],
      "execution_count": 25,
      "outputs": [
        {
          "output_type": "stream",
          "text": [
            "old size: 88091\n",
            "New size: 88088\n"
          ],
          "name": "stdout"
        }
      ]
    },
    {
      "cell_type": "markdown",
      "metadata": {
        "id": "rK5SyywBIEXj"
      },
      "source": [
        "There are 53 record where fare amount is less than 2.5 dollars (most of them are 0.01 dollars except 3 cases of fare between 1 and 2 dollar ) which doesn't make sense as the base fare for any taxi in new york is 2.5 dollars, we will drop those cases"
      ]
    },
    {
      "cell_type": "code",
      "metadata": {
        "colab": {
          "base_uri": "https://localhost:8080/"
        },
        "id": "5QTdpogIIEzo",
        "outputId": "44974a69-45ab-47f6-8468-2b2f29387a30"
      },
      "source": [
        "train[train['fare_amount'] < 2.5].shape"
      ],
      "execution_count": 26,
      "outputs": [
        {
          "output_type": "execute_result",
          "data": {
            "text/plain": [
              "(8, 19)"
            ]
          },
          "metadata": {
            "tags": []
          },
          "execution_count": 26
        }
      ]
    },
    {
      "cell_type": "code",
      "metadata": {
        "colab": {
          "base_uri": "https://localhost:8080/"
        },
        "id": "5kDykNoPIIqf",
        "outputId": "e2c8e68e-ea51-4e64-9931-44ef42e15443"
      },
      "source": [
        "print(\"old size: %d\" % len(train))\n",
        "train = train.drop(index= train[train['fare_amount'] < 2.5].index, axis=0)\n",
        "print(\"New size: %d\" % len(train))"
      ],
      "execution_count": 27,
      "outputs": [
        {
          "output_type": "stream",
          "text": [
            "old size: 88088\n",
            "New size: 88080\n"
          ],
          "name": "stdout"
        }
      ]
    },
    {
      "cell_type": "markdown",
      "metadata": {
        "id": "va_JJ8coILS8"
      },
      "source": [
        "1. There are stil 6 records left where passanger count is greater than 7\n",
        "2. we will delete such cases because we don't have passanger count greater than 7 in test record"
      ]
    },
    {
      "cell_type": "code",
      "metadata": {
        "colab": {
          "base_uri": "https://localhost:8080/",
          "height": 67
        },
        "id": "50tzZ9AeIN8H",
        "outputId": "6bf1cc1b-0a2f-4c5e-b577-1142dc84dd91"
      },
      "source": [
        "train[train.passenger_count >= 7]"
      ],
      "execution_count": 28,
      "outputs": [
        {
          "output_type": "execute_result",
          "data": {
            "text/html": [
              "<div>\n",
              "<style scoped>\n",
              "    .dataframe tbody tr th:only-of-type {\n",
              "        vertical-align: middle;\n",
              "    }\n",
              "\n",
              "    .dataframe tbody tr th {\n",
              "        vertical-align: top;\n",
              "    }\n",
              "\n",
              "    .dataframe thead th {\n",
              "        text-align: right;\n",
              "    }\n",
              "</style>\n",
              "<table border=\"1\" class=\"dataframe\">\n",
              "  <thead>\n",
              "    <tr style=\"text-align: right;\">\n",
              "      <th></th>\n",
              "      <th>key</th>\n",
              "      <th>fare_amount</th>\n",
              "      <th>pickup_datetime</th>\n",
              "      <th>pickup_longitude</th>\n",
              "      <th>pickup_latitude</th>\n",
              "      <th>dropoff_longitude</th>\n",
              "      <th>dropoff_latitude</th>\n",
              "      <th>passenger_count</th>\n",
              "      <th>hour_of_day</th>\n",
              "      <th>month</th>\n",
              "      <th>year</th>\n",
              "      <th>weekday</th>\n",
              "      <th>distance_miles</th>\n",
              "      <th>pickup_distance_to_jfk</th>\n",
              "      <th>dropoff_distance_to_jfk</th>\n",
              "      <th>pickup_distance_to_ewr</th>\n",
              "      <th>dropoff_distance_to_ewr</th>\n",
              "      <th>pickup_distance_to_lgr</th>\n",
              "      <th>dropoff_distance_to_lgr</th>\n",
              "    </tr>\n",
              "  </thead>\n",
              "  <tbody>\n",
              "  </tbody>\n",
              "</table>\n",
              "</div>"
            ],
            "text/plain": [
              "Empty DataFrame\n",
              "Columns: [key, fare_amount, pickup_datetime, pickup_longitude, pickup_latitude, dropoff_longitude, dropoff_latitude, passenger_count, hour_of_day, month, year, weekday, distance_miles, pickup_distance_to_jfk, dropoff_distance_to_jfk, pickup_distance_to_ewr, dropoff_distance_to_ewr, pickup_distance_to_lgr, dropoff_distance_to_lgr]\n",
              "Index: []"
            ]
          },
          "metadata": {
            "tags": []
          },
          "execution_count": 28
        }
      ]
    },
    {
      "cell_type": "code",
      "metadata": {
        "colab": {
          "base_uri": "https://localhost:8080/"
        },
        "id": "1G-YMvIEIRzn",
        "outputId": "e8bd5e8d-b71b-4771-bd3d-95efb2758324"
      },
      "source": [
        "print(\"old size: %d\" % len(train))\n",
        "train = train.drop(index= train[train.passenger_count >= 7].index, axis=0)\n",
        "print(\"New size: %d\" % len(train))"
      ],
      "execution_count": 29,
      "outputs": [
        {
          "output_type": "stream",
          "text": [
            "old size: 88080\n",
            "New size: 88080\n"
          ],
          "name": "stdout"
        }
      ]
    },
    {
      "cell_type": "code",
      "metadata": {
        "colab": {
          "base_uri": "https://localhost:8080/",
          "height": 550
        },
        "id": "MIW-g6NFIUGr",
        "outputId": "6d540d21-b003-4c67-dc47-beff14d76f0f"
      },
      "source": [
        "train.describe().T"
      ],
      "execution_count": 30,
      "outputs": [
        {
          "output_type": "execute_result",
          "data": {
            "text/html": [
              "<div>\n",
              "<style scoped>\n",
              "    .dataframe tbody tr th:only-of-type {\n",
              "        vertical-align: middle;\n",
              "    }\n",
              "\n",
              "    .dataframe tbody tr th {\n",
              "        vertical-align: top;\n",
              "    }\n",
              "\n",
              "    .dataframe thead th {\n",
              "        text-align: right;\n",
              "    }\n",
              "</style>\n",
              "<table border=\"1\" class=\"dataframe\">\n",
              "  <thead>\n",
              "    <tr style=\"text-align: right;\">\n",
              "      <th></th>\n",
              "      <th>count</th>\n",
              "      <th>mean</th>\n",
              "      <th>std</th>\n",
              "      <th>min</th>\n",
              "      <th>25%</th>\n",
              "      <th>50%</th>\n",
              "      <th>75%</th>\n",
              "      <th>max</th>\n",
              "    </tr>\n",
              "  </thead>\n",
              "  <tbody>\n",
              "    <tr>\n",
              "      <th>fare_amount</th>\n",
              "      <td>88080.0</td>\n",
              "      <td>11.329912</td>\n",
              "      <td>9.650315</td>\n",
              "      <td>2.500000</td>\n",
              "      <td>6.000000</td>\n",
              "      <td>8.500000</td>\n",
              "      <td>12.500000</td>\n",
              "      <td>200.000000</td>\n",
              "    </tr>\n",
              "    <tr>\n",
              "      <th>pickup_longitude</th>\n",
              "      <td>88080.0</td>\n",
              "      <td>-73.975013</td>\n",
              "      <td>0.038808</td>\n",
              "      <td>-74.438233</td>\n",
              "      <td>-73.992223</td>\n",
              "      <td>-73.982078</td>\n",
              "      <td>-73.968297</td>\n",
              "      <td>-72.856968</td>\n",
              "    </tr>\n",
              "    <tr>\n",
              "      <th>pickup_latitude</th>\n",
              "      <td>88080.0</td>\n",
              "      <td>40.751202</td>\n",
              "      <td>0.029979</td>\n",
              "      <td>40.500046</td>\n",
              "      <td>40.736626</td>\n",
              "      <td>40.753511</td>\n",
              "      <td>40.767730</td>\n",
              "      <td>41.692428</td>\n",
              "    </tr>\n",
              "    <tr>\n",
              "      <th>dropoff_longitude</th>\n",
              "      <td>88080.0</td>\n",
              "      <td>-73.973965</td>\n",
              "      <td>0.037878</td>\n",
              "      <td>-74.474595</td>\n",
              "      <td>-73.991388</td>\n",
              "      <td>-73.980443</td>\n",
              "      <td>-73.965142</td>\n",
              "      <td>-72.854940</td>\n",
              "    </tr>\n",
              "    <tr>\n",
              "      <th>dropoff_latitude</th>\n",
              "      <td>88080.0</td>\n",
              "      <td>40.751624</td>\n",
              "      <td>0.033120</td>\n",
              "      <td>40.500046</td>\n",
              "      <td>40.735795</td>\n",
              "      <td>40.753990</td>\n",
              "      <td>40.768513</td>\n",
              "      <td>41.714633</td>\n",
              "    </tr>\n",
              "    <tr>\n",
              "      <th>passenger_count</th>\n",
              "      <td>88080.0</td>\n",
              "      <td>1.673422</td>\n",
              "      <td>1.299395</td>\n",
              "      <td>0.000000</td>\n",
              "      <td>1.000000</td>\n",
              "      <td>1.000000</td>\n",
              "      <td>2.000000</td>\n",
              "      <td>6.000000</td>\n",
              "    </tr>\n",
              "    <tr>\n",
              "      <th>hour_of_day</th>\n",
              "      <td>88080.0</td>\n",
              "      <td>13.491281</td>\n",
              "      <td>6.508070</td>\n",
              "      <td>0.000000</td>\n",
              "      <td>9.000000</td>\n",
              "      <td>14.000000</td>\n",
              "      <td>19.000000</td>\n",
              "      <td>23.000000</td>\n",
              "    </tr>\n",
              "    <tr>\n",
              "      <th>month</th>\n",
              "      <td>88080.0</td>\n",
              "      <td>6.262954</td>\n",
              "      <td>3.455554</td>\n",
              "      <td>1.000000</td>\n",
              "      <td>3.000000</td>\n",
              "      <td>6.000000</td>\n",
              "      <td>9.000000</td>\n",
              "      <td>12.000000</td>\n",
              "    </tr>\n",
              "    <tr>\n",
              "      <th>year</th>\n",
              "      <td>88080.0</td>\n",
              "      <td>2011.741133</td>\n",
              "      <td>1.868424</td>\n",
              "      <td>2009.000000</td>\n",
              "      <td>2010.000000</td>\n",
              "      <td>2012.000000</td>\n",
              "      <td>2013.000000</td>\n",
              "      <td>2015.000000</td>\n",
              "    </tr>\n",
              "    <tr>\n",
              "      <th>weekday</th>\n",
              "      <td>88080.0</td>\n",
              "      <td>3.033912</td>\n",
              "      <td>1.951721</td>\n",
              "      <td>0.000000</td>\n",
              "      <td>1.000000</td>\n",
              "      <td>3.000000</td>\n",
              "      <td>5.000000</td>\n",
              "      <td>6.000000</td>\n",
              "    </tr>\n",
              "    <tr>\n",
              "      <th>distance_miles</th>\n",
              "      <td>88080.0</td>\n",
              "      <td>2.073343</td>\n",
              "      <td>2.371664</td>\n",
              "      <td>0.000000</td>\n",
              "      <td>0.780477</td>\n",
              "      <td>1.340584</td>\n",
              "      <td>2.439795</td>\n",
              "      <td>64.644331</td>\n",
              "    </tr>\n",
              "    <tr>\n",
              "      <th>pickup_distance_to_jfk</th>\n",
              "      <td>88080.0</td>\n",
              "      <td>12.971226</td>\n",
              "      <td>2.057880</td>\n",
              "      <td>0.244542</td>\n",
              "      <td>12.777642</td>\n",
              "      <td>13.167773</td>\n",
              "      <td>13.603072</td>\n",
              "      <td>78.602440</td>\n",
              "    </tr>\n",
              "    <tr>\n",
              "      <th>dropoff_distance_to_jfk</th>\n",
              "      <td>88080.0</td>\n",
              "      <td>12.995469</td>\n",
              "      <td>1.916267</td>\n",
              "      <td>0.234589</td>\n",
              "      <td>12.759338</td>\n",
              "      <td>13.167203</td>\n",
              "      <td>13.615825</td>\n",
              "      <td>79.697023</td>\n",
              "    </tr>\n",
              "    <tr>\n",
              "      <th>pickup_distance_to_ewr</th>\n",
              "      <td>88080.0</td>\n",
              "      <td>11.413453</td>\n",
              "      <td>2.334194</td>\n",
              "      <td>0.175065</td>\n",
              "      <td>10.176739</td>\n",
              "      <td>11.080345</td>\n",
              "      <td>12.101202</td>\n",
              "      <td>71.468468</td>\n",
              "    </tr>\n",
              "    <tr>\n",
              "      <th>dropoff_distance_to_ewr</th>\n",
              "      <td>88080.0</td>\n",
              "      <td>11.507993</td>\n",
              "      <td>2.329808</td>\n",
              "      <td>0.172432</td>\n",
              "      <td>10.262739</td>\n",
              "      <td>11.179384</td>\n",
              "      <td>12.320867</td>\n",
              "      <td>71.468468</td>\n",
              "    </tr>\n",
              "    <tr>\n",
              "      <th>pickup_distance_to_lgr</th>\n",
              "      <td>88080.0</td>\n",
              "      <td>6.004377</td>\n",
              "      <td>1.858989</td>\n",
              "      <td>0.160286</td>\n",
              "      <td>5.207180</td>\n",
              "      <td>5.970267</td>\n",
              "      <td>6.839383</td>\n",
              "      <td>68.036300</td>\n",
              "    </tr>\n",
              "    <tr>\n",
              "      <th>dropoff_distance_to_lgr</th>\n",
              "      <td>88080.0</td>\n",
              "      <td>6.008617</td>\n",
              "      <td>1.865005</td>\n",
              "      <td>0.160713</td>\n",
              "      <td>5.169618</td>\n",
              "      <td>5.906355</td>\n",
              "      <td>6.811676</td>\n",
              "      <td>69.154424</td>\n",
              "    </tr>\n",
              "  </tbody>\n",
              "</table>\n",
              "</div>"
            ],
            "text/plain": [
              "                           count         mean  ...          75%          max\n",
              "fare_amount              88080.0    11.329912  ...    12.500000   200.000000\n",
              "pickup_longitude         88080.0   -73.975013  ...   -73.968297   -72.856968\n",
              "pickup_latitude          88080.0    40.751202  ...    40.767730    41.692428\n",
              "dropoff_longitude        88080.0   -73.973965  ...   -73.965142   -72.854940\n",
              "dropoff_latitude         88080.0    40.751624  ...    40.768513    41.714633\n",
              "passenger_count          88080.0     1.673422  ...     2.000000     6.000000\n",
              "hour_of_day              88080.0    13.491281  ...    19.000000    23.000000\n",
              "month                    88080.0     6.262954  ...     9.000000    12.000000\n",
              "year                     88080.0  2011.741133  ...  2013.000000  2015.000000\n",
              "weekday                  88080.0     3.033912  ...     5.000000     6.000000\n",
              "distance_miles           88080.0     2.073343  ...     2.439795    64.644331\n",
              "pickup_distance_to_jfk   88080.0    12.971226  ...    13.603072    78.602440\n",
              "dropoff_distance_to_jfk  88080.0    12.995469  ...    13.615825    79.697023\n",
              "pickup_distance_to_ewr   88080.0    11.413453  ...    12.101202    71.468468\n",
              "dropoff_distance_to_ewr  88080.0    11.507993  ...    12.320867    71.468468\n",
              "pickup_distance_to_lgr   88080.0     6.004377  ...     6.839383    68.036300\n",
              "dropoff_distance_to_lgr  88080.0     6.008617  ...     6.811676    69.154424\n",
              "\n",
              "[17 rows x 8 columns]"
            ]
          },
          "metadata": {
            "tags": []
          },
          "execution_count": 30
        }
      ]
    },
    {
      "cell_type": "markdown",
      "metadata": {
        "id": "9fgnL_unIXgf"
      },
      "source": [
        "Lets check the distribution of distance in miles covered for train and test data set"
      ]
    },
    {
      "cell_type": "code",
      "metadata": {
        "colab": {
          "base_uri": "https://localhost:8080/"
        },
        "id": "gjSm4Ax_IX38",
        "outputId": "4e70f619-f7bb-4713-d523-bbb82b872f76"
      },
      "source": [
        "#train data set\n",
        "pd.cut(train['distance_miles'],np.linspace(0, 70, num = 8)).value_counts()"
      ],
      "execution_count": 31,
      "outputs": [
        {
          "output_type": "execute_result",
          "data": {
            "text/plain": [
              "(0.0, 10.0]     85301\n",
              "(10.0, 20.0]     1799\n",
              "(20.0, 30.0]       13\n",
              "(60.0, 70.0]       11\n",
              "(50.0, 60.0]        6\n",
              "(40.0, 50.0]        1\n",
              "(30.0, 40.0]        0\n",
              "Name: distance_miles, dtype: int64"
            ]
          },
          "metadata": {
            "tags": []
          },
          "execution_count": 31
        }
      ]
    },
    {
      "cell_type": "code",
      "metadata": {
        "colab": {
          "base_uri": "https://localhost:8080/"
        },
        "id": "TjcpZt8xIiRl",
        "outputId": "66012066-66ac-43db-f0a7-ef1a9c68196a"
      },
      "source": [
        "# test data set\n",
        "pd.cut(test['distance_miles'],np.linspace(0, 70, num = 8)).value_counts()"
      ],
      "execution_count": 32,
      "outputs": [
        {
          "output_type": "execute_result",
          "data": {
            "text/plain": [
              "(0.0, 10.0]     9444\n",
              "(10.0, 20.0]     216\n",
              "(20.0, 30.0]       4\n",
              "(60.0, 70.0]       1\n",
              "(50.0, 60.0]       1\n",
              "(40.0, 50.0]       0\n",
              "(30.0, 40.0]       0\n",
              "Name: distance_miles, dtype: int64"
            ]
          },
          "metadata": {
            "tags": []
          },
          "execution_count": 32
        }
      ]
    },
    {
      "cell_type": "code",
      "metadata": {
        "colab": {
          "base_uri": "https://localhost:8080/"
        },
        "id": "m0ESEdCwIkwf",
        "outputId": "20744081-e196-457a-f962-1dcf7dbf2063"
      },
      "source": [
        "# we will deal with it later \n",
        "fare_100 = train[train.fare_amount > 100]\n",
        "fare_100.shape"
      ],
      "execution_count": 33,
      "outputs": [
        {
          "output_type": "execute_result",
          "data": {
            "text/plain": [
              "(33, 19)"
            ]
          },
          "metadata": {
            "tags": []
          },
          "execution_count": 33
        }
      ]
    },
    {
      "cell_type": "markdown",
      "metadata": {
        "id": "XzIdhYiDIqs4"
      },
      "source": [
        "**There are 1669 records where fare amount is higher than 100 dollars**<br/>\n",
        "\n",
        "1. I also see than 527 records are such where distance covered is even less than 1 miles\n",
        "2. While researching through few websites (https://www.introducingnewyork.com/taxis, https://www.taxi-calculator.com/taxi-rate-new-york-city/259) i got to know that if taxi waits for passanger additional $30 dollars per hour will be charged depending on the location of the pickup.\n",
        "3. Since we don't have such variable where we can get to know the waiting time, we can drop such cases where distance is very less in copare to fare amount charged for the ride"
      ]
    },
    {
      "cell_type": "code",
      "metadata": {
        "colab": {
          "base_uri": "https://localhost:8080/"
        },
        "id": "enmpAchdIyZk",
        "outputId": "de1028d4-8943-4e8b-d10d-7e2cc64897d7"
      },
      "source": [
        "fare_100[fare_100.distance_miles <1].shape"
      ],
      "execution_count": 34,
      "outputs": [
        {
          "output_type": "execute_result",
          "data": {
            "text/plain": [
              "(18, 19)"
            ]
          },
          "metadata": {
            "tags": []
          },
          "execution_count": 34
        }
      ]
    },
    {
      "cell_type": "code",
      "metadata": {
        "id": "x7rzUxk1I224"
      },
      "source": [
        "# #dropping cases where fare is above 100 dollars and distance is less than 1 miles\n",
        "# print(\"old size: %d\" % len(train))\n",
        "# train = train.drop(index= train[(train.distance_miles <1) & (train.fare_amount > 100)].index, axis=0)\n",
        "# print(\"New size: %d\" % len(train))"
      ],
      "execution_count": 35,
      "outputs": []
    },
    {
      "cell_type": "code",
      "metadata": {
        "colab": {
          "base_uri": "https://localhost:8080/"
        },
        "id": "Iweod-nCI5XR",
        "outputId": "aebfce68-ccb4-42d2-c62f-97c8a097635c"
      },
      "source": [
        "train.columns"
      ],
      "execution_count": 36,
      "outputs": [
        {
          "output_type": "execute_result",
          "data": {
            "text/plain": [
              "Index(['key', 'fare_amount', 'pickup_datetime', 'pickup_longitude',\n",
              "       'pickup_latitude', 'dropoff_longitude', 'dropoff_latitude',\n",
              "       'passenger_count', 'hour_of_day', 'month', 'year', 'weekday',\n",
              "       'distance_miles', 'pickup_distance_to_jfk', 'dropoff_distance_to_jfk',\n",
              "       'pickup_distance_to_ewr', 'dropoff_distance_to_ewr',\n",
              "       'pickup_distance_to_lgr', 'dropoff_distance_to_lgr'],\n",
              "      dtype='object')"
            ]
          },
          "metadata": {
            "tags": []
          },
          "execution_count": 36
        }
      ]
    },
    {
      "cell_type": "code",
      "metadata": {
        "colab": {
          "base_uri": "https://localhost:8080/"
        },
        "id": "uw_DM-fTI8Fz",
        "outputId": "8f4cb180-0aa5-4584-97b7-0463a05ff436"
      },
      "source": [
        "# create copy of the data set\n",
        "df_train = train.drop(columns= ['key','pickup_datetime'], axis= 1).copy()\n",
        "df_test = test.drop(columns= ['key','pickup_datetime'], axis= 1).copy()\n",
        "print(df_train.shape)\n",
        "print(df_test.shape)"
      ],
      "execution_count": 37,
      "outputs": [
        {
          "output_type": "stream",
          "text": [
            "(88080, 17)\n",
            "(9999, 17)\n"
          ],
          "name": "stdout"
        }
      ]
    },
    {
      "cell_type": "markdown",
      "metadata": {
        "id": "s_hyTby6JAEq"
      },
      "source": [
        "## Create Training and Test Dataset"
      ]
    },
    {
      "cell_type": "code",
      "metadata": {
        "colab": {
          "base_uri": "https://localhost:8080/"
        },
        "id": "lKtYN941JApV",
        "outputId": "1e088477-7aab-40e1-97cf-7650a9d1e489"
      },
      "source": [
        "from sklearn.model_selection import train_test_split \n",
        "X_train, X_test, y_train, y_test = train_test_split(df_train.drop('fare_amount', axis=1),\n",
        "                                                    df_train['fare_amount'], test_size=0.2, random_state = 42)\n",
        "print(X_train.shape)\n",
        "print(X_test.shape)\n",
        "print(y_train.shape)\n",
        "print(y_test.shape)"
      ],
      "execution_count": 38,
      "outputs": [
        {
          "output_type": "stream",
          "text": [
            "(70464, 16)\n",
            "(17616, 16)\n",
            "(70464,)\n",
            "(17616,)\n"
          ],
          "name": "stdout"
        }
      ]
    },
    {
      "cell_type": "markdown",
      "metadata": {
        "id": "7YEHCrm8JF23"
      },
      "source": [
        "## XG Boost Mode"
      ]
    },
    {
      "cell_type": "code",
      "metadata": {
        "id": "wym3eLX7JJbn"
      },
      "source": [
        "import xgboost as xgb"
      ],
      "execution_count": 39,
      "outputs": []
    },
    {
      "cell_type": "code",
      "metadata": {
        "id": "QWUoTgzhJNwi"
      },
      "source": [
        "params = {\n",
        "   \n",
        "    'max_depth': 7,\n",
        "    'gamma' :0,\n",
        "    'eta':.03, \n",
        "    'subsample': 1,\n",
        "    'colsample_bytree': 0.9, \n",
        "    'objective':'reg:linear',\n",
        "    'eval_metric':'rmse',\n",
        "    'silent': 0\n",
        "}"
      ],
      "execution_count": 40,
      "outputs": []
    },
    {
      "cell_type": "code",
      "metadata": {
        "colab": {
          "base_uri": "https://localhost:8080/"
        },
        "id": "k7PpZ5aQJQyf",
        "outputId": "e7b5a237-1967-41cf-e050-a79344072728"
      },
      "source": [
        "def XGBmodel(X_train,X_test,y_train,y_test,params):\n",
        "    matrix_train = xgb.DMatrix(X_train,label=y_train)\n",
        "    matrix_test = xgb.DMatrix(X_test,label=y_test)\n",
        "    model=xgb.train(params=params,\n",
        "                    dtrain=matrix_train,num_boost_round=5000, \n",
        "                    early_stopping_rounds=10,evals=[(matrix_test,'test')])\n",
        "    return model\n",
        "\n",
        "model = XGBmodel(X_train,X_test,y_train,y_test,params)"
      ],
      "execution_count": 41,
      "outputs": [
        {
          "output_type": "stream",
          "text": [
            "[01:07:55] WARNING: /workspace/src/objective/regression_obj.cu:152: reg:linear is now deprecated in favor of reg:squarederror.\n",
            "[0]\ttest-rmse:13.8699\n",
            "Will train until test-rmse hasn't improved in 10 rounds.\n",
            "[1]\ttest-rmse:13.4932\n",
            "[2]\ttest-rmse:13.1513\n",
            "[3]\ttest-rmse:12.7982\n",
            "[4]\ttest-rmse:12.4552\n",
            "[5]\ttest-rmse:12.1242\n",
            "[6]\ttest-rmse:11.8059\n",
            "[7]\ttest-rmse:11.4987\n",
            "[8]\ttest-rmse:11.2004\n",
            "[9]\ttest-rmse:10.9134\n",
            "[10]\ttest-rmse:10.6533\n",
            "[11]\ttest-rmse:10.3839\n",
            "[12]\ttest-rmse:10.1239\n",
            "[13]\ttest-rmse:9.86878\n",
            "[14]\ttest-rmse:9.62576\n",
            "[15]\ttest-rmse:9.39145\n",
            "[16]\ttest-rmse:9.16612\n",
            "[17]\ttest-rmse:8.94926\n",
            "[18]\ttest-rmse:8.73785\n",
            "[19]\ttest-rmse:8.53649\n",
            "[20]\ttest-rmse:8.34098\n",
            "[21]\ttest-rmse:8.15204\n",
            "[22]\ttest-rmse:7.98297\n",
            "[23]\ttest-rmse:7.80668\n",
            "[24]\ttest-rmse:7.63635\n",
            "[25]\ttest-rmse:7.4719\n",
            "[26]\ttest-rmse:7.3165\n",
            "[27]\ttest-rmse:7.16646\n",
            "[28]\ttest-rmse:7.02236\n",
            "[29]\ttest-rmse:6.88225\n",
            "[30]\ttest-rmse:6.7497\n",
            "[31]\ttest-rmse:6.6224\n",
            "[32]\ttest-rmse:6.50028\n",
            "[33]\ttest-rmse:6.37916\n",
            "[34]\ttest-rmse:6.26743\n",
            "[35]\ttest-rmse:6.16525\n",
            "[36]\ttest-rmse:6.06023\n",
            "[37]\ttest-rmse:5.95892\n",
            "[38]\ttest-rmse:5.86247\n",
            "[39]\ttest-rmse:5.76955\n",
            "[40]\ttest-rmse:5.68174\n",
            "[41]\ttest-rmse:5.59518\n",
            "[42]\ttest-rmse:5.51521\n",
            "[43]\ttest-rmse:5.43755\n",
            "[44]\ttest-rmse:5.36364\n",
            "[45]\ttest-rmse:5.29476\n",
            "[46]\ttest-rmse:5.22778\n",
            "[47]\ttest-rmse:5.16305\n",
            "[48]\ttest-rmse:5.10096\n",
            "[49]\ttest-rmse:5.04295\n",
            "[50]\ttest-rmse:4.98695\n",
            "[51]\ttest-rmse:4.93426\n",
            "[52]\ttest-rmse:4.88346\n",
            "[53]\ttest-rmse:4.83393\n",
            "[54]\ttest-rmse:4.7863\n",
            "[55]\ttest-rmse:4.74137\n",
            "[56]\ttest-rmse:4.69874\n",
            "[57]\ttest-rmse:4.65956\n",
            "[58]\ttest-rmse:4.62094\n",
            "[59]\ttest-rmse:4.58265\n",
            "[60]\ttest-rmse:4.54638\n",
            "[61]\ttest-rmse:4.51297\n",
            "[62]\ttest-rmse:4.48083\n",
            "[63]\ttest-rmse:4.45175\n",
            "[64]\ttest-rmse:4.42571\n",
            "[65]\ttest-rmse:4.39959\n",
            "[66]\ttest-rmse:4.37231\n",
            "[67]\ttest-rmse:4.34683\n",
            "[68]\ttest-rmse:4.32157\n",
            "[69]\ttest-rmse:4.29855\n",
            "[70]\ttest-rmse:4.27831\n",
            "[71]\ttest-rmse:4.25772\n",
            "[72]\ttest-rmse:4.23767\n",
            "[73]\ttest-rmse:4.21998\n",
            "[74]\ttest-rmse:4.20231\n",
            "[75]\ttest-rmse:4.18544\n",
            "[76]\ttest-rmse:4.16933\n",
            "[77]\ttest-rmse:4.15485\n",
            "[78]\ttest-rmse:4.14008\n",
            "[79]\ttest-rmse:4.1267\n",
            "[80]\ttest-rmse:4.11437\n",
            "[81]\ttest-rmse:4.1013\n",
            "[82]\ttest-rmse:4.09038\n",
            "[83]\ttest-rmse:4.08045\n",
            "[84]\ttest-rmse:4.06907\n",
            "[85]\ttest-rmse:4.05914\n",
            "[86]\ttest-rmse:4.04887\n",
            "[87]\ttest-rmse:4.03961\n",
            "[88]\ttest-rmse:4.03148\n",
            "[89]\ttest-rmse:4.02475\n",
            "[90]\ttest-rmse:4.01612\n",
            "[91]\ttest-rmse:4.009\n",
            "[92]\ttest-rmse:4.00064\n",
            "[93]\ttest-rmse:3.99293\n",
            "[94]\ttest-rmse:3.98545\n",
            "[95]\ttest-rmse:3.98051\n",
            "[96]\ttest-rmse:3.97455\n",
            "[97]\ttest-rmse:3.96843\n",
            "[98]\ttest-rmse:3.96292\n",
            "[99]\ttest-rmse:3.95755\n",
            "[100]\ttest-rmse:3.9519\n",
            "[101]\ttest-rmse:3.94638\n",
            "[102]\ttest-rmse:3.94191\n",
            "[103]\ttest-rmse:3.9377\n",
            "[104]\ttest-rmse:3.9348\n",
            "[105]\ttest-rmse:3.93038\n",
            "[106]\ttest-rmse:3.92663\n",
            "[107]\ttest-rmse:3.92148\n",
            "[108]\ttest-rmse:3.91785\n",
            "[109]\ttest-rmse:3.91359\n",
            "[110]\ttest-rmse:3.91036\n",
            "[111]\ttest-rmse:3.90814\n",
            "[112]\ttest-rmse:3.90479\n",
            "[113]\ttest-rmse:3.90138\n",
            "[114]\ttest-rmse:3.89954\n",
            "[115]\ttest-rmse:3.89776\n",
            "[116]\ttest-rmse:3.89582\n",
            "[117]\ttest-rmse:3.89319\n",
            "[118]\ttest-rmse:3.89061\n",
            "[119]\ttest-rmse:3.88785\n",
            "[120]\ttest-rmse:3.88709\n",
            "[121]\ttest-rmse:3.88578\n",
            "[122]\ttest-rmse:3.88329\n",
            "[123]\ttest-rmse:3.88155\n",
            "[124]\ttest-rmse:3.88043\n",
            "[125]\ttest-rmse:3.87849\n",
            "[126]\ttest-rmse:3.87661\n",
            "[127]\ttest-rmse:3.87464\n",
            "[128]\ttest-rmse:3.87453\n",
            "[129]\ttest-rmse:3.87309\n",
            "[130]\ttest-rmse:3.87133\n",
            "[131]\ttest-rmse:3.87069\n",
            "[132]\ttest-rmse:3.868\n",
            "[133]\ttest-rmse:3.86651\n",
            "[134]\ttest-rmse:3.8663\n",
            "[135]\ttest-rmse:3.86517\n",
            "[136]\ttest-rmse:3.86351\n",
            "[137]\ttest-rmse:3.86337\n",
            "[138]\ttest-rmse:3.8624\n",
            "[139]\ttest-rmse:3.86317\n",
            "[140]\ttest-rmse:3.86167\n",
            "[141]\ttest-rmse:3.86054\n",
            "[142]\ttest-rmse:3.85804\n",
            "[143]\ttest-rmse:3.85645\n",
            "[144]\ttest-rmse:3.85623\n",
            "[145]\ttest-rmse:3.85502\n",
            "[146]\ttest-rmse:3.85489\n",
            "[147]\ttest-rmse:3.85484\n",
            "[148]\ttest-rmse:3.85421\n",
            "[149]\ttest-rmse:3.85389\n",
            "[150]\ttest-rmse:3.85412\n",
            "[151]\ttest-rmse:3.85423\n",
            "[152]\ttest-rmse:3.85437\n",
            "[153]\ttest-rmse:3.85321\n",
            "[154]\ttest-rmse:3.85256\n",
            "[155]\ttest-rmse:3.85062\n",
            "[156]\ttest-rmse:3.84929\n",
            "[157]\ttest-rmse:3.84958\n",
            "[158]\ttest-rmse:3.84774\n",
            "[159]\ttest-rmse:3.84715\n",
            "[160]\ttest-rmse:3.84693\n",
            "[161]\ttest-rmse:3.84734\n",
            "[162]\ttest-rmse:3.84705\n",
            "[163]\ttest-rmse:3.84634\n",
            "[164]\ttest-rmse:3.84544\n",
            "[165]\ttest-rmse:3.84539\n",
            "[166]\ttest-rmse:3.84456\n",
            "[167]\ttest-rmse:3.84344\n",
            "[168]\ttest-rmse:3.84308\n",
            "[169]\ttest-rmse:3.84158\n",
            "[170]\ttest-rmse:3.84058\n",
            "[171]\ttest-rmse:3.84085\n",
            "[172]\ttest-rmse:3.83885\n",
            "[173]\ttest-rmse:3.83862\n",
            "[174]\ttest-rmse:3.83905\n",
            "[175]\ttest-rmse:3.8388\n",
            "[176]\ttest-rmse:3.83705\n",
            "[177]\ttest-rmse:3.83542\n",
            "[178]\ttest-rmse:3.83526\n",
            "[179]\ttest-rmse:3.83498\n",
            "[180]\ttest-rmse:3.83503\n",
            "[181]\ttest-rmse:3.83496\n",
            "[182]\ttest-rmse:3.83493\n",
            "[183]\ttest-rmse:3.83409\n",
            "[184]\ttest-rmse:3.8311\n",
            "[185]\ttest-rmse:3.83133\n",
            "[186]\ttest-rmse:3.83162\n",
            "[187]\ttest-rmse:3.83151\n",
            "[188]\ttest-rmse:3.83073\n",
            "[189]\ttest-rmse:3.83065\n",
            "[190]\ttest-rmse:3.82888\n",
            "[191]\ttest-rmse:3.82852\n",
            "[192]\ttest-rmse:3.82621\n",
            "[193]\ttest-rmse:3.82642\n",
            "[194]\ttest-rmse:3.82618\n",
            "[195]\ttest-rmse:3.8252\n",
            "[196]\ttest-rmse:3.82471\n",
            "[197]\ttest-rmse:3.82292\n",
            "[198]\ttest-rmse:3.82244\n",
            "[199]\ttest-rmse:3.82198\n",
            "[200]\ttest-rmse:3.82105\n",
            "[201]\ttest-rmse:3.81985\n",
            "[202]\ttest-rmse:3.8196\n",
            "[203]\ttest-rmse:3.81696\n",
            "[204]\ttest-rmse:3.81685\n",
            "[205]\ttest-rmse:3.81682\n",
            "[206]\ttest-rmse:3.81659\n",
            "[207]\ttest-rmse:3.81613\n",
            "[208]\ttest-rmse:3.81592\n",
            "[209]\ttest-rmse:3.81533\n",
            "[210]\ttest-rmse:3.81419\n",
            "[211]\ttest-rmse:3.81367\n",
            "[212]\ttest-rmse:3.81327\n",
            "[213]\ttest-rmse:3.81073\n",
            "[214]\ttest-rmse:3.81003\n",
            "[215]\ttest-rmse:3.80996\n",
            "[216]\ttest-rmse:3.81004\n",
            "[217]\ttest-rmse:3.80769\n",
            "[218]\ttest-rmse:3.80724\n",
            "[219]\ttest-rmse:3.80609\n",
            "[220]\ttest-rmse:3.80609\n",
            "[221]\ttest-rmse:3.80621\n",
            "[222]\ttest-rmse:3.8061\n",
            "[223]\ttest-rmse:3.80417\n",
            "[224]\ttest-rmse:3.80389\n",
            "[225]\ttest-rmse:3.80399\n",
            "[226]\ttest-rmse:3.80371\n",
            "[227]\ttest-rmse:3.80397\n",
            "[228]\ttest-rmse:3.80432\n",
            "[229]\ttest-rmse:3.80253\n",
            "[230]\ttest-rmse:3.80097\n",
            "[231]\ttest-rmse:3.80049\n",
            "[232]\ttest-rmse:3.80078\n",
            "[233]\ttest-rmse:3.80025\n",
            "[234]\ttest-rmse:3.79882\n",
            "[235]\ttest-rmse:3.79849\n",
            "[236]\ttest-rmse:3.79841\n",
            "[237]\ttest-rmse:3.79826\n",
            "[238]\ttest-rmse:3.79806\n",
            "[239]\ttest-rmse:3.79753\n",
            "[240]\ttest-rmse:3.79786\n",
            "[241]\ttest-rmse:3.79763\n",
            "[242]\ttest-rmse:3.79616\n",
            "[243]\ttest-rmse:3.79584\n",
            "[244]\ttest-rmse:3.79463\n",
            "[245]\ttest-rmse:3.79433\n",
            "[246]\ttest-rmse:3.79382\n",
            "[247]\ttest-rmse:3.79388\n",
            "[248]\ttest-rmse:3.79403\n",
            "[249]\ttest-rmse:3.7936\n",
            "[250]\ttest-rmse:3.79345\n",
            "[251]\ttest-rmse:3.79332\n",
            "[252]\ttest-rmse:3.79211\n",
            "[253]\ttest-rmse:3.79158\n",
            "[254]\ttest-rmse:3.79125\n",
            "[255]\ttest-rmse:3.79095\n",
            "[256]\ttest-rmse:3.78935\n",
            "[257]\ttest-rmse:3.78864\n",
            "[258]\ttest-rmse:3.78776\n",
            "[259]\ttest-rmse:3.7875\n",
            "[260]\ttest-rmse:3.78719\n",
            "[261]\ttest-rmse:3.7871\n",
            "[262]\ttest-rmse:3.78665\n",
            "[263]\ttest-rmse:3.78624\n",
            "[264]\ttest-rmse:3.78543\n",
            "[265]\ttest-rmse:3.78504\n",
            "[266]\ttest-rmse:3.78417\n",
            "[267]\ttest-rmse:3.78407\n",
            "[268]\ttest-rmse:3.78353\n",
            "[269]\ttest-rmse:3.78376\n",
            "[270]\ttest-rmse:3.78296\n",
            "[271]\ttest-rmse:3.78307\n",
            "[272]\ttest-rmse:3.78308\n",
            "[273]\ttest-rmse:3.78261\n",
            "[274]\ttest-rmse:3.78283\n",
            "[275]\ttest-rmse:3.78303\n",
            "[276]\ttest-rmse:3.78212\n",
            "[277]\ttest-rmse:3.78207\n",
            "[278]\ttest-rmse:3.78156\n",
            "[279]\ttest-rmse:3.7816\n",
            "[280]\ttest-rmse:3.78162\n",
            "[281]\ttest-rmse:3.78161\n",
            "[282]\ttest-rmse:3.78059\n",
            "[283]\ttest-rmse:3.78063\n",
            "[284]\ttest-rmse:3.78065\n",
            "[285]\ttest-rmse:3.78084\n",
            "[286]\ttest-rmse:3.78015\n",
            "[287]\ttest-rmse:3.77931\n",
            "[288]\ttest-rmse:3.77862\n",
            "[289]\ttest-rmse:3.77835\n",
            "[290]\ttest-rmse:3.77812\n",
            "[291]\ttest-rmse:3.778\n",
            "[292]\ttest-rmse:3.77718\n",
            "[293]\ttest-rmse:3.77726\n",
            "[294]\ttest-rmse:3.77724\n",
            "[295]\ttest-rmse:3.77732\n",
            "[296]\ttest-rmse:3.77749\n",
            "[297]\ttest-rmse:3.77701\n",
            "[298]\ttest-rmse:3.77709\n",
            "[299]\ttest-rmse:3.7772\n",
            "[300]\ttest-rmse:3.77636\n",
            "[301]\ttest-rmse:3.77613\n",
            "[302]\ttest-rmse:3.77623\n",
            "[303]\ttest-rmse:3.7754\n",
            "[304]\ttest-rmse:3.77516\n",
            "[305]\ttest-rmse:3.77455\n",
            "[306]\ttest-rmse:3.77422\n",
            "[307]\ttest-rmse:3.77407\n",
            "[308]\ttest-rmse:3.77398\n",
            "[309]\ttest-rmse:3.77384\n",
            "[310]\ttest-rmse:3.77319\n",
            "[311]\ttest-rmse:3.77291\n",
            "[312]\ttest-rmse:3.77294\n",
            "[313]\ttest-rmse:3.7728\n",
            "[314]\ttest-rmse:3.77322\n",
            "[315]\ttest-rmse:3.77315\n",
            "[316]\ttest-rmse:3.77292\n",
            "[317]\ttest-rmse:3.7728\n",
            "[318]\ttest-rmse:3.77244\n",
            "[319]\ttest-rmse:3.77236\n",
            "[320]\ttest-rmse:3.77203\n",
            "[321]\ttest-rmse:3.77195\n",
            "[322]\ttest-rmse:3.77178\n",
            "[323]\ttest-rmse:3.77135\n",
            "[324]\ttest-rmse:3.77117\n",
            "[325]\ttest-rmse:3.77035\n",
            "[326]\ttest-rmse:3.77011\n",
            "[327]\ttest-rmse:3.77017\n",
            "[328]\ttest-rmse:3.77029\n",
            "[329]\ttest-rmse:3.77011\n",
            "[330]\ttest-rmse:3.76994\n",
            "[331]\ttest-rmse:3.76962\n",
            "[332]\ttest-rmse:3.76938\n",
            "[333]\ttest-rmse:3.7696\n",
            "[334]\ttest-rmse:3.76942\n",
            "[335]\ttest-rmse:3.76919\n",
            "[336]\ttest-rmse:3.76922\n",
            "[337]\ttest-rmse:3.76916\n",
            "[338]\ttest-rmse:3.76926\n",
            "[339]\ttest-rmse:3.76885\n",
            "[340]\ttest-rmse:3.76818\n",
            "[341]\ttest-rmse:3.76805\n",
            "[342]\ttest-rmse:3.76778\n",
            "[343]\ttest-rmse:3.76777\n",
            "[344]\ttest-rmse:3.76767\n",
            "[345]\ttest-rmse:3.76797\n",
            "[346]\ttest-rmse:3.76784\n",
            "[347]\ttest-rmse:3.7675\n",
            "[348]\ttest-rmse:3.76743\n",
            "[349]\ttest-rmse:3.76722\n",
            "[350]\ttest-rmse:3.76723\n",
            "[351]\ttest-rmse:3.7667\n",
            "[352]\ttest-rmse:3.76671\n",
            "[353]\ttest-rmse:3.76627\n",
            "[354]\ttest-rmse:3.76622\n",
            "[355]\ttest-rmse:3.76667\n",
            "[356]\ttest-rmse:3.76574\n",
            "[357]\ttest-rmse:3.76543\n",
            "[358]\ttest-rmse:3.76521\n",
            "[359]\ttest-rmse:3.76489\n",
            "[360]\ttest-rmse:3.76487\n",
            "[361]\ttest-rmse:3.76464\n",
            "[362]\ttest-rmse:3.76423\n",
            "[363]\ttest-rmse:3.7642\n",
            "[364]\ttest-rmse:3.76377\n",
            "[365]\ttest-rmse:3.76339\n",
            "[366]\ttest-rmse:3.76341\n",
            "[367]\ttest-rmse:3.76316\n",
            "[368]\ttest-rmse:3.76308\n",
            "[369]\ttest-rmse:3.76272\n",
            "[370]\ttest-rmse:3.76323\n",
            "[371]\ttest-rmse:3.76321\n",
            "[372]\ttest-rmse:3.76336\n",
            "[373]\ttest-rmse:3.76353\n",
            "[374]\ttest-rmse:3.76283\n",
            "[375]\ttest-rmse:3.76236\n",
            "[376]\ttest-rmse:3.76246\n",
            "[377]\ttest-rmse:3.76165\n",
            "[378]\ttest-rmse:3.7616\n",
            "[379]\ttest-rmse:3.76112\n",
            "[380]\ttest-rmse:3.76102\n",
            "[381]\ttest-rmse:3.76065\n",
            "[382]\ttest-rmse:3.76084\n",
            "[383]\ttest-rmse:3.76061\n",
            "[384]\ttest-rmse:3.75986\n",
            "[385]\ttest-rmse:3.7595\n",
            "[386]\ttest-rmse:3.75917\n",
            "[387]\ttest-rmse:3.75887\n",
            "[388]\ttest-rmse:3.75919\n",
            "[389]\ttest-rmse:3.7593\n",
            "[390]\ttest-rmse:3.75956\n",
            "[391]\ttest-rmse:3.75914\n",
            "[392]\ttest-rmse:3.7591\n",
            "[393]\ttest-rmse:3.75927\n",
            "[394]\ttest-rmse:3.75898\n",
            "[395]\ttest-rmse:3.75879\n",
            "[396]\ttest-rmse:3.75891\n",
            "[397]\ttest-rmse:3.75949\n",
            "[398]\ttest-rmse:3.75952\n",
            "[399]\ttest-rmse:3.75937\n",
            "[400]\ttest-rmse:3.75945\n",
            "[401]\ttest-rmse:3.75958\n",
            "[402]\ttest-rmse:3.75969\n",
            "[403]\ttest-rmse:3.75954\n",
            "[404]\ttest-rmse:3.7594\n",
            "[405]\ttest-rmse:3.75936\n",
            "Stopping. Best iteration:\n",
            "[395]\ttest-rmse:3.75879\n",
            "\n"
          ],
          "name": "stdout"
        }
      ]
    },
    {
      "cell_type": "code",
      "metadata": {
        "id": "zcztsaI9JiMX"
      },
      "source": [
        "#prediction = model.predict(xgb.DMatrix(df_test), ntree_limit = model.best_ntree_limit).tolist()\n",
        "df_test = df_test.drop(columns=['fare_amount'])\n",
        "prediction = model.predict(xgb.DMatrix(df_test), ntree_limit = model.best_ntree_limit).tolist()"
      ],
      "execution_count": 42,
      "outputs": []
    },
    {
      "cell_type": "code",
      "metadata": {
        "colab": {
          "base_uri": "https://localhost:8080/",
          "height": 393
        },
        "id": "KkNuplRhKTUs",
        "outputId": "d7485ad0-b3bc-4f6f-bb98-0cec3bd7a505"
      },
      "source": [
        "import matplotlib.pyplot as plt\n",
        "fscores = pd.DataFrame({'X': list(model.get_fscore().keys()), 'Y': list(model.get_fscore().values())})\n",
        "fscores.sort_values(by='Y').plot.bar(x='X')"
      ],
      "execution_count": 43,
      "outputs": [
        {
          "output_type": "execute_result",
          "data": {
            "text/plain": [
              "<matplotlib.axes._subplots.AxesSubplot at 0x7f116f05c390>"
            ]
          },
          "metadata": {
            "tags": []
          },
          "execution_count": 43
        },
        {
          "output_type": "display_data",
          "data": {
            "image/png": "[encoded data removed]",
            "text/plain": [
              "<Figure size 432x288 with 1 Axes>"
            ]
          },
          "metadata": {
            "tags": [],
            "needs_background": "light"
          }
        }
      ]
    }
  ]
}