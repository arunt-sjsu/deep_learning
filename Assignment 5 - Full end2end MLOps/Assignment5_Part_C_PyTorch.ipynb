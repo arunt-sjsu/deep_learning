{
  "nbformat": 4,
  "nbformat_minor": 0,
  "metadata": {
    "colab": {
      "name": "Assignment5_Part_C_PyTorch.ipynb",
      "provenance": [],
      "collapsed_sections": [],
      "toc_visible": true,
      "include_colab_link": true
    },
    "kernelspec": {
      "name": "python3",
      "display_name": "Python 3"
    },
    "accelerator": "GPU",
    "widgets": {
      "application/vnd.jupyter.widget-state+json": {
        "7d5db93b3ebe4a8893c6f8ceef91845c": {
          "model_module": "@jupyter-widgets/controls",
          "model_name": "HBoxModel",
          "state": {
            "_view_name": "HBoxView",
            "_dom_classes": [],
            "_model_name": "HBoxModel",
            "_view_module": "@jupyter-widgets/controls",
            "_model_module_version": "1.5.0",
            "_view_count": null,
            "_view_module_version": "1.5.0",
            "box_style": "",
            "layout": "IPY_MODEL_ce8d219d31a84f1f96f2bdb45e888bf2",
            "_model_module": "@jupyter-widgets/controls",
            "children": [
              "IPY_MODEL_eac17cb02ec24c2c9ff0ac88dfb08f64",
              "IPY_MODEL_ac91bbbb889b40269d6e8a64d07e906d"
            ]
          }
        },
        "ce8d219d31a84f1f96f2bdb45e888bf2": {
          "model_module": "@jupyter-widgets/base",
          "model_name": "LayoutModel",
          "state": {
            "_view_name": "LayoutView",
            "grid_template_rows": null,
            "right": null,
            "justify_content": null,
            "_view_module": "@jupyter-widgets/base",
            "overflow": null,
            "_model_module_version": "1.2.0",
            "_view_count": null,
            "flex_flow": null,
            "width": null,
            "min_width": null,
            "border": null,
            "align_items": null,
            "bottom": null,
            "_model_module": "@jupyter-widgets/base",
            "top": null,
            "grid_column": null,
            "overflow_y": null,
            "overflow_x": null,
            "grid_auto_flow": null,
            "grid_area": null,
            "grid_template_columns": null,
            "flex": null,
            "_model_name": "LayoutModel",
            "justify_items": null,
            "grid_row": null,
            "max_height": null,
            "align_content": null,
            "visibility": null,
            "align_self": null,
            "height": null,
            "min_height": null,
            "padding": null,
            "grid_auto_rows": null,
            "grid_gap": null,
            "max_width": null,
            "order": null,
            "_view_module_version": "1.2.0",
            "grid_template_areas": null,
            "object_position": null,
            "object_fit": null,
            "grid_auto_columns": null,
            "margin": null,
            "display": null,
            "left": null
          }
        },
        "eac17cb02ec24c2c9ff0ac88dfb08f64": {
          "model_module": "@jupyter-widgets/controls",
          "model_name": "FloatProgressModel",
          "state": {
            "_view_name": "ProgressView",
            "style": "IPY_MODEL_a58ee76d7b0a4ad8843bdf8a058a86af",
            "_dom_classes": [],
            "description": "100%",
            "_model_name": "FloatProgressModel",
            "bar_style": "success",
            "max": 20,
            "_view_module": "@jupyter-widgets/controls",
            "_model_module_version": "1.5.0",
            "value": 20,
            "_view_count": null,
            "_view_module_version": "1.5.0",
            "orientation": "horizontal",
            "min": 0,
            "description_tooltip": null,
            "_model_module": "@jupyter-widgets/controls",
            "layout": "IPY_MODEL_62210ddb75f149cabee268f5bb0bbd2c"
          }
        },
        "ac91bbbb889b40269d6e8a64d07e906d": {
          "model_module": "@jupyter-widgets/controls",
          "model_name": "HTMLModel",
          "state": {
            "_view_name": "HTMLView",
            "style": "IPY_MODEL_31ebcdf2fc2c4ec1b8984cf91d23727e",
            "_dom_classes": [],
            "description": "",
            "_model_name": "HTMLModel",
            "placeholder": "​",
            "_view_module": "@jupyter-widgets/controls",
            "_model_module_version": "1.5.0",
            "value": " 20/20 [01:48&lt;00:00,  5.42s/it]",
            "_view_count": null,
            "_view_module_version": "1.5.0",
            "description_tooltip": null,
            "_model_module": "@jupyter-widgets/controls",
            "layout": "IPY_MODEL_e3ca9632de76484db2d837a1c14fd31d"
          }
        },
        "a58ee76d7b0a4ad8843bdf8a058a86af": {
          "model_module": "@jupyter-widgets/controls",
          "model_name": "ProgressStyleModel",
          "state": {
            "_view_name": "StyleView",
            "_model_name": "ProgressStyleModel",
            "description_width": "initial",
            "_view_module": "@jupyter-widgets/base",
            "_model_module_version": "1.5.0",
            "_view_count": null,
            "_view_module_version": "1.2.0",
            "bar_color": null,
            "_model_module": "@jupyter-widgets/controls"
          }
        },
        "62210ddb75f149cabee268f5bb0bbd2c": {
          "model_module": "@jupyter-widgets/base",
          "model_name": "LayoutModel",
          "state": {
            "_view_name": "LayoutView",
            "grid_template_rows": null,
            "right": null,
            "justify_content": null,
            "_view_module": "@jupyter-widgets/base",
            "overflow": null,
            "_model_module_version": "1.2.0",
            "_view_count": null,
            "flex_flow": null,
            "width": null,
            "min_width": null,
            "border": null,
            "align_items": null,
            "bottom": null,
            "_model_module": "@jupyter-widgets/base",
            "top": null,
            "grid_column": null,
            "overflow_y": null,
            "overflow_x": null,
            "grid_auto_flow": null,
            "grid_area": null,
            "grid_template_columns": null,
            "flex": null,
            "_model_name": "LayoutModel",
            "justify_items": null,
            "grid_row": null,
            "max_height": null,
            "align_content": null,
            "visibility": null,
            "align_self": null,
            "height": null,
            "min_height": null,
            "padding": null,
            "grid_auto_rows": null,
            "grid_gap": null,
            "max_width": null,
            "order": null,
            "_view_module_version": "1.2.0",
            "grid_template_areas": null,
            "object_position": null,
            "object_fit": null,
            "grid_auto_columns": null,
            "margin": null,
            "display": null,
            "left": null
          }
        },
        "31ebcdf2fc2c4ec1b8984cf91d23727e": {
          "model_module": "@jupyter-widgets/controls",
          "model_name": "DescriptionStyleModel",
          "state": {
            "_view_name": "StyleView",
            "_model_name": "DescriptionStyleModel",
            "description_width": "",
            "_view_module": "@jupyter-widgets/base",
            "_model_module_version": "1.5.0",
            "_view_count": null,
            "_view_module_version": "1.2.0",
            "_model_module": "@jupyter-widgets/controls"
          }
        },
        "e3ca9632de76484db2d837a1c14fd31d": {
          "model_module": "@jupyter-widgets/base",
          "model_name": "LayoutModel",
          "state": {
            "_view_name": "LayoutView",
            "grid_template_rows": null,
            "right": null,
            "justify_content": null,
            "_view_module": "@jupyter-widgets/base",
            "overflow": null,
            "_model_module_version": "1.2.0",
            "_view_count": null,
            "flex_flow": null,
            "width": null,
            "min_width": null,
            "border": null,
            "align_items": null,
            "bottom": null,
            "_model_module": "@jupyter-widgets/base",
            "top": null,
            "grid_column": null,
            "overflow_y": null,
            "overflow_x": null,
            "grid_auto_flow": null,
            "grid_area": null,
            "grid_template_columns": null,
            "flex": null,
            "_model_name": "LayoutModel",
            "justify_items": null,
            "grid_row": null,
            "max_height": null,
            "align_content": null,
            "visibility": null,
            "align_self": null,
            "height": null,
            "min_height": null,
            "padding": null,
            "grid_auto_rows": null,
            "grid_gap": null,
            "max_width": null,
            "order": null,
            "_view_module_version": "1.2.0",
            "grid_template_areas": null,
            "object_position": null,
            "object_fit": null,
            "grid_auto_columns": null,
            "margin": null,
            "display": null,
            "left": null
          }
        },
        "94b863fcb5a347c2b371159af917ec96": {
          "model_module": "@jupyter-widgets/controls",
          "model_name": "HBoxModel",
          "state": {
            "_view_name": "HBoxView",
            "_dom_classes": [],
            "_model_name": "HBoxModel",
            "_view_module": "@jupyter-widgets/controls",
            "_model_module_version": "1.5.0",
            "_view_count": null,
            "_view_module_version": "1.5.0",
            "box_style": "",
            "layout": "IPY_MODEL_6574f76a823b4a2794bba00aa44c88f9",
            "_model_module": "@jupyter-widgets/controls",
            "children": [
              "IPY_MODEL_c7b6c16a847441b2899b7c0e0d64cf25",
              "IPY_MODEL_3e5b106a545740d3bc875da9047ae40e"
            ]
          }
        },
        "6574f76a823b4a2794bba00aa44c88f9": {
          "model_module": "@jupyter-widgets/base",
          "model_name": "LayoutModel",
          "state": {
            "_view_name": "LayoutView",
            "grid_template_rows": null,
            "right": null,
            "justify_content": null,
            "_view_module": "@jupyter-widgets/base",
            "overflow": null,
            "_model_module_version": "1.2.0",
            "_view_count": null,
            "flex_flow": null,
            "width": null,
            "min_width": null,
            "border": null,
            "align_items": null,
            "bottom": null,
            "_model_module": "@jupyter-widgets/base",
            "top": null,
            "grid_column": null,
            "overflow_y": null,
            "overflow_x": null,
            "grid_auto_flow": null,
            "grid_area": null,
            "grid_template_columns": null,
            "flex": null,
            "_model_name": "LayoutModel",
            "justify_items": null,
            "grid_row": null,
            "max_height": null,
            "align_content": null,
            "visibility": null,
            "align_self": null,
            "height": null,
            "min_height": null,
            "padding": null,
            "grid_auto_rows": null,
            "grid_gap": null,
            "max_width": null,
            "order": null,
            "_view_module_version": "1.2.0",
            "grid_template_areas": null,
            "object_position": null,
            "object_fit": null,
            "grid_auto_columns": null,
            "margin": null,
            "display": null,
            "left": null
          }
        },
        "c7b6c16a847441b2899b7c0e0d64cf25": {
          "model_module": "@jupyter-widgets/controls",
          "model_name": "FloatProgressModel",
          "state": {
            "_view_name": "ProgressView",
            "style": "IPY_MODEL_c2c54436614c45638440b58f4c8e0048",
            "_dom_classes": [],
            "description": "Epoch 0: 100%",
            "_model_name": "FloatProgressModel",
            "bar_style": "",
            "max": 563,
            "_view_module": "@jupyter-widgets/controls",
            "_model_module_version": "1.5.0",
            "value": 563,
            "_view_count": null,
            "_view_module_version": "1.5.0",
            "orientation": "horizontal",
            "min": 0,
            "description_tooltip": null,
            "_model_module": "@jupyter-widgets/controls",
            "layout": "IPY_MODEL_52c19d10dd084c9bbcedf298e6d69bc9"
          }
        },
        "3e5b106a545740d3bc875da9047ae40e": {
          "model_module": "@jupyter-widgets/controls",
          "model_name": "HTMLModel",
          "state": {
            "_view_name": "HTMLView",
            "style": "IPY_MODEL_dd13ae71152d47738ee6218ab2a130cb",
            "_dom_classes": [],
            "description": "",
            "_model_name": "HTMLModel",
            "placeholder": "​",
            "_view_module": "@jupyter-widgets/controls",
            "_model_module_version": "1.5.0",
            "value": " 563/563 [00:04&lt;00:00, 127.03it/s, loss=0.116]",
            "_view_count": null,
            "_view_module_version": "1.5.0",
            "description_tooltip": null,
            "_model_module": "@jupyter-widgets/controls",
            "layout": "IPY_MODEL_6a59075c9b91485fb51d53f0848683eb"
          }
        },
        "c2c54436614c45638440b58f4c8e0048": {
          "model_module": "@jupyter-widgets/controls",
          "model_name": "ProgressStyleModel",
          "state": {
            "_view_name": "StyleView",
            "_model_name": "ProgressStyleModel",
            "description_width": "initial",
            "_view_module": "@jupyter-widgets/base",
            "_model_module_version": "1.5.0",
            "_view_count": null,
            "_view_module_version": "1.2.0",
            "bar_color": null,
            "_model_module": "@jupyter-widgets/controls"
          }
        },
        "52c19d10dd084c9bbcedf298e6d69bc9": {
          "model_module": "@jupyter-widgets/base",
          "model_name": "LayoutModel",
          "state": {
            "_view_name": "LayoutView",
            "grid_template_rows": null,
            "right": null,
            "justify_content": null,
            "_view_module": "@jupyter-widgets/base",
            "overflow": null,
            "_model_module_version": "1.2.0",
            "_view_count": null,
            "flex_flow": null,
            "width": null,
            "min_width": null,
            "border": null,
            "align_items": null,
            "bottom": null,
            "_model_module": "@jupyter-widgets/base",
            "top": null,
            "grid_column": null,
            "overflow_y": null,
            "overflow_x": null,
            "grid_auto_flow": null,
            "grid_area": null,
            "grid_template_columns": null,
            "flex": null,
            "_model_name": "LayoutModel",
            "justify_items": null,
            "grid_row": null,
            "max_height": null,
            "align_content": null,
            "visibility": null,
            "align_self": null,
            "height": null,
            "min_height": null,
            "padding": null,
            "grid_auto_rows": null,
            "grid_gap": null,
            "max_width": null,
            "order": null,
            "_view_module_version": "1.2.0",
            "grid_template_areas": null,
            "object_position": null,
            "object_fit": null,
            "grid_auto_columns": null,
            "margin": null,
            "display": null,
            "left": null
          }
        },
        "dd13ae71152d47738ee6218ab2a130cb": {
          "model_module": "@jupyter-widgets/controls",
          "model_name": "DescriptionStyleModel",
          "state": {
            "_view_name": "StyleView",
            "_model_name": "DescriptionStyleModel",
            "description_width": "",
            "_view_module": "@jupyter-widgets/base",
            "_model_module_version": "1.5.0",
            "_view_count": null,
            "_view_module_version": "1.2.0",
            "_model_module": "@jupyter-widgets/controls"
          }
        },
        "6a59075c9b91485fb51d53f0848683eb": {
          "model_module": "@jupyter-widgets/base",
          "model_name": "LayoutModel",
          "state": {
            "_view_name": "LayoutView",
            "grid_template_rows": null,
            "right": null,
            "justify_content": null,
            "_view_module": "@jupyter-widgets/base",
            "overflow": null,
            "_model_module_version": "1.2.0",
            "_view_count": null,
            "flex_flow": null,
            "width": null,
            "min_width": null,
            "border": null,
            "align_items": null,
            "bottom": null,
            "_model_module": "@jupyter-widgets/base",
            "top": null,
            "grid_column": null,
            "overflow_y": null,
            "overflow_x": null,
            "grid_auto_flow": null,
            "grid_area": null,
            "grid_template_columns": null,
            "flex": null,
            "_model_name": "LayoutModel",
            "justify_items": null,
            "grid_row": null,
            "max_height": null,
            "align_content": null,
            "visibility": null,
            "align_self": null,
            "height": null,
            "min_height": null,
            "padding": null,
            "grid_auto_rows": null,
            "grid_gap": null,
            "max_width": null,
            "order": null,
            "_view_module_version": "1.2.0",
            "grid_template_areas": null,
            "object_position": null,
            "object_fit": null,
            "grid_auto_columns": null,
            "margin": null,
            "display": null,
            "left": null
          }
        },
        "a0467a4d4cca4f17a863b5a2a15f35ed": {
          "model_module": "@jupyter-widgets/controls",
          "model_name": "HBoxModel",
          "state": {
            "_view_name": "HBoxView",
            "_dom_classes": [],
            "_model_name": "HBoxModel",
            "_view_module": "@jupyter-widgets/controls",
            "_model_module_version": "1.5.0",
            "_view_count": null,
            "_view_module_version": "1.5.0",
            "box_style": "",
            "layout": "IPY_MODEL_b3383400fd1146648ea2ac26cb5699c0",
            "_model_module": "@jupyter-widgets/controls",
            "children": [
              "IPY_MODEL_143b986703b84c89874c0b4ffce498e4",
              "IPY_MODEL_d1448b6ae01b4167bcbf817c8dfeca86"
            ]
          }
        },
        "b3383400fd1146648ea2ac26cb5699c0": {
          "model_module": "@jupyter-widgets/base",
          "model_name": "LayoutModel",
          "state": {
            "_view_name": "LayoutView",
            "grid_template_rows": null,
            "right": null,
            "justify_content": null,
            "_view_module": "@jupyter-widgets/base",
            "overflow": null,
            "_model_module_version": "1.2.0",
            "_view_count": null,
            "flex_flow": null,
            "width": null,
            "min_width": null,
            "border": null,
            "align_items": null,
            "bottom": null,
            "_model_module": "@jupyter-widgets/base",
            "top": null,
            "grid_column": null,
            "overflow_y": null,
            "overflow_x": null,
            "grid_auto_flow": null,
            "grid_area": null,
            "grid_template_columns": null,
            "flex": null,
            "_model_name": "LayoutModel",
            "justify_items": null,
            "grid_row": null,
            "max_height": null,
            "align_content": null,
            "visibility": null,
            "align_self": null,
            "height": null,
            "min_height": null,
            "padding": null,
            "grid_auto_rows": null,
            "grid_gap": null,
            "max_width": null,
            "order": null,
            "_view_module_version": "1.2.0",
            "grid_template_areas": null,
            "object_position": null,
            "object_fit": null,
            "grid_auto_columns": null,
            "margin": null,
            "display": null,
            "left": null
          }
        },
        "143b986703b84c89874c0b4ffce498e4": {
          "model_module": "@jupyter-widgets/controls",
          "model_name": "FloatProgressModel",
          "state": {
            "_view_name": "ProgressView",
            "style": "IPY_MODEL_dbaed97997234cc3896f7398c1214dd0",
            "_dom_classes": [],
            "description": "100%",
            "_model_name": "FloatProgressModel",
            "bar_style": "",
            "max": 141,
            "_view_module": "@jupyter-widgets/controls",
            "_model_module_version": "1.5.0",
            "value": 141,
            "_view_count": null,
            "_view_module_version": "1.5.0",
            "orientation": "horizontal",
            "min": 0,
            "description_tooltip": null,
            "_model_module": "@jupyter-widgets/controls",
            "layout": "IPY_MODEL_3790dbfdc52b43caab604dd1c4d30f33"
          }
        },
        "d1448b6ae01b4167bcbf817c8dfeca86": {
          "model_module": "@jupyter-widgets/controls",
          "model_name": "HTMLModel",
          "state": {
            "_view_name": "HTMLView",
            "style": "IPY_MODEL_3d12ae7d2769480f9a60508aa500de3e",
            "_dom_classes": [],
            "description": "",
            "_model_name": "HTMLModel",
            "placeholder": "​",
            "_view_module": "@jupyter-widgets/controls",
            "_model_module_version": "1.5.0",
            "value": " 141/141 [00:00&lt;00:00, 338.67it/s]",
            "_view_count": null,
            "_view_module_version": "1.5.0",
            "description_tooltip": null,
            "_model_module": "@jupyter-widgets/controls",
            "layout": "IPY_MODEL_84e2608ed28d4289920729e7f551dd41"
          }
        },
        "dbaed97997234cc3896f7398c1214dd0": {
          "model_module": "@jupyter-widgets/controls",
          "model_name": "ProgressStyleModel",
          "state": {
            "_view_name": "StyleView",
            "_model_name": "ProgressStyleModel",
            "description_width": "initial",
            "_view_module": "@jupyter-widgets/base",
            "_model_module_version": "1.5.0",
            "_view_count": null,
            "_view_module_version": "1.2.0",
            "bar_color": null,
            "_model_module": "@jupyter-widgets/controls"
          }
        },
        "3790dbfdc52b43caab604dd1c4d30f33": {
          "model_module": "@jupyter-widgets/base",
          "model_name": "LayoutModel",
          "state": {
            "_view_name": "LayoutView",
            "grid_template_rows": null,
            "right": null,
            "justify_content": null,
            "_view_module": "@jupyter-widgets/base",
            "overflow": null,
            "_model_module_version": "1.2.0",
            "_view_count": null,
            "flex_flow": null,
            "width": null,
            "min_width": null,
            "border": null,
            "align_items": null,
            "bottom": null,
            "_model_module": "@jupyter-widgets/base",
            "top": null,
            "grid_column": null,
            "overflow_y": null,
            "overflow_x": null,
            "grid_auto_flow": null,
            "grid_area": null,
            "grid_template_columns": null,
            "flex": null,
            "_model_name": "LayoutModel",
            "justify_items": null,
            "grid_row": null,
            "max_height": null,
            "align_content": null,
            "visibility": null,
            "align_self": null,
            "height": null,
            "min_height": null,
            "padding": null,
            "grid_auto_rows": null,
            "grid_gap": null,
            "max_width": null,
            "order": null,
            "_view_module_version": "1.2.0",
            "grid_template_areas": null,
            "object_position": null,
            "object_fit": null,
            "grid_auto_columns": null,
            "margin": null,
            "display": null,
            "left": null
          }
        },
        "3d12ae7d2769480f9a60508aa500de3e": {
          "model_module": "@jupyter-widgets/controls",
          "model_name": "DescriptionStyleModel",
          "state": {
            "_view_name": "StyleView",
            "_model_name": "DescriptionStyleModel",
            "description_width": "",
            "_view_module": "@jupyter-widgets/base",
            "_model_module_version": "1.5.0",
            "_view_count": null,
            "_view_module_version": "1.2.0",
            "_model_module": "@jupyter-widgets/controls"
          }
        },
        "84e2608ed28d4289920729e7f551dd41": {
          "model_module": "@jupyter-widgets/base",
          "model_name": "LayoutModel",
          "state": {
            "_view_name": "LayoutView",
            "grid_template_rows": null,
            "right": null,
            "justify_content": null,
            "_view_module": "@jupyter-widgets/base",
            "overflow": null,
            "_model_module_version": "1.2.0",
            "_view_count": null,
            "flex_flow": null,
            "width": null,
            "min_width": null,
            "border": null,
            "align_items": null,
            "bottom": null,
            "_model_module": "@jupyter-widgets/base",
            "top": null,
            "grid_column": null,
            "overflow_y": null,
            "overflow_x": null,
            "grid_auto_flow": null,
            "grid_area": null,
            "grid_template_columns": null,
            "flex": null,
            "_model_name": "LayoutModel",
            "justify_items": null,
            "grid_row": null,
            "max_height": null,
            "align_content": null,
            "visibility": null,
            "align_self": null,
            "height": null,
            "min_height": null,
            "padding": null,
            "grid_auto_rows": null,
            "grid_gap": null,
            "max_width": null,
            "order": null,
            "_view_module_version": "1.2.0",
            "grid_template_areas": null,
            "object_position": null,
            "object_fit": null,
            "grid_auto_columns": null,
            "margin": null,
            "display": null,
            "left": null
          }
        },
        "5ac78c3ad6c24554875e3274a7b08dbc": {
          "model_module": "@jupyter-widgets/controls",
          "model_name": "HBoxModel",
          "state": {
            "_view_name": "HBoxView",
            "_dom_classes": [],
            "_model_name": "HBoxModel",
            "_view_module": "@jupyter-widgets/controls",
            "_model_module_version": "1.5.0",
            "_view_count": null,
            "_view_module_version": "1.5.0",
            "box_style": "",
            "layout": "IPY_MODEL_a4504c395ab04120a056da14b1a7ebb6",
            "_model_module": "@jupyter-widgets/controls",
            "children": [
              "IPY_MODEL_de5f742cdf324307a0388194596480a7",
              "IPY_MODEL_3c1cce8289774d61a08c5912f21ef4b9"
            ]
          }
        },
        "a4504c395ab04120a056da14b1a7ebb6": {
          "model_module": "@jupyter-widgets/base",
          "model_name": "LayoutModel",
          "state": {
            "_view_name": "LayoutView",
            "grid_template_rows": null,
            "right": null,
            "justify_content": null,
            "_view_module": "@jupyter-widgets/base",
            "overflow": null,
            "_model_module_version": "1.2.0",
            "_view_count": null,
            "flex_flow": null,
            "width": null,
            "min_width": null,
            "border": null,
            "align_items": null,
            "bottom": null,
            "_model_module": "@jupyter-widgets/base",
            "top": null,
            "grid_column": null,
            "overflow_y": null,
            "overflow_x": null,
            "grid_auto_flow": null,
            "grid_area": null,
            "grid_template_columns": null,
            "flex": null,
            "_model_name": "LayoutModel",
            "justify_items": null,
            "grid_row": null,
            "max_height": null,
            "align_content": null,
            "visibility": null,
            "align_self": null,
            "height": null,
            "min_height": null,
            "padding": null,
            "grid_auto_rows": null,
            "grid_gap": null,
            "max_width": null,
            "order": null,
            "_view_module_version": "1.2.0",
            "grid_template_areas": null,
            "object_position": null,
            "object_fit": null,
            "grid_auto_columns": null,
            "margin": null,
            "display": null,
            "left": null
          }
        },
        "de5f742cdf324307a0388194596480a7": {
          "model_module": "@jupyter-widgets/controls",
          "model_name": "FloatProgressModel",
          "state": {
            "_view_name": "ProgressView",
            "style": "IPY_MODEL_623ae10ad04e4a8f8acc2809c76d1ddd",
            "_dom_classes": [],
            "description": "Epoch 1: 100%",
            "_model_name": "FloatProgressModel",
            "bar_style": "",
            "max": 563,
            "_view_module": "@jupyter-widgets/controls",
            "_model_module_version": "1.5.0",
            "value": 563,
            "_view_count": null,
            "_view_module_version": "1.5.0",
            "orientation": "horizontal",
            "min": 0,
            "description_tooltip": null,
            "_model_module": "@jupyter-widgets/controls",
            "layout": "IPY_MODEL_2a075cb2094142708ee9cc1e47ce49a8"
          }
        },
        "3c1cce8289774d61a08c5912f21ef4b9": {
          "model_module": "@jupyter-widgets/controls",
          "model_name": "HTMLModel",
          "state": {
            "_view_name": "HTMLView",
            "style": "IPY_MODEL_925822a585e7488a8d10098a2c90db58",
            "_dom_classes": [],
            "description": "",
            "_model_name": "HTMLModel",
            "placeholder": "​",
            "_view_module": "@jupyter-widgets/controls",
            "_model_module_version": "1.5.0",
            "value": " 563/563 [00:04&lt;00:00, 121.38it/s, loss=0.0828]",
            "_view_count": null,
            "_view_module_version": "1.5.0",
            "description_tooltip": null,
            "_model_module": "@jupyter-widgets/controls",
            "layout": "IPY_MODEL_70a20149832642f3ab140094c322adb5"
          }
        },
        "623ae10ad04e4a8f8acc2809c76d1ddd": {
          "model_module": "@jupyter-widgets/controls",
          "model_name": "ProgressStyleModel",
          "state": {
            "_view_name": "StyleView",
            "_model_name": "ProgressStyleModel",
            "description_width": "initial",
            "_view_module": "@jupyter-widgets/base",
            "_model_module_version": "1.5.0",
            "_view_count": null,
            "_view_module_version": "1.2.0",
            "bar_color": null,
            "_model_module": "@jupyter-widgets/controls"
          }
        },
        "2a075cb2094142708ee9cc1e47ce49a8": {
          "model_module": "@jupyter-widgets/base",
          "model_name": "LayoutModel",
          "state": {
            "_view_name": "LayoutView",
            "grid_template_rows": null,
            "right": null,
            "justify_content": null,
            "_view_module": "@jupyter-widgets/base",
            "overflow": null,
            "_model_module_version": "1.2.0",
            "_view_count": null,
            "flex_flow": null,
            "width": null,
            "min_width": null,
            "border": null,
            "align_items": null,
            "bottom": null,
            "_model_module": "@jupyter-widgets/base",
            "top": null,
            "grid_column": null,
            "overflow_y": null,
            "overflow_x": null,
            "grid_auto_flow": null,
            "grid_area": null,
            "grid_template_columns": null,
            "flex": null,
            "_model_name": "LayoutModel",
            "justify_items": null,
            "grid_row": null,
            "max_height": null,
            "align_content": null,
            "visibility": null,
            "align_self": null,
            "height": null,
            "min_height": null,
            "padding": null,
            "grid_auto_rows": null,
            "grid_gap": null,
            "max_width": null,
            "order": null,
            "_view_module_version": "1.2.0",
            "grid_template_areas": null,
            "object_position": null,
            "object_fit": null,
            "grid_auto_columns": null,
            "margin": null,
            "display": null,
            "left": null
          }
        },
        "925822a585e7488a8d10098a2c90db58": {
          "model_module": "@jupyter-widgets/controls",
          "model_name": "DescriptionStyleModel",
          "state": {
            "_view_name": "StyleView",
            "_model_name": "DescriptionStyleModel",
            "description_width": "",
            "_view_module": "@jupyter-widgets/base",
            "_model_module_version": "1.5.0",
            "_view_count": null,
            "_view_module_version": "1.2.0",
            "_model_module": "@jupyter-widgets/controls"
          }
        },
        "70a20149832642f3ab140094c322adb5": {
          "model_module": "@jupyter-widgets/base",
          "model_name": "LayoutModel",
          "state": {
            "_view_name": "LayoutView",
            "grid_template_rows": null,
            "right": null,
            "justify_content": null,
            "_view_module": "@jupyter-widgets/base",
            "overflow": null,
            "_model_module_version": "1.2.0",
            "_view_count": null,
            "flex_flow": null,
            "width": null,
            "min_width": null,
            "border": null,
            "align_items": null,
            "bottom": null,
            "_model_module": "@jupyter-widgets/base",
            "top": null,
            "grid_column": null,
            "overflow_y": null,
            "overflow_x": null,
            "grid_auto_flow": null,
            "grid_area": null,
            "grid_template_columns": null,
            "flex": null,
            "_model_name": "LayoutModel",
            "justify_items": null,
            "grid_row": null,
            "max_height": null,
            "align_content": null,
            "visibility": null,
            "align_self": null,
            "height": null,
            "min_height": null,
            "padding": null,
            "grid_auto_rows": null,
            "grid_gap": null,
            "max_width": null,
            "order": null,
            "_view_module_version": "1.2.0",
            "grid_template_areas": null,
            "object_position": null,
            "object_fit": null,
            "grid_auto_columns": null,
            "margin": null,
            "display": null,
            "left": null
          }
        },
        "1fdf78ac94df4e9aa638e44c1730656c": {
          "model_module": "@jupyter-widgets/controls",
          "model_name": "HBoxModel",
          "state": {
            "_view_name": "HBoxView",
            "_dom_classes": [],
            "_model_name": "HBoxModel",
            "_view_module": "@jupyter-widgets/controls",
            "_model_module_version": "1.5.0",
            "_view_count": null,
            "_view_module_version": "1.5.0",
            "box_style": "",
            "layout": "IPY_MODEL_74b064b641e645c1b8b66c43f06d6f14",
            "_model_module": "@jupyter-widgets/controls",
            "children": [
              "IPY_MODEL_65930992b0884a42ab17e8252202a683",
              "IPY_MODEL_a6f47ac39cc64aec8ca63f31d1510122"
            ]
          }
        },
        "74b064b641e645c1b8b66c43f06d6f14": {
          "model_module": "@jupyter-widgets/base",
          "model_name": "LayoutModel",
          "state": {
            "_view_name": "LayoutView",
            "grid_template_rows": null,
            "right": null,
            "justify_content": null,
            "_view_module": "@jupyter-widgets/base",
            "overflow": null,
            "_model_module_version": "1.2.0",
            "_view_count": null,
            "flex_flow": null,
            "width": null,
            "min_width": null,
            "border": null,
            "align_items": null,
            "bottom": null,
            "_model_module": "@jupyter-widgets/base",
            "top": null,
            "grid_column": null,
            "overflow_y": null,
            "overflow_x": null,
            "grid_auto_flow": null,
            "grid_area": null,
            "grid_template_columns": null,
            "flex": null,
            "_model_name": "LayoutModel",
            "justify_items": null,
            "grid_row": null,
            "max_height": null,
            "align_content": null,
            "visibility": null,
            "align_self": null,
            "height": null,
            "min_height": null,
            "padding": null,
            "grid_auto_rows": null,
            "grid_gap": null,
            "max_width": null,
            "order": null,
            "_view_module_version": "1.2.0",
            "grid_template_areas": null,
            "object_position": null,
            "object_fit": null,
            "grid_auto_columns": null,
            "margin": null,
            "display": null,
            "left": null
          }
        },
        "65930992b0884a42ab17e8252202a683": {
          "model_module": "@jupyter-widgets/controls",
          "model_name": "FloatProgressModel",
          "state": {
            "_view_name": "ProgressView",
            "style": "IPY_MODEL_7a21f501c9564bed89ba9470680c0247",
            "_dom_classes": [],
            "description": "100%",
            "_model_name": "FloatProgressModel",
            "bar_style": "",
            "max": 141,
            "_view_module": "@jupyter-widgets/controls",
            "_model_module_version": "1.5.0",
            "value": 141,
            "_view_count": null,
            "_view_module_version": "1.5.0",
            "orientation": "horizontal",
            "min": 0,
            "description_tooltip": null,
            "_model_module": "@jupyter-widgets/controls",
            "layout": "IPY_MODEL_f7aa56b8cdb8441f8453377cc66de4b2"
          }
        },
        "a6f47ac39cc64aec8ca63f31d1510122": {
          "model_module": "@jupyter-widgets/controls",
          "model_name": "HTMLModel",
          "state": {
            "_view_name": "HTMLView",
            "style": "IPY_MODEL_e2e13d751e8e4383bf4dae6b6d9eab69",
            "_dom_classes": [],
            "description": "",
            "_model_name": "HTMLModel",
            "placeholder": "​",
            "_view_module": "@jupyter-widgets/controls",
            "_model_module_version": "1.5.0",
            "value": " 141/141 [00:00&lt;00:00, 309.85it/s]",
            "_view_count": null,
            "_view_module_version": "1.5.0",
            "description_tooltip": null,
            "_model_module": "@jupyter-widgets/controls",
            "layout": "IPY_MODEL_3e41d87bba894dd3be0885f68dd49e4a"
          }
        },
        "7a21f501c9564bed89ba9470680c0247": {
          "model_module": "@jupyter-widgets/controls",
          "model_name": "ProgressStyleModel",
          "state": {
            "_view_name": "StyleView",
            "_model_name": "ProgressStyleModel",
            "description_width": "initial",
            "_view_module": "@jupyter-widgets/base",
            "_model_module_version": "1.5.0",
            "_view_count": null,
            "_view_module_version": "1.2.0",
            "bar_color": null,
            "_model_module": "@jupyter-widgets/controls"
          }
        },
        "f7aa56b8cdb8441f8453377cc66de4b2": {
          "model_module": "@jupyter-widgets/base",
          "model_name": "LayoutModel",
          "state": {
            "_view_name": "LayoutView",
            "grid_template_rows": null,
            "right": null,
            "justify_content": null,
            "_view_module": "@jupyter-widgets/base",
            "overflow": null,
            "_model_module_version": "1.2.0",
            "_view_count": null,
            "flex_flow": null,
            "width": null,
            "min_width": null,
            "border": null,
            "align_items": null,
            "bottom": null,
            "_model_module": "@jupyter-widgets/base",
            "top": null,
            "grid_column": null,
            "overflow_y": null,
            "overflow_x": null,
            "grid_auto_flow": null,
            "grid_area": null,
            "grid_template_columns": null,
            "flex": null,
            "_model_name": "LayoutModel",
            "justify_items": null,
            "grid_row": null,
            "max_height": null,
            "align_content": null,
            "visibility": null,
            "align_self": null,
            "height": null,
            "min_height": null,
            "padding": null,
            "grid_auto_rows": null,
            "grid_gap": null,
            "max_width": null,
            "order": null,
            "_view_module_version": "1.2.0",
            "grid_template_areas": null,
            "object_position": null,
            "object_fit": null,
            "grid_auto_columns": null,
            "margin": null,
            "display": null,
            "left": null
          }
        },
        "e2e13d751e8e4383bf4dae6b6d9eab69": {
          "model_module": "@jupyter-widgets/controls",
          "model_name": "DescriptionStyleModel",
          "state": {
            "_view_name": "StyleView",
            "_model_name": "DescriptionStyleModel",
            "description_width": "",
            "_view_module": "@jupyter-widgets/base",
            "_model_module_version": "1.5.0",
            "_view_count": null,
            "_view_module_version": "1.2.0",
            "_model_module": "@jupyter-widgets/controls"
          }
        },
        "3e41d87bba894dd3be0885f68dd49e4a": {
          "model_module": "@jupyter-widgets/base",
          "model_name": "LayoutModel",
          "state": {
            "_view_name": "LayoutView",
            "grid_template_rows": null,
            "right": null,
            "justify_content": null,
            "_view_module": "@jupyter-widgets/base",
            "overflow": null,
            "_model_module_version": "1.2.0",
            "_view_count": null,
            "flex_flow": null,
            "width": null,
            "min_width": null,
            "border": null,
            "align_items": null,
            "bottom": null,
            "_model_module": "@jupyter-widgets/base",
            "top": null,
            "grid_column": null,
            "overflow_y": null,
            "overflow_x": null,
            "grid_auto_flow": null,
            "grid_area": null,
            "grid_template_columns": null,
            "flex": null,
            "_model_name": "LayoutModel",
            "justify_items": null,
            "grid_row": null,
            "max_height": null,
            "align_content": null,
            "visibility": null,
            "align_self": null,
            "height": null,
            "min_height": null,
            "padding": null,
            "grid_auto_rows": null,
            "grid_gap": null,
            "max_width": null,
            "order": null,
            "_view_module_version": "1.2.0",
            "grid_template_areas": null,
            "object_position": null,
            "object_fit": null,
            "grid_auto_columns": null,
            "margin": null,
            "display": null,
            "left": null
          }
        },
        "c34cfcf71f524b9fa71177dfb41160fc": {
          "model_module": "@jupyter-widgets/controls",
          "model_name": "HBoxModel",
          "state": {
            "_view_name": "HBoxView",
            "_dom_classes": [],
            "_model_name": "HBoxModel",
            "_view_module": "@jupyter-widgets/controls",
            "_model_module_version": "1.5.0",
            "_view_count": null,
            "_view_module_version": "1.5.0",
            "box_style": "",
            "layout": "IPY_MODEL_ff20dbeec7c64a89bc99e97c447bb3f2",
            "_model_module": "@jupyter-widgets/controls",
            "children": [
              "IPY_MODEL_1d7826ca69df4c4aa055cad3b2966168",
              "IPY_MODEL_79208b37370c4668b172ee7e05fc9fbe"
            ]
          }
        },
        "ff20dbeec7c64a89bc99e97c447bb3f2": {
          "model_module": "@jupyter-widgets/base",
          "model_name": "LayoutModel",
          "state": {
            "_view_name": "LayoutView",
            "grid_template_rows": null,
            "right": null,
            "justify_content": null,
            "_view_module": "@jupyter-widgets/base",
            "overflow": null,
            "_model_module_version": "1.2.0",
            "_view_count": null,
            "flex_flow": null,
            "width": null,
            "min_width": null,
            "border": null,
            "align_items": null,
            "bottom": null,
            "_model_module": "@jupyter-widgets/base",
            "top": null,
            "grid_column": null,
            "overflow_y": null,
            "overflow_x": null,
            "grid_auto_flow": null,
            "grid_area": null,
            "grid_template_columns": null,
            "flex": null,
            "_model_name": "LayoutModel",
            "justify_items": null,
            "grid_row": null,
            "max_height": null,
            "align_content": null,
            "visibility": null,
            "align_self": null,
            "height": null,
            "min_height": null,
            "padding": null,
            "grid_auto_rows": null,
            "grid_gap": null,
            "max_width": null,
            "order": null,
            "_view_module_version": "1.2.0",
            "grid_template_areas": null,
            "object_position": null,
            "object_fit": null,
            "grid_auto_columns": null,
            "margin": null,
            "display": null,
            "left": null
          }
        },
        "1d7826ca69df4c4aa055cad3b2966168": {
          "model_module": "@jupyter-widgets/controls",
          "model_name": "FloatProgressModel",
          "state": {
            "_view_name": "ProgressView",
            "style": "IPY_MODEL_471e157313f2499db7bbc449bf9931ea",
            "_dom_classes": [],
            "description": "Epoch 2: 100%",
            "_model_name": "FloatProgressModel",
            "bar_style": "",
            "max": 563,
            "_view_module": "@jupyter-widgets/controls",
            "_model_module_version": "1.5.0",
            "value": 563,
            "_view_count": null,
            "_view_module_version": "1.5.0",
            "orientation": "horizontal",
            "min": 0,
            "description_tooltip": null,
            "_model_module": "@jupyter-widgets/controls",
            "layout": "IPY_MODEL_e03874f697bf4b75bd3114f14ca2c53f"
          }
        },
        "79208b37370c4668b172ee7e05fc9fbe": {
          "model_module": "@jupyter-widgets/controls",
          "model_name": "HTMLModel",
          "state": {
            "_view_name": "HTMLView",
            "style": "IPY_MODEL_0d15ed293b974d0dbcee1f7352ad86b7",
            "_dom_classes": [],
            "description": "",
            "_model_name": "HTMLModel",
            "placeholder": "​",
            "_view_module": "@jupyter-widgets/controls",
            "_model_module_version": "1.5.0",
            "value": " 563/563 [00:04&lt;00:00, 122.57it/s, loss=0.139]",
            "_view_count": null,
            "_view_module_version": "1.5.0",
            "description_tooltip": null,
            "_model_module": "@jupyter-widgets/controls",
            "layout": "IPY_MODEL_614ec3cf7f314862aef22aeb162a146b"
          }
        },
        "471e157313f2499db7bbc449bf9931ea": {
          "model_module": "@jupyter-widgets/controls",
          "model_name": "ProgressStyleModel",
          "state": {
            "_view_name": "StyleView",
            "_model_name": "ProgressStyleModel",
            "description_width": "initial",
            "_view_module": "@jupyter-widgets/base",
            "_model_module_version": "1.5.0",
            "_view_count": null,
            "_view_module_version": "1.2.0",
            "bar_color": null,
            "_model_module": "@jupyter-widgets/controls"
          }
        },
        "e03874f697bf4b75bd3114f14ca2c53f": {
          "model_module": "@jupyter-widgets/base",
          "model_name": "LayoutModel",
          "state": {
            "_view_name": "LayoutView",
            "grid_template_rows": null,
            "right": null,
            "justify_content": null,
            "_view_module": "@jupyter-widgets/base",
            "overflow": null,
            "_model_module_version": "1.2.0",
            "_view_count": null,
            "flex_flow": null,
            "width": null,
            "min_width": null,
            "border": null,
            "align_items": null,
            "bottom": null,
            "_model_module": "@jupyter-widgets/base",
            "top": null,
            "grid_column": null,
            "overflow_y": null,
            "overflow_x": null,
            "grid_auto_flow": null,
            "grid_area": null,
            "grid_template_columns": null,
            "flex": null,
            "_model_name": "LayoutModel",
            "justify_items": null,
            "grid_row": null,
            "max_height": null,
            "align_content": null,
            "visibility": null,
            "align_self": null,
            "height": null,
            "min_height": null,
            "padding": null,
            "grid_auto_rows": null,
            "grid_gap": null,
            "max_width": null,
            "order": null,
            "_view_module_version": "1.2.0",
            "grid_template_areas": null,
            "object_position": null,
            "object_fit": null,
            "grid_auto_columns": null,
            "margin": null,
            "display": null,
            "left": null
          }
        },
        "0d15ed293b974d0dbcee1f7352ad86b7": {
          "model_module": "@jupyter-widgets/controls",
          "model_name": "DescriptionStyleModel",
          "state": {
            "_view_name": "StyleView",
            "_model_name": "DescriptionStyleModel",
            "description_width": "",
            "_view_module": "@jupyter-widgets/base",
            "_model_module_version": "1.5.0",
            "_view_count": null,
            "_view_module_version": "1.2.0",
            "_model_module": "@jupyter-widgets/controls"
          }
        },
        "614ec3cf7f314862aef22aeb162a146b": {
          "model_module": "@jupyter-widgets/base",
          "model_name": "LayoutModel",
          "state": {
            "_view_name": "LayoutView",
            "grid_template_rows": null,
            "right": null,
            "justify_content": null,
            "_view_module": "@jupyter-widgets/base",
            "overflow": null,
            "_model_module_version": "1.2.0",
            "_view_count": null,
            "flex_flow": null,
            "width": null,
            "min_width": null,
            "border": null,
            "align_items": null,
            "bottom": null,
            "_model_module": "@jupyter-widgets/base",
            "top": null,
            "grid_column": null,
            "overflow_y": null,
            "overflow_x": null,
            "grid_auto_flow": null,
            "grid_area": null,
            "grid_template_columns": null,
            "flex": null,
            "_model_name": "LayoutModel",
            "justify_items": null,
            "grid_row": null,
            "max_height": null,
            "align_content": null,
            "visibility": null,
            "align_self": null,
            "height": null,
            "min_height": null,
            "padding": null,
            "grid_auto_rows": null,
            "grid_gap": null,
            "max_width": null,
            "order": null,
            "_view_module_version": "1.2.0",
            "grid_template_areas": null,
            "object_position": null,
            "object_fit": null,
            "grid_auto_columns": null,
            "margin": null,
            "display": null,
            "left": null
          }
        },
        "81e7326c5c294aa9a45d13808b36fdee": {
          "model_module": "@jupyter-widgets/controls",
          "model_name": "HBoxModel",
          "state": {
            "_view_name": "HBoxView",
            "_dom_classes": [],
            "_model_name": "HBoxModel",
            "_view_module": "@jupyter-widgets/controls",
            "_model_module_version": "1.5.0",
            "_view_count": null,
            "_view_module_version": "1.5.0",
            "box_style": "",
            "layout": "IPY_MODEL_1c1102ba7a06473d8bea5057e5d4c0b1",
            "_model_module": "@jupyter-widgets/controls",
            "children": [
              "IPY_MODEL_d69ac6fe45384c728ca37a75696ec090",
              "IPY_MODEL_0767ddcc561f45408f3da3a158ce080f"
            ]
          }
        },
        "1c1102ba7a06473d8bea5057e5d4c0b1": {
          "model_module": "@jupyter-widgets/base",
          "model_name": "LayoutModel",
          "state": {
            "_view_name": "LayoutView",
            "grid_template_rows": null,
            "right": null,
            "justify_content": null,
            "_view_module": "@jupyter-widgets/base",
            "overflow": null,
            "_model_module_version": "1.2.0",
            "_view_count": null,
            "flex_flow": null,
            "width": null,
            "min_width": null,
            "border": null,
            "align_items": null,
            "bottom": null,
            "_model_module": "@jupyter-widgets/base",
            "top": null,
            "grid_column": null,
            "overflow_y": null,
            "overflow_x": null,
            "grid_auto_flow": null,
            "grid_area": null,
            "grid_template_columns": null,
            "flex": null,
            "_model_name": "LayoutModel",
            "justify_items": null,
            "grid_row": null,
            "max_height": null,
            "align_content": null,
            "visibility": null,
            "align_self": null,
            "height": null,
            "min_height": null,
            "padding": null,
            "grid_auto_rows": null,
            "grid_gap": null,
            "max_width": null,
            "order": null,
            "_view_module_version": "1.2.0",
            "grid_template_areas": null,
            "object_position": null,
            "object_fit": null,
            "grid_auto_columns": null,
            "margin": null,
            "display": null,
            "left": null
          }
        },
        "d69ac6fe45384c728ca37a75696ec090": {
          "model_module": "@jupyter-widgets/controls",
          "model_name": "FloatProgressModel",
          "state": {
            "_view_name": "ProgressView",
            "style": "IPY_MODEL_efbbcc1aeb314dcd941cf8ece21c879d",
            "_dom_classes": [],
            "description": "100%",
            "_model_name": "FloatProgressModel",
            "bar_style": "",
            "max": 141,
            "_view_module": "@jupyter-widgets/controls",
            "_model_module_version": "1.5.0",
            "value": 141,
            "_view_count": null,
            "_view_module_version": "1.5.0",
            "orientation": "horizontal",
            "min": 0,
            "description_tooltip": null,
            "_model_module": "@jupyter-widgets/controls",
            "layout": "IPY_MODEL_36374357bd9041bb90acfb48e66108cc"
          }
        },
        "0767ddcc561f45408f3da3a158ce080f": {
          "model_module": "@jupyter-widgets/controls",
          "model_name": "HTMLModel",
          "state": {
            "_view_name": "HTMLView",
            "style": "IPY_MODEL_c4ec89c274274ea2a0555439a888f105",
            "_dom_classes": [],
            "description": "",
            "_model_name": "HTMLModel",
            "placeholder": "​",
            "_view_module": "@jupyter-widgets/controls",
            "_model_module_version": "1.5.0",
            "value": " 141/141 [00:00&lt;00:00, 329.83it/s]",
            "_view_count": null,
            "_view_module_version": "1.5.0",
            "description_tooltip": null,
            "_model_module": "@jupyter-widgets/controls",
            "layout": "IPY_MODEL_57a18bc52cc049bfb51aeaff73e4f7d2"
          }
        },
        "efbbcc1aeb314dcd941cf8ece21c879d": {
          "model_module": "@jupyter-widgets/controls",
          "model_name": "ProgressStyleModel",
          "state": {
            "_view_name": "StyleView",
            "_model_name": "ProgressStyleModel",
            "description_width": "initial",
            "_view_module": "@jupyter-widgets/base",
            "_model_module_version": "1.5.0",
            "_view_count": null,
            "_view_module_version": "1.2.0",
            "bar_color": null,
            "_model_module": "@jupyter-widgets/controls"
          }
        },
        "36374357bd9041bb90acfb48e66108cc": {
          "model_module": "@jupyter-widgets/base",
          "model_name": "LayoutModel",
          "state": {
            "_view_name": "LayoutView",
            "grid_template_rows": null,
            "right": null,
            "justify_content": null,
            "_view_module": "@jupyter-widgets/base",
            "overflow": null,
            "_model_module_version": "1.2.0",
            "_view_count": null,
            "flex_flow": null,
            "width": null,
            "min_width": null,
            "border": null,
            "align_items": null,
            "bottom": null,
            "_model_module": "@jupyter-widgets/base",
            "top": null,
            "grid_column": null,
            "overflow_y": null,
            "overflow_x": null,
            "grid_auto_flow": null,
            "grid_area": null,
            "grid_template_columns": null,
            "flex": null,
            "_model_name": "LayoutModel",
            "justify_items": null,
            "grid_row": null,
            "max_height": null,
            "align_content": null,
            "visibility": null,
            "align_self": null,
            "height": null,
            "min_height": null,
            "padding": null,
            "grid_auto_rows": null,
            "grid_gap": null,
            "max_width": null,
            "order": null,
            "_view_module_version": "1.2.0",
            "grid_template_areas": null,
            "object_position": null,
            "object_fit": null,
            "grid_auto_columns": null,
            "margin": null,
            "display": null,
            "left": null
          }
        },
        "c4ec89c274274ea2a0555439a888f105": {
          "model_module": "@jupyter-widgets/controls",
          "model_name": "DescriptionStyleModel",
          "state": {
            "_view_name": "StyleView",
            "_model_name": "DescriptionStyleModel",
            "description_width": "",
            "_view_module": "@jupyter-widgets/base",
            "_model_module_version": "1.5.0",
            "_view_count": null,
            "_view_module_version": "1.2.0",
            "_model_module": "@jupyter-widgets/controls"
          }
        },
        "57a18bc52cc049bfb51aeaff73e4f7d2": {
          "model_module": "@jupyter-widgets/base",
          "model_name": "LayoutModel",
          "state": {
            "_view_name": "LayoutView",
            "grid_template_rows": null,
            "right": null,
            "justify_content": null,
            "_view_module": "@jupyter-widgets/base",
            "overflow": null,
            "_model_module_version": "1.2.0",
            "_view_count": null,
            "flex_flow": null,
            "width": null,
            "min_width": null,
            "border": null,
            "align_items": null,
            "bottom": null,
            "_model_module": "@jupyter-widgets/base",
            "top": null,
            "grid_column": null,
            "overflow_y": null,
            "overflow_x": null,
            "grid_auto_flow": null,
            "grid_area": null,
            "grid_template_columns": null,
            "flex": null,
            "_model_name": "LayoutModel",
            "justify_items": null,
            "grid_row": null,
            "max_height": null,
            "align_content": null,
            "visibility": null,
            "align_self": null,
            "height": null,
            "min_height": null,
            "padding": null,
            "grid_auto_rows": null,
            "grid_gap": null,
            "max_width": null,
            "order": null,
            "_view_module_version": "1.2.0",
            "grid_template_areas": null,
            "object_position": null,
            "object_fit": null,
            "grid_auto_columns": null,
            "margin": null,
            "display": null,
            "left": null
          }
        },
        "cdda90baad2b4f5b90e177748facde8f": {
          "model_module": "@jupyter-widgets/controls",
          "model_name": "HBoxModel",
          "state": {
            "_view_name": "HBoxView",
            "_dom_classes": [],
            "_model_name": "HBoxModel",
            "_view_module": "@jupyter-widgets/controls",
            "_model_module_version": "1.5.0",
            "_view_count": null,
            "_view_module_version": "1.5.0",
            "box_style": "",
            "layout": "IPY_MODEL_c78139485635445bbcc40d0b45e8ce56",
            "_model_module": "@jupyter-widgets/controls",
            "children": [
              "IPY_MODEL_f888aedca4d140799e0b529682681e11",
              "IPY_MODEL_e31068f70ff1478b89df64ea84cf86bc"
            ]
          }
        },
        "c78139485635445bbcc40d0b45e8ce56": {
          "model_module": "@jupyter-widgets/base",
          "model_name": "LayoutModel",
          "state": {
            "_view_name": "LayoutView",
            "grid_template_rows": null,
            "right": null,
            "justify_content": null,
            "_view_module": "@jupyter-widgets/base",
            "overflow": null,
            "_model_module_version": "1.2.0",
            "_view_count": null,
            "flex_flow": null,
            "width": null,
            "min_width": null,
            "border": null,
            "align_items": null,
            "bottom": null,
            "_model_module": "@jupyter-widgets/base",
            "top": null,
            "grid_column": null,
            "overflow_y": null,
            "overflow_x": null,
            "grid_auto_flow": null,
            "grid_area": null,
            "grid_template_columns": null,
            "flex": null,
            "_model_name": "LayoutModel",
            "justify_items": null,
            "grid_row": null,
            "max_height": null,
            "align_content": null,
            "visibility": null,
            "align_self": null,
            "height": null,
            "min_height": null,
            "padding": null,
            "grid_auto_rows": null,
            "grid_gap": null,
            "max_width": null,
            "order": null,
            "_view_module_version": "1.2.0",
            "grid_template_areas": null,
            "object_position": null,
            "object_fit": null,
            "grid_auto_columns": null,
            "margin": null,
            "display": null,
            "left": null
          }
        },
        "f888aedca4d140799e0b529682681e11": {
          "model_module": "@jupyter-widgets/controls",
          "model_name": "FloatProgressModel",
          "state": {
            "_view_name": "ProgressView",
            "style": "IPY_MODEL_811f94bab4bb4b7eabb0738338753193",
            "_dom_classes": [],
            "description": "Epoch 3: 100%",
            "_model_name": "FloatProgressModel",
            "bar_style": "",
            "max": 563,
            "_view_module": "@jupyter-widgets/controls",
            "_model_module_version": "1.5.0",
            "value": 563,
            "_view_count": null,
            "_view_module_version": "1.5.0",
            "orientation": "horizontal",
            "min": 0,
            "description_tooltip": null,
            "_model_module": "@jupyter-widgets/controls",
            "layout": "IPY_MODEL_6bd5a4e70ff34043b98feba33c958154"
          }
        },
        "e31068f70ff1478b89df64ea84cf86bc": {
          "model_module": "@jupyter-widgets/controls",
          "model_name": "HTMLModel",
          "state": {
            "_view_name": "HTMLView",
            "style": "IPY_MODEL_ea03fdcc8cf04d4f8f096b9e0b6a0f47",
            "_dom_classes": [],
            "description": "",
            "_model_name": "HTMLModel",
            "placeholder": "​",
            "_view_module": "@jupyter-widgets/controls",
            "_model_module_version": "1.5.0",
            "value": " 563/563 [00:04&lt;00:00, 118.78it/s, loss=0.0478]",
            "_view_count": null,
            "_view_module_version": "1.5.0",
            "description_tooltip": null,
            "_model_module": "@jupyter-widgets/controls",
            "layout": "IPY_MODEL_57c40b8276084a6c97033fe585b9ecca"
          }
        },
        "811f94bab4bb4b7eabb0738338753193": {
          "model_module": "@jupyter-widgets/controls",
          "model_name": "ProgressStyleModel",
          "state": {
            "_view_name": "StyleView",
            "_model_name": "ProgressStyleModel",
            "description_width": "initial",
            "_view_module": "@jupyter-widgets/base",
            "_model_module_version": "1.5.0",
            "_view_count": null,
            "_view_module_version": "1.2.0",
            "bar_color": null,
            "_model_module": "@jupyter-widgets/controls"
          }
        },
        "6bd5a4e70ff34043b98feba33c958154": {
          "model_module": "@jupyter-widgets/base",
          "model_name": "LayoutModel",
          "state": {
            "_view_name": "LayoutView",
            "grid_template_rows": null,
            "right": null,
            "justify_content": null,
            "_view_module": "@jupyter-widgets/base",
            "overflow": null,
            "_model_module_version": "1.2.0",
            "_view_count": null,
            "flex_flow": null,
            "width": null,
            "min_width": null,
            "border": null,
            "align_items": null,
            "bottom": null,
            "_model_module": "@jupyter-widgets/base",
            "top": null,
            "grid_column": null,
            "overflow_y": null,
            "overflow_x": null,
            "grid_auto_flow": null,
            "grid_area": null,
            "grid_template_columns": null,
            "flex": null,
            "_model_name": "LayoutModel",
            "justify_items": null,
            "grid_row": null,
            "max_height": null,
            "align_content": null,
            "visibility": null,
            "align_self": null,
            "height": null,
            "min_height": null,
            "padding": null,
            "grid_auto_rows": null,
            "grid_gap": null,
            "max_width": null,
            "order": null,
            "_view_module_version": "1.2.0",
            "grid_template_areas": null,
            "object_position": null,
            "object_fit": null,
            "grid_auto_columns": null,
            "margin": null,
            "display": null,
            "left": null
          }
        },
        "ea03fdcc8cf04d4f8f096b9e0b6a0f47": {
          "model_module": "@jupyter-widgets/controls",
          "model_name": "DescriptionStyleModel",
          "state": {
            "_view_name": "StyleView",
            "_model_name": "DescriptionStyleModel",
            "description_width": "",
            "_view_module": "@jupyter-widgets/base",
            "_model_module_version": "1.5.0",
            "_view_count": null,
            "_view_module_version": "1.2.0",
            "_model_module": "@jupyter-widgets/controls"
          }
        },
        "57c40b8276084a6c97033fe585b9ecca": {
          "model_module": "@jupyter-widgets/base",
          "model_name": "LayoutModel",
          "state": {
            "_view_name": "LayoutView",
            "grid_template_rows": null,
            "right": null,
            "justify_content": null,
            "_view_module": "@jupyter-widgets/base",
            "overflow": null,
            "_model_module_version": "1.2.0",
            "_view_count": null,
            "flex_flow": null,
            "width": null,
            "min_width": null,
            "border": null,
            "align_items": null,
            "bottom": null,
            "_model_module": "@jupyter-widgets/base",
            "top": null,
            "grid_column": null,
            "overflow_y": null,
            "overflow_x": null,
            "grid_auto_flow": null,
            "grid_area": null,
            "grid_template_columns": null,
            "flex": null,
            "_model_name": "LayoutModel",
            "justify_items": null,
            "grid_row": null,
            "max_height": null,
            "align_content": null,
            "visibility": null,
            "align_self": null,
            "height": null,
            "min_height": null,
            "padding": null,
            "grid_auto_rows": null,
            "grid_gap": null,
            "max_width": null,
            "order": null,
            "_view_module_version": "1.2.0",
            "grid_template_areas": null,
            "object_position": null,
            "object_fit": null,
            "grid_auto_columns": null,
            "margin": null,
            "display": null,
            "left": null
          }
        },
        "388fedc08fb64a1ba0423d491756ff9b": {
          "model_module": "@jupyter-widgets/controls",
          "model_name": "HBoxModel",
          "state": {
            "_view_name": "HBoxView",
            "_dom_classes": [],
            "_model_name": "HBoxModel",
            "_view_module": "@jupyter-widgets/controls",
            "_model_module_version": "1.5.0",
            "_view_count": null,
            "_view_module_version": "1.5.0",
            "box_style": "",
            "layout": "IPY_MODEL_c2005d8521ff4d2195e1c77b7ef08bcf",
            "_model_module": "@jupyter-widgets/controls",
            "children": [
              "IPY_MODEL_de559401ca2b4d178b310911fb9c4252",
              "IPY_MODEL_ff9b1ebe6ac647d8a85532873ae17520"
            ]
          }
        },
        "c2005d8521ff4d2195e1c77b7ef08bcf": {
          "model_module": "@jupyter-widgets/base",
          "model_name": "LayoutModel",
          "state": {
            "_view_name": "LayoutView",
            "grid_template_rows": null,
            "right": null,
            "justify_content": null,
            "_view_module": "@jupyter-widgets/base",
            "overflow": null,
            "_model_module_version": "1.2.0",
            "_view_count": null,
            "flex_flow": null,
            "width": null,
            "min_width": null,
            "border": null,
            "align_items": null,
            "bottom": null,
            "_model_module": "@jupyter-widgets/base",
            "top": null,
            "grid_column": null,
            "overflow_y": null,
            "overflow_x": null,
            "grid_auto_flow": null,
            "grid_area": null,
            "grid_template_columns": null,
            "flex": null,
            "_model_name": "LayoutModel",
            "justify_items": null,
            "grid_row": null,
            "max_height": null,
            "align_content": null,
            "visibility": null,
            "align_self": null,
            "height": null,
            "min_height": null,
            "padding": null,
            "grid_auto_rows": null,
            "grid_gap": null,
            "max_width": null,
            "order": null,
            "_view_module_version": "1.2.0",
            "grid_template_areas": null,
            "object_position": null,
            "object_fit": null,
            "grid_auto_columns": null,
            "margin": null,
            "display": null,
            "left": null
          }
        },
        "de559401ca2b4d178b310911fb9c4252": {
          "model_module": "@jupyter-widgets/controls",
          "model_name": "FloatProgressModel",
          "state": {
            "_view_name": "ProgressView",
            "style": "IPY_MODEL_a6f0bf144489430d91c7ca0f291a1fb2",
            "_dom_classes": [],
            "description": "100%",
            "_model_name": "FloatProgressModel",
            "bar_style": "",
            "max": 141,
            "_view_module": "@jupyter-widgets/controls",
            "_model_module_version": "1.5.0",
            "value": 141,
            "_view_count": null,
            "_view_module_version": "1.5.0",
            "orientation": "horizontal",
            "min": 0,
            "description_tooltip": null,
            "_model_module": "@jupyter-widgets/controls",
            "layout": "IPY_MODEL_1e74b11f81d74a428e14972a42c1b5ce"
          }
        },
        "ff9b1ebe6ac647d8a85532873ae17520": {
          "model_module": "@jupyter-widgets/controls",
          "model_name": "HTMLModel",
          "state": {
            "_view_name": "HTMLView",
            "style": "IPY_MODEL_ca9f01dc76b64f11ae2b5a0365981ffa",
            "_dom_classes": [],
            "description": "",
            "_model_name": "HTMLModel",
            "placeholder": "​",
            "_view_module": "@jupyter-widgets/controls",
            "_model_module_version": "1.5.0",
            "value": " 141/141 [00:00&lt;00:00, 352.51it/s]",
            "_view_count": null,
            "_view_module_version": "1.5.0",
            "description_tooltip": null,
            "_model_module": "@jupyter-widgets/controls",
            "layout": "IPY_MODEL_82661eba990e476193aea9f75438dcb0"
          }
        },
        "a6f0bf144489430d91c7ca0f291a1fb2": {
          "model_module": "@jupyter-widgets/controls",
          "model_name": "ProgressStyleModel",
          "state": {
            "_view_name": "StyleView",
            "_model_name": "ProgressStyleModel",
            "description_width": "initial",
            "_view_module": "@jupyter-widgets/base",
            "_model_module_version": "1.5.0",
            "_view_count": null,
            "_view_module_version": "1.2.0",
            "bar_color": null,
            "_model_module": "@jupyter-widgets/controls"
          }
        },
        "1e74b11f81d74a428e14972a42c1b5ce": {
          "model_module": "@jupyter-widgets/base",
          "model_name": "LayoutModel",
          "state": {
            "_view_name": "LayoutView",
            "grid_template_rows": null,
            "right": null,
            "justify_content": null,
            "_view_module": "@jupyter-widgets/base",
            "overflow": null,
            "_model_module_version": "1.2.0",
            "_view_count": null,
            "flex_flow": null,
            "width": null,
            "min_width": null,
            "border": null,
            "align_items": null,
            "bottom": null,
            "_model_module": "@jupyter-widgets/base",
            "top": null,
            "grid_column": null,
            "overflow_y": null,
            "overflow_x": null,
            "grid_auto_flow": null,
            "grid_area": null,
            "grid_template_columns": null,
            "flex": null,
            "_model_name": "LayoutModel",
            "justify_items": null,
            "grid_row": null,
            "max_height": null,
            "align_content": null,
            "visibility": null,
            "align_self": null,
            "height": null,
            "min_height": null,
            "padding": null,
            "grid_auto_rows": null,
            "grid_gap": null,
            "max_width": null,
            "order": null,
            "_view_module_version": "1.2.0",
            "grid_template_areas": null,
            "object_position": null,
            "object_fit": null,
            "grid_auto_columns": null,
            "margin": null,
            "display": null,
            "left": null
          }
        },
        "ca9f01dc76b64f11ae2b5a0365981ffa": {
          "model_module": "@jupyter-widgets/controls",
          "model_name": "DescriptionStyleModel",
          "state": {
            "_view_name": "StyleView",
            "_model_name": "DescriptionStyleModel",
            "description_width": "",
            "_view_module": "@jupyter-widgets/base",
            "_model_module_version": "1.5.0",
            "_view_count": null,
            "_view_module_version": "1.2.0",
            "_model_module": "@jupyter-widgets/controls"
          }
        },
        "82661eba990e476193aea9f75438dcb0": {
          "model_module": "@jupyter-widgets/base",
          "model_name": "LayoutModel",
          "state": {
            "_view_name": "LayoutView",
            "grid_template_rows": null,
            "right": null,
            "justify_content": null,
            "_view_module": "@jupyter-widgets/base",
            "overflow": null,
            "_model_module_version": "1.2.0",
            "_view_count": null,
            "flex_flow": null,
            "width": null,
            "min_width": null,
            "border": null,
            "align_items": null,
            "bottom": null,
            "_model_module": "@jupyter-widgets/base",
            "top": null,
            "grid_column": null,
            "overflow_y": null,
            "overflow_x": null,
            "grid_auto_flow": null,
            "grid_area": null,
            "grid_template_columns": null,
            "flex": null,
            "_model_name": "LayoutModel",
            "justify_items": null,
            "grid_row": null,
            "max_height": null,
            "align_content": null,
            "visibility": null,
            "align_self": null,
            "height": null,
            "min_height": null,
            "padding": null,
            "grid_auto_rows": null,
            "grid_gap": null,
            "max_width": null,
            "order": null,
            "_view_module_version": "1.2.0",
            "grid_template_areas": null,
            "object_position": null,
            "object_fit": null,
            "grid_auto_columns": null,
            "margin": null,
            "display": null,
            "left": null
          }
        },
        "b236d445cbfe45f3a5f32a63fc76a7dd": {
          "model_module": "@jupyter-widgets/controls",
          "model_name": "HBoxModel",
          "state": {
            "_view_name": "HBoxView",
            "_dom_classes": [],
            "_model_name": "HBoxModel",
            "_view_module": "@jupyter-widgets/controls",
            "_model_module_version": "1.5.0",
            "_view_count": null,
            "_view_module_version": "1.5.0",
            "box_style": "",
            "layout": "IPY_MODEL_096d92fa4d3c445caf06796c82105a74",
            "_model_module": "@jupyter-widgets/controls",
            "children": [
              "IPY_MODEL_e34204b3316c4f2ba75dd8463a5689f4",
              "IPY_MODEL_3d7d21abfa464b0a9639f22fc14dbb31"
            ]
          }
        },
        "096d92fa4d3c445caf06796c82105a74": {
          "model_module": "@jupyter-widgets/base",
          "model_name": "LayoutModel",
          "state": {
            "_view_name": "LayoutView",
            "grid_template_rows": null,
            "right": null,
            "justify_content": null,
            "_view_module": "@jupyter-widgets/base",
            "overflow": null,
            "_model_module_version": "1.2.0",
            "_view_count": null,
            "flex_flow": null,
            "width": null,
            "min_width": null,
            "border": null,
            "align_items": null,
            "bottom": null,
            "_model_module": "@jupyter-widgets/base",
            "top": null,
            "grid_column": null,
            "overflow_y": null,
            "overflow_x": null,
            "grid_auto_flow": null,
            "grid_area": null,
            "grid_template_columns": null,
            "flex": null,
            "_model_name": "LayoutModel",
            "justify_items": null,
            "grid_row": null,
            "max_height": null,
            "align_content": null,
            "visibility": null,
            "align_self": null,
            "height": null,
            "min_height": null,
            "padding": null,
            "grid_auto_rows": null,
            "grid_gap": null,
            "max_width": null,
            "order": null,
            "_view_module_version": "1.2.0",
            "grid_template_areas": null,
            "object_position": null,
            "object_fit": null,
            "grid_auto_columns": null,
            "margin": null,
            "display": null,
            "left": null
          }
        },
        "e34204b3316c4f2ba75dd8463a5689f4": {
          "model_module": "@jupyter-widgets/controls",
          "model_name": "FloatProgressModel",
          "state": {
            "_view_name": "ProgressView",
            "style": "IPY_MODEL_ab7f1e7ebb5248048a7210e0f247e4cb",
            "_dom_classes": [],
            "description": "Epoch 4: 100%",
            "_model_name": "FloatProgressModel",
            "bar_style": "",
            "max": 563,
            "_view_module": "@jupyter-widgets/controls",
            "_model_module_version": "1.5.0",
            "value": 563,
            "_view_count": null,
            "_view_module_version": "1.5.0",
            "orientation": "horizontal",
            "min": 0,
            "description_tooltip": null,
            "_model_module": "@jupyter-widgets/controls",
            "layout": "IPY_MODEL_558e77e4645241fcb1490a66cd1bc9e7"
          }
        },
        "3d7d21abfa464b0a9639f22fc14dbb31": {
          "model_module": "@jupyter-widgets/controls",
          "model_name": "HTMLModel",
          "state": {
            "_view_name": "HTMLView",
            "style": "IPY_MODEL_38fa4cc348594477baf4d4cef798fa4b",
            "_dom_classes": [],
            "description": "",
            "_model_name": "HTMLModel",
            "placeholder": "​",
            "_view_module": "@jupyter-widgets/controls",
            "_model_module_version": "1.5.0",
            "value": " 563/563 [00:04&lt;00:00, 117.99it/s, loss=0.0716]",
            "_view_count": null,
            "_view_module_version": "1.5.0",
            "description_tooltip": null,
            "_model_module": "@jupyter-widgets/controls",
            "layout": "IPY_MODEL_3e29045919fb4cbeb77bf7f9da3be9d5"
          }
        },
        "ab7f1e7ebb5248048a7210e0f247e4cb": {
          "model_module": "@jupyter-widgets/controls",
          "model_name": "ProgressStyleModel",
          "state": {
            "_view_name": "StyleView",
            "_model_name": "ProgressStyleModel",
            "description_width": "initial",
            "_view_module": "@jupyter-widgets/base",
            "_model_module_version": "1.5.0",
            "_view_count": null,
            "_view_module_version": "1.2.0",
            "bar_color": null,
            "_model_module": "@jupyter-widgets/controls"
          }
        },
        "558e77e4645241fcb1490a66cd1bc9e7": {
          "model_module": "@jupyter-widgets/base",
          "model_name": "LayoutModel",
          "state": {
            "_view_name": "LayoutView",
            "grid_template_rows": null,
            "right": null,
            "justify_content": null,
            "_view_module": "@jupyter-widgets/base",
            "overflow": null,
            "_model_module_version": "1.2.0",
            "_view_count": null,
            "flex_flow": null,
            "width": null,
            "min_width": null,
            "border": null,
            "align_items": null,
            "bottom": null,
            "_model_module": "@jupyter-widgets/base",
            "top": null,
            "grid_column": null,
            "overflow_y": null,
            "overflow_x": null,
            "grid_auto_flow": null,
            "grid_area": null,
            "grid_template_columns": null,
            "flex": null,
            "_model_name": "LayoutModel",
            "justify_items": null,
            "grid_row": null,
            "max_height": null,
            "align_content": null,
            "visibility": null,
            "align_self": null,
            "height": null,
            "min_height": null,
            "padding": null,
            "grid_auto_rows": null,
            "grid_gap": null,
            "max_width": null,
            "order": null,
            "_view_module_version": "1.2.0",
            "grid_template_areas": null,
            "object_position": null,
            "object_fit": null,
            "grid_auto_columns": null,
            "margin": null,
            "display": null,
            "left": null
          }
        },
        "38fa4cc348594477baf4d4cef798fa4b": {
          "model_module": "@jupyter-widgets/controls",
          "model_name": "DescriptionStyleModel",
          "state": {
            "_view_name": "StyleView",
            "_model_name": "DescriptionStyleModel",
            "description_width": "",
            "_view_module": "@jupyter-widgets/base",
            "_model_module_version": "1.5.0",
            "_view_count": null,
            "_view_module_version": "1.2.0",
            "_model_module": "@jupyter-widgets/controls"
          }
        },
        "3e29045919fb4cbeb77bf7f9da3be9d5": {
          "model_module": "@jupyter-widgets/base",
          "model_name": "LayoutModel",
          "state": {
            "_view_name": "LayoutView",
            "grid_template_rows": null,
            "right": null,
            "justify_content": null,
            "_view_module": "@jupyter-widgets/base",
            "overflow": null,
            "_model_module_version": "1.2.0",
            "_view_count": null,
            "flex_flow": null,
            "width": null,
            "min_width": null,
            "border": null,
            "align_items": null,
            "bottom": null,
            "_model_module": "@jupyter-widgets/base",
            "top": null,
            "grid_column": null,
            "overflow_y": null,
            "overflow_x": null,
            "grid_auto_flow": null,
            "grid_area": null,
            "grid_template_columns": null,
            "flex": null,
            "_model_name": "LayoutModel",
            "justify_items": null,
            "grid_row": null,
            "max_height": null,
            "align_content": null,
            "visibility": null,
            "align_self": null,
            "height": null,
            "min_height": null,
            "padding": null,
            "grid_auto_rows": null,
            "grid_gap": null,
            "max_width": null,
            "order": null,
            "_view_module_version": "1.2.0",
            "grid_template_areas": null,
            "object_position": null,
            "object_fit": null,
            "grid_auto_columns": null,
            "margin": null,
            "display": null,
            "left": null
          }
        },
        "de9aef50c9754f2ba8632256ce398946": {
          "model_module": "@jupyter-widgets/controls",
          "model_name": "HBoxModel",
          "state": {
            "_view_name": "HBoxView",
            "_dom_classes": [],
            "_model_name": "HBoxModel",
            "_view_module": "@jupyter-widgets/controls",
            "_model_module_version": "1.5.0",
            "_view_count": null,
            "_view_module_version": "1.5.0",
            "box_style": "",
            "layout": "IPY_MODEL_6ab8c8783e78440aa4a05ef27f0b3f02",
            "_model_module": "@jupyter-widgets/controls",
            "children": [
              "IPY_MODEL_de8d0fc2186941908390355bf95b039b",
              "IPY_MODEL_2ea22e8d4df3493bb0bd5637f2fce3be"
            ]
          }
        },
        "6ab8c8783e78440aa4a05ef27f0b3f02": {
          "model_module": "@jupyter-widgets/base",
          "model_name": "LayoutModel",
          "state": {
            "_view_name": "LayoutView",
            "grid_template_rows": null,
            "right": null,
            "justify_content": null,
            "_view_module": "@jupyter-widgets/base",
            "overflow": null,
            "_model_module_version": "1.2.0",
            "_view_count": null,
            "flex_flow": null,
            "width": null,
            "min_width": null,
            "border": null,
            "align_items": null,
            "bottom": null,
            "_model_module": "@jupyter-widgets/base",
            "top": null,
            "grid_column": null,
            "overflow_y": null,
            "overflow_x": null,
            "grid_auto_flow": null,
            "grid_area": null,
            "grid_template_columns": null,
            "flex": null,
            "_model_name": "LayoutModel",
            "justify_items": null,
            "grid_row": null,
            "max_height": null,
            "align_content": null,
            "visibility": null,
            "align_self": null,
            "height": null,
            "min_height": null,
            "padding": null,
            "grid_auto_rows": null,
            "grid_gap": null,
            "max_width": null,
            "order": null,
            "_view_module_version": "1.2.0",
            "grid_template_areas": null,
            "object_position": null,
            "object_fit": null,
            "grid_auto_columns": null,
            "margin": null,
            "display": null,
            "left": null
          }
        },
        "de8d0fc2186941908390355bf95b039b": {
          "model_module": "@jupyter-widgets/controls",
          "model_name": "FloatProgressModel",
          "state": {
            "_view_name": "ProgressView",
            "style": "IPY_MODEL_a7a508b4642748339c58eb8c302a59a7",
            "_dom_classes": [],
            "description": "100%",
            "_model_name": "FloatProgressModel",
            "bar_style": "",
            "max": 141,
            "_view_module": "@jupyter-widgets/controls",
            "_model_module_version": "1.5.0",
            "value": 141,
            "_view_count": null,
            "_view_module_version": "1.5.0",
            "orientation": "horizontal",
            "min": 0,
            "description_tooltip": null,
            "_model_module": "@jupyter-widgets/controls",
            "layout": "IPY_MODEL_c1550e85b6a9498daa3e7f9542aef044"
          }
        },
        "2ea22e8d4df3493bb0bd5637f2fce3be": {
          "model_module": "@jupyter-widgets/controls",
          "model_name": "HTMLModel",
          "state": {
            "_view_name": "HTMLView",
            "style": "IPY_MODEL_c605ff8127834e6eb6f63c17e29ee674",
            "_dom_classes": [],
            "description": "",
            "_model_name": "HTMLModel",
            "placeholder": "​",
            "_view_module": "@jupyter-widgets/controls",
            "_model_module_version": "1.5.0",
            "value": " 141/141 [00:00&lt;00:00, 323.39it/s]",
            "_view_count": null,
            "_view_module_version": "1.5.0",
            "description_tooltip": null,
            "_model_module": "@jupyter-widgets/controls",
            "layout": "IPY_MODEL_1b1a1bd9a14b4cfe8719f6136bd655b0"
          }
        },
        "a7a508b4642748339c58eb8c302a59a7": {
          "model_module": "@jupyter-widgets/controls",
          "model_name": "ProgressStyleModel",
          "state": {
            "_view_name": "StyleView",
            "_model_name": "ProgressStyleModel",
            "description_width": "initial",
            "_view_module": "@jupyter-widgets/base",
            "_model_module_version": "1.5.0",
            "_view_count": null,
            "_view_module_version": "1.2.0",
            "bar_color": null,
            "_model_module": "@jupyter-widgets/controls"
          }
        },
        "c1550e85b6a9498daa3e7f9542aef044": {
          "model_module": "@jupyter-widgets/base",
          "model_name": "LayoutModel",
          "state": {
            "_view_name": "LayoutView",
            "grid_template_rows": null,
            "right": null,
            "justify_content": null,
            "_view_module": "@jupyter-widgets/base",
            "overflow": null,
            "_model_module_version": "1.2.0",
            "_view_count": null,
            "flex_flow": null,
            "width": null,
            "min_width": null,
            "border": null,
            "align_items": null,
            "bottom": null,
            "_model_module": "@jupyter-widgets/base",
            "top": null,
            "grid_column": null,
            "overflow_y": null,
            "overflow_x": null,
            "grid_auto_flow": null,
            "grid_area": null,
            "grid_template_columns": null,
            "flex": null,
            "_model_name": "LayoutModel",
            "justify_items": null,
            "grid_row": null,
            "max_height": null,
            "align_content": null,
            "visibility": null,
            "align_self": null,
            "height": null,
            "min_height": null,
            "padding": null,
            "grid_auto_rows": null,
            "grid_gap": null,
            "max_width": null,
            "order": null,
            "_view_module_version": "1.2.0",
            "grid_template_areas": null,
            "object_position": null,
            "object_fit": null,
            "grid_auto_columns": null,
            "margin": null,
            "display": null,
            "left": null
          }
        },
        "c605ff8127834e6eb6f63c17e29ee674": {
          "model_module": "@jupyter-widgets/controls",
          "model_name": "DescriptionStyleModel",
          "state": {
            "_view_name": "StyleView",
            "_model_name": "DescriptionStyleModel",
            "description_width": "",
            "_view_module": "@jupyter-widgets/base",
            "_model_module_version": "1.5.0",
            "_view_count": null,
            "_view_module_version": "1.2.0",
            "_model_module": "@jupyter-widgets/controls"
          }
        },
        "1b1a1bd9a14b4cfe8719f6136bd655b0": {
          "model_module": "@jupyter-widgets/base",
          "model_name": "LayoutModel",
          "state": {
            "_view_name": "LayoutView",
            "grid_template_rows": null,
            "right": null,
            "justify_content": null,
            "_view_module": "@jupyter-widgets/base",
            "overflow": null,
            "_model_module_version": "1.2.0",
            "_view_count": null,
            "flex_flow": null,
            "width": null,
            "min_width": null,
            "border": null,
            "align_items": null,
            "bottom": null,
            "_model_module": "@jupyter-widgets/base",
            "top": null,
            "grid_column": null,
            "overflow_y": null,
            "overflow_x": null,
            "grid_auto_flow": null,
            "grid_area": null,
            "grid_template_columns": null,
            "flex": null,
            "_model_name": "LayoutModel",
            "justify_items": null,
            "grid_row": null,
            "max_height": null,
            "align_content": null,
            "visibility": null,
            "align_self": null,
            "height": null,
            "min_height": null,
            "padding": null,
            "grid_auto_rows": null,
            "grid_gap": null,
            "max_width": null,
            "order": null,
            "_view_module_version": "1.2.0",
            "grid_template_areas": null,
            "object_position": null,
            "object_fit": null,
            "grid_auto_columns": null,
            "margin": null,
            "display": null,
            "left": null
          }
        },
        "c46363e3cab64f9b9c260738532a9b6a": {
          "model_module": "@jupyter-widgets/controls",
          "model_name": "HBoxModel",
          "state": {
            "_view_name": "HBoxView",
            "_dom_classes": [],
            "_model_name": "HBoxModel",
            "_view_module": "@jupyter-widgets/controls",
            "_model_module_version": "1.5.0",
            "_view_count": null,
            "_view_module_version": "1.5.0",
            "box_style": "",
            "layout": "IPY_MODEL_b08ce29e385d4857bc0456ea97e9f1d3",
            "_model_module": "@jupyter-widgets/controls",
            "children": [
              "IPY_MODEL_0c6eb1a2824347a68e4579ca748b2869",
              "IPY_MODEL_19478498a071468a992dee7db0ec25c1"
            ]
          }
        },
        "b08ce29e385d4857bc0456ea97e9f1d3": {
          "model_module": "@jupyter-widgets/base",
          "model_name": "LayoutModel",
          "state": {
            "_view_name": "LayoutView",
            "grid_template_rows": null,
            "right": null,
            "justify_content": null,
            "_view_module": "@jupyter-widgets/base",
            "overflow": null,
            "_model_module_version": "1.2.0",
            "_view_count": null,
            "flex_flow": null,
            "width": null,
            "min_width": null,
            "border": null,
            "align_items": null,
            "bottom": null,
            "_model_module": "@jupyter-widgets/base",
            "top": null,
            "grid_column": null,
            "overflow_y": null,
            "overflow_x": null,
            "grid_auto_flow": null,
            "grid_area": null,
            "grid_template_columns": null,
            "flex": null,
            "_model_name": "LayoutModel",
            "justify_items": null,
            "grid_row": null,
            "max_height": null,
            "align_content": null,
            "visibility": null,
            "align_self": null,
            "height": null,
            "min_height": null,
            "padding": null,
            "grid_auto_rows": null,
            "grid_gap": null,
            "max_width": null,
            "order": null,
            "_view_module_version": "1.2.0",
            "grid_template_areas": null,
            "object_position": null,
            "object_fit": null,
            "grid_auto_columns": null,
            "margin": null,
            "display": null,
            "left": null
          }
        },
        "0c6eb1a2824347a68e4579ca748b2869": {
          "model_module": "@jupyter-widgets/controls",
          "model_name": "FloatProgressModel",
          "state": {
            "_view_name": "ProgressView",
            "style": "IPY_MODEL_a9a578e93d6a4276bb957067105ebb26",
            "_dom_classes": [],
            "description": "Epoch 5: 100%",
            "_model_name": "FloatProgressModel",
            "bar_style": "",
            "max": 563,
            "_view_module": "@jupyter-widgets/controls",
            "_model_module_version": "1.5.0",
            "value": 563,
            "_view_count": null,
            "_view_module_version": "1.5.0",
            "orientation": "horizontal",
            "min": 0,
            "description_tooltip": null,
            "_model_module": "@jupyter-widgets/controls",
            "layout": "IPY_MODEL_1e4da2b5bb1e4324ba41cd3a895bf0c6"
          }
        },
        "19478498a071468a992dee7db0ec25c1": {
          "model_module": "@jupyter-widgets/controls",
          "model_name": "HTMLModel",
          "state": {
            "_view_name": "HTMLView",
            "style": "IPY_MODEL_294e33c0bec14c6b8c67ca83190c3566",
            "_dom_classes": [],
            "description": "",
            "_model_name": "HTMLModel",
            "placeholder": "​",
            "_view_module": "@jupyter-widgets/controls",
            "_model_module_version": "1.5.0",
            "value": " 563/563 [00:04&lt;00:00, 120.19it/s, loss=0.0928]",
            "_view_count": null,
            "_view_module_version": "1.5.0",
            "description_tooltip": null,
            "_model_module": "@jupyter-widgets/controls",
            "layout": "IPY_MODEL_75eafae5cadc44569665fdb788872ff6"
          }
        },
        "a9a578e93d6a4276bb957067105ebb26": {
          "model_module": "@jupyter-widgets/controls",
          "model_name": "ProgressStyleModel",
          "state": {
            "_view_name": "StyleView",
            "_model_name": "ProgressStyleModel",
            "description_width": "initial",
            "_view_module": "@jupyter-widgets/base",
            "_model_module_version": "1.5.0",
            "_view_count": null,
            "_view_module_version": "1.2.0",
            "bar_color": null,
            "_model_module": "@jupyter-widgets/controls"
          }
        },
        "1e4da2b5bb1e4324ba41cd3a895bf0c6": {
          "model_module": "@jupyter-widgets/base",
          "model_name": "LayoutModel",
          "state": {
            "_view_name": "LayoutView",
            "grid_template_rows": null,
            "right": null,
            "justify_content": null,
            "_view_module": "@jupyter-widgets/base",
            "overflow": null,
            "_model_module_version": "1.2.0",
            "_view_count": null,
            "flex_flow": null,
            "width": null,
            "min_width": null,
            "border": null,
            "align_items": null,
            "bottom": null,
            "_model_module": "@jupyter-widgets/base",
            "top": null,
            "grid_column": null,
            "overflow_y": null,
            "overflow_x": null,
            "grid_auto_flow": null,
            "grid_area": null,
            "grid_template_columns": null,
            "flex": null,
            "_model_name": "LayoutModel",
            "justify_items": null,
            "grid_row": null,
            "max_height": null,
            "align_content": null,
            "visibility": null,
            "align_self": null,
            "height": null,
            "min_height": null,
            "padding": null,
            "grid_auto_rows": null,
            "grid_gap": null,
            "max_width": null,
            "order": null,
            "_view_module_version": "1.2.0",
            "grid_template_areas": null,
            "object_position": null,
            "object_fit": null,
            "grid_auto_columns": null,
            "margin": null,
            "display": null,
            "left": null
          }
        },
        "294e33c0bec14c6b8c67ca83190c3566": {
          "model_module": "@jupyter-widgets/controls",
          "model_name": "DescriptionStyleModel",
          "state": {
            "_view_name": "StyleView",
            "_model_name": "DescriptionStyleModel",
            "description_width": "",
            "_view_module": "@jupyter-widgets/base",
            "_model_module_version": "1.5.0",
            "_view_count": null,
            "_view_module_version": "1.2.0",
            "_model_module": "@jupyter-widgets/controls"
          }
        },
        "75eafae5cadc44569665fdb788872ff6": {
          "model_module": "@jupyter-widgets/base",
          "model_name": "LayoutModel",
          "state": {
            "_view_name": "LayoutView",
            "grid_template_rows": null,
            "right": null,
            "justify_content": null,
            "_view_module": "@jupyter-widgets/base",
            "overflow": null,
            "_model_module_version": "1.2.0",
            "_view_count": null,
            "flex_flow": null,
            "width": null,
            "min_width": null,
            "border": null,
            "align_items": null,
            "bottom": null,
            "_model_module": "@jupyter-widgets/base",
            "top": null,
            "grid_column": null,
            "overflow_y": null,
            "overflow_x": null,
            "grid_auto_flow": null,
            "grid_area": null,
            "grid_template_columns": null,
            "flex": null,
            "_model_name": "LayoutModel",
            "justify_items": null,
            "grid_row": null,
            "max_height": null,
            "align_content": null,
            "visibility": null,
            "align_self": null,
            "height": null,
            "min_height": null,
            "padding": null,
            "grid_auto_rows": null,
            "grid_gap": null,
            "max_width": null,
            "order": null,
            "_view_module_version": "1.2.0",
            "grid_template_areas": null,
            "object_position": null,
            "object_fit": null,
            "grid_auto_columns": null,
            "margin": null,
            "display": null,
            "left": null
          }
        },
        "f810b3873efa498aa776b203f516f6f0": {
          "model_module": "@jupyter-widgets/controls",
          "model_name": "HBoxModel",
          "state": {
            "_view_name": "HBoxView",
            "_dom_classes": [],
            "_model_name": "HBoxModel",
            "_view_module": "@jupyter-widgets/controls",
            "_model_module_version": "1.5.0",
            "_view_count": null,
            "_view_module_version": "1.5.0",
            "box_style": "",
            "layout": "IPY_MODEL_e8f30d759b9a43948db97409d311b109",
            "_model_module": "@jupyter-widgets/controls",
            "children": [
              "IPY_MODEL_80e778f6bfe14a50880cd3a2050075a6",
              "IPY_MODEL_4841f47cf14e434ba4d6df061a0d244f"
            ]
          }
        },
        "e8f30d759b9a43948db97409d311b109": {
          "model_module": "@jupyter-widgets/base",
          "model_name": "LayoutModel",
          "state": {
            "_view_name": "LayoutView",
            "grid_template_rows": null,
            "right": null,
            "justify_content": null,
            "_view_module": "@jupyter-widgets/base",
            "overflow": null,
            "_model_module_version": "1.2.0",
            "_view_count": null,
            "flex_flow": null,
            "width": null,
            "min_width": null,
            "border": null,
            "align_items": null,
            "bottom": null,
            "_model_module": "@jupyter-widgets/base",
            "top": null,
            "grid_column": null,
            "overflow_y": null,
            "overflow_x": null,
            "grid_auto_flow": null,
            "grid_area": null,
            "grid_template_columns": null,
            "flex": null,
            "_model_name": "LayoutModel",
            "justify_items": null,
            "grid_row": null,
            "max_height": null,
            "align_content": null,
            "visibility": null,
            "align_self": null,
            "height": null,
            "min_height": null,
            "padding": null,
            "grid_auto_rows": null,
            "grid_gap": null,
            "max_width": null,
            "order": null,
            "_view_module_version": "1.2.0",
            "grid_template_areas": null,
            "object_position": null,
            "object_fit": null,
            "grid_auto_columns": null,
            "margin": null,
            "display": null,
            "left": null
          }
        },
        "80e778f6bfe14a50880cd3a2050075a6": {
          "model_module": "@jupyter-widgets/controls",
          "model_name": "FloatProgressModel",
          "state": {
            "_view_name": "ProgressView",
            "style": "IPY_MODEL_08e9c24aa4d64acdac5dceb8940e1958",
            "_dom_classes": [],
            "description": "100%",
            "_model_name": "FloatProgressModel",
            "bar_style": "",
            "max": 141,
            "_view_module": "@jupyter-widgets/controls",
            "_model_module_version": "1.5.0",
            "value": 141,
            "_view_count": null,
            "_view_module_version": "1.5.0",
            "orientation": "horizontal",
            "min": 0,
            "description_tooltip": null,
            "_model_module": "@jupyter-widgets/controls",
            "layout": "IPY_MODEL_4fe8cbe87091407b9b4ebe2eee9e2c82"
          }
        },
        "4841f47cf14e434ba4d6df061a0d244f": {
          "model_module": "@jupyter-widgets/controls",
          "model_name": "HTMLModel",
          "state": {
            "_view_name": "HTMLView",
            "style": "IPY_MODEL_a01f0f92bd3c4dc2a7220a9e4a532448",
            "_dom_classes": [],
            "description": "",
            "_model_name": "HTMLModel",
            "placeholder": "​",
            "_view_module": "@jupyter-widgets/controls",
            "_model_module_version": "1.5.0",
            "value": " 141/141 [00:00&lt;00:00, 311.09it/s]",
            "_view_count": null,
            "_view_module_version": "1.5.0",
            "description_tooltip": null,
            "_model_module": "@jupyter-widgets/controls",
            "layout": "IPY_MODEL_ffb9fb81108346678e8eed967ef7ba4e"
          }
        },
        "08e9c24aa4d64acdac5dceb8940e1958": {
          "model_module": "@jupyter-widgets/controls",
          "model_name": "ProgressStyleModel",
          "state": {
            "_view_name": "StyleView",
            "_model_name": "ProgressStyleModel",
            "description_width": "initial",
            "_view_module": "@jupyter-widgets/base",
            "_model_module_version": "1.5.0",
            "_view_count": null,
            "_view_module_version": "1.2.0",
            "bar_color": null,
            "_model_module": "@jupyter-widgets/controls"
          }
        },
        "4fe8cbe87091407b9b4ebe2eee9e2c82": {
          "model_module": "@jupyter-widgets/base",
          "model_name": "LayoutModel",
          "state": {
            "_view_name": "LayoutView",
            "grid_template_rows": null,
            "right": null,
            "justify_content": null,
            "_view_module": "@jupyter-widgets/base",
            "overflow": null,
            "_model_module_version": "1.2.0",
            "_view_count": null,
            "flex_flow": null,
            "width": null,
            "min_width": null,
            "border": null,
            "align_items": null,
            "bottom": null,
            "_model_module": "@jupyter-widgets/base",
            "top": null,
            "grid_column": null,
            "overflow_y": null,
            "overflow_x": null,
            "grid_auto_flow": null,
            "grid_area": null,
            "grid_template_columns": null,
            "flex": null,
            "_model_name": "LayoutModel",
            "justify_items": null,
            "grid_row": null,
            "max_height": null,
            "align_content": null,
            "visibility": null,
            "align_self": null,
            "height": null,
            "min_height": null,
            "padding": null,
            "grid_auto_rows": null,
            "grid_gap": null,
            "max_width": null,
            "order": null,
            "_view_module_version": "1.2.0",
            "grid_template_areas": null,
            "object_position": null,
            "object_fit": null,
            "grid_auto_columns": null,
            "margin": null,
            "display": null,
            "left": null
          }
        },
        "a01f0f92bd3c4dc2a7220a9e4a532448": {
          "model_module": "@jupyter-widgets/controls",
          "model_name": "DescriptionStyleModel",
          "state": {
            "_view_name": "StyleView",
            "_model_name": "DescriptionStyleModel",
            "description_width": "",
            "_view_module": "@jupyter-widgets/base",
            "_model_module_version": "1.5.0",
            "_view_count": null,
            "_view_module_version": "1.2.0",
            "_model_module": "@jupyter-widgets/controls"
          }
        },
        "ffb9fb81108346678e8eed967ef7ba4e": {
          "model_module": "@jupyter-widgets/base",
          "model_name": "LayoutModel",
          "state": {
            "_view_name": "LayoutView",
            "grid_template_rows": null,
            "right": null,
            "justify_content": null,
            "_view_module": "@jupyter-widgets/base",
            "overflow": null,
            "_model_module_version": "1.2.0",
            "_view_count": null,
            "flex_flow": null,
            "width": null,
            "min_width": null,
            "border": null,
            "align_items": null,
            "bottom": null,
            "_model_module": "@jupyter-widgets/base",
            "top": null,
            "grid_column": null,
            "overflow_y": null,
            "overflow_x": null,
            "grid_auto_flow": null,
            "grid_area": null,
            "grid_template_columns": null,
            "flex": null,
            "_model_name": "LayoutModel",
            "justify_items": null,
            "grid_row": null,
            "max_height": null,
            "align_content": null,
            "visibility": null,
            "align_self": null,
            "height": null,
            "min_height": null,
            "padding": null,
            "grid_auto_rows": null,
            "grid_gap": null,
            "max_width": null,
            "order": null,
            "_view_module_version": "1.2.0",
            "grid_template_areas": null,
            "object_position": null,
            "object_fit": null,
            "grid_auto_columns": null,
            "margin": null,
            "display": null,
            "left": null
          }
        },
        "30f634997e254e3fa1edd159a424fc68": {
          "model_module": "@jupyter-widgets/controls",
          "model_name": "HBoxModel",
          "state": {
            "_view_name": "HBoxView",
            "_dom_classes": [],
            "_model_name": "HBoxModel",
            "_view_module": "@jupyter-widgets/controls",
            "_model_module_version": "1.5.0",
            "_view_count": null,
            "_view_module_version": "1.5.0",
            "box_style": "",
            "layout": "IPY_MODEL_aff7eeb6cad74d2fb5f04d162a02f905",
            "_model_module": "@jupyter-widgets/controls",
            "children": [
              "IPY_MODEL_b5cb1627bc2a41dbbf995cf33699f78d",
              "IPY_MODEL_0ce951b21e2141eaa29884499f44d32f"
            ]
          }
        },
        "aff7eeb6cad74d2fb5f04d162a02f905": {
          "model_module": "@jupyter-widgets/base",
          "model_name": "LayoutModel",
          "state": {
            "_view_name": "LayoutView",
            "grid_template_rows": null,
            "right": null,
            "justify_content": null,
            "_view_module": "@jupyter-widgets/base",
            "overflow": null,
            "_model_module_version": "1.2.0",
            "_view_count": null,
            "flex_flow": null,
            "width": null,
            "min_width": null,
            "border": null,
            "align_items": null,
            "bottom": null,
            "_model_module": "@jupyter-widgets/base",
            "top": null,
            "grid_column": null,
            "overflow_y": null,
            "overflow_x": null,
            "grid_auto_flow": null,
            "grid_area": null,
            "grid_template_columns": null,
            "flex": null,
            "_model_name": "LayoutModel",
            "justify_items": null,
            "grid_row": null,
            "max_height": null,
            "align_content": null,
            "visibility": null,
            "align_self": null,
            "height": null,
            "min_height": null,
            "padding": null,
            "grid_auto_rows": null,
            "grid_gap": null,
            "max_width": null,
            "order": null,
            "_view_module_version": "1.2.0",
            "grid_template_areas": null,
            "object_position": null,
            "object_fit": null,
            "grid_auto_columns": null,
            "margin": null,
            "display": null,
            "left": null
          }
        },
        "b5cb1627bc2a41dbbf995cf33699f78d": {
          "model_module": "@jupyter-widgets/controls",
          "model_name": "FloatProgressModel",
          "state": {
            "_view_name": "ProgressView",
            "style": "IPY_MODEL_e47677a98933417bb67c2c5bfb72a3e1",
            "_dom_classes": [],
            "description": "Epoch 6: 100%",
            "_model_name": "FloatProgressModel",
            "bar_style": "",
            "max": 563,
            "_view_module": "@jupyter-widgets/controls",
            "_model_module_version": "1.5.0",
            "value": 563,
            "_view_count": null,
            "_view_module_version": "1.5.0",
            "orientation": "horizontal",
            "min": 0,
            "description_tooltip": null,
            "_model_module": "@jupyter-widgets/controls",
            "layout": "IPY_MODEL_4632f491df82404a88b541a732da37e9"
          }
        },
        "0ce951b21e2141eaa29884499f44d32f": {
          "model_module": "@jupyter-widgets/controls",
          "model_name": "HTMLModel",
          "state": {
            "_view_name": "HTMLView",
            "style": "IPY_MODEL_021118fd31464bf4a5a50daff605ab9e",
            "_dom_classes": [],
            "description": "",
            "_model_name": "HTMLModel",
            "placeholder": "​",
            "_view_module": "@jupyter-widgets/controls",
            "_model_module_version": "1.5.0",
            "value": " 563/563 [00:04&lt;00:00, 115.92it/s, loss=0.0575]",
            "_view_count": null,
            "_view_module_version": "1.5.0",
            "description_tooltip": null,
            "_model_module": "@jupyter-widgets/controls",
            "layout": "IPY_MODEL_c0c9b4d5466a46b096b59c547fb9607b"
          }
        },
        "e47677a98933417bb67c2c5bfb72a3e1": {
          "model_module": "@jupyter-widgets/controls",
          "model_name": "ProgressStyleModel",
          "state": {
            "_view_name": "StyleView",
            "_model_name": "ProgressStyleModel",
            "description_width": "initial",
            "_view_module": "@jupyter-widgets/base",
            "_model_module_version": "1.5.0",
            "_view_count": null,
            "_view_module_version": "1.2.0",
            "bar_color": null,
            "_model_module": "@jupyter-widgets/controls"
          }
        },
        "4632f491df82404a88b541a732da37e9": {
          "model_module": "@jupyter-widgets/base",
          "model_name": "LayoutModel",
          "state": {
            "_view_name": "LayoutView",
            "grid_template_rows": null,
            "right": null,
            "justify_content": null,
            "_view_module": "@jupyter-widgets/base",
            "overflow": null,
            "_model_module_version": "1.2.0",
            "_view_count": null,
            "flex_flow": null,
            "width": null,
            "min_width": null,
            "border": null,
            "align_items": null,
            "bottom": null,
            "_model_module": "@jupyter-widgets/base",
            "top": null,
            "grid_column": null,
            "overflow_y": null,
            "overflow_x": null,
            "grid_auto_flow": null,
            "grid_area": null,
            "grid_template_columns": null,
            "flex": null,
            "_model_name": "LayoutModel",
            "justify_items": null,
            "grid_row": null,
            "max_height": null,
            "align_content": null,
            "visibility": null,
            "align_self": null,
            "height": null,
            "min_height": null,
            "padding": null,
            "grid_auto_rows": null,
            "grid_gap": null,
            "max_width": null,
            "order": null,
            "_view_module_version": "1.2.0",
            "grid_template_areas": null,
            "object_position": null,
            "object_fit": null,
            "grid_auto_columns": null,
            "margin": null,
            "display": null,
            "left": null
          }
        },
        "021118fd31464bf4a5a50daff605ab9e": {
          "model_module": "@jupyter-widgets/controls",
          "model_name": "DescriptionStyleModel",
          "state": {
            "_view_name": "StyleView",
            "_model_name": "DescriptionStyleModel",
            "description_width": "",
            "_view_module": "@jupyter-widgets/base",
            "_model_module_version": "1.5.0",
            "_view_count": null,
            "_view_module_version": "1.2.0",
            "_model_module": "@jupyter-widgets/controls"
          }
        },
        "c0c9b4d5466a46b096b59c547fb9607b": {
          "model_module": "@jupyter-widgets/base",
          "model_name": "LayoutModel",
          "state": {
            "_view_name": "LayoutView",
            "grid_template_rows": null,
            "right": null,
            "justify_content": null,
            "_view_module": "@jupyter-widgets/base",
            "overflow": null,
            "_model_module_version": "1.2.0",
            "_view_count": null,
            "flex_flow": null,
            "width": null,
            "min_width": null,
            "border": null,
            "align_items": null,
            "bottom": null,
            "_model_module": "@jupyter-widgets/base",
            "top": null,
            "grid_column": null,
            "overflow_y": null,
            "overflow_x": null,
            "grid_auto_flow": null,
            "grid_area": null,
            "grid_template_columns": null,
            "flex": null,
            "_model_name": "LayoutModel",
            "justify_items": null,
            "grid_row": null,
            "max_height": null,
            "align_content": null,
            "visibility": null,
            "align_self": null,
            "height": null,
            "min_height": null,
            "padding": null,
            "grid_auto_rows": null,
            "grid_gap": null,
            "max_width": null,
            "order": null,
            "_view_module_version": "1.2.0",
            "grid_template_areas": null,
            "object_position": null,
            "object_fit": null,
            "grid_auto_columns": null,
            "margin": null,
            "display": null,
            "left": null
          }
        },
        "77378c6d071d4dd8a7c5b610fe019eb7": {
          "model_module": "@jupyter-widgets/controls",
          "model_name": "HBoxModel",
          "state": {
            "_view_name": "HBoxView",
            "_dom_classes": [],
            "_model_name": "HBoxModel",
            "_view_module": "@jupyter-widgets/controls",
            "_model_module_version": "1.5.0",
            "_view_count": null,
            "_view_module_version": "1.5.0",
            "box_style": "",
            "layout": "IPY_MODEL_ae1ef0fb5552422fbb049c5a799b45b1",
            "_model_module": "@jupyter-widgets/controls",
            "children": [
              "IPY_MODEL_f7474403d98f43df9286fcdb43729412",
              "IPY_MODEL_7b6a2f34a9f04936a4b350a65915f861"
            ]
          }
        },
        "ae1ef0fb5552422fbb049c5a799b45b1": {
          "model_module": "@jupyter-widgets/base",
          "model_name": "LayoutModel",
          "state": {
            "_view_name": "LayoutView",
            "grid_template_rows": null,
            "right": null,
            "justify_content": null,
            "_view_module": "@jupyter-widgets/base",
            "overflow": null,
            "_model_module_version": "1.2.0",
            "_view_count": null,
            "flex_flow": null,
            "width": null,
            "min_width": null,
            "border": null,
            "align_items": null,
            "bottom": null,
            "_model_module": "@jupyter-widgets/base",
            "top": null,
            "grid_column": null,
            "overflow_y": null,
            "overflow_x": null,
            "grid_auto_flow": null,
            "grid_area": null,
            "grid_template_columns": null,
            "flex": null,
            "_model_name": "LayoutModel",
            "justify_items": null,
            "grid_row": null,
            "max_height": null,
            "align_content": null,
            "visibility": null,
            "align_self": null,
            "height": null,
            "min_height": null,
            "padding": null,
            "grid_auto_rows": null,
            "grid_gap": null,
            "max_width": null,
            "order": null,
            "_view_module_version": "1.2.0",
            "grid_template_areas": null,
            "object_position": null,
            "object_fit": null,
            "grid_auto_columns": null,
            "margin": null,
            "display": null,
            "left": null
          }
        },
        "f7474403d98f43df9286fcdb43729412": {
          "model_module": "@jupyter-widgets/controls",
          "model_name": "FloatProgressModel",
          "state": {
            "_view_name": "ProgressView",
            "style": "IPY_MODEL_81a05ae817ed4ff19f2db31317a0d622",
            "_dom_classes": [],
            "description": "100%",
            "_model_name": "FloatProgressModel",
            "bar_style": "",
            "max": 141,
            "_view_module": "@jupyter-widgets/controls",
            "_model_module_version": "1.5.0",
            "value": 141,
            "_view_count": null,
            "_view_module_version": "1.5.0",
            "orientation": "horizontal",
            "min": 0,
            "description_tooltip": null,
            "_model_module": "@jupyter-widgets/controls",
            "layout": "IPY_MODEL_c97c0a8e823b46cdb5aeaeb622b69e63"
          }
        },
        "7b6a2f34a9f04936a4b350a65915f861": {
          "model_module": "@jupyter-widgets/controls",
          "model_name": "HTMLModel",
          "state": {
            "_view_name": "HTMLView",
            "style": "IPY_MODEL_a125474e9092417d9d72a0766e198cea",
            "_dom_classes": [],
            "description": "",
            "_model_name": "HTMLModel",
            "placeholder": "​",
            "_view_module": "@jupyter-widgets/controls",
            "_model_module_version": "1.5.0",
            "value": " 141/141 [00:00&lt;00:00, 348.61it/s]",
            "_view_count": null,
            "_view_module_version": "1.5.0",
            "description_tooltip": null,
            "_model_module": "@jupyter-widgets/controls",
            "layout": "IPY_MODEL_f66a71ac8988466bbfcaea94094e6b8a"
          }
        },
        "81a05ae817ed4ff19f2db31317a0d622": {
          "model_module": "@jupyter-widgets/controls",
          "model_name": "ProgressStyleModel",
          "state": {
            "_view_name": "StyleView",
            "_model_name": "ProgressStyleModel",
            "description_width": "initial",
            "_view_module": "@jupyter-widgets/base",
            "_model_module_version": "1.5.0",
            "_view_count": null,
            "_view_module_version": "1.2.0",
            "bar_color": null,
            "_model_module": "@jupyter-widgets/controls"
          }
        },
        "c97c0a8e823b46cdb5aeaeb622b69e63": {
          "model_module": "@jupyter-widgets/base",
          "model_name": "LayoutModel",
          "state": {
            "_view_name": "LayoutView",
            "grid_template_rows": null,
            "right": null,
            "justify_content": null,
            "_view_module": "@jupyter-widgets/base",
            "overflow": null,
            "_model_module_version": "1.2.0",
            "_view_count": null,
            "flex_flow": null,
            "width": null,
            "min_width": null,
            "border": null,
            "align_items": null,
            "bottom": null,
            "_model_module": "@jupyter-widgets/base",
            "top": null,
            "grid_column": null,
            "overflow_y": null,
            "overflow_x": null,
            "grid_auto_flow": null,
            "grid_area": null,
            "grid_template_columns": null,
            "flex": null,
            "_model_name": "LayoutModel",
            "justify_items": null,
            "grid_row": null,
            "max_height": null,
            "align_content": null,
            "visibility": null,
            "align_self": null,
            "height": null,
            "min_height": null,
            "padding": null,
            "grid_auto_rows": null,
            "grid_gap": null,
            "max_width": null,
            "order": null,
            "_view_module_version": "1.2.0",
            "grid_template_areas": null,
            "object_position": null,
            "object_fit": null,
            "grid_auto_columns": null,
            "margin": null,
            "display": null,
            "left": null
          }
        },
        "a125474e9092417d9d72a0766e198cea": {
          "model_module": "@jupyter-widgets/controls",
          "model_name": "DescriptionStyleModel",
          "state": {
            "_view_name": "StyleView",
            "_model_name": "DescriptionStyleModel",
            "description_width": "",
            "_view_module": "@jupyter-widgets/base",
            "_model_module_version": "1.5.0",
            "_view_count": null,
            "_view_module_version": "1.2.0",
            "_model_module": "@jupyter-widgets/controls"
          }
        },
        "f66a71ac8988466bbfcaea94094e6b8a": {
          "model_module": "@jupyter-widgets/base",
          "model_name": "LayoutModel",
          "state": {
            "_view_name": "LayoutView",
            "grid_template_rows": null,
            "right": null,
            "justify_content": null,
            "_view_module": "@jupyter-widgets/base",
            "overflow": null,
            "_model_module_version": "1.2.0",
            "_view_count": null,
            "flex_flow": null,
            "width": null,
            "min_width": null,
            "border": null,
            "align_items": null,
            "bottom": null,
            "_model_module": "@jupyter-widgets/base",
            "top": null,
            "grid_column": null,
            "overflow_y": null,
            "overflow_x": null,
            "grid_auto_flow": null,
            "grid_area": null,
            "grid_template_columns": null,
            "flex": null,
            "_model_name": "LayoutModel",
            "justify_items": null,
            "grid_row": null,
            "max_height": null,
            "align_content": null,
            "visibility": null,
            "align_self": null,
            "height": null,
            "min_height": null,
            "padding": null,
            "grid_auto_rows": null,
            "grid_gap": null,
            "max_width": null,
            "order": null,
            "_view_module_version": "1.2.0",
            "grid_template_areas": null,
            "object_position": null,
            "object_fit": null,
            "grid_auto_columns": null,
            "margin": null,
            "display": null,
            "left": null
          }
        },
        "e26ca2db7e244b4e800a4a33cc17cbab": {
          "model_module": "@jupyter-widgets/controls",
          "model_name": "HBoxModel",
          "state": {
            "_view_name": "HBoxView",
            "_dom_classes": [],
            "_model_name": "HBoxModel",
            "_view_module": "@jupyter-widgets/controls",
            "_model_module_version": "1.5.0",
            "_view_count": null,
            "_view_module_version": "1.5.0",
            "box_style": "",
            "layout": "IPY_MODEL_887df62def594540919c2fa1ec2340ee",
            "_model_module": "@jupyter-widgets/controls",
            "children": [
              "IPY_MODEL_25f48220aa4840b6bba1043e262c5def",
              "IPY_MODEL_1fa9dafee4dd4f828e628b7a1dddd912"
            ]
          }
        },
        "887df62def594540919c2fa1ec2340ee": {
          "model_module": "@jupyter-widgets/base",
          "model_name": "LayoutModel",
          "state": {
            "_view_name": "LayoutView",
            "grid_template_rows": null,
            "right": null,
            "justify_content": null,
            "_view_module": "@jupyter-widgets/base",
            "overflow": null,
            "_model_module_version": "1.2.0",
            "_view_count": null,
            "flex_flow": null,
            "width": null,
            "min_width": null,
            "border": null,
            "align_items": null,
            "bottom": null,
            "_model_module": "@jupyter-widgets/base",
            "top": null,
            "grid_column": null,
            "overflow_y": null,
            "overflow_x": null,
            "grid_auto_flow": null,
            "grid_area": null,
            "grid_template_columns": null,
            "flex": null,
            "_model_name": "LayoutModel",
            "justify_items": null,
            "grid_row": null,
            "max_height": null,
            "align_content": null,
            "visibility": null,
            "align_self": null,
            "height": null,
            "min_height": null,
            "padding": null,
            "grid_auto_rows": null,
            "grid_gap": null,
            "max_width": null,
            "order": null,
            "_view_module_version": "1.2.0",
            "grid_template_areas": null,
            "object_position": null,
            "object_fit": null,
            "grid_auto_columns": null,
            "margin": null,
            "display": null,
            "left": null
          }
        },
        "25f48220aa4840b6bba1043e262c5def": {
          "model_module": "@jupyter-widgets/controls",
          "model_name": "FloatProgressModel",
          "state": {
            "_view_name": "ProgressView",
            "style": "IPY_MODEL_3020db1f68b84329babc2be3320ff1bf",
            "_dom_classes": [],
            "description": "Epoch 7: 100%",
            "_model_name": "FloatProgressModel",
            "bar_style": "",
            "max": 563,
            "_view_module": "@jupyter-widgets/controls",
            "_model_module_version": "1.5.0",
            "value": 563,
            "_view_count": null,
            "_view_module_version": "1.5.0",
            "orientation": "horizontal",
            "min": 0,
            "description_tooltip": null,
            "_model_module": "@jupyter-widgets/controls",
            "layout": "IPY_MODEL_507721210a1b4eba85b2d91b845b6f55"
          }
        },
        "1fa9dafee4dd4f828e628b7a1dddd912": {
          "model_module": "@jupyter-widgets/controls",
          "model_name": "HTMLModel",
          "state": {
            "_view_name": "HTMLView",
            "style": "IPY_MODEL_715e649dab894e1e91c4e2bd0b32f209",
            "_dom_classes": [],
            "description": "",
            "_model_name": "HTMLModel",
            "placeholder": "​",
            "_view_module": "@jupyter-widgets/controls",
            "_model_module_version": "1.5.0",
            "value": " 563/563 [00:04&lt;00:00, 116.48it/s, loss=0.11]",
            "_view_count": null,
            "_view_module_version": "1.5.0",
            "description_tooltip": null,
            "_model_module": "@jupyter-widgets/controls",
            "layout": "IPY_MODEL_5cfbef8ae64842208a521366afebe206"
          }
        },
        "3020db1f68b84329babc2be3320ff1bf": {
          "model_module": "@jupyter-widgets/controls",
          "model_name": "ProgressStyleModel",
          "state": {
            "_view_name": "StyleView",
            "_model_name": "ProgressStyleModel",
            "description_width": "initial",
            "_view_module": "@jupyter-widgets/base",
            "_model_module_version": "1.5.0",
            "_view_count": null,
            "_view_module_version": "1.2.0",
            "bar_color": null,
            "_model_module": "@jupyter-widgets/controls"
          }
        },
        "507721210a1b4eba85b2d91b845b6f55": {
          "model_module": "@jupyter-widgets/base",
          "model_name": "LayoutModel",
          "state": {
            "_view_name": "LayoutView",
            "grid_template_rows": null,
            "right": null,
            "justify_content": null,
            "_view_module": "@jupyter-widgets/base",
            "overflow": null,
            "_model_module_version": "1.2.0",
            "_view_count": null,
            "flex_flow": null,
            "width": null,
            "min_width": null,
            "border": null,
            "align_items": null,
            "bottom": null,
            "_model_module": "@jupyter-widgets/base",
            "top": null,
            "grid_column": null,
            "overflow_y": null,
            "overflow_x": null,
            "grid_auto_flow": null,
            "grid_area": null,
            "grid_template_columns": null,
            "flex": null,
            "_model_name": "LayoutModel",
            "justify_items": null,
            "grid_row": null,
            "max_height": null,
            "align_content": null,
            "visibility": null,
            "align_self": null,
            "height": null,
            "min_height": null,
            "padding": null,
            "grid_auto_rows": null,
            "grid_gap": null,
            "max_width": null,
            "order": null,
            "_view_module_version": "1.2.0",
            "grid_template_areas": null,
            "object_position": null,
            "object_fit": null,
            "grid_auto_columns": null,
            "margin": null,
            "display": null,
            "left": null
          }
        },
        "715e649dab894e1e91c4e2bd0b32f209": {
          "model_module": "@jupyter-widgets/controls",
          "model_name": "DescriptionStyleModel",
          "state": {
            "_view_name": "StyleView",
            "_model_name": "DescriptionStyleModel",
            "description_width": "",
            "_view_module": "@jupyter-widgets/base",
            "_model_module_version": "1.5.0",
            "_view_count": null,
            "_view_module_version": "1.2.0",
            "_model_module": "@jupyter-widgets/controls"
          }
        },
        "5cfbef8ae64842208a521366afebe206": {
          "model_module": "@jupyter-widgets/base",
          "model_name": "LayoutModel",
          "state": {
            "_view_name": "LayoutView",
            "grid_template_rows": null,
            "right": null,
            "justify_content": null,
            "_view_module": "@jupyter-widgets/base",
            "overflow": null,
            "_model_module_version": "1.2.0",
            "_view_count": null,
            "flex_flow": null,
            "width": null,
            "min_width": null,
            "border": null,
            "align_items": null,
            "bottom": null,
            "_model_module": "@jupyter-widgets/base",
            "top": null,
            "grid_column": null,
            "overflow_y": null,
            "overflow_x": null,
            "grid_auto_flow": null,
            "grid_area": null,
            "grid_template_columns": null,
            "flex": null,
            "_model_name": "LayoutModel",
            "justify_items": null,
            "grid_row": null,
            "max_height": null,
            "align_content": null,
            "visibility": null,
            "align_self": null,
            "height": null,
            "min_height": null,
            "padding": null,
            "grid_auto_rows": null,
            "grid_gap": null,
            "max_width": null,
            "order": null,
            "_view_module_version": "1.2.0",
            "grid_template_areas": null,
            "object_position": null,
            "object_fit": null,
            "grid_auto_columns": null,
            "margin": null,
            "display": null,
            "left": null
          }
        },
        "4e765673ef85487880aa9d00342833f7": {
          "model_module": "@jupyter-widgets/controls",
          "model_name": "HBoxModel",
          "state": {
            "_view_name": "HBoxView",
            "_dom_classes": [],
            "_model_name": "HBoxModel",
            "_view_module": "@jupyter-widgets/controls",
            "_model_module_version": "1.5.0",
            "_view_count": null,
            "_view_module_version": "1.5.0",
            "box_style": "",
            "layout": "IPY_MODEL_1b72109413424ae9919ab43b1fc58fee",
            "_model_module": "@jupyter-widgets/controls",
            "children": [
              "IPY_MODEL_99b883275d5c430dae4609891fbc0652",
              "IPY_MODEL_05b012c074874a68b73577e6801456d2"
            ]
          }
        },
        "1b72109413424ae9919ab43b1fc58fee": {
          "model_module": "@jupyter-widgets/base",
          "model_name": "LayoutModel",
          "state": {
            "_view_name": "LayoutView",
            "grid_template_rows": null,
            "right": null,
            "justify_content": null,
            "_view_module": "@jupyter-widgets/base",
            "overflow": null,
            "_model_module_version": "1.2.0",
            "_view_count": null,
            "flex_flow": null,
            "width": null,
            "min_width": null,
            "border": null,
            "align_items": null,
            "bottom": null,
            "_model_module": "@jupyter-widgets/base",
            "top": null,
            "grid_column": null,
            "overflow_y": null,
            "overflow_x": null,
            "grid_auto_flow": null,
            "grid_area": null,
            "grid_template_columns": null,
            "flex": null,
            "_model_name": "LayoutModel",
            "justify_items": null,
            "grid_row": null,
            "max_height": null,
            "align_content": null,
            "visibility": null,
            "align_self": null,
            "height": null,
            "min_height": null,
            "padding": null,
            "grid_auto_rows": null,
            "grid_gap": null,
            "max_width": null,
            "order": null,
            "_view_module_version": "1.2.0",
            "grid_template_areas": null,
            "object_position": null,
            "object_fit": null,
            "grid_auto_columns": null,
            "margin": null,
            "display": null,
            "left": null
          }
        },
        "99b883275d5c430dae4609891fbc0652": {
          "model_module": "@jupyter-widgets/controls",
          "model_name": "FloatProgressModel",
          "state": {
            "_view_name": "ProgressView",
            "style": "IPY_MODEL_014aee5e69b54125a41d1437b6716160",
            "_dom_classes": [],
            "description": "100%",
            "_model_name": "FloatProgressModel",
            "bar_style": "",
            "max": 141,
            "_view_module": "@jupyter-widgets/controls",
            "_model_module_version": "1.5.0",
            "value": 141,
            "_view_count": null,
            "_view_module_version": "1.5.0",
            "orientation": "horizontal",
            "min": 0,
            "description_tooltip": null,
            "_model_module": "@jupyter-widgets/controls",
            "layout": "IPY_MODEL_d45015b0a1574d4bad109cbffb9fcc8f"
          }
        },
        "05b012c074874a68b73577e6801456d2": {
          "model_module": "@jupyter-widgets/controls",
          "model_name": "HTMLModel",
          "state": {
            "_view_name": "HTMLView",
            "style": "IPY_MODEL_c562f4b57f97410982c450291169071f",
            "_dom_classes": [],
            "description": "",
            "_model_name": "HTMLModel",
            "placeholder": "​",
            "_view_module": "@jupyter-widgets/controls",
            "_model_module_version": "1.5.0",
            "value": " 141/141 [00:00&lt;00:00, 315.02it/s]",
            "_view_count": null,
            "_view_module_version": "1.5.0",
            "description_tooltip": null,
            "_model_module": "@jupyter-widgets/controls",
            "layout": "IPY_MODEL_bae9e68a33854e37a7866a4f5173ec8e"
          }
        },
        "014aee5e69b54125a41d1437b6716160": {
          "model_module": "@jupyter-widgets/controls",
          "model_name": "ProgressStyleModel",
          "state": {
            "_view_name": "StyleView",
            "_model_name": "ProgressStyleModel",
            "description_width": "initial",
            "_view_module": "@jupyter-widgets/base",
            "_model_module_version": "1.5.0",
            "_view_count": null,
            "_view_module_version": "1.2.0",
            "bar_color": null,
            "_model_module": "@jupyter-widgets/controls"
          }
        },
        "d45015b0a1574d4bad109cbffb9fcc8f": {
          "model_module": "@jupyter-widgets/base",
          "model_name": "LayoutModel",
          "state": {
            "_view_name": "LayoutView",
            "grid_template_rows": null,
            "right": null,
            "justify_content": null,
            "_view_module": "@jupyter-widgets/base",
            "overflow": null,
            "_model_module_version": "1.2.0",
            "_view_count": null,
            "flex_flow": null,
            "width": null,
            "min_width": null,
            "border": null,
            "align_items": null,
            "bottom": null,
            "_model_module": "@jupyter-widgets/base",
            "top": null,
            "grid_column": null,
            "overflow_y": null,
            "overflow_x": null,
            "grid_auto_flow": null,
            "grid_area": null,
            "grid_template_columns": null,
            "flex": null,
            "_model_name": "LayoutModel",
            "justify_items": null,
            "grid_row": null,
            "max_height": null,
            "align_content": null,
            "visibility": null,
            "align_self": null,
            "height": null,
            "min_height": null,
            "padding": null,
            "grid_auto_rows": null,
            "grid_gap": null,
            "max_width": null,
            "order": null,
            "_view_module_version": "1.2.0",
            "grid_template_areas": null,
            "object_position": null,
            "object_fit": null,
            "grid_auto_columns": null,
            "margin": null,
            "display": null,
            "left": null
          }
        },
        "c562f4b57f97410982c450291169071f": {
          "model_module": "@jupyter-widgets/controls",
          "model_name": "DescriptionStyleModel",
          "state": {
            "_view_name": "StyleView",
            "_model_name": "DescriptionStyleModel",
            "description_width": "",
            "_view_module": "@jupyter-widgets/base",
            "_model_module_version": "1.5.0",
            "_view_count": null,
            "_view_module_version": "1.2.0",
            "_model_module": "@jupyter-widgets/controls"
          }
        },
        "bae9e68a33854e37a7866a4f5173ec8e": {
          "model_module": "@jupyter-widgets/base",
          "model_name": "LayoutModel",
          "state": {
            "_view_name": "LayoutView",
            "grid_template_rows": null,
            "right": null,
            "justify_content": null,
            "_view_module": "@jupyter-widgets/base",
            "overflow": null,
            "_model_module_version": "1.2.0",
            "_view_count": null,
            "flex_flow": null,
            "width": null,
            "min_width": null,
            "border": null,
            "align_items": null,
            "bottom": null,
            "_model_module": "@jupyter-widgets/base",
            "top": null,
            "grid_column": null,
            "overflow_y": null,
            "overflow_x": null,
            "grid_auto_flow": null,
            "grid_area": null,
            "grid_template_columns": null,
            "flex": null,
            "_model_name": "LayoutModel",
            "justify_items": null,
            "grid_row": null,
            "max_height": null,
            "align_content": null,
            "visibility": null,
            "align_self": null,
            "height": null,
            "min_height": null,
            "padding": null,
            "grid_auto_rows": null,
            "grid_gap": null,
            "max_width": null,
            "order": null,
            "_view_module_version": "1.2.0",
            "grid_template_areas": null,
            "object_position": null,
            "object_fit": null,
            "grid_auto_columns": null,
            "margin": null,
            "display": null,
            "left": null
          }
        },
        "434d147a1eda4ec9840d247e32bcc2b4": {
          "model_module": "@jupyter-widgets/controls",
          "model_name": "HBoxModel",
          "state": {
            "_view_name": "HBoxView",
            "_dom_classes": [],
            "_model_name": "HBoxModel",
            "_view_module": "@jupyter-widgets/controls",
            "_model_module_version": "1.5.0",
            "_view_count": null,
            "_view_module_version": "1.5.0",
            "box_style": "",
            "layout": "IPY_MODEL_8db60d1c1fe2446a95197574956cf6dd",
            "_model_module": "@jupyter-widgets/controls",
            "children": [
              "IPY_MODEL_2e549cef11cf4c4d8957ba8c7be1617e",
              "IPY_MODEL_723b07bc657d4bbbb27c6235e91edaf7"
            ]
          }
        },
        "8db60d1c1fe2446a95197574956cf6dd": {
          "model_module": "@jupyter-widgets/base",
          "model_name": "LayoutModel",
          "state": {
            "_view_name": "LayoutView",
            "grid_template_rows": null,
            "right": null,
            "justify_content": null,
            "_view_module": "@jupyter-widgets/base",
            "overflow": null,
            "_model_module_version": "1.2.0",
            "_view_count": null,
            "flex_flow": null,
            "width": null,
            "min_width": null,
            "border": null,
            "align_items": null,
            "bottom": null,
            "_model_module": "@jupyter-widgets/base",
            "top": null,
            "grid_column": null,
            "overflow_y": null,
            "overflow_x": null,
            "grid_auto_flow": null,
            "grid_area": null,
            "grid_template_columns": null,
            "flex": null,
            "_model_name": "LayoutModel",
            "justify_items": null,
            "grid_row": null,
            "max_height": null,
            "align_content": null,
            "visibility": null,
            "align_self": null,
            "height": null,
            "min_height": null,
            "padding": null,
            "grid_auto_rows": null,
            "grid_gap": null,
            "max_width": null,
            "order": null,
            "_view_module_version": "1.2.0",
            "grid_template_areas": null,
            "object_position": null,
            "object_fit": null,
            "grid_auto_columns": null,
            "margin": null,
            "display": null,
            "left": null
          }
        },
        "2e549cef11cf4c4d8957ba8c7be1617e": {
          "model_module": "@jupyter-widgets/controls",
          "model_name": "FloatProgressModel",
          "state": {
            "_view_name": "ProgressView",
            "style": "IPY_MODEL_0f8642a78e44441c9fba84ff88eaf07c",
            "_dom_classes": [],
            "description": "Epoch 8: 100%",
            "_model_name": "FloatProgressModel",
            "bar_style": "",
            "max": 563,
            "_view_module": "@jupyter-widgets/controls",
            "_model_module_version": "1.5.0",
            "value": 563,
            "_view_count": null,
            "_view_module_version": "1.5.0",
            "orientation": "horizontal",
            "min": 0,
            "description_tooltip": null,
            "_model_module": "@jupyter-widgets/controls",
            "layout": "IPY_MODEL_854c37c0528b4fad8e33bd3529af246e"
          }
        },
        "723b07bc657d4bbbb27c6235e91edaf7": {
          "model_module": "@jupyter-widgets/controls",
          "model_name": "HTMLModel",
          "state": {
            "_view_name": "HTMLView",
            "style": "IPY_MODEL_8f3f122c01784dd6ae8cd3f69aa8f11d",
            "_dom_classes": [],
            "description": "",
            "_model_name": "HTMLModel",
            "placeholder": "​",
            "_view_module": "@jupyter-widgets/controls",
            "_model_module_version": "1.5.0",
            "value": " 563/563 [00:05&lt;00:00, 113.97it/s, loss=0.0867]",
            "_view_count": null,
            "_view_module_version": "1.5.0",
            "description_tooltip": null,
            "_model_module": "@jupyter-widgets/controls",
            "layout": "IPY_MODEL_c1c846fd03214f529a6ab460381f1d94"
          }
        },
        "0f8642a78e44441c9fba84ff88eaf07c": {
          "model_module": "@jupyter-widgets/controls",
          "model_name": "ProgressStyleModel",
          "state": {
            "_view_name": "StyleView",
            "_model_name": "ProgressStyleModel",
            "description_width": "initial",
            "_view_module": "@jupyter-widgets/base",
            "_model_module_version": "1.5.0",
            "_view_count": null,
            "_view_module_version": "1.2.0",
            "bar_color": null,
            "_model_module": "@jupyter-widgets/controls"
          }
        },
        "854c37c0528b4fad8e33bd3529af246e": {
          "model_module": "@jupyter-widgets/base",
          "model_name": "LayoutModel",
          "state": {
            "_view_name": "LayoutView",
            "grid_template_rows": null,
            "right": null,
            "justify_content": null,
            "_view_module": "@jupyter-widgets/base",
            "overflow": null,
            "_model_module_version": "1.2.0",
            "_view_count": null,
            "flex_flow": null,
            "width": null,
            "min_width": null,
            "border": null,
            "align_items": null,
            "bottom": null,
            "_model_module": "@jupyter-widgets/base",
            "top": null,
            "grid_column": null,
            "overflow_y": null,
            "overflow_x": null,
            "grid_auto_flow": null,
            "grid_area": null,
            "grid_template_columns": null,
            "flex": null,
            "_model_name": "LayoutModel",
            "justify_items": null,
            "grid_row": null,
            "max_height": null,
            "align_content": null,
            "visibility": null,
            "align_self": null,
            "height": null,
            "min_height": null,
            "padding": null,
            "grid_auto_rows": null,
            "grid_gap": null,
            "max_width": null,
            "order": null,
            "_view_module_version": "1.2.0",
            "grid_template_areas": null,
            "object_position": null,
            "object_fit": null,
            "grid_auto_columns": null,
            "margin": null,
            "display": null,
            "left": null
          }
        },
        "8f3f122c01784dd6ae8cd3f69aa8f11d": {
          "model_module": "@jupyter-widgets/controls",
          "model_name": "DescriptionStyleModel",
          "state": {
            "_view_name": "StyleView",
            "_model_name": "DescriptionStyleModel",
            "description_width": "",
            "_view_module": "@jupyter-widgets/base",
            "_model_module_version": "1.5.0",
            "_view_count": null,
            "_view_module_version": "1.2.0",
            "_model_module": "@jupyter-widgets/controls"
          }
        },
        "c1c846fd03214f529a6ab460381f1d94": {
          "model_module": "@jupyter-widgets/base",
          "model_name": "LayoutModel",
          "state": {
            "_view_name": "LayoutView",
            "grid_template_rows": null,
            "right": null,
            "justify_content": null,
            "_view_module": "@jupyter-widgets/base",
            "overflow": null,
            "_model_module_version": "1.2.0",
            "_view_count": null,
            "flex_flow": null,
            "width": null,
            "min_width": null,
            "border": null,
            "align_items": null,
            "bottom": null,
            "_model_module": "@jupyter-widgets/base",
            "top": null,
            "grid_column": null,
            "overflow_y": null,
            "overflow_x": null,
            "grid_auto_flow": null,
            "grid_area": null,
            "grid_template_columns": null,
            "flex": null,
            "_model_name": "LayoutModel",
            "justify_items": null,
            "grid_row": null,
            "max_height": null,
            "align_content": null,
            "visibility": null,
            "align_self": null,
            "height": null,
            "min_height": null,
            "padding": null,
            "grid_auto_rows": null,
            "grid_gap": null,
            "max_width": null,
            "order": null,
            "_view_module_version": "1.2.0",
            "grid_template_areas": null,
            "object_position": null,
            "object_fit": null,
            "grid_auto_columns": null,
            "margin": null,
            "display": null,
            "left": null
          }
        },
        "63e5c81d379a4001a16f88de915256dc": {
          "model_module": "@jupyter-widgets/controls",
          "model_name": "HBoxModel",
          "state": {
            "_view_name": "HBoxView",
            "_dom_classes": [],
            "_model_name": "HBoxModel",
            "_view_module": "@jupyter-widgets/controls",
            "_model_module_version": "1.5.0",
            "_view_count": null,
            "_view_module_version": "1.5.0",
            "box_style": "",
            "layout": "IPY_MODEL_78ffe87b13f64d73911301d979689a79",
            "_model_module": "@jupyter-widgets/controls",
            "children": [
              "IPY_MODEL_28ca87cf83d44c869ee5977fcb097284",
              "IPY_MODEL_f94686d3de4f44fbba0a97ee39f79fac"
            ]
          }
        },
        "78ffe87b13f64d73911301d979689a79": {
          "model_module": "@jupyter-widgets/base",
          "model_name": "LayoutModel",
          "state": {
            "_view_name": "LayoutView",
            "grid_template_rows": null,
            "right": null,
            "justify_content": null,
            "_view_module": "@jupyter-widgets/base",
            "overflow": null,
            "_model_module_version": "1.2.0",
            "_view_count": null,
            "flex_flow": null,
            "width": null,
            "min_width": null,
            "border": null,
            "align_items": null,
            "bottom": null,
            "_model_module": "@jupyter-widgets/base",
            "top": null,
            "grid_column": null,
            "overflow_y": null,
            "overflow_x": null,
            "grid_auto_flow": null,
            "grid_area": null,
            "grid_template_columns": null,
            "flex": null,
            "_model_name": "LayoutModel",
            "justify_items": null,
            "grid_row": null,
            "max_height": null,
            "align_content": null,
            "visibility": null,
            "align_self": null,
            "height": null,
            "min_height": null,
            "padding": null,
            "grid_auto_rows": null,
            "grid_gap": null,
            "max_width": null,
            "order": null,
            "_view_module_version": "1.2.0",
            "grid_template_areas": null,
            "object_position": null,
            "object_fit": null,
            "grid_auto_columns": null,
            "margin": null,
            "display": null,
            "left": null
          }
        },
        "28ca87cf83d44c869ee5977fcb097284": {
          "model_module": "@jupyter-widgets/controls",
          "model_name": "FloatProgressModel",
          "state": {
            "_view_name": "ProgressView",
            "style": "IPY_MODEL_b03e9a3d9f67471ca764a3c2252a03f7",
            "_dom_classes": [],
            "description": "100%",
            "_model_name": "FloatProgressModel",
            "bar_style": "",
            "max": 141,
            "_view_module": "@jupyter-widgets/controls",
            "_model_module_version": "1.5.0",
            "value": 141,
            "_view_count": null,
            "_view_module_version": "1.5.0",
            "orientation": "horizontal",
            "min": 0,
            "description_tooltip": null,
            "_model_module": "@jupyter-widgets/controls",
            "layout": "IPY_MODEL_03db738d26be43978bf60f550a7b642f"
          }
        },
        "f94686d3de4f44fbba0a97ee39f79fac": {
          "model_module": "@jupyter-widgets/controls",
          "model_name": "HTMLModel",
          "state": {
            "_view_name": "HTMLView",
            "style": "IPY_MODEL_0f2b7b7c19ff4e22bccea058cf9ddbc5",
            "_dom_classes": [],
            "description": "",
            "_model_name": "HTMLModel",
            "placeholder": "​",
            "_view_module": "@jupyter-widgets/controls",
            "_model_module_version": "1.5.0",
            "value": " 141/141 [00:00&lt;00:00, 315.99it/s]",
            "_view_count": null,
            "_view_module_version": "1.5.0",
            "description_tooltip": null,
            "_model_module": "@jupyter-widgets/controls",
            "layout": "IPY_MODEL_d24b5b1b3bfb49b490f5a2295355eb68"
          }
        },
        "b03e9a3d9f67471ca764a3c2252a03f7": {
          "model_module": "@jupyter-widgets/controls",
          "model_name": "ProgressStyleModel",
          "state": {
            "_view_name": "StyleView",
            "_model_name": "ProgressStyleModel",
            "description_width": "initial",
            "_view_module": "@jupyter-widgets/base",
            "_model_module_version": "1.5.0",
            "_view_count": null,
            "_view_module_version": "1.2.0",
            "bar_color": null,
            "_model_module": "@jupyter-widgets/controls"
          }
        },
        "03db738d26be43978bf60f550a7b642f": {
          "model_module": "@jupyter-widgets/base",
          "model_name": "LayoutModel",
          "state": {
            "_view_name": "LayoutView",
            "grid_template_rows": null,
            "right": null,
            "justify_content": null,
            "_view_module": "@jupyter-widgets/base",
            "overflow": null,
            "_model_module_version": "1.2.0",
            "_view_count": null,
            "flex_flow": null,
            "width": null,
            "min_width": null,
            "border": null,
            "align_items": null,
            "bottom": null,
            "_model_module": "@jupyter-widgets/base",
            "top": null,
            "grid_column": null,
            "overflow_y": null,
            "overflow_x": null,
            "grid_auto_flow": null,
            "grid_area": null,
            "grid_template_columns": null,
            "flex": null,
            "_model_name": "LayoutModel",
            "justify_items": null,
            "grid_row": null,
            "max_height": null,
            "align_content": null,
            "visibility": null,
            "align_self": null,
            "height": null,
            "min_height": null,
            "padding": null,
            "grid_auto_rows": null,
            "grid_gap": null,
            "max_width": null,
            "order": null,
            "_view_module_version": "1.2.0",
            "grid_template_areas": null,
            "object_position": null,
            "object_fit": null,
            "grid_auto_columns": null,
            "margin": null,
            "display": null,
            "left": null
          }
        },
        "0f2b7b7c19ff4e22bccea058cf9ddbc5": {
          "model_module": "@jupyter-widgets/controls",
          "model_name": "DescriptionStyleModel",
          "state": {
            "_view_name": "StyleView",
            "_model_name": "DescriptionStyleModel",
            "description_width": "",
            "_view_module": "@jupyter-widgets/base",
            "_model_module_version": "1.5.0",
            "_view_count": null,
            "_view_module_version": "1.2.0",
            "_model_module": "@jupyter-widgets/controls"
          }
        },
        "d24b5b1b3bfb49b490f5a2295355eb68": {
          "model_module": "@jupyter-widgets/base",
          "model_name": "LayoutModel",
          "state": {
            "_view_name": "LayoutView",
            "grid_template_rows": null,
            "right": null,
            "justify_content": null,
            "_view_module": "@jupyter-widgets/base",
            "overflow": null,
            "_model_module_version": "1.2.0",
            "_view_count": null,
            "flex_flow": null,
            "width": null,
            "min_width": null,
            "border": null,
            "align_items": null,
            "bottom": null,
            "_model_module": "@jupyter-widgets/base",
            "top": null,
            "grid_column": null,
            "overflow_y": null,
            "overflow_x": null,
            "grid_auto_flow": null,
            "grid_area": null,
            "grid_template_columns": null,
            "flex": null,
            "_model_name": "LayoutModel",
            "justify_items": null,
            "grid_row": null,
            "max_height": null,
            "align_content": null,
            "visibility": null,
            "align_self": null,
            "height": null,
            "min_height": null,
            "padding": null,
            "grid_auto_rows": null,
            "grid_gap": null,
            "max_width": null,
            "order": null,
            "_view_module_version": "1.2.0",
            "grid_template_areas": null,
            "object_position": null,
            "object_fit": null,
            "grid_auto_columns": null,
            "margin": null,
            "display": null,
            "left": null
          }
        },
        "e28256868bca4304989771beab90afa4": {
          "model_module": "@jupyter-widgets/controls",
          "model_name": "HBoxModel",
          "state": {
            "_view_name": "HBoxView",
            "_dom_classes": [],
            "_model_name": "HBoxModel",
            "_view_module": "@jupyter-widgets/controls",
            "_model_module_version": "1.5.0",
            "_view_count": null,
            "_view_module_version": "1.5.0",
            "box_style": "",
            "layout": "IPY_MODEL_42a53294b68649d9adc3a9acd31ef838",
            "_model_module": "@jupyter-widgets/controls",
            "children": [
              "IPY_MODEL_35b1a096213843cf8dbcfae4927ade8b",
              "IPY_MODEL_0ff7bd34de6d465b87a2f3bf3907baba"
            ]
          }
        },
        "42a53294b68649d9adc3a9acd31ef838": {
          "model_module": "@jupyter-widgets/base",
          "model_name": "LayoutModel",
          "state": {
            "_view_name": "LayoutView",
            "grid_template_rows": null,
            "right": null,
            "justify_content": null,
            "_view_module": "@jupyter-widgets/base",
            "overflow": null,
            "_model_module_version": "1.2.0",
            "_view_count": null,
            "flex_flow": null,
            "width": null,
            "min_width": null,
            "border": null,
            "align_items": null,
            "bottom": null,
            "_model_module": "@jupyter-widgets/base",
            "top": null,
            "grid_column": null,
            "overflow_y": null,
            "overflow_x": null,
            "grid_auto_flow": null,
            "grid_area": null,
            "grid_template_columns": null,
            "flex": null,
            "_model_name": "LayoutModel",
            "justify_items": null,
            "grid_row": null,
            "max_height": null,
            "align_content": null,
            "visibility": null,
            "align_self": null,
            "height": null,
            "min_height": null,
            "padding": null,
            "grid_auto_rows": null,
            "grid_gap": null,
            "max_width": null,
            "order": null,
            "_view_module_version": "1.2.0",
            "grid_template_areas": null,
            "object_position": null,
            "object_fit": null,
            "grid_auto_columns": null,
            "margin": null,
            "display": null,
            "left": null
          }
        },
        "35b1a096213843cf8dbcfae4927ade8b": {
          "model_module": "@jupyter-widgets/controls",
          "model_name": "FloatProgressModel",
          "state": {
            "_view_name": "ProgressView",
            "style": "IPY_MODEL_0071e8296c064471afe36178cef8835c",
            "_dom_classes": [],
            "description": "Epoch 9: 100%",
            "_model_name": "FloatProgressModel",
            "bar_style": "",
            "max": 563,
            "_view_module": "@jupyter-widgets/controls",
            "_model_module_version": "1.5.0",
            "value": 563,
            "_view_count": null,
            "_view_module_version": "1.5.0",
            "orientation": "horizontal",
            "min": 0,
            "description_tooltip": null,
            "_model_module": "@jupyter-widgets/controls",
            "layout": "IPY_MODEL_ec0409a2176f49a6b16dca9ee499516d"
          }
        },
        "0ff7bd34de6d465b87a2f3bf3907baba": {
          "model_module": "@jupyter-widgets/controls",
          "model_name": "HTMLModel",
          "state": {
            "_view_name": "HTMLView",
            "style": "IPY_MODEL_4ecba0f4774a444ea6197d4644dc1ead",
            "_dom_classes": [],
            "description": "",
            "_model_name": "HTMLModel",
            "placeholder": "​",
            "_view_module": "@jupyter-widgets/controls",
            "_model_module_version": "1.5.0",
            "value": " 563/563 [00:05&lt;00:00, 110.62it/s, loss=0.066]",
            "_view_count": null,
            "_view_module_version": "1.5.0",
            "description_tooltip": null,
            "_model_module": "@jupyter-widgets/controls",
            "layout": "IPY_MODEL_85308457ea6f4506b1c206bf554239be"
          }
        },
        "0071e8296c064471afe36178cef8835c": {
          "model_module": "@jupyter-widgets/controls",
          "model_name": "ProgressStyleModel",
          "state": {
            "_view_name": "StyleView",
            "_model_name": "ProgressStyleModel",
            "description_width": "initial",
            "_view_module": "@jupyter-widgets/base",
            "_model_module_version": "1.5.0",
            "_view_count": null,
            "_view_module_version": "1.2.0",
            "bar_color": null,
            "_model_module": "@jupyter-widgets/controls"
          }
        },
        "ec0409a2176f49a6b16dca9ee499516d": {
          "model_module": "@jupyter-widgets/base",
          "model_name": "LayoutModel",
          "state": {
            "_view_name": "LayoutView",
            "grid_template_rows": null,
            "right": null,
            "justify_content": null,
            "_view_module": "@jupyter-widgets/base",
            "overflow": null,
            "_model_module_version": "1.2.0",
            "_view_count": null,
            "flex_flow": null,
            "width": null,
            "min_width": null,
            "border": null,
            "align_items": null,
            "bottom": null,
            "_model_module": "@jupyter-widgets/base",
            "top": null,
            "grid_column": null,
            "overflow_y": null,
            "overflow_x": null,
            "grid_auto_flow": null,
            "grid_area": null,
            "grid_template_columns": null,
            "flex": null,
            "_model_name": "LayoutModel",
            "justify_items": null,
            "grid_row": null,
            "max_height": null,
            "align_content": null,
            "visibility": null,
            "align_self": null,
            "height": null,
            "min_height": null,
            "padding": null,
            "grid_auto_rows": null,
            "grid_gap": null,
            "max_width": null,
            "order": null,
            "_view_module_version": "1.2.0",
            "grid_template_areas": null,
            "object_position": null,
            "object_fit": null,
            "grid_auto_columns": null,
            "margin": null,
            "display": null,
            "left": null
          }
        },
        "4ecba0f4774a444ea6197d4644dc1ead": {
          "model_module": "@jupyter-widgets/controls",
          "model_name": "DescriptionStyleModel",
          "state": {
            "_view_name": "StyleView",
            "_model_name": "DescriptionStyleModel",
            "description_width": "",
            "_view_module": "@jupyter-widgets/base",
            "_model_module_version": "1.5.0",
            "_view_count": null,
            "_view_module_version": "1.2.0",
            "_model_module": "@jupyter-widgets/controls"
          }
        },
        "85308457ea6f4506b1c206bf554239be": {
          "model_module": "@jupyter-widgets/base",
          "model_name": "LayoutModel",
          "state": {
            "_view_name": "LayoutView",
            "grid_template_rows": null,
            "right": null,
            "justify_content": null,
            "_view_module": "@jupyter-widgets/base",
            "overflow": null,
            "_model_module_version": "1.2.0",
            "_view_count": null,
            "flex_flow": null,
            "width": null,
            "min_width": null,
            "border": null,
            "align_items": null,
            "bottom": null,
            "_model_module": "@jupyter-widgets/base",
            "top": null,
            "grid_column": null,
            "overflow_y": null,
            "overflow_x": null,
            "grid_auto_flow": null,
            "grid_area": null,
            "grid_template_columns": null,
            "flex": null,
            "_model_name": "LayoutModel",
            "justify_items": null,
            "grid_row": null,
            "max_height": null,
            "align_content": null,
            "visibility": null,
            "align_self": null,
            "height": null,
            "min_height": null,
            "padding": null,
            "grid_auto_rows": null,
            "grid_gap": null,
            "max_width": null,
            "order": null,
            "_view_module_version": "1.2.0",
            "grid_template_areas": null,
            "object_position": null,
            "object_fit": null,
            "grid_auto_columns": null,
            "margin": null,
            "display": null,
            "left": null
          }
        },
        "cd2b97a2c0b4454aba36216243a59fc6": {
          "model_module": "@jupyter-widgets/controls",
          "model_name": "HBoxModel",
          "state": {
            "_view_name": "HBoxView",
            "_dom_classes": [],
            "_model_name": "HBoxModel",
            "_view_module": "@jupyter-widgets/controls",
            "_model_module_version": "1.5.0",
            "_view_count": null,
            "_view_module_version": "1.5.0",
            "box_style": "",
            "layout": "IPY_MODEL_1906602ffc69476f8abda5eeed2734b3",
            "_model_module": "@jupyter-widgets/controls",
            "children": [
              "IPY_MODEL_87b505031f154e05882ed986ba6658f9",
              "IPY_MODEL_7e116a66d96c46258e2da6f36dee5940"
            ]
          }
        },
        "1906602ffc69476f8abda5eeed2734b3": {
          "model_module": "@jupyter-widgets/base",
          "model_name": "LayoutModel",
          "state": {
            "_view_name": "LayoutView",
            "grid_template_rows": null,
            "right": null,
            "justify_content": null,
            "_view_module": "@jupyter-widgets/base",
            "overflow": null,
            "_model_module_version": "1.2.0",
            "_view_count": null,
            "flex_flow": null,
            "width": null,
            "min_width": null,
            "border": null,
            "align_items": null,
            "bottom": null,
            "_model_module": "@jupyter-widgets/base",
            "top": null,
            "grid_column": null,
            "overflow_y": null,
            "overflow_x": null,
            "grid_auto_flow": null,
            "grid_area": null,
            "grid_template_columns": null,
            "flex": null,
            "_model_name": "LayoutModel",
            "justify_items": null,
            "grid_row": null,
            "max_height": null,
            "align_content": null,
            "visibility": null,
            "align_self": null,
            "height": null,
            "min_height": null,
            "padding": null,
            "grid_auto_rows": null,
            "grid_gap": null,
            "max_width": null,
            "order": null,
            "_view_module_version": "1.2.0",
            "grid_template_areas": null,
            "object_position": null,
            "object_fit": null,
            "grid_auto_columns": null,
            "margin": null,
            "display": null,
            "left": null
          }
        },
        "87b505031f154e05882ed986ba6658f9": {
          "model_module": "@jupyter-widgets/controls",
          "model_name": "FloatProgressModel",
          "state": {
            "_view_name": "ProgressView",
            "style": "IPY_MODEL_40cb2ea46df74239b6fb38da996dd79c",
            "_dom_classes": [],
            "description": "100%",
            "_model_name": "FloatProgressModel",
            "bar_style": "",
            "max": 141,
            "_view_module": "@jupyter-widgets/controls",
            "_model_module_version": "1.5.0",
            "value": 141,
            "_view_count": null,
            "_view_module_version": "1.5.0",
            "orientation": "horizontal",
            "min": 0,
            "description_tooltip": null,
            "_model_module": "@jupyter-widgets/controls",
            "layout": "IPY_MODEL_95657b4d778d4698a2f0f91b8a2fc804"
          }
        },
        "7e116a66d96c46258e2da6f36dee5940": {
          "model_module": "@jupyter-widgets/controls",
          "model_name": "HTMLModel",
          "state": {
            "_view_name": "HTMLView",
            "style": "IPY_MODEL_39e64f44e1f44df5ad7eb3013f9b5fe7",
            "_dom_classes": [],
            "description": "",
            "_model_name": "HTMLModel",
            "placeholder": "​",
            "_view_module": "@jupyter-widgets/controls",
            "_model_module_version": "1.5.0",
            "value": " 141/141 [00:00&lt;00:00, 316.19it/s]",
            "_view_count": null,
            "_view_module_version": "1.5.0",
            "description_tooltip": null,
            "_model_module": "@jupyter-widgets/controls",
            "layout": "IPY_MODEL_b14b015a260347129422d8245247e11e"
          }
        },
        "40cb2ea46df74239b6fb38da996dd79c": {
          "model_module": "@jupyter-widgets/controls",
          "model_name": "ProgressStyleModel",
          "state": {
            "_view_name": "StyleView",
            "_model_name": "ProgressStyleModel",
            "description_width": "initial",
            "_view_module": "@jupyter-widgets/base",
            "_model_module_version": "1.5.0",
            "_view_count": null,
            "_view_module_version": "1.2.0",
            "bar_color": null,
            "_model_module": "@jupyter-widgets/controls"
          }
        },
        "95657b4d778d4698a2f0f91b8a2fc804": {
          "model_module": "@jupyter-widgets/base",
          "model_name": "LayoutModel",
          "state": {
            "_view_name": "LayoutView",
            "grid_template_rows": null,
            "right": null,
            "justify_content": null,
            "_view_module": "@jupyter-widgets/base",
            "overflow": null,
            "_model_module_version": "1.2.0",
            "_view_count": null,
            "flex_flow": null,
            "width": null,
            "min_width": null,
            "border": null,
            "align_items": null,
            "bottom": null,
            "_model_module": "@jupyter-widgets/base",
            "top": null,
            "grid_column": null,
            "overflow_y": null,
            "overflow_x": null,
            "grid_auto_flow": null,
            "grid_area": null,
            "grid_template_columns": null,
            "flex": null,
            "_model_name": "LayoutModel",
            "justify_items": null,
            "grid_row": null,
            "max_height": null,
            "align_content": null,
            "visibility": null,
            "align_self": null,
            "height": null,
            "min_height": null,
            "padding": null,
            "grid_auto_rows": null,
            "grid_gap": null,
            "max_width": null,
            "order": null,
            "_view_module_version": "1.2.0",
            "grid_template_areas": null,
            "object_position": null,
            "object_fit": null,
            "grid_auto_columns": null,
            "margin": null,
            "display": null,
            "left": null
          }
        },
        "39e64f44e1f44df5ad7eb3013f9b5fe7": {
          "model_module": "@jupyter-widgets/controls",
          "model_name": "DescriptionStyleModel",
          "state": {
            "_view_name": "StyleView",
            "_model_name": "DescriptionStyleModel",
            "description_width": "",
            "_view_module": "@jupyter-widgets/base",
            "_model_module_version": "1.5.0",
            "_view_count": null,
            "_view_module_version": "1.2.0",
            "_model_module": "@jupyter-widgets/controls"
          }
        },
        "b14b015a260347129422d8245247e11e": {
          "model_module": "@jupyter-widgets/base",
          "model_name": "LayoutModel",
          "state": {
            "_view_name": "LayoutView",
            "grid_template_rows": null,
            "right": null,
            "justify_content": null,
            "_view_module": "@jupyter-widgets/base",
            "overflow": null,
            "_model_module_version": "1.2.0",
            "_view_count": null,
            "flex_flow": null,
            "width": null,
            "min_width": null,
            "border": null,
            "align_items": null,
            "bottom": null,
            "_model_module": "@jupyter-widgets/base",
            "top": null,
            "grid_column": null,
            "overflow_y": null,
            "overflow_x": null,
            "grid_auto_flow": null,
            "grid_area": null,
            "grid_template_columns": null,
            "flex": null,
            "_model_name": "LayoutModel",
            "justify_items": null,
            "grid_row": null,
            "max_height": null,
            "align_content": null,
            "visibility": null,
            "align_self": null,
            "height": null,
            "min_height": null,
            "padding": null,
            "grid_auto_rows": null,
            "grid_gap": null,
            "max_width": null,
            "order": null,
            "_view_module_version": "1.2.0",
            "grid_template_areas": null,
            "object_position": null,
            "object_fit": null,
            "grid_auto_columns": null,
            "margin": null,
            "display": null,
            "left": null
          }
        },
        "af3eb85e50894d8ba2168648290071b8": {
          "model_module": "@jupyter-widgets/controls",
          "model_name": "HBoxModel",
          "state": {
            "_view_name": "HBoxView",
            "_dom_classes": [],
            "_model_name": "HBoxModel",
            "_view_module": "@jupyter-widgets/controls",
            "_model_module_version": "1.5.0",
            "_view_count": null,
            "_view_module_version": "1.5.0",
            "box_style": "",
            "layout": "IPY_MODEL_cc58516a78ed4251b16bfb5acd2d53b2",
            "_model_module": "@jupyter-widgets/controls",
            "children": [
              "IPY_MODEL_22e58d742a6d468b9d5d809e7bf50abe",
              "IPY_MODEL_f500ac2b4f754efa89831d1752c9d7e0"
            ]
          }
        },
        "cc58516a78ed4251b16bfb5acd2d53b2": {
          "model_module": "@jupyter-widgets/base",
          "model_name": "LayoutModel",
          "state": {
            "_view_name": "LayoutView",
            "grid_template_rows": null,
            "right": null,
            "justify_content": null,
            "_view_module": "@jupyter-widgets/base",
            "overflow": null,
            "_model_module_version": "1.2.0",
            "_view_count": null,
            "flex_flow": null,
            "width": null,
            "min_width": null,
            "border": null,
            "align_items": null,
            "bottom": null,
            "_model_module": "@jupyter-widgets/base",
            "top": null,
            "grid_column": null,
            "overflow_y": null,
            "overflow_x": null,
            "grid_auto_flow": null,
            "grid_area": null,
            "grid_template_columns": null,
            "flex": null,
            "_model_name": "LayoutModel",
            "justify_items": null,
            "grid_row": null,
            "max_height": null,
            "align_content": null,
            "visibility": null,
            "align_self": null,
            "height": null,
            "min_height": null,
            "padding": null,
            "grid_auto_rows": null,
            "grid_gap": null,
            "max_width": null,
            "order": null,
            "_view_module_version": "1.2.0",
            "grid_template_areas": null,
            "object_position": null,
            "object_fit": null,
            "grid_auto_columns": null,
            "margin": null,
            "display": null,
            "left": null
          }
        },
        "22e58d742a6d468b9d5d809e7bf50abe": {
          "model_module": "@jupyter-widgets/controls",
          "model_name": "FloatProgressModel",
          "state": {
            "_view_name": "ProgressView",
            "style": "IPY_MODEL_1bbe45d865a44bedb627217d553e027d",
            "_dom_classes": [],
            "description": "Epoch 10: 100%",
            "_model_name": "FloatProgressModel",
            "bar_style": "",
            "max": 563,
            "_view_module": "@jupyter-widgets/controls",
            "_model_module_version": "1.5.0",
            "value": 563,
            "_view_count": null,
            "_view_module_version": "1.5.0",
            "orientation": "horizontal",
            "min": 0,
            "description_tooltip": null,
            "_model_module": "@jupyter-widgets/controls",
            "layout": "IPY_MODEL_16249da6281b425cbc428c4d9211d908"
          }
        },
        "f500ac2b4f754efa89831d1752c9d7e0": {
          "model_module": "@jupyter-widgets/controls",
          "model_name": "HTMLModel",
          "state": {
            "_view_name": "HTMLView",
            "style": "IPY_MODEL_57a98606b6894ab98cf11ed4e9405bec",
            "_dom_classes": [],
            "description": "",
            "_model_name": "HTMLModel",
            "placeholder": "​",
            "_view_module": "@jupyter-widgets/controls",
            "_model_module_version": "1.5.0",
            "value": " 563/563 [00:05&lt;00:00, 120.23it/s, loss=0.129]",
            "_view_count": null,
            "_view_module_version": "1.5.0",
            "description_tooltip": null,
            "_model_module": "@jupyter-widgets/controls",
            "layout": "IPY_MODEL_68ce4a4f915643b0aa74171b60391211"
          }
        },
        "1bbe45d865a44bedb627217d553e027d": {
          "model_module": "@jupyter-widgets/controls",
          "model_name": "ProgressStyleModel",
          "state": {
            "_view_name": "StyleView",
            "_model_name": "ProgressStyleModel",
            "description_width": "initial",
            "_view_module": "@jupyter-widgets/base",
            "_model_module_version": "1.5.0",
            "_view_count": null,
            "_view_module_version": "1.2.0",
            "bar_color": null,
            "_model_module": "@jupyter-widgets/controls"
          }
        },
        "16249da6281b425cbc428c4d9211d908": {
          "model_module": "@jupyter-widgets/base",
          "model_name": "LayoutModel",
          "state": {
            "_view_name": "LayoutView",
            "grid_template_rows": null,
            "right": null,
            "justify_content": null,
            "_view_module": "@jupyter-widgets/base",
            "overflow": null,
            "_model_module_version": "1.2.0",
            "_view_count": null,
            "flex_flow": null,
            "width": null,
            "min_width": null,
            "border": null,
            "align_items": null,
            "bottom": null,
            "_model_module": "@jupyter-widgets/base",
            "top": null,
            "grid_column": null,
            "overflow_y": null,
            "overflow_x": null,
            "grid_auto_flow": null,
            "grid_area": null,
            "grid_template_columns": null,
            "flex": null,
            "_model_name": "LayoutModel",
            "justify_items": null,
            "grid_row": null,
            "max_height": null,
            "align_content": null,
            "visibility": null,
            "align_self": null,
            "height": null,
            "min_height": null,
            "padding": null,
            "grid_auto_rows": null,
            "grid_gap": null,
            "max_width": null,
            "order": null,
            "_view_module_version": "1.2.0",
            "grid_template_areas": null,
            "object_position": null,
            "object_fit": null,
            "grid_auto_columns": null,
            "margin": null,
            "display": null,
            "left": null
          }
        },
        "57a98606b6894ab98cf11ed4e9405bec": {
          "model_module": "@jupyter-widgets/controls",
          "model_name": "DescriptionStyleModel",
          "state": {
            "_view_name": "StyleView",
            "_model_name": "DescriptionStyleModel",
            "description_width": "",
            "_view_module": "@jupyter-widgets/base",
            "_model_module_version": "1.5.0",
            "_view_count": null,
            "_view_module_version": "1.2.0",
            "_model_module": "@jupyter-widgets/controls"
          }
        },
        "68ce4a4f915643b0aa74171b60391211": {
          "model_module": "@jupyter-widgets/base",
          "model_name": "LayoutModel",
          "state": {
            "_view_name": "LayoutView",
            "grid_template_rows": null,
            "right": null,
            "justify_content": null,
            "_view_module": "@jupyter-widgets/base",
            "overflow": null,
            "_model_module_version": "1.2.0",
            "_view_count": null,
            "flex_flow": null,
            "width": null,
            "min_width": null,
            "border": null,
            "align_items": null,
            "bottom": null,
            "_model_module": "@jupyter-widgets/base",
            "top": null,
            "grid_column": null,
            "overflow_y": null,
            "overflow_x": null,
            "grid_auto_flow": null,
            "grid_area": null,
            "grid_template_columns": null,
            "flex": null,
            "_model_name": "LayoutModel",
            "justify_items": null,
            "grid_row": null,
            "max_height": null,
            "align_content": null,
            "visibility": null,
            "align_self": null,
            "height": null,
            "min_height": null,
            "padding": null,
            "grid_auto_rows": null,
            "grid_gap": null,
            "max_width": null,
            "order": null,
            "_view_module_version": "1.2.0",
            "grid_template_areas": null,
            "object_position": null,
            "object_fit": null,
            "grid_auto_columns": null,
            "margin": null,
            "display": null,
            "left": null
          }
        },
        "f1c2fb8c091945988e4d1b9d1479e723": {
          "model_module": "@jupyter-widgets/controls",
          "model_name": "HBoxModel",
          "state": {
            "_view_name": "HBoxView",
            "_dom_classes": [],
            "_model_name": "HBoxModel",
            "_view_module": "@jupyter-widgets/controls",
            "_model_module_version": "1.5.0",
            "_view_count": null,
            "_view_module_version": "1.5.0",
            "box_style": "",
            "layout": "IPY_MODEL_ff80230b59be43d6b6e6df7a9cf040e6",
            "_model_module": "@jupyter-widgets/controls",
            "children": [
              "IPY_MODEL_493d715d2b6149108d7cdb8186deb49e",
              "IPY_MODEL_17fc4cfa30544559ad9f771299817931"
            ]
          }
        },
        "ff80230b59be43d6b6e6df7a9cf040e6": {
          "model_module": "@jupyter-widgets/base",
          "model_name": "LayoutModel",
          "state": {
            "_view_name": "LayoutView",
            "grid_template_rows": null,
            "right": null,
            "justify_content": null,
            "_view_module": "@jupyter-widgets/base",
            "overflow": null,
            "_model_module_version": "1.2.0",
            "_view_count": null,
            "flex_flow": null,
            "width": null,
            "min_width": null,
            "border": null,
            "align_items": null,
            "bottom": null,
            "_model_module": "@jupyter-widgets/base",
            "top": null,
            "grid_column": null,
            "overflow_y": null,
            "overflow_x": null,
            "grid_auto_flow": null,
            "grid_area": null,
            "grid_template_columns": null,
            "flex": null,
            "_model_name": "LayoutModel",
            "justify_items": null,
            "grid_row": null,
            "max_height": null,
            "align_content": null,
            "visibility": null,
            "align_self": null,
            "height": null,
            "min_height": null,
            "padding": null,
            "grid_auto_rows": null,
            "grid_gap": null,
            "max_width": null,
            "order": null,
            "_view_module_version": "1.2.0",
            "grid_template_areas": null,
            "object_position": null,
            "object_fit": null,
            "grid_auto_columns": null,
            "margin": null,
            "display": null,
            "left": null
          }
        },
        "493d715d2b6149108d7cdb8186deb49e": {
          "model_module": "@jupyter-widgets/controls",
          "model_name": "FloatProgressModel",
          "state": {
            "_view_name": "ProgressView",
            "style": "IPY_MODEL_218da0c37eeb44efb2609cf61d3dbeee",
            "_dom_classes": [],
            "description": "100%",
            "_model_name": "FloatProgressModel",
            "bar_style": "",
            "max": 141,
            "_view_module": "@jupyter-widgets/controls",
            "_model_module_version": "1.5.0",
            "value": 141,
            "_view_count": null,
            "_view_module_version": "1.5.0",
            "orientation": "horizontal",
            "min": 0,
            "description_tooltip": null,
            "_model_module": "@jupyter-widgets/controls",
            "layout": "IPY_MODEL_cd740dd76c29490e84ae08d9a395ba03"
          }
        },
        "17fc4cfa30544559ad9f771299817931": {
          "model_module": "@jupyter-widgets/controls",
          "model_name": "HTMLModel",
          "state": {
            "_view_name": "HTMLView",
            "style": "IPY_MODEL_0a82a5764aa344bb96d76206151ca9bf",
            "_dom_classes": [],
            "description": "",
            "_model_name": "HTMLModel",
            "placeholder": "​",
            "_view_module": "@jupyter-widgets/controls",
            "_model_module_version": "1.5.0",
            "value": " 141/141 [00:00&lt;00:00, 284.54it/s]",
            "_view_count": null,
            "_view_module_version": "1.5.0",
            "description_tooltip": null,
            "_model_module": "@jupyter-widgets/controls",
            "layout": "IPY_MODEL_9650ca654549427493951be0c97e4200"
          }
        },
        "218da0c37eeb44efb2609cf61d3dbeee": {
          "model_module": "@jupyter-widgets/controls",
          "model_name": "ProgressStyleModel",
          "state": {
            "_view_name": "StyleView",
            "_model_name": "ProgressStyleModel",
            "description_width": "initial",
            "_view_module": "@jupyter-widgets/base",
            "_model_module_version": "1.5.0",
            "_view_count": null,
            "_view_module_version": "1.2.0",
            "bar_color": null,
            "_model_module": "@jupyter-widgets/controls"
          }
        },
        "cd740dd76c29490e84ae08d9a395ba03": {
          "model_module": "@jupyter-widgets/base",
          "model_name": "LayoutModel",
          "state": {
            "_view_name": "LayoutView",
            "grid_template_rows": null,
            "right": null,
            "justify_content": null,
            "_view_module": "@jupyter-widgets/base",
            "overflow": null,
            "_model_module_version": "1.2.0",
            "_view_count": null,
            "flex_flow": null,
            "width": null,
            "min_width": null,
            "border": null,
            "align_items": null,
            "bottom": null,
            "_model_module": "@jupyter-widgets/base",
            "top": null,
            "grid_column": null,
            "overflow_y": null,
            "overflow_x": null,
            "grid_auto_flow": null,
            "grid_area": null,
            "grid_template_columns": null,
            "flex": null,
            "_model_name": "LayoutModel",
            "justify_items": null,
            "grid_row": null,
            "max_height": null,
            "align_content": null,
            "visibility": null,
            "align_self": null,
            "height": null,
            "min_height": null,
            "padding": null,
            "grid_auto_rows": null,
            "grid_gap": null,
            "max_width": null,
            "order": null,
            "_view_module_version": "1.2.0",
            "grid_template_areas": null,
            "object_position": null,
            "object_fit": null,
            "grid_auto_columns": null,
            "margin": null,
            "display": null,
            "left": null
          }
        },
        "0a82a5764aa344bb96d76206151ca9bf": {
          "model_module": "@jupyter-widgets/controls",
          "model_name": "DescriptionStyleModel",
          "state": {
            "_view_name": "StyleView",
            "_model_name": "DescriptionStyleModel",
            "description_width": "",
            "_view_module": "@jupyter-widgets/base",
            "_model_module_version": "1.5.0",
            "_view_count": null,
            "_view_module_version": "1.2.0",
            "_model_module": "@jupyter-widgets/controls"
          }
        },
        "9650ca654549427493951be0c97e4200": {
          "model_module": "@jupyter-widgets/base",
          "model_name": "LayoutModel",
          "state": {
            "_view_name": "LayoutView",
            "grid_template_rows": null,
            "right": null,
            "justify_content": null,
            "_view_module": "@jupyter-widgets/base",
            "overflow": null,
            "_model_module_version": "1.2.0",
            "_view_count": null,
            "flex_flow": null,
            "width": null,
            "min_width": null,
            "border": null,
            "align_items": null,
            "bottom": null,
            "_model_module": "@jupyter-widgets/base",
            "top": null,
            "grid_column": null,
            "overflow_y": null,
            "overflow_x": null,
            "grid_auto_flow": null,
            "grid_area": null,
            "grid_template_columns": null,
            "flex": null,
            "_model_name": "LayoutModel",
            "justify_items": null,
            "grid_row": null,
            "max_height": null,
            "align_content": null,
            "visibility": null,
            "align_self": null,
            "height": null,
            "min_height": null,
            "padding": null,
            "grid_auto_rows": null,
            "grid_gap": null,
            "max_width": null,
            "order": null,
            "_view_module_version": "1.2.0",
            "grid_template_areas": null,
            "object_position": null,
            "object_fit": null,
            "grid_auto_columns": null,
            "margin": null,
            "display": null,
            "left": null
          }
        },
        "101fed167e5d478bbfe384d2151d3d4a": {
          "model_module": "@jupyter-widgets/controls",
          "model_name": "HBoxModel",
          "state": {
            "_view_name": "HBoxView",
            "_dom_classes": [],
            "_model_name": "HBoxModel",
            "_view_module": "@jupyter-widgets/controls",
            "_model_module_version": "1.5.0",
            "_view_count": null,
            "_view_module_version": "1.5.0",
            "box_style": "",
            "layout": "IPY_MODEL_d131cf50d62e42dd8be3cfabae3e8af4",
            "_model_module": "@jupyter-widgets/controls",
            "children": [
              "IPY_MODEL_8d5bbbdca21a438c8e3044d7c8ff4b9d",
              "IPY_MODEL_905cc6e2203641f2a0ae43c75bbc7afe"
            ]
          }
        },
        "d131cf50d62e42dd8be3cfabae3e8af4": {
          "model_module": "@jupyter-widgets/base",
          "model_name": "LayoutModel",
          "state": {
            "_view_name": "LayoutView",
            "grid_template_rows": null,
            "right": null,
            "justify_content": null,
            "_view_module": "@jupyter-widgets/base",
            "overflow": null,
            "_model_module_version": "1.2.0",
            "_view_count": null,
            "flex_flow": null,
            "width": null,
            "min_width": null,
            "border": null,
            "align_items": null,
            "bottom": null,
            "_model_module": "@jupyter-widgets/base",
            "top": null,
            "grid_column": null,
            "overflow_y": null,
            "overflow_x": null,
            "grid_auto_flow": null,
            "grid_area": null,
            "grid_template_columns": null,
            "flex": null,
            "_model_name": "LayoutModel",
            "justify_items": null,
            "grid_row": null,
            "max_height": null,
            "align_content": null,
            "visibility": null,
            "align_self": null,
            "height": null,
            "min_height": null,
            "padding": null,
            "grid_auto_rows": null,
            "grid_gap": null,
            "max_width": null,
            "order": null,
            "_view_module_version": "1.2.0",
            "grid_template_areas": null,
            "object_position": null,
            "object_fit": null,
            "grid_auto_columns": null,
            "margin": null,
            "display": null,
            "left": null
          }
        },
        "8d5bbbdca21a438c8e3044d7c8ff4b9d": {
          "model_module": "@jupyter-widgets/controls",
          "model_name": "FloatProgressModel",
          "state": {
            "_view_name": "ProgressView",
            "style": "IPY_MODEL_b3e38f167025493d8f5cf13bd6811d8c",
            "_dom_classes": [],
            "description": "Epoch 11: 100%",
            "_model_name": "FloatProgressModel",
            "bar_style": "",
            "max": 563,
            "_view_module": "@jupyter-widgets/controls",
            "_model_module_version": "1.5.0",
            "value": 563,
            "_view_count": null,
            "_view_module_version": "1.5.0",
            "orientation": "horizontal",
            "min": 0,
            "description_tooltip": null,
            "_model_module": "@jupyter-widgets/controls",
            "layout": "IPY_MODEL_b2b2086fd50f4c1784ff3e387c97c80a"
          }
        },
        "905cc6e2203641f2a0ae43c75bbc7afe": {
          "model_module": "@jupyter-widgets/controls",
          "model_name": "HTMLModel",
          "state": {
            "_view_name": "HTMLView",
            "style": "IPY_MODEL_8e5c7754987f4d3480d940de156952d7",
            "_dom_classes": [],
            "description": "",
            "_model_name": "HTMLModel",
            "placeholder": "​",
            "_view_module": "@jupyter-widgets/controls",
            "_model_module_version": "1.5.0",
            "value": " 563/563 [00:05&lt;00:00, 113.75it/s, loss=0.0805]",
            "_view_count": null,
            "_view_module_version": "1.5.0",
            "description_tooltip": null,
            "_model_module": "@jupyter-widgets/controls",
            "layout": "IPY_MODEL_fa71a39f25dd4721a4f95f020713cf19"
          }
        },
        "b3e38f167025493d8f5cf13bd6811d8c": {
          "model_module": "@jupyter-widgets/controls",
          "model_name": "ProgressStyleModel",
          "state": {
            "_view_name": "StyleView",
            "_model_name": "ProgressStyleModel",
            "description_width": "initial",
            "_view_module": "@jupyter-widgets/base",
            "_model_module_version": "1.5.0",
            "_view_count": null,
            "_view_module_version": "1.2.0",
            "bar_color": null,
            "_model_module": "@jupyter-widgets/controls"
          }
        },
        "b2b2086fd50f4c1784ff3e387c97c80a": {
          "model_module": "@jupyter-widgets/base",
          "model_name": "LayoutModel",
          "state": {
            "_view_name": "LayoutView",
            "grid_template_rows": null,
            "right": null,
            "justify_content": null,
            "_view_module": "@jupyter-widgets/base",
            "overflow": null,
            "_model_module_version": "1.2.0",
            "_view_count": null,
            "flex_flow": null,
            "width": null,
            "min_width": null,
            "border": null,
            "align_items": null,
            "bottom": null,
            "_model_module": "@jupyter-widgets/base",
            "top": null,
            "grid_column": null,
            "overflow_y": null,
            "overflow_x": null,
            "grid_auto_flow": null,
            "grid_area": null,
            "grid_template_columns": null,
            "flex": null,
            "_model_name": "LayoutModel",
            "justify_items": null,
            "grid_row": null,
            "max_height": null,
            "align_content": null,
            "visibility": null,
            "align_self": null,
            "height": null,
            "min_height": null,
            "padding": null,
            "grid_auto_rows": null,
            "grid_gap": null,
            "max_width": null,
            "order": null,
            "_view_module_version": "1.2.0",
            "grid_template_areas": null,
            "object_position": null,
            "object_fit": null,
            "grid_auto_columns": null,
            "margin": null,
            "display": null,
            "left": null
          }
        },
        "8e5c7754987f4d3480d940de156952d7": {
          "model_module": "@jupyter-widgets/controls",
          "model_name": "DescriptionStyleModel",
          "state": {
            "_view_name": "StyleView",
            "_model_name": "DescriptionStyleModel",
            "description_width": "",
            "_view_module": "@jupyter-widgets/base",
            "_model_module_version": "1.5.0",
            "_view_count": null,
            "_view_module_version": "1.2.0",
            "_model_module": "@jupyter-widgets/controls"
          }
        },
        "fa71a39f25dd4721a4f95f020713cf19": {
          "model_module": "@jupyter-widgets/base",
          "model_name": "LayoutModel",
          "state": {
            "_view_name": "LayoutView",
            "grid_template_rows": null,
            "right": null,
            "justify_content": null,
            "_view_module": "@jupyter-widgets/base",
            "overflow": null,
            "_model_module_version": "1.2.0",
            "_view_count": null,
            "flex_flow": null,
            "width": null,
            "min_width": null,
            "border": null,
            "align_items": null,
            "bottom": null,
            "_model_module": "@jupyter-widgets/base",
            "top": null,
            "grid_column": null,
            "overflow_y": null,
            "overflow_x": null,
            "grid_auto_flow": null,
            "grid_area": null,
            "grid_template_columns": null,
            "flex": null,
            "_model_name": "LayoutModel",
            "justify_items": null,
            "grid_row": null,
            "max_height": null,
            "align_content": null,
            "visibility": null,
            "align_self": null,
            "height": null,
            "min_height": null,
            "padding": null,
            "grid_auto_rows": null,
            "grid_gap": null,
            "max_width": null,
            "order": null,
            "_view_module_version": "1.2.0",
            "grid_template_areas": null,
            "object_position": null,
            "object_fit": null,
            "grid_auto_columns": null,
            "margin": null,
            "display": null,
            "left": null
          }
        },
        "0d91f4cd75704153ae5c4abe9e6eaed1": {
          "model_module": "@jupyter-widgets/controls",
          "model_name": "HBoxModel",
          "state": {
            "_view_name": "HBoxView",
            "_dom_classes": [],
            "_model_name": "HBoxModel",
            "_view_module": "@jupyter-widgets/controls",
            "_model_module_version": "1.5.0",
            "_view_count": null,
            "_view_module_version": "1.5.0",
            "box_style": "",
            "layout": "IPY_MODEL_9e1f37ab42bd48758de1758b69723711",
            "_model_module": "@jupyter-widgets/controls",
            "children": [
              "IPY_MODEL_4c3217044d79479199b35deaf72bd42d",
              "IPY_MODEL_241a16350cb74eedbcd9430e2875fa9f"
            ]
          }
        },
        "9e1f37ab42bd48758de1758b69723711": {
          "model_module": "@jupyter-widgets/base",
          "model_name": "LayoutModel",
          "state": {
            "_view_name": "LayoutView",
            "grid_template_rows": null,
            "right": null,
            "justify_content": null,
            "_view_module": "@jupyter-widgets/base",
            "overflow": null,
            "_model_module_version": "1.2.0",
            "_view_count": null,
            "flex_flow": null,
            "width": null,
            "min_width": null,
            "border": null,
            "align_items": null,
            "bottom": null,
            "_model_module": "@jupyter-widgets/base",
            "top": null,
            "grid_column": null,
            "overflow_y": null,
            "overflow_x": null,
            "grid_auto_flow": null,
            "grid_area": null,
            "grid_template_columns": null,
            "flex": null,
            "_model_name": "LayoutModel",
            "justify_items": null,
            "grid_row": null,
            "max_height": null,
            "align_content": null,
            "visibility": null,
            "align_self": null,
            "height": null,
            "min_height": null,
            "padding": null,
            "grid_auto_rows": null,
            "grid_gap": null,
            "max_width": null,
            "order": null,
            "_view_module_version": "1.2.0",
            "grid_template_areas": null,
            "object_position": null,
            "object_fit": null,
            "grid_auto_columns": null,
            "margin": null,
            "display": null,
            "left": null
          }
        },
        "4c3217044d79479199b35deaf72bd42d": {
          "model_module": "@jupyter-widgets/controls",
          "model_name": "FloatProgressModel",
          "state": {
            "_view_name": "ProgressView",
            "style": "IPY_MODEL_b292e0c8eb144034945da39edacf9f2f",
            "_dom_classes": [],
            "description": "100%",
            "_model_name": "FloatProgressModel",
            "bar_style": "",
            "max": 141,
            "_view_module": "@jupyter-widgets/controls",
            "_model_module_version": "1.5.0",
            "value": 141,
            "_view_count": null,
            "_view_module_version": "1.5.0",
            "orientation": "horizontal",
            "min": 0,
            "description_tooltip": null,
            "_model_module": "@jupyter-widgets/controls",
            "layout": "IPY_MODEL_314dd585b808402d9cd1fbac66425bea"
          }
        },
        "241a16350cb74eedbcd9430e2875fa9f": {
          "model_module": "@jupyter-widgets/controls",
          "model_name": "HTMLModel",
          "state": {
            "_view_name": "HTMLView",
            "style": "IPY_MODEL_696e526409c346b3b34636ed2a8c982d",
            "_dom_classes": [],
            "description": "",
            "_model_name": "HTMLModel",
            "placeholder": "​",
            "_view_module": "@jupyter-widgets/controls",
            "_model_module_version": "1.5.0",
            "value": " 141/141 [00:00&lt;00:00, 281.20it/s]",
            "_view_count": null,
            "_view_module_version": "1.5.0",
            "description_tooltip": null,
            "_model_module": "@jupyter-widgets/controls",
            "layout": "IPY_MODEL_3b24efb397f647ba9d8e246ee5542a92"
          }
        },
        "b292e0c8eb144034945da39edacf9f2f": {
          "model_module": "@jupyter-widgets/controls",
          "model_name": "ProgressStyleModel",
          "state": {
            "_view_name": "StyleView",
            "_model_name": "ProgressStyleModel",
            "description_width": "initial",
            "_view_module": "@jupyter-widgets/base",
            "_model_module_version": "1.5.0",
            "_view_count": null,
            "_view_module_version": "1.2.0",
            "bar_color": null,
            "_model_module": "@jupyter-widgets/controls"
          }
        },
        "314dd585b808402d9cd1fbac66425bea": {
          "model_module": "@jupyter-widgets/base",
          "model_name": "LayoutModel",
          "state": {
            "_view_name": "LayoutView",
            "grid_template_rows": null,
            "right": null,
            "justify_content": null,
            "_view_module": "@jupyter-widgets/base",
            "overflow": null,
            "_model_module_version": "1.2.0",
            "_view_count": null,
            "flex_flow": null,
            "width": null,
            "min_width": null,
            "border": null,
            "align_items": null,
            "bottom": null,
            "_model_module": "@jupyter-widgets/base",
            "top": null,
            "grid_column": null,
            "overflow_y": null,
            "overflow_x": null,
            "grid_auto_flow": null,
            "grid_area": null,
            "grid_template_columns": null,
            "flex": null,
            "_model_name": "LayoutModel",
            "justify_items": null,
            "grid_row": null,
            "max_height": null,
            "align_content": null,
            "visibility": null,
            "align_self": null,
            "height": null,
            "min_height": null,
            "padding": null,
            "grid_auto_rows": null,
            "grid_gap": null,
            "max_width": null,
            "order": null,
            "_view_module_version": "1.2.0",
            "grid_template_areas": null,
            "object_position": null,
            "object_fit": null,
            "grid_auto_columns": null,
            "margin": null,
            "display": null,
            "left": null
          }
        },
        "696e526409c346b3b34636ed2a8c982d": {
          "model_module": "@jupyter-widgets/controls",
          "model_name": "DescriptionStyleModel",
          "state": {
            "_view_name": "StyleView",
            "_model_name": "DescriptionStyleModel",
            "description_width": "",
            "_view_module": "@jupyter-widgets/base",
            "_model_module_version": "1.5.0",
            "_view_count": null,
            "_view_module_version": "1.2.0",
            "_model_module": "@jupyter-widgets/controls"
          }
        },
        "3b24efb397f647ba9d8e246ee5542a92": {
          "model_module": "@jupyter-widgets/base",
          "model_name": "LayoutModel",
          "state": {
            "_view_name": "LayoutView",
            "grid_template_rows": null,
            "right": null,
            "justify_content": null,
            "_view_module": "@jupyter-widgets/base",
            "overflow": null,
            "_model_module_version": "1.2.0",
            "_view_count": null,
            "flex_flow": null,
            "width": null,
            "min_width": null,
            "border": null,
            "align_items": null,
            "bottom": null,
            "_model_module": "@jupyter-widgets/base",
            "top": null,
            "grid_column": null,
            "overflow_y": null,
            "overflow_x": null,
            "grid_auto_flow": null,
            "grid_area": null,
            "grid_template_columns": null,
            "flex": null,
            "_model_name": "LayoutModel",
            "justify_items": null,
            "grid_row": null,
            "max_height": null,
            "align_content": null,
            "visibility": null,
            "align_self": null,
            "height": null,
            "min_height": null,
            "padding": null,
            "grid_auto_rows": null,
            "grid_gap": null,
            "max_width": null,
            "order": null,
            "_view_module_version": "1.2.0",
            "grid_template_areas": null,
            "object_position": null,
            "object_fit": null,
            "grid_auto_columns": null,
            "margin": null,
            "display": null,
            "left": null
          }
        },
        "91d8a7c2f6224d2ba08dda52f0081599": {
          "model_module": "@jupyter-widgets/controls",
          "model_name": "HBoxModel",
          "state": {
            "_view_name": "HBoxView",
            "_dom_classes": [],
            "_model_name": "HBoxModel",
            "_view_module": "@jupyter-widgets/controls",
            "_model_module_version": "1.5.0",
            "_view_count": null,
            "_view_module_version": "1.5.0",
            "box_style": "",
            "layout": "IPY_MODEL_7f03feabca724055a7f5d0756bcd2ffb",
            "_model_module": "@jupyter-widgets/controls",
            "children": [
              "IPY_MODEL_b283717a7a6b46fd93fe7ec778c2518b",
              "IPY_MODEL_2dfab0ed2c724ebab42840760ba38608"
            ]
          }
        },
        "7f03feabca724055a7f5d0756bcd2ffb": {
          "model_module": "@jupyter-widgets/base",
          "model_name": "LayoutModel",
          "state": {
            "_view_name": "LayoutView",
            "grid_template_rows": null,
            "right": null,
            "justify_content": null,
            "_view_module": "@jupyter-widgets/base",
            "overflow": null,
            "_model_module_version": "1.2.0",
            "_view_count": null,
            "flex_flow": null,
            "width": null,
            "min_width": null,
            "border": null,
            "align_items": null,
            "bottom": null,
            "_model_module": "@jupyter-widgets/base",
            "top": null,
            "grid_column": null,
            "overflow_y": null,
            "overflow_x": null,
            "grid_auto_flow": null,
            "grid_area": null,
            "grid_template_columns": null,
            "flex": null,
            "_model_name": "LayoutModel",
            "justify_items": null,
            "grid_row": null,
            "max_height": null,
            "align_content": null,
            "visibility": null,
            "align_self": null,
            "height": null,
            "min_height": null,
            "padding": null,
            "grid_auto_rows": null,
            "grid_gap": null,
            "max_width": null,
            "order": null,
            "_view_module_version": "1.2.0",
            "grid_template_areas": null,
            "object_position": null,
            "object_fit": null,
            "grid_auto_columns": null,
            "margin": null,
            "display": null,
            "left": null
          }
        },
        "b283717a7a6b46fd93fe7ec778c2518b": {
          "model_module": "@jupyter-widgets/controls",
          "model_name": "FloatProgressModel",
          "state": {
            "_view_name": "ProgressView",
            "style": "IPY_MODEL_9c0dd9a6b0034cf98b700b367d6d63fb",
            "_dom_classes": [],
            "description": "Epoch 12: 100%",
            "_model_name": "FloatProgressModel",
            "bar_style": "",
            "max": 563,
            "_view_module": "@jupyter-widgets/controls",
            "_model_module_version": "1.5.0",
            "value": 563,
            "_view_count": null,
            "_view_module_version": "1.5.0",
            "orientation": "horizontal",
            "min": 0,
            "description_tooltip": null,
            "_model_module": "@jupyter-widgets/controls",
            "layout": "IPY_MODEL_1e2f88d488df45bcb3c2b67bb66d6a70"
          }
        },
        "2dfab0ed2c724ebab42840760ba38608": {
          "model_module": "@jupyter-widgets/controls",
          "model_name": "HTMLModel",
          "state": {
            "_view_name": "HTMLView",
            "style": "IPY_MODEL_b79b0428b02644af822a0064329c2614",
            "_dom_classes": [],
            "description": "",
            "_model_name": "HTMLModel",
            "placeholder": "​",
            "_view_module": "@jupyter-widgets/controls",
            "_model_module_version": "1.5.0",
            "value": " 563/563 [00:05&lt;00:00, 111.54it/s, loss=0.153]",
            "_view_count": null,
            "_view_module_version": "1.5.0",
            "description_tooltip": null,
            "_model_module": "@jupyter-widgets/controls",
            "layout": "IPY_MODEL_5b504da00a8b4578891ab22da150a2cd"
          }
        },
        "9c0dd9a6b0034cf98b700b367d6d63fb": {
          "model_module": "@jupyter-widgets/controls",
          "model_name": "ProgressStyleModel",
          "state": {
            "_view_name": "StyleView",
            "_model_name": "ProgressStyleModel",
            "description_width": "initial",
            "_view_module": "@jupyter-widgets/base",
            "_model_module_version": "1.5.0",
            "_view_count": null,
            "_view_module_version": "1.2.0",
            "bar_color": null,
            "_model_module": "@jupyter-widgets/controls"
          }
        },
        "1e2f88d488df45bcb3c2b67bb66d6a70": {
          "model_module": "@jupyter-widgets/base",
          "model_name": "LayoutModel",
          "state": {
            "_view_name": "LayoutView",
            "grid_template_rows": null,
            "right": null,
            "justify_content": null,
            "_view_module": "@jupyter-widgets/base",
            "overflow": null,
            "_model_module_version": "1.2.0",
            "_view_count": null,
            "flex_flow": null,
            "width": null,
            "min_width": null,
            "border": null,
            "align_items": null,
            "bottom": null,
            "_model_module": "@jupyter-widgets/base",
            "top": null,
            "grid_column": null,
            "overflow_y": null,
            "overflow_x": null,
            "grid_auto_flow": null,
            "grid_area": null,
            "grid_template_columns": null,
            "flex": null,
            "_model_name": "LayoutModel",
            "justify_items": null,
            "grid_row": null,
            "max_height": null,
            "align_content": null,
            "visibility": null,
            "align_self": null,
            "height": null,
            "min_height": null,
            "padding": null,
            "grid_auto_rows": null,
            "grid_gap": null,
            "max_width": null,
            "order": null,
            "_view_module_version": "1.2.0",
            "grid_template_areas": null,
            "object_position": null,
            "object_fit": null,
            "grid_auto_columns": null,
            "margin": null,
            "display": null,
            "left": null
          }
        },
        "b79b0428b02644af822a0064329c2614": {
          "model_module": "@jupyter-widgets/controls",
          "model_name": "DescriptionStyleModel",
          "state": {
            "_view_name": "StyleView",
            "_model_name": "DescriptionStyleModel",
            "description_width": "",
            "_view_module": "@jupyter-widgets/base",
            "_model_module_version": "1.5.0",
            "_view_count": null,
            "_view_module_version": "1.2.0",
            "_model_module": "@jupyter-widgets/controls"
          }
        },
        "5b504da00a8b4578891ab22da150a2cd": {
          "model_module": "@jupyter-widgets/base",
          "model_name": "LayoutModel",
          "state": {
            "_view_name": "LayoutView",
            "grid_template_rows": null,
            "right": null,
            "justify_content": null,
            "_view_module": "@jupyter-widgets/base",
            "overflow": null,
            "_model_module_version": "1.2.0",
            "_view_count": null,
            "flex_flow": null,
            "width": null,
            "min_width": null,
            "border": null,
            "align_items": null,
            "bottom": null,
            "_model_module": "@jupyter-widgets/base",
            "top": null,
            "grid_column": null,
            "overflow_y": null,
            "overflow_x": null,
            "grid_auto_flow": null,
            "grid_area": null,
            "grid_template_columns": null,
            "flex": null,
            "_model_name": "LayoutModel",
            "justify_items": null,
            "grid_row": null,
            "max_height": null,
            "align_content": null,
            "visibility": null,
            "align_self": null,
            "height": null,
            "min_height": null,
            "padding": null,
            "grid_auto_rows": null,
            "grid_gap": null,
            "max_width": null,
            "order": null,
            "_view_module_version": "1.2.0",
            "grid_template_areas": null,
            "object_position": null,
            "object_fit": null,
            "grid_auto_columns": null,
            "margin": null,
            "display": null,
            "left": null
          }
        },
        "3e84faf7d9354315bbe5e68f0e45e7b3": {
          "model_module": "@jupyter-widgets/controls",
          "model_name": "HBoxModel",
          "state": {
            "_view_name": "HBoxView",
            "_dom_classes": [],
            "_model_name": "HBoxModel",
            "_view_module": "@jupyter-widgets/controls",
            "_model_module_version": "1.5.0",
            "_view_count": null,
            "_view_module_version": "1.5.0",
            "box_style": "",
            "layout": "IPY_MODEL_2a1da42cdfd44056837ec8d9a3c30d80",
            "_model_module": "@jupyter-widgets/controls",
            "children": [
              "IPY_MODEL_158ee37ba9a8412dab3c95678b8b464d",
              "IPY_MODEL_8a9e8ba7b0f64c909c47dd873dd58927"
            ]
          }
        },
        "2a1da42cdfd44056837ec8d9a3c30d80": {
          "model_module": "@jupyter-widgets/base",
          "model_name": "LayoutModel",
          "state": {
            "_view_name": "LayoutView",
            "grid_template_rows": null,
            "right": null,
            "justify_content": null,
            "_view_module": "@jupyter-widgets/base",
            "overflow": null,
            "_model_module_version": "1.2.0",
            "_view_count": null,
            "flex_flow": null,
            "width": null,
            "min_width": null,
            "border": null,
            "align_items": null,
            "bottom": null,
            "_model_module": "@jupyter-widgets/base",
            "top": null,
            "grid_column": null,
            "overflow_y": null,
            "overflow_x": null,
            "grid_auto_flow": null,
            "grid_area": null,
            "grid_template_columns": null,
            "flex": null,
            "_model_name": "LayoutModel",
            "justify_items": null,
            "grid_row": null,
            "max_height": null,
            "align_content": null,
            "visibility": null,
            "align_self": null,
            "height": null,
            "min_height": null,
            "padding": null,
            "grid_auto_rows": null,
            "grid_gap": null,
            "max_width": null,
            "order": null,
            "_view_module_version": "1.2.0",
            "grid_template_areas": null,
            "object_position": null,
            "object_fit": null,
            "grid_auto_columns": null,
            "margin": null,
            "display": null,
            "left": null
          }
        },
        "158ee37ba9a8412dab3c95678b8b464d": {
          "model_module": "@jupyter-widgets/controls",
          "model_name": "FloatProgressModel",
          "state": {
            "_view_name": "ProgressView",
            "style": "IPY_MODEL_5728e60c55cb497781ee07cec705e000",
            "_dom_classes": [],
            "description": "100%",
            "_model_name": "FloatProgressModel",
            "bar_style": "",
            "max": 141,
            "_view_module": "@jupyter-widgets/controls",
            "_model_module_version": "1.5.0",
            "value": 141,
            "_view_count": null,
            "_view_module_version": "1.5.0",
            "orientation": "horizontal",
            "min": 0,
            "description_tooltip": null,
            "_model_module": "@jupyter-widgets/controls",
            "layout": "IPY_MODEL_94f0ce9414ad412ba527ecdf3c14a38b"
          }
        },
        "8a9e8ba7b0f64c909c47dd873dd58927": {
          "model_module": "@jupyter-widgets/controls",
          "model_name": "HTMLModel",
          "state": {
            "_view_name": "HTMLView",
            "style": "IPY_MODEL_e253aa5c915f4909b16044c53af1d802",
            "_dom_classes": [],
            "description": "",
            "_model_name": "HTMLModel",
            "placeholder": "​",
            "_view_module": "@jupyter-widgets/controls",
            "_model_module_version": "1.5.0",
            "value": " 141/141 [00:00&lt;00:00, 299.32it/s]",
            "_view_count": null,
            "_view_module_version": "1.5.0",
            "description_tooltip": null,
            "_model_module": "@jupyter-widgets/controls",
            "layout": "IPY_MODEL_0b43bd7b1a8e46b2b4737ab3e9015168"
          }
        },
        "5728e60c55cb497781ee07cec705e000": {
          "model_module": "@jupyter-widgets/controls",
          "model_name": "ProgressStyleModel",
          "state": {
            "_view_name": "StyleView",
            "_model_name": "ProgressStyleModel",
            "description_width": "initial",
            "_view_module": "@jupyter-widgets/base",
            "_model_module_version": "1.5.0",
            "_view_count": null,
            "_view_module_version": "1.2.0",
            "bar_color": null,
            "_model_module": "@jupyter-widgets/controls"
          }
        },
        "94f0ce9414ad412ba527ecdf3c14a38b": {
          "model_module": "@jupyter-widgets/base",
          "model_name": "LayoutModel",
          "state": {
            "_view_name": "LayoutView",
            "grid_template_rows": null,
            "right": null,
            "justify_content": null,
            "_view_module": "@jupyter-widgets/base",
            "overflow": null,
            "_model_module_version": "1.2.0",
            "_view_count": null,
            "flex_flow": null,
            "width": null,
            "min_width": null,
            "border": null,
            "align_items": null,
            "bottom": null,
            "_model_module": "@jupyter-widgets/base",
            "top": null,
            "grid_column": null,
            "overflow_y": null,
            "overflow_x": null,
            "grid_auto_flow": null,
            "grid_area": null,
            "grid_template_columns": null,
            "flex": null,
            "_model_name": "LayoutModel",
            "justify_items": null,
            "grid_row": null,
            "max_height": null,
            "align_content": null,
            "visibility": null,
            "align_self": null,
            "height": null,
            "min_height": null,
            "padding": null,
            "grid_auto_rows": null,
            "grid_gap": null,
            "max_width": null,
            "order": null,
            "_view_module_version": "1.2.0",
            "grid_template_areas": null,
            "object_position": null,
            "object_fit": null,
            "grid_auto_columns": null,
            "margin": null,
            "display": null,
            "left": null
          }
        },
        "e253aa5c915f4909b16044c53af1d802": {
          "model_module": "@jupyter-widgets/controls",
          "model_name": "DescriptionStyleModel",
          "state": {
            "_view_name": "StyleView",
            "_model_name": "DescriptionStyleModel",
            "description_width": "",
            "_view_module": "@jupyter-widgets/base",
            "_model_module_version": "1.5.0",
            "_view_count": null,
            "_view_module_version": "1.2.0",
            "_model_module": "@jupyter-widgets/controls"
          }
        },
        "0b43bd7b1a8e46b2b4737ab3e9015168": {
          "model_module": "@jupyter-widgets/base",
          "model_name": "LayoutModel",
          "state": {
            "_view_name": "LayoutView",
            "grid_template_rows": null,
            "right": null,
            "justify_content": null,
            "_view_module": "@jupyter-widgets/base",
            "overflow": null,
            "_model_module_version": "1.2.0",
            "_view_count": null,
            "flex_flow": null,
            "width": null,
            "min_width": null,
            "border": null,
            "align_items": null,
            "bottom": null,
            "_model_module": "@jupyter-widgets/base",
            "top": null,
            "grid_column": null,
            "overflow_y": null,
            "overflow_x": null,
            "grid_auto_flow": null,
            "grid_area": null,
            "grid_template_columns": null,
            "flex": null,
            "_model_name": "LayoutModel",
            "justify_items": null,
            "grid_row": null,
            "max_height": null,
            "align_content": null,
            "visibility": null,
            "align_self": null,
            "height": null,
            "min_height": null,
            "padding": null,
            "grid_auto_rows": null,
            "grid_gap": null,
            "max_width": null,
            "order": null,
            "_view_module_version": "1.2.0",
            "grid_template_areas": null,
            "object_position": null,
            "object_fit": null,
            "grid_auto_columns": null,
            "margin": null,
            "display": null,
            "left": null
          }
        },
        "4b4f472b8227433f8ca397c3e3917e92": {
          "model_module": "@jupyter-widgets/controls",
          "model_name": "HBoxModel",
          "state": {
            "_view_name": "HBoxView",
            "_dom_classes": [],
            "_model_name": "HBoxModel",
            "_view_module": "@jupyter-widgets/controls",
            "_model_module_version": "1.5.0",
            "_view_count": null,
            "_view_module_version": "1.5.0",
            "box_style": "",
            "layout": "IPY_MODEL_2a5f9d893fc4458db51bd57200ef8b8a",
            "_model_module": "@jupyter-widgets/controls",
            "children": [
              "IPY_MODEL_c4443cff58664a839ea7dda4862f9698",
              "IPY_MODEL_68ff7f0e053041bb9aeea1d66f889049"
            ]
          }
        },
        "2a5f9d893fc4458db51bd57200ef8b8a": {
          "model_module": "@jupyter-widgets/base",
          "model_name": "LayoutModel",
          "state": {
            "_view_name": "LayoutView",
            "grid_template_rows": null,
            "right": null,
            "justify_content": null,
            "_view_module": "@jupyter-widgets/base",
            "overflow": null,
            "_model_module_version": "1.2.0",
            "_view_count": null,
            "flex_flow": null,
            "width": null,
            "min_width": null,
            "border": null,
            "align_items": null,
            "bottom": null,
            "_model_module": "@jupyter-widgets/base",
            "top": null,
            "grid_column": null,
            "overflow_y": null,
            "overflow_x": null,
            "grid_auto_flow": null,
            "grid_area": null,
            "grid_template_columns": null,
            "flex": null,
            "_model_name": "LayoutModel",
            "justify_items": null,
            "grid_row": null,
            "max_height": null,
            "align_content": null,
            "visibility": null,
            "align_self": null,
            "height": null,
            "min_height": null,
            "padding": null,
            "grid_auto_rows": null,
            "grid_gap": null,
            "max_width": null,
            "order": null,
            "_view_module_version": "1.2.0",
            "grid_template_areas": null,
            "object_position": null,
            "object_fit": null,
            "grid_auto_columns": null,
            "margin": null,
            "display": null,
            "left": null
          }
        },
        "c4443cff58664a839ea7dda4862f9698": {
          "model_module": "@jupyter-widgets/controls",
          "model_name": "FloatProgressModel",
          "state": {
            "_view_name": "ProgressView",
            "style": "IPY_MODEL_1a923b79642940d4b8ccda7d68417a5a",
            "_dom_classes": [],
            "description": "Epoch 13: 100%",
            "_model_name": "FloatProgressModel",
            "bar_style": "",
            "max": 563,
            "_view_module": "@jupyter-widgets/controls",
            "_model_module_version": "1.5.0",
            "value": 563,
            "_view_count": null,
            "_view_module_version": "1.5.0",
            "orientation": "horizontal",
            "min": 0,
            "description_tooltip": null,
            "_model_module": "@jupyter-widgets/controls",
            "layout": "IPY_MODEL_02f88b1d95ef4098b5f6307d70652f34"
          }
        },
        "68ff7f0e053041bb9aeea1d66f889049": {
          "model_module": "@jupyter-widgets/controls",
          "model_name": "HTMLModel",
          "state": {
            "_view_name": "HTMLView",
            "style": "IPY_MODEL_4e79bfdc7137462e99420643a6d89bea",
            "_dom_classes": [],
            "description": "",
            "_model_name": "HTMLModel",
            "placeholder": "​",
            "_view_module": "@jupyter-widgets/controls",
            "_model_module_version": "1.5.0",
            "value": " 563/563 [00:05&lt;00:00, 108.77it/s, loss=0.0987]",
            "_view_count": null,
            "_view_module_version": "1.5.0",
            "description_tooltip": null,
            "_model_module": "@jupyter-widgets/controls",
            "layout": "IPY_MODEL_d883582f38914ecea035fd03f4dfa0d3"
          }
        },
        "1a923b79642940d4b8ccda7d68417a5a": {
          "model_module": "@jupyter-widgets/controls",
          "model_name": "ProgressStyleModel",
          "state": {
            "_view_name": "StyleView",
            "_model_name": "ProgressStyleModel",
            "description_width": "initial",
            "_view_module": "@jupyter-widgets/base",
            "_model_module_version": "1.5.0",
            "_view_count": null,
            "_view_module_version": "1.2.0",
            "bar_color": null,
            "_model_module": "@jupyter-widgets/controls"
          }
        },
        "02f88b1d95ef4098b5f6307d70652f34": {
          "model_module": "@jupyter-widgets/base",
          "model_name": "LayoutModel",
          "state": {
            "_view_name": "LayoutView",
            "grid_template_rows": null,
            "right": null,
            "justify_content": null,
            "_view_module": "@jupyter-widgets/base",
            "overflow": null,
            "_model_module_version": "1.2.0",
            "_view_count": null,
            "flex_flow": null,
            "width": null,
            "min_width": null,
            "border": null,
            "align_items": null,
            "bottom": null,
            "_model_module": "@jupyter-widgets/base",
            "top": null,
            "grid_column": null,
            "overflow_y": null,
            "overflow_x": null,
            "grid_auto_flow": null,
            "grid_area": null,
            "grid_template_columns": null,
            "flex": null,
            "_model_name": "LayoutModel",
            "justify_items": null,
            "grid_row": null,
            "max_height": null,
            "align_content": null,
            "visibility": null,
            "align_self": null,
            "height": null,
            "min_height": null,
            "padding": null,
            "grid_auto_rows": null,
            "grid_gap": null,
            "max_width": null,
            "order": null,
            "_view_module_version": "1.2.0",
            "grid_template_areas": null,
            "object_position": null,
            "object_fit": null,
            "grid_auto_columns": null,
            "margin": null,
            "display": null,
            "left": null
          }
        },
        "4e79bfdc7137462e99420643a6d89bea": {
          "model_module": "@jupyter-widgets/controls",
          "model_name": "DescriptionStyleModel",
          "state": {
            "_view_name": "StyleView",
            "_model_name": "DescriptionStyleModel",
            "description_width": "",
            "_view_module": "@jupyter-widgets/base",
            "_model_module_version": "1.5.0",
            "_view_count": null,
            "_view_module_version": "1.2.0",
            "_model_module": "@jupyter-widgets/controls"
          }
        },
        "d883582f38914ecea035fd03f4dfa0d3": {
          "model_module": "@jupyter-widgets/base",
          "model_name": "LayoutModel",
          "state": {
            "_view_name": "LayoutView",
            "grid_template_rows": null,
            "right": null,
            "justify_content": null,
            "_view_module": "@jupyter-widgets/base",
            "overflow": null,
            "_model_module_version": "1.2.0",
            "_view_count": null,
            "flex_flow": null,
            "width": null,
            "min_width": null,
            "border": null,
            "align_items": null,
            "bottom": null,
            "_model_module": "@jupyter-widgets/base",
            "top": null,
            "grid_column": null,
            "overflow_y": null,
            "overflow_x": null,
            "grid_auto_flow": null,
            "grid_area": null,
            "grid_template_columns": null,
            "flex": null,
            "_model_name": "LayoutModel",
            "justify_items": null,
            "grid_row": null,
            "max_height": null,
            "align_content": null,
            "visibility": null,
            "align_self": null,
            "height": null,
            "min_height": null,
            "padding": null,
            "grid_auto_rows": null,
            "grid_gap": null,
            "max_width": null,
            "order": null,
            "_view_module_version": "1.2.0",
            "grid_template_areas": null,
            "object_position": null,
            "object_fit": null,
            "grid_auto_columns": null,
            "margin": null,
            "display": null,
            "left": null
          }
        },
        "11952297749c4305b531bc1c07391f0b": {
          "model_module": "@jupyter-widgets/controls",
          "model_name": "HBoxModel",
          "state": {
            "_view_name": "HBoxView",
            "_dom_classes": [],
            "_model_name": "HBoxModel",
            "_view_module": "@jupyter-widgets/controls",
            "_model_module_version": "1.5.0",
            "_view_count": null,
            "_view_module_version": "1.5.0",
            "box_style": "",
            "layout": "IPY_MODEL_e2b73ad2cf5d46078b2fe51234035d37",
            "_model_module": "@jupyter-widgets/controls",
            "children": [
              "IPY_MODEL_88056dcece0744a69c98eba9e809f4c1",
              "IPY_MODEL_74a56371c2ee467da06d6e3118fe3c3b"
            ]
          }
        },
        "e2b73ad2cf5d46078b2fe51234035d37": {
          "model_module": "@jupyter-widgets/base",
          "model_name": "LayoutModel",
          "state": {
            "_view_name": "LayoutView",
            "grid_template_rows": null,
            "right": null,
            "justify_content": null,
            "_view_module": "@jupyter-widgets/base",
            "overflow": null,
            "_model_module_version": "1.2.0",
            "_view_count": null,
            "flex_flow": null,
            "width": null,
            "min_width": null,
            "border": null,
            "align_items": null,
            "bottom": null,
            "_model_module": "@jupyter-widgets/base",
            "top": null,
            "grid_column": null,
            "overflow_y": null,
            "overflow_x": null,
            "grid_auto_flow": null,
            "grid_area": null,
            "grid_template_columns": null,
            "flex": null,
            "_model_name": "LayoutModel",
            "justify_items": null,
            "grid_row": null,
            "max_height": null,
            "align_content": null,
            "visibility": null,
            "align_self": null,
            "height": null,
            "min_height": null,
            "padding": null,
            "grid_auto_rows": null,
            "grid_gap": null,
            "max_width": null,
            "order": null,
            "_view_module_version": "1.2.0",
            "grid_template_areas": null,
            "object_position": null,
            "object_fit": null,
            "grid_auto_columns": null,
            "margin": null,
            "display": null,
            "left": null
          }
        },
        "88056dcece0744a69c98eba9e809f4c1": {
          "model_module": "@jupyter-widgets/controls",
          "model_name": "FloatProgressModel",
          "state": {
            "_view_name": "ProgressView",
            "style": "IPY_MODEL_1a7aa7e39aff4d9da99fa199198433fc",
            "_dom_classes": [],
            "description": "100%",
            "_model_name": "FloatProgressModel",
            "bar_style": "",
            "max": 141,
            "_view_module": "@jupyter-widgets/controls",
            "_model_module_version": "1.5.0",
            "value": 141,
            "_view_count": null,
            "_view_module_version": "1.5.0",
            "orientation": "horizontal",
            "min": 0,
            "description_tooltip": null,
            "_model_module": "@jupyter-widgets/controls",
            "layout": "IPY_MODEL_0b5f8c1551954665b18981e031459320"
          }
        },
        "74a56371c2ee467da06d6e3118fe3c3b": {
          "model_module": "@jupyter-widgets/controls",
          "model_name": "HTMLModel",
          "state": {
            "_view_name": "HTMLView",
            "style": "IPY_MODEL_202c70e543af4101b9abb3603d644130",
            "_dom_classes": [],
            "description": "",
            "_model_name": "HTMLModel",
            "placeholder": "​",
            "_view_module": "@jupyter-widgets/controls",
            "_model_module_version": "1.5.0",
            "value": " 141/141 [00:00&lt;00:00, 316.88it/s]",
            "_view_count": null,
            "_view_module_version": "1.5.0",
            "description_tooltip": null,
            "_model_module": "@jupyter-widgets/controls",
            "layout": "IPY_MODEL_cb05e5df7c164d4b876555b489933f63"
          }
        },
        "1a7aa7e39aff4d9da99fa199198433fc": {
          "model_module": "@jupyter-widgets/controls",
          "model_name": "ProgressStyleModel",
          "state": {
            "_view_name": "StyleView",
            "_model_name": "ProgressStyleModel",
            "description_width": "initial",
            "_view_module": "@jupyter-widgets/base",
            "_model_module_version": "1.5.0",
            "_view_count": null,
            "_view_module_version": "1.2.0",
            "bar_color": null,
            "_model_module": "@jupyter-widgets/controls"
          }
        },
        "0b5f8c1551954665b18981e031459320": {
          "model_module": "@jupyter-widgets/base",
          "model_name": "LayoutModel",
          "state": {
            "_view_name": "LayoutView",
            "grid_template_rows": null,
            "right": null,
            "justify_content": null,
            "_view_module": "@jupyter-widgets/base",
            "overflow": null,
            "_model_module_version": "1.2.0",
            "_view_count": null,
            "flex_flow": null,
            "width": null,
            "min_width": null,
            "border": null,
            "align_items": null,
            "bottom": null,
            "_model_module": "@jupyter-widgets/base",
            "top": null,
            "grid_column": null,
            "overflow_y": null,
            "overflow_x": null,
            "grid_auto_flow": null,
            "grid_area": null,
            "grid_template_columns": null,
            "flex": null,
            "_model_name": "LayoutModel",
            "justify_items": null,
            "grid_row": null,
            "max_height": null,
            "align_content": null,
            "visibility": null,
            "align_self": null,
            "height": null,
            "min_height": null,
            "padding": null,
            "grid_auto_rows": null,
            "grid_gap": null,
            "max_width": null,
            "order": null,
            "_view_module_version": "1.2.0",
            "grid_template_areas": null,
            "object_position": null,
            "object_fit": null,
            "grid_auto_columns": null,
            "margin": null,
            "display": null,
            "left": null
          }
        },
        "202c70e543af4101b9abb3603d644130": {
          "model_module": "@jupyter-widgets/controls",
          "model_name": "DescriptionStyleModel",
          "state": {
            "_view_name": "StyleView",
            "_model_name": "DescriptionStyleModel",
            "description_width": "",
            "_view_module": "@jupyter-widgets/base",
            "_model_module_version": "1.5.0",
            "_view_count": null,
            "_view_module_version": "1.2.0",
            "_model_module": "@jupyter-widgets/controls"
          }
        },
        "cb05e5df7c164d4b876555b489933f63": {
          "model_module": "@jupyter-widgets/base",
          "model_name": "LayoutModel",
          "state": {
            "_view_name": "LayoutView",
            "grid_template_rows": null,
            "right": null,
            "justify_content": null,
            "_view_module": "@jupyter-widgets/base",
            "overflow": null,
            "_model_module_version": "1.2.0",
            "_view_count": null,
            "flex_flow": null,
            "width": null,
            "min_width": null,
            "border": null,
            "align_items": null,
            "bottom": null,
            "_model_module": "@jupyter-widgets/base",
            "top": null,
            "grid_column": null,
            "overflow_y": null,
            "overflow_x": null,
            "grid_auto_flow": null,
            "grid_area": null,
            "grid_template_columns": null,
            "flex": null,
            "_model_name": "LayoutModel",
            "justify_items": null,
            "grid_row": null,
            "max_height": null,
            "align_content": null,
            "visibility": null,
            "align_self": null,
            "height": null,
            "min_height": null,
            "padding": null,
            "grid_auto_rows": null,
            "grid_gap": null,
            "max_width": null,
            "order": null,
            "_view_module_version": "1.2.0",
            "grid_template_areas": null,
            "object_position": null,
            "object_fit": null,
            "grid_auto_columns": null,
            "margin": null,
            "display": null,
            "left": null
          }
        },
        "492704aafa8f41e186f81317128bb025": {
          "model_module": "@jupyter-widgets/controls",
          "model_name": "HBoxModel",
          "state": {
            "_view_name": "HBoxView",
            "_dom_classes": [],
            "_model_name": "HBoxModel",
            "_view_module": "@jupyter-widgets/controls",
            "_model_module_version": "1.5.0",
            "_view_count": null,
            "_view_module_version": "1.5.0",
            "box_style": "",
            "layout": "IPY_MODEL_7854bea61258447181b5ade5c52f9539",
            "_model_module": "@jupyter-widgets/controls",
            "children": [
              "IPY_MODEL_0109f496e7b94b2b9f440154d4fac4cd",
              "IPY_MODEL_d86b4e63b2684e7aab0b6fea41fc9db3"
            ]
          }
        },
        "7854bea61258447181b5ade5c52f9539": {
          "model_module": "@jupyter-widgets/base",
          "model_name": "LayoutModel",
          "state": {
            "_view_name": "LayoutView",
            "grid_template_rows": null,
            "right": null,
            "justify_content": null,
            "_view_module": "@jupyter-widgets/base",
            "overflow": null,
            "_model_module_version": "1.2.0",
            "_view_count": null,
            "flex_flow": null,
            "width": null,
            "min_width": null,
            "border": null,
            "align_items": null,
            "bottom": null,
            "_model_module": "@jupyter-widgets/base",
            "top": null,
            "grid_column": null,
            "overflow_y": null,
            "overflow_x": null,
            "grid_auto_flow": null,
            "grid_area": null,
            "grid_template_columns": null,
            "flex": null,
            "_model_name": "LayoutModel",
            "justify_items": null,
            "grid_row": null,
            "max_height": null,
            "align_content": null,
            "visibility": null,
            "align_self": null,
            "height": null,
            "min_height": null,
            "padding": null,
            "grid_auto_rows": null,
            "grid_gap": null,
            "max_width": null,
            "order": null,
            "_view_module_version": "1.2.0",
            "grid_template_areas": null,
            "object_position": null,
            "object_fit": null,
            "grid_auto_columns": null,
            "margin": null,
            "display": null,
            "left": null
          }
        },
        "0109f496e7b94b2b9f440154d4fac4cd": {
          "model_module": "@jupyter-widgets/controls",
          "model_name": "FloatProgressModel",
          "state": {
            "_view_name": "ProgressView",
            "style": "IPY_MODEL_38b6c1d763184d7991a877db1f469e35",
            "_dom_classes": [],
            "description": "Epoch 14: 100%",
            "_model_name": "FloatProgressModel",
            "bar_style": "",
            "max": 563,
            "_view_module": "@jupyter-widgets/controls",
            "_model_module_version": "1.5.0",
            "value": 563,
            "_view_count": null,
            "_view_module_version": "1.5.0",
            "orientation": "horizontal",
            "min": 0,
            "description_tooltip": null,
            "_model_module": "@jupyter-widgets/controls",
            "layout": "IPY_MODEL_ea46d9a5943b484894bf1591c5a1a325"
          }
        },
        "d86b4e63b2684e7aab0b6fea41fc9db3": {
          "model_module": "@jupyter-widgets/controls",
          "model_name": "HTMLModel",
          "state": {
            "_view_name": "HTMLView",
            "style": "IPY_MODEL_b2771cfe8bfb40fa9cc736c0f724d6e0",
            "_dom_classes": [],
            "description": "",
            "_model_name": "HTMLModel",
            "placeholder": "​",
            "_view_module": "@jupyter-widgets/controls",
            "_model_module_version": "1.5.0",
            "value": " 563/563 [00:05&lt;00:00, 111.03it/s, loss=0.141]",
            "_view_count": null,
            "_view_module_version": "1.5.0",
            "description_tooltip": null,
            "_model_module": "@jupyter-widgets/controls",
            "layout": "IPY_MODEL_7c3ce78bee834aa5bcf86c62e5350fd2"
          }
        },
        "38b6c1d763184d7991a877db1f469e35": {
          "model_module": "@jupyter-widgets/controls",
          "model_name": "ProgressStyleModel",
          "state": {
            "_view_name": "StyleView",
            "_model_name": "ProgressStyleModel",
            "description_width": "initial",
            "_view_module": "@jupyter-widgets/base",
            "_model_module_version": "1.5.0",
            "_view_count": null,
            "_view_module_version": "1.2.0",
            "bar_color": null,
            "_model_module": "@jupyter-widgets/controls"
          }
        },
        "ea46d9a5943b484894bf1591c5a1a325": {
          "model_module": "@jupyter-widgets/base",
          "model_name": "LayoutModel",
          "state": {
            "_view_name": "LayoutView",
            "grid_template_rows": null,
            "right": null,
            "justify_content": null,
            "_view_module": "@jupyter-widgets/base",
            "overflow": null,
            "_model_module_version": "1.2.0",
            "_view_count": null,
            "flex_flow": null,
            "width": null,
            "min_width": null,
            "border": null,
            "align_items": null,
            "bottom": null,
            "_model_module": "@jupyter-widgets/base",
            "top": null,
            "grid_column": null,
            "overflow_y": null,
            "overflow_x": null,
            "grid_auto_flow": null,
            "grid_area": null,
            "grid_template_columns": null,
            "flex": null,
            "_model_name": "LayoutModel",
            "justify_items": null,
            "grid_row": null,
            "max_height": null,
            "align_content": null,
            "visibility": null,
            "align_self": null,
            "height": null,
            "min_height": null,
            "padding": null,
            "grid_auto_rows": null,
            "grid_gap": null,
            "max_width": null,
            "order": null,
            "_view_module_version": "1.2.0",
            "grid_template_areas": null,
            "object_position": null,
            "object_fit": null,
            "grid_auto_columns": null,
            "margin": null,
            "display": null,
            "left": null
          }
        },
        "b2771cfe8bfb40fa9cc736c0f724d6e0": {
          "model_module": "@jupyter-widgets/controls",
          "model_name": "DescriptionStyleModel",
          "state": {
            "_view_name": "StyleView",
            "_model_name": "DescriptionStyleModel",
            "description_width": "",
            "_view_module": "@jupyter-widgets/base",
            "_model_module_version": "1.5.0",
            "_view_count": null,
            "_view_module_version": "1.2.0",
            "_model_module": "@jupyter-widgets/controls"
          }
        },
        "7c3ce78bee834aa5bcf86c62e5350fd2": {
          "model_module": "@jupyter-widgets/base",
          "model_name": "LayoutModel",
          "state": {
            "_view_name": "LayoutView",
            "grid_template_rows": null,
            "right": null,
            "justify_content": null,
            "_view_module": "@jupyter-widgets/base",
            "overflow": null,
            "_model_module_version": "1.2.0",
            "_view_count": null,
            "flex_flow": null,
            "width": null,
            "min_width": null,
            "border": null,
            "align_items": null,
            "bottom": null,
            "_model_module": "@jupyter-widgets/base",
            "top": null,
            "grid_column": null,
            "overflow_y": null,
            "overflow_x": null,
            "grid_auto_flow": null,
            "grid_area": null,
            "grid_template_columns": null,
            "flex": null,
            "_model_name": "LayoutModel",
            "justify_items": null,
            "grid_row": null,
            "max_height": null,
            "align_content": null,
            "visibility": null,
            "align_self": null,
            "height": null,
            "min_height": null,
            "padding": null,
            "grid_auto_rows": null,
            "grid_gap": null,
            "max_width": null,
            "order": null,
            "_view_module_version": "1.2.0",
            "grid_template_areas": null,
            "object_position": null,
            "object_fit": null,
            "grid_auto_columns": null,
            "margin": null,
            "display": null,
            "left": null
          }
        },
        "3ba4a576365a4b638391a2242b1dc61c": {
          "model_module": "@jupyter-widgets/controls",
          "model_name": "HBoxModel",
          "state": {
            "_view_name": "HBoxView",
            "_dom_classes": [],
            "_model_name": "HBoxModel",
            "_view_module": "@jupyter-widgets/controls",
            "_model_module_version": "1.5.0",
            "_view_count": null,
            "_view_module_version": "1.5.0",
            "box_style": "",
            "layout": "IPY_MODEL_f080ffaab2a64b028ebc468865ae5754",
            "_model_module": "@jupyter-widgets/controls",
            "children": [
              "IPY_MODEL_413d6cda0bfc4a83afd19375a3369c16",
              "IPY_MODEL_06a06eb62c8d44378589a06fc3ed4abc"
            ]
          }
        },
        "f080ffaab2a64b028ebc468865ae5754": {
          "model_module": "@jupyter-widgets/base",
          "model_name": "LayoutModel",
          "state": {
            "_view_name": "LayoutView",
            "grid_template_rows": null,
            "right": null,
            "justify_content": null,
            "_view_module": "@jupyter-widgets/base",
            "overflow": null,
            "_model_module_version": "1.2.0",
            "_view_count": null,
            "flex_flow": null,
            "width": null,
            "min_width": null,
            "border": null,
            "align_items": null,
            "bottom": null,
            "_model_module": "@jupyter-widgets/base",
            "top": null,
            "grid_column": null,
            "overflow_y": null,
            "overflow_x": null,
            "grid_auto_flow": null,
            "grid_area": null,
            "grid_template_columns": null,
            "flex": null,
            "_model_name": "LayoutModel",
            "justify_items": null,
            "grid_row": null,
            "max_height": null,
            "align_content": null,
            "visibility": null,
            "align_self": null,
            "height": null,
            "min_height": null,
            "padding": null,
            "grid_auto_rows": null,
            "grid_gap": null,
            "max_width": null,
            "order": null,
            "_view_module_version": "1.2.0",
            "grid_template_areas": null,
            "object_position": null,
            "object_fit": null,
            "grid_auto_columns": null,
            "margin": null,
            "display": null,
            "left": null
          }
        },
        "413d6cda0bfc4a83afd19375a3369c16": {
          "model_module": "@jupyter-widgets/controls",
          "model_name": "FloatProgressModel",
          "state": {
            "_view_name": "ProgressView",
            "style": "IPY_MODEL_e895d882b1fd487abd576fa8b0509184",
            "_dom_classes": [],
            "description": "100%",
            "_model_name": "FloatProgressModel",
            "bar_style": "",
            "max": 141,
            "_view_module": "@jupyter-widgets/controls",
            "_model_module_version": "1.5.0",
            "value": 141,
            "_view_count": null,
            "_view_module_version": "1.5.0",
            "orientation": "horizontal",
            "min": 0,
            "description_tooltip": null,
            "_model_module": "@jupyter-widgets/controls",
            "layout": "IPY_MODEL_813e44eab44d453aa958a3c7917ab633"
          }
        },
        "06a06eb62c8d44378589a06fc3ed4abc": {
          "model_module": "@jupyter-widgets/controls",
          "model_name": "HTMLModel",
          "state": {
            "_view_name": "HTMLView",
            "style": "IPY_MODEL_8ffc315501984bbab7cbfdd9f03d1834",
            "_dom_classes": [],
            "description": "",
            "_model_name": "HTMLModel",
            "placeholder": "​",
            "_view_module": "@jupyter-widgets/controls",
            "_model_module_version": "1.5.0",
            "value": " 141/141 [00:00&lt;00:00, 304.37it/s]",
            "_view_count": null,
            "_view_module_version": "1.5.0",
            "description_tooltip": null,
            "_model_module": "@jupyter-widgets/controls",
            "layout": "IPY_MODEL_201092d86270402585d755da2f7bc71d"
          }
        },
        "e895d882b1fd487abd576fa8b0509184": {
          "model_module": "@jupyter-widgets/controls",
          "model_name": "ProgressStyleModel",
          "state": {
            "_view_name": "StyleView",
            "_model_name": "ProgressStyleModel",
            "description_width": "initial",
            "_view_module": "@jupyter-widgets/base",
            "_model_module_version": "1.5.0",
            "_view_count": null,
            "_view_module_version": "1.2.0",
            "bar_color": null,
            "_model_module": "@jupyter-widgets/controls"
          }
        },
        "813e44eab44d453aa958a3c7917ab633": {
          "model_module": "@jupyter-widgets/base",
          "model_name": "LayoutModel",
          "state": {
            "_view_name": "LayoutView",
            "grid_template_rows": null,
            "right": null,
            "justify_content": null,
            "_view_module": "@jupyter-widgets/base",
            "overflow": null,
            "_model_module_version": "1.2.0",
            "_view_count": null,
            "flex_flow": null,
            "width": null,
            "min_width": null,
            "border": null,
            "align_items": null,
            "bottom": null,
            "_model_module": "@jupyter-widgets/base",
            "top": null,
            "grid_column": null,
            "overflow_y": null,
            "overflow_x": null,
            "grid_auto_flow": null,
            "grid_area": null,
            "grid_template_columns": null,
            "flex": null,
            "_model_name": "LayoutModel",
            "justify_items": null,
            "grid_row": null,
            "max_height": null,
            "align_content": null,
            "visibility": null,
            "align_self": null,
            "height": null,
            "min_height": null,
            "padding": null,
            "grid_auto_rows": null,
            "grid_gap": null,
            "max_width": null,
            "order": null,
            "_view_module_version": "1.2.0",
            "grid_template_areas": null,
            "object_position": null,
            "object_fit": null,
            "grid_auto_columns": null,
            "margin": null,
            "display": null,
            "left": null
          }
        },
        "8ffc315501984bbab7cbfdd9f03d1834": {
          "model_module": "@jupyter-widgets/controls",
          "model_name": "DescriptionStyleModel",
          "state": {
            "_view_name": "StyleView",
            "_model_name": "DescriptionStyleModel",
            "description_width": "",
            "_view_module": "@jupyter-widgets/base",
            "_model_module_version": "1.5.0",
            "_view_count": null,
            "_view_module_version": "1.2.0",
            "_model_module": "@jupyter-widgets/controls"
          }
        },
        "201092d86270402585d755da2f7bc71d": {
          "model_module": "@jupyter-widgets/base",
          "model_name": "LayoutModel",
          "state": {
            "_view_name": "LayoutView",
            "grid_template_rows": null,
            "right": null,
            "justify_content": null,
            "_view_module": "@jupyter-widgets/base",
            "overflow": null,
            "_model_module_version": "1.2.0",
            "_view_count": null,
            "flex_flow": null,
            "width": null,
            "min_width": null,
            "border": null,
            "align_items": null,
            "bottom": null,
            "_model_module": "@jupyter-widgets/base",
            "top": null,
            "grid_column": null,
            "overflow_y": null,
            "overflow_x": null,
            "grid_auto_flow": null,
            "grid_area": null,
            "grid_template_columns": null,
            "flex": null,
            "_model_name": "LayoutModel",
            "justify_items": null,
            "grid_row": null,
            "max_height": null,
            "align_content": null,
            "visibility": null,
            "align_self": null,
            "height": null,
            "min_height": null,
            "padding": null,
            "grid_auto_rows": null,
            "grid_gap": null,
            "max_width": null,
            "order": null,
            "_view_module_version": "1.2.0",
            "grid_template_areas": null,
            "object_position": null,
            "object_fit": null,
            "grid_auto_columns": null,
            "margin": null,
            "display": null,
            "left": null
          }
        },
        "f18f6de0cdc244a4af95d2664320f687": {
          "model_module": "@jupyter-widgets/controls",
          "model_name": "HBoxModel",
          "state": {
            "_view_name": "HBoxView",
            "_dom_classes": [],
            "_model_name": "HBoxModel",
            "_view_module": "@jupyter-widgets/controls",
            "_model_module_version": "1.5.0",
            "_view_count": null,
            "_view_module_version": "1.5.0",
            "box_style": "",
            "layout": "IPY_MODEL_cc1dfab18378463aa1fa98dea3254e0e",
            "_model_module": "@jupyter-widgets/controls",
            "children": [
              "IPY_MODEL_9cf9c8cfa30d443ebd430f9704b021fa",
              "IPY_MODEL_9c11a9282690417d9e4b21453df13736"
            ]
          }
        },
        "cc1dfab18378463aa1fa98dea3254e0e": {
          "model_module": "@jupyter-widgets/base",
          "model_name": "LayoutModel",
          "state": {
            "_view_name": "LayoutView",
            "grid_template_rows": null,
            "right": null,
            "justify_content": null,
            "_view_module": "@jupyter-widgets/base",
            "overflow": null,
            "_model_module_version": "1.2.0",
            "_view_count": null,
            "flex_flow": null,
            "width": null,
            "min_width": null,
            "border": null,
            "align_items": null,
            "bottom": null,
            "_model_module": "@jupyter-widgets/base",
            "top": null,
            "grid_column": null,
            "overflow_y": null,
            "overflow_x": null,
            "grid_auto_flow": null,
            "grid_area": null,
            "grid_template_columns": null,
            "flex": null,
            "_model_name": "LayoutModel",
            "justify_items": null,
            "grid_row": null,
            "max_height": null,
            "align_content": null,
            "visibility": null,
            "align_self": null,
            "height": null,
            "min_height": null,
            "padding": null,
            "grid_auto_rows": null,
            "grid_gap": null,
            "max_width": null,
            "order": null,
            "_view_module_version": "1.2.0",
            "grid_template_areas": null,
            "object_position": null,
            "object_fit": null,
            "grid_auto_columns": null,
            "margin": null,
            "display": null,
            "left": null
          }
        },
        "9cf9c8cfa30d443ebd430f9704b021fa": {
          "model_module": "@jupyter-widgets/controls",
          "model_name": "FloatProgressModel",
          "state": {
            "_view_name": "ProgressView",
            "style": "IPY_MODEL_fb7b6a6effeb45f78bc9092abba4c4be",
            "_dom_classes": [],
            "description": "Epoch 15: 100%",
            "_model_name": "FloatProgressModel",
            "bar_style": "",
            "max": 563,
            "_view_module": "@jupyter-widgets/controls",
            "_model_module_version": "1.5.0",
            "value": 563,
            "_view_count": null,
            "_view_module_version": "1.5.0",
            "orientation": "horizontal",
            "min": 0,
            "description_tooltip": null,
            "_model_module": "@jupyter-widgets/controls",
            "layout": "IPY_MODEL_762c9f274c8049e4985e42439aa2378b"
          }
        },
        "9c11a9282690417d9e4b21453df13736": {
          "model_module": "@jupyter-widgets/controls",
          "model_name": "HTMLModel",
          "state": {
            "_view_name": "HTMLView",
            "style": "IPY_MODEL_99fb3f80fc104773a68ea6687c0de652",
            "_dom_classes": [],
            "description": "",
            "_model_name": "HTMLModel",
            "placeholder": "​",
            "_view_module": "@jupyter-widgets/controls",
            "_model_module_version": "1.5.0",
            "value": " 563/563 [00:05&lt;00:00, 112.94it/s, loss=0.0564]",
            "_view_count": null,
            "_view_module_version": "1.5.0",
            "description_tooltip": null,
            "_model_module": "@jupyter-widgets/controls",
            "layout": "IPY_MODEL_1f9f001d17154366b2c6281aa6955115"
          }
        },
        "fb7b6a6effeb45f78bc9092abba4c4be": {
          "model_module": "@jupyter-widgets/controls",
          "model_name": "ProgressStyleModel",
          "state": {
            "_view_name": "StyleView",
            "_model_name": "ProgressStyleModel",
            "description_width": "initial",
            "_view_module": "@jupyter-widgets/base",
            "_model_module_version": "1.5.0",
            "_view_count": null,
            "_view_module_version": "1.2.0",
            "bar_color": null,
            "_model_module": "@jupyter-widgets/controls"
          }
        },
        "762c9f274c8049e4985e42439aa2378b": {
          "model_module": "@jupyter-widgets/base",
          "model_name": "LayoutModel",
          "state": {
            "_view_name": "LayoutView",
            "grid_template_rows": null,
            "right": null,
            "justify_content": null,
            "_view_module": "@jupyter-widgets/base",
            "overflow": null,
            "_model_module_version": "1.2.0",
            "_view_count": null,
            "flex_flow": null,
            "width": null,
            "min_width": null,
            "border": null,
            "align_items": null,
            "bottom": null,
            "_model_module": "@jupyter-widgets/base",
            "top": null,
            "grid_column": null,
            "overflow_y": null,
            "overflow_x": null,
            "grid_auto_flow": null,
            "grid_area": null,
            "grid_template_columns": null,
            "flex": null,
            "_model_name": "LayoutModel",
            "justify_items": null,
            "grid_row": null,
            "max_height": null,
            "align_content": null,
            "visibility": null,
            "align_self": null,
            "height": null,
            "min_height": null,
            "padding": null,
            "grid_auto_rows": null,
            "grid_gap": null,
            "max_width": null,
            "order": null,
            "_view_module_version": "1.2.0",
            "grid_template_areas": null,
            "object_position": null,
            "object_fit": null,
            "grid_auto_columns": null,
            "margin": null,
            "display": null,
            "left": null
          }
        },
        "99fb3f80fc104773a68ea6687c0de652": {
          "model_module": "@jupyter-widgets/controls",
          "model_name": "DescriptionStyleModel",
          "state": {
            "_view_name": "StyleView",
            "_model_name": "DescriptionStyleModel",
            "description_width": "",
            "_view_module": "@jupyter-widgets/base",
            "_model_module_version": "1.5.0",
            "_view_count": null,
            "_view_module_version": "1.2.0",
            "_model_module": "@jupyter-widgets/controls"
          }
        },
        "1f9f001d17154366b2c6281aa6955115": {
          "model_module": "@jupyter-widgets/base",
          "model_name": "LayoutModel",
          "state": {
            "_view_name": "LayoutView",
            "grid_template_rows": null,
            "right": null,
            "justify_content": null,
            "_view_module": "@jupyter-widgets/base",
            "overflow": null,
            "_model_module_version": "1.2.0",
            "_view_count": null,
            "flex_flow": null,
            "width": null,
            "min_width": null,
            "border": null,
            "align_items": null,
            "bottom": null,
            "_model_module": "@jupyter-widgets/base",
            "top": null,
            "grid_column": null,
            "overflow_y": null,
            "overflow_x": null,
            "grid_auto_flow": null,
            "grid_area": null,
            "grid_template_columns": null,
            "flex": null,
            "_model_name": "LayoutModel",
            "justify_items": null,
            "grid_row": null,
            "max_height": null,
            "align_content": null,
            "visibility": null,
            "align_self": null,
            "height": null,
            "min_height": null,
            "padding": null,
            "grid_auto_rows": null,
            "grid_gap": null,
            "max_width": null,
            "order": null,
            "_view_module_version": "1.2.0",
            "grid_template_areas": null,
            "object_position": null,
            "object_fit": null,
            "grid_auto_columns": null,
            "margin": null,
            "display": null,
            "left": null
          }
        },
        "4c26e61f0ade48cf919f408f62191862": {
          "model_module": "@jupyter-widgets/controls",
          "model_name": "HBoxModel",
          "state": {
            "_view_name": "HBoxView",
            "_dom_classes": [],
            "_model_name": "HBoxModel",
            "_view_module": "@jupyter-widgets/controls",
            "_model_module_version": "1.5.0",
            "_view_count": null,
            "_view_module_version": "1.5.0",
            "box_style": "",
            "layout": "IPY_MODEL_1f67d495da6045dc9bd7c313fe42e7c9",
            "_model_module": "@jupyter-widgets/controls",
            "children": [
              "IPY_MODEL_98c89a4a7d314ab79f6548f026106310",
              "IPY_MODEL_45abeb4ff0ad4f589544e824045c6841"
            ]
          }
        },
        "1f67d495da6045dc9bd7c313fe42e7c9": {
          "model_module": "@jupyter-widgets/base",
          "model_name": "LayoutModel",
          "state": {
            "_view_name": "LayoutView",
            "grid_template_rows": null,
            "right": null,
            "justify_content": null,
            "_view_module": "@jupyter-widgets/base",
            "overflow": null,
            "_model_module_version": "1.2.0",
            "_view_count": null,
            "flex_flow": null,
            "width": null,
            "min_width": null,
            "border": null,
            "align_items": null,
            "bottom": null,
            "_model_module": "@jupyter-widgets/base",
            "top": null,
            "grid_column": null,
            "overflow_y": null,
            "overflow_x": null,
            "grid_auto_flow": null,
            "grid_area": null,
            "grid_template_columns": null,
            "flex": null,
            "_model_name": "LayoutModel",
            "justify_items": null,
            "grid_row": null,
            "max_height": null,
            "align_content": null,
            "visibility": null,
            "align_self": null,
            "height": null,
            "min_height": null,
            "padding": null,
            "grid_auto_rows": null,
            "grid_gap": null,
            "max_width": null,
            "order": null,
            "_view_module_version": "1.2.0",
            "grid_template_areas": null,
            "object_position": null,
            "object_fit": null,
            "grid_auto_columns": null,
            "margin": null,
            "display": null,
            "left": null
          }
        },
        "98c89a4a7d314ab79f6548f026106310": {
          "model_module": "@jupyter-widgets/controls",
          "model_name": "FloatProgressModel",
          "state": {
            "_view_name": "ProgressView",
            "style": "IPY_MODEL_f9237ef58125460884d8e6c8e583f6f3",
            "_dom_classes": [],
            "description": "100%",
            "_model_name": "FloatProgressModel",
            "bar_style": "",
            "max": 141,
            "_view_module": "@jupyter-widgets/controls",
            "_model_module_version": "1.5.0",
            "value": 141,
            "_view_count": null,
            "_view_module_version": "1.5.0",
            "orientation": "horizontal",
            "min": 0,
            "description_tooltip": null,
            "_model_module": "@jupyter-widgets/controls",
            "layout": "IPY_MODEL_912c5eafeee4484c968b333ccbd85cd1"
          }
        },
        "45abeb4ff0ad4f589544e824045c6841": {
          "model_module": "@jupyter-widgets/controls",
          "model_name": "HTMLModel",
          "state": {
            "_view_name": "HTMLView",
            "style": "IPY_MODEL_ee4d3b97bfce41518cc3c64c47e92302",
            "_dom_classes": [],
            "description": "",
            "_model_name": "HTMLModel",
            "placeholder": "​",
            "_view_module": "@jupyter-widgets/controls",
            "_model_module_version": "1.5.0",
            "value": " 141/141 [00:00&lt;00:00, 316.83it/s]",
            "_view_count": null,
            "_view_module_version": "1.5.0",
            "description_tooltip": null,
            "_model_module": "@jupyter-widgets/controls",
            "layout": "IPY_MODEL_e0498d80667f47eb8aeb3e230cc62686"
          }
        },
        "f9237ef58125460884d8e6c8e583f6f3": {
          "model_module": "@jupyter-widgets/controls",
          "model_name": "ProgressStyleModel",
          "state": {
            "_view_name": "StyleView",
            "_model_name": "ProgressStyleModel",
            "description_width": "initial",
            "_view_module": "@jupyter-widgets/base",
            "_model_module_version": "1.5.0",
            "_view_count": null,
            "_view_module_version": "1.2.0",
            "bar_color": null,
            "_model_module": "@jupyter-widgets/controls"
          }
        },
        "912c5eafeee4484c968b333ccbd85cd1": {
          "model_module": "@jupyter-widgets/base",
          "model_name": "LayoutModel",
          "state": {
            "_view_name": "LayoutView",
            "grid_template_rows": null,
            "right": null,
            "justify_content": null,
            "_view_module": "@jupyter-widgets/base",
            "overflow": null,
            "_model_module_version": "1.2.0",
            "_view_count": null,
            "flex_flow": null,
            "width": null,
            "min_width": null,
            "border": null,
            "align_items": null,
            "bottom": null,
            "_model_module": "@jupyter-widgets/base",
            "top": null,
            "grid_column": null,
            "overflow_y": null,
            "overflow_x": null,
            "grid_auto_flow": null,
            "grid_area": null,
            "grid_template_columns": null,
            "flex": null,
            "_model_name": "LayoutModel",
            "justify_items": null,
            "grid_row": null,
            "max_height": null,
            "align_content": null,
            "visibility": null,
            "align_self": null,
            "height": null,
            "min_height": null,
            "padding": null,
            "grid_auto_rows": null,
            "grid_gap": null,
            "max_width": null,
            "order": null,
            "_view_module_version": "1.2.0",
            "grid_template_areas": null,
            "object_position": null,
            "object_fit": null,
            "grid_auto_columns": null,
            "margin": null,
            "display": null,
            "left": null
          }
        },
        "ee4d3b97bfce41518cc3c64c47e92302": {
          "model_module": "@jupyter-widgets/controls",
          "model_name": "DescriptionStyleModel",
          "state": {
            "_view_name": "StyleView",
            "_model_name": "DescriptionStyleModel",
            "description_width": "",
            "_view_module": "@jupyter-widgets/base",
            "_model_module_version": "1.5.0",
            "_view_count": null,
            "_view_module_version": "1.2.0",
            "_model_module": "@jupyter-widgets/controls"
          }
        },
        "e0498d80667f47eb8aeb3e230cc62686": {
          "model_module": "@jupyter-widgets/base",
          "model_name": "LayoutModel",
          "state": {
            "_view_name": "LayoutView",
            "grid_template_rows": null,
            "right": null,
            "justify_content": null,
            "_view_module": "@jupyter-widgets/base",
            "overflow": null,
            "_model_module_version": "1.2.0",
            "_view_count": null,
            "flex_flow": null,
            "width": null,
            "min_width": null,
            "border": null,
            "align_items": null,
            "bottom": null,
            "_model_module": "@jupyter-widgets/base",
            "top": null,
            "grid_column": null,
            "overflow_y": null,
            "overflow_x": null,
            "grid_auto_flow": null,
            "grid_area": null,
            "grid_template_columns": null,
            "flex": null,
            "_model_name": "LayoutModel",
            "justify_items": null,
            "grid_row": null,
            "max_height": null,
            "align_content": null,
            "visibility": null,
            "align_self": null,
            "height": null,
            "min_height": null,
            "padding": null,
            "grid_auto_rows": null,
            "grid_gap": null,
            "max_width": null,
            "order": null,
            "_view_module_version": "1.2.0",
            "grid_template_areas": null,
            "object_position": null,
            "object_fit": null,
            "grid_auto_columns": null,
            "margin": null,
            "display": null,
            "left": null
          }
        },
        "52495e66f6174649beb6b4dbca5c2a07": {
          "model_module": "@jupyter-widgets/controls",
          "model_name": "HBoxModel",
          "state": {
            "_view_name": "HBoxView",
            "_dom_classes": [],
            "_model_name": "HBoxModel",
            "_view_module": "@jupyter-widgets/controls",
            "_model_module_version": "1.5.0",
            "_view_count": null,
            "_view_module_version": "1.5.0",
            "box_style": "",
            "layout": "IPY_MODEL_ce0ae17797a24424ba20e99195367125",
            "_model_module": "@jupyter-widgets/controls",
            "children": [
              "IPY_MODEL_e8f80f0165fa45f69db8a4a17a03a700",
              "IPY_MODEL_c413eea404534d18bcfe138d3fa8d70c"
            ]
          }
        },
        "ce0ae17797a24424ba20e99195367125": {
          "model_module": "@jupyter-widgets/base",
          "model_name": "LayoutModel",
          "state": {
            "_view_name": "LayoutView",
            "grid_template_rows": null,
            "right": null,
            "justify_content": null,
            "_view_module": "@jupyter-widgets/base",
            "overflow": null,
            "_model_module_version": "1.2.0",
            "_view_count": null,
            "flex_flow": null,
            "width": null,
            "min_width": null,
            "border": null,
            "align_items": null,
            "bottom": null,
            "_model_module": "@jupyter-widgets/base",
            "top": null,
            "grid_column": null,
            "overflow_y": null,
            "overflow_x": null,
            "grid_auto_flow": null,
            "grid_area": null,
            "grid_template_columns": null,
            "flex": null,
            "_model_name": "LayoutModel",
            "justify_items": null,
            "grid_row": null,
            "max_height": null,
            "align_content": null,
            "visibility": null,
            "align_self": null,
            "height": null,
            "min_height": null,
            "padding": null,
            "grid_auto_rows": null,
            "grid_gap": null,
            "max_width": null,
            "order": null,
            "_view_module_version": "1.2.0",
            "grid_template_areas": null,
            "object_position": null,
            "object_fit": null,
            "grid_auto_columns": null,
            "margin": null,
            "display": null,
            "left": null
          }
        },
        "e8f80f0165fa45f69db8a4a17a03a700": {
          "model_module": "@jupyter-widgets/controls",
          "model_name": "FloatProgressModel",
          "state": {
            "_view_name": "ProgressView",
            "style": "IPY_MODEL_ae082ecbfc9e4efaafe51b1dcdfeb954",
            "_dom_classes": [],
            "description": "Epoch 16: 100%",
            "_model_name": "FloatProgressModel",
            "bar_style": "",
            "max": 563,
            "_view_module": "@jupyter-widgets/controls",
            "_model_module_version": "1.5.0",
            "value": 563,
            "_view_count": null,
            "_view_module_version": "1.5.0",
            "orientation": "horizontal",
            "min": 0,
            "description_tooltip": null,
            "_model_module": "@jupyter-widgets/controls",
            "layout": "IPY_MODEL_36ba8350d8b84bef972afaf10a120d55"
          }
        },
        "c413eea404534d18bcfe138d3fa8d70c": {
          "model_module": "@jupyter-widgets/controls",
          "model_name": "HTMLModel",
          "state": {
            "_view_name": "HTMLView",
            "style": "IPY_MODEL_8fbb9017cbfd43658aed69a33571820a",
            "_dom_classes": [],
            "description": "",
            "_model_name": "HTMLModel",
            "placeholder": "​",
            "_view_module": "@jupyter-widgets/controls",
            "_model_module_version": "1.5.0",
            "value": " 563/563 [00:05&lt;00:00, 108.24it/s, loss=0.0892]",
            "_view_count": null,
            "_view_module_version": "1.5.0",
            "description_tooltip": null,
            "_model_module": "@jupyter-widgets/controls",
            "layout": "IPY_MODEL_17ef76081c6046cf8b5434a3f2eb273c"
          }
        },
        "ae082ecbfc9e4efaafe51b1dcdfeb954": {
          "model_module": "@jupyter-widgets/controls",
          "model_name": "ProgressStyleModel",
          "state": {
            "_view_name": "StyleView",
            "_model_name": "ProgressStyleModel",
            "description_width": "initial",
            "_view_module": "@jupyter-widgets/base",
            "_model_module_version": "1.5.0",
            "_view_count": null,
            "_view_module_version": "1.2.0",
            "bar_color": null,
            "_model_module": "@jupyter-widgets/controls"
          }
        },
        "36ba8350d8b84bef972afaf10a120d55": {
          "model_module": "@jupyter-widgets/base",
          "model_name": "LayoutModel",
          "state": {
            "_view_name": "LayoutView",
            "grid_template_rows": null,
            "right": null,
            "justify_content": null,
            "_view_module": "@jupyter-widgets/base",
            "overflow": null,
            "_model_module_version": "1.2.0",
            "_view_count": null,
            "flex_flow": null,
            "width": null,
            "min_width": null,
            "border": null,
            "align_items": null,
            "bottom": null,
            "_model_module": "@jupyter-widgets/base",
            "top": null,
            "grid_column": null,
            "overflow_y": null,
            "overflow_x": null,
            "grid_auto_flow": null,
            "grid_area": null,
            "grid_template_columns": null,
            "flex": null,
            "_model_name": "LayoutModel",
            "justify_items": null,
            "grid_row": null,
            "max_height": null,
            "align_content": null,
            "visibility": null,
            "align_self": null,
            "height": null,
            "min_height": null,
            "padding": null,
            "grid_auto_rows": null,
            "grid_gap": null,
            "max_width": null,
            "order": null,
            "_view_module_version": "1.2.0",
            "grid_template_areas": null,
            "object_position": null,
            "object_fit": null,
            "grid_auto_columns": null,
            "margin": null,
            "display": null,
            "left": null
          }
        },
        "8fbb9017cbfd43658aed69a33571820a": {
          "model_module": "@jupyter-widgets/controls",
          "model_name": "DescriptionStyleModel",
          "state": {
            "_view_name": "StyleView",
            "_model_name": "DescriptionStyleModel",
            "description_width": "",
            "_view_module": "@jupyter-widgets/base",
            "_model_module_version": "1.5.0",
            "_view_count": null,
            "_view_module_version": "1.2.0",
            "_model_module": "@jupyter-widgets/controls"
          }
        },
        "17ef76081c6046cf8b5434a3f2eb273c": {
          "model_module": "@jupyter-widgets/base",
          "model_name": "LayoutModel",
          "state": {
            "_view_name": "LayoutView",
            "grid_template_rows": null,
            "right": null,
            "justify_content": null,
            "_view_module": "@jupyter-widgets/base",
            "overflow": null,
            "_model_module_version": "1.2.0",
            "_view_count": null,
            "flex_flow": null,
            "width": null,
            "min_width": null,
            "border": null,
            "align_items": null,
            "bottom": null,
            "_model_module": "@jupyter-widgets/base",
            "top": null,
            "grid_column": null,
            "overflow_y": null,
            "overflow_x": null,
            "grid_auto_flow": null,
            "grid_area": null,
            "grid_template_columns": null,
            "flex": null,
            "_model_name": "LayoutModel",
            "justify_items": null,
            "grid_row": null,
            "max_height": null,
            "align_content": null,
            "visibility": null,
            "align_self": null,
            "height": null,
            "min_height": null,
            "padding": null,
            "grid_auto_rows": null,
            "grid_gap": null,
            "max_width": null,
            "order": null,
            "_view_module_version": "1.2.0",
            "grid_template_areas": null,
            "object_position": null,
            "object_fit": null,
            "grid_auto_columns": null,
            "margin": null,
            "display": null,
            "left": null
          }
        },
        "36658e93e27c41c59b535f2d5e2d1131": {
          "model_module": "@jupyter-widgets/controls",
          "model_name": "HBoxModel",
          "state": {
            "_view_name": "HBoxView",
            "_dom_classes": [],
            "_model_name": "HBoxModel",
            "_view_module": "@jupyter-widgets/controls",
            "_model_module_version": "1.5.0",
            "_view_count": null,
            "_view_module_version": "1.5.0",
            "box_style": "",
            "layout": "IPY_MODEL_492035eb2cc9445f800429cf9a536427",
            "_model_module": "@jupyter-widgets/controls",
            "children": [
              "IPY_MODEL_b77f7ae5689046e1b0fa692da1be5ded",
              "IPY_MODEL_b33fc584ee724857a10f9c11375552d4"
            ]
          }
        },
        "492035eb2cc9445f800429cf9a536427": {
          "model_module": "@jupyter-widgets/base",
          "model_name": "LayoutModel",
          "state": {
            "_view_name": "LayoutView",
            "grid_template_rows": null,
            "right": null,
            "justify_content": null,
            "_view_module": "@jupyter-widgets/base",
            "overflow": null,
            "_model_module_version": "1.2.0",
            "_view_count": null,
            "flex_flow": null,
            "width": null,
            "min_width": null,
            "border": null,
            "align_items": null,
            "bottom": null,
            "_model_module": "@jupyter-widgets/base",
            "top": null,
            "grid_column": null,
            "overflow_y": null,
            "overflow_x": null,
            "grid_auto_flow": null,
            "grid_area": null,
            "grid_template_columns": null,
            "flex": null,
            "_model_name": "LayoutModel",
            "justify_items": null,
            "grid_row": null,
            "max_height": null,
            "align_content": null,
            "visibility": null,
            "align_self": null,
            "height": null,
            "min_height": null,
            "padding": null,
            "grid_auto_rows": null,
            "grid_gap": null,
            "max_width": null,
            "order": null,
            "_view_module_version": "1.2.0",
            "grid_template_areas": null,
            "object_position": null,
            "object_fit": null,
            "grid_auto_columns": null,
            "margin": null,
            "display": null,
            "left": null
          }
        },
        "b77f7ae5689046e1b0fa692da1be5ded": {
          "model_module": "@jupyter-widgets/controls",
          "model_name": "FloatProgressModel",
          "state": {
            "_view_name": "ProgressView",
            "style": "IPY_MODEL_8ffd7dd2f55a48c8b4594c726d29f5d3",
            "_dom_classes": [],
            "description": "100%",
            "_model_name": "FloatProgressModel",
            "bar_style": "",
            "max": 141,
            "_view_module": "@jupyter-widgets/controls",
            "_model_module_version": "1.5.0",
            "value": 141,
            "_view_count": null,
            "_view_module_version": "1.5.0",
            "orientation": "horizontal",
            "min": 0,
            "description_tooltip": null,
            "_model_module": "@jupyter-widgets/controls",
            "layout": "IPY_MODEL_5a09c8f02d144ca48ae6f0fe200570ff"
          }
        },
        "b33fc584ee724857a10f9c11375552d4": {
          "model_module": "@jupyter-widgets/controls",
          "model_name": "HTMLModel",
          "state": {
            "_view_name": "HTMLView",
            "style": "IPY_MODEL_775acbc275164ab793aba5a6d0f5805d",
            "_dom_classes": [],
            "description": "",
            "_model_name": "HTMLModel",
            "placeholder": "​",
            "_view_module": "@jupyter-widgets/controls",
            "_model_module_version": "1.5.0",
            "value": " 141/141 [00:00&lt;00:00, 293.54it/s]",
            "_view_count": null,
            "_view_module_version": "1.5.0",
            "description_tooltip": null,
            "_model_module": "@jupyter-widgets/controls",
            "layout": "IPY_MODEL_ec54d5cc8a6a4c66ad03b047c60b8fda"
          }
        },
        "8ffd7dd2f55a48c8b4594c726d29f5d3": {
          "model_module": "@jupyter-widgets/controls",
          "model_name": "ProgressStyleModel",
          "state": {
            "_view_name": "StyleView",
            "_model_name": "ProgressStyleModel",
            "description_width": "initial",
            "_view_module": "@jupyter-widgets/base",
            "_model_module_version": "1.5.0",
            "_view_count": null,
            "_view_module_version": "1.2.0",
            "bar_color": null,
            "_model_module": "@jupyter-widgets/controls"
          }
        },
        "5a09c8f02d144ca48ae6f0fe200570ff": {
          "model_module": "@jupyter-widgets/base",
          "model_name": "LayoutModel",
          "state": {
            "_view_name": "LayoutView",
            "grid_template_rows": null,
            "right": null,
            "justify_content": null,
            "_view_module": "@jupyter-widgets/base",
            "overflow": null,
            "_model_module_version": "1.2.0",
            "_view_count": null,
            "flex_flow": null,
            "width": null,
            "min_width": null,
            "border": null,
            "align_items": null,
            "bottom": null,
            "_model_module": "@jupyter-widgets/base",
            "top": null,
            "grid_column": null,
            "overflow_y": null,
            "overflow_x": null,
            "grid_auto_flow": null,
            "grid_area": null,
            "grid_template_columns": null,
            "flex": null,
            "_model_name": "LayoutModel",
            "justify_items": null,
            "grid_row": null,
            "max_height": null,
            "align_content": null,
            "visibility": null,
            "align_self": null,
            "height": null,
            "min_height": null,
            "padding": null,
            "grid_auto_rows": null,
            "grid_gap": null,
            "max_width": null,
            "order": null,
            "_view_module_version": "1.2.0",
            "grid_template_areas": null,
            "object_position": null,
            "object_fit": null,
            "grid_auto_columns": null,
            "margin": null,
            "display": null,
            "left": null
          }
        },
        "775acbc275164ab793aba5a6d0f5805d": {
          "model_module": "@jupyter-widgets/controls",
          "model_name": "DescriptionStyleModel",
          "state": {
            "_view_name": "StyleView",
            "_model_name": "DescriptionStyleModel",
            "description_width": "",
            "_view_module": "@jupyter-widgets/base",
            "_model_module_version": "1.5.0",
            "_view_count": null,
            "_view_module_version": "1.2.0",
            "_model_module": "@jupyter-widgets/controls"
          }
        },
        "ec54d5cc8a6a4c66ad03b047c60b8fda": {
          "model_module": "@jupyter-widgets/base",
          "model_name": "LayoutModel",
          "state": {
            "_view_name": "LayoutView",
            "grid_template_rows": null,
            "right": null,
            "justify_content": null,
            "_view_module": "@jupyter-widgets/base",
            "overflow": null,
            "_model_module_version": "1.2.0",
            "_view_count": null,
            "flex_flow": null,
            "width": null,
            "min_width": null,
            "border": null,
            "align_items": null,
            "bottom": null,
            "_model_module": "@jupyter-widgets/base",
            "top": null,
            "grid_column": null,
            "overflow_y": null,
            "overflow_x": null,
            "grid_auto_flow": null,
            "grid_area": null,
            "grid_template_columns": null,
            "flex": null,
            "_model_name": "LayoutModel",
            "justify_items": null,
            "grid_row": null,
            "max_height": null,
            "align_content": null,
            "visibility": null,
            "align_self": null,
            "height": null,
            "min_height": null,
            "padding": null,
            "grid_auto_rows": null,
            "grid_gap": null,
            "max_width": null,
            "order": null,
            "_view_module_version": "1.2.0",
            "grid_template_areas": null,
            "object_position": null,
            "object_fit": null,
            "grid_auto_columns": null,
            "margin": null,
            "display": null,
            "left": null
          }
        },
        "d07e07d1467a4382a4e2dad2ecda6cc0": {
          "model_module": "@jupyter-widgets/controls",
          "model_name": "HBoxModel",
          "state": {
            "_view_name": "HBoxView",
            "_dom_classes": [],
            "_model_name": "HBoxModel",
            "_view_module": "@jupyter-widgets/controls",
            "_model_module_version": "1.5.0",
            "_view_count": null,
            "_view_module_version": "1.5.0",
            "box_style": "",
            "layout": "IPY_MODEL_3137410cf1d24079ab9333c46f941980",
            "_model_module": "@jupyter-widgets/controls",
            "children": [
              "IPY_MODEL_02250baf43d54f6bb7b3735ab1680df4",
              "IPY_MODEL_ced7c6482a634534a6078dbc941cfd79"
            ]
          }
        },
        "3137410cf1d24079ab9333c46f941980": {
          "model_module": "@jupyter-widgets/base",
          "model_name": "LayoutModel",
          "state": {
            "_view_name": "LayoutView",
            "grid_template_rows": null,
            "right": null,
            "justify_content": null,
            "_view_module": "@jupyter-widgets/base",
            "overflow": null,
            "_model_module_version": "1.2.0",
            "_view_count": null,
            "flex_flow": null,
            "width": null,
            "min_width": null,
            "border": null,
            "align_items": null,
            "bottom": null,
            "_model_module": "@jupyter-widgets/base",
            "top": null,
            "grid_column": null,
            "overflow_y": null,
            "overflow_x": null,
            "grid_auto_flow": null,
            "grid_area": null,
            "grid_template_columns": null,
            "flex": null,
            "_model_name": "LayoutModel",
            "justify_items": null,
            "grid_row": null,
            "max_height": null,
            "align_content": null,
            "visibility": null,
            "align_self": null,
            "height": null,
            "min_height": null,
            "padding": null,
            "grid_auto_rows": null,
            "grid_gap": null,
            "max_width": null,
            "order": null,
            "_view_module_version": "1.2.0",
            "grid_template_areas": null,
            "object_position": null,
            "object_fit": null,
            "grid_auto_columns": null,
            "margin": null,
            "display": null,
            "left": null
          }
        },
        "02250baf43d54f6bb7b3735ab1680df4": {
          "model_module": "@jupyter-widgets/controls",
          "model_name": "FloatProgressModel",
          "state": {
            "_view_name": "ProgressView",
            "style": "IPY_MODEL_a3fc7e00d9824516b7e71511cda93400",
            "_dom_classes": [],
            "description": "Epoch 17: 100%",
            "_model_name": "FloatProgressModel",
            "bar_style": "",
            "max": 563,
            "_view_module": "@jupyter-widgets/controls",
            "_model_module_version": "1.5.0",
            "value": 563,
            "_view_count": null,
            "_view_module_version": "1.5.0",
            "orientation": "horizontal",
            "min": 0,
            "description_tooltip": null,
            "_model_module": "@jupyter-widgets/controls",
            "layout": "IPY_MODEL_60cfaef388754c4eb766ca3d0dd55abe"
          }
        },
        "ced7c6482a634534a6078dbc941cfd79": {
          "model_module": "@jupyter-widgets/controls",
          "model_name": "HTMLModel",
          "state": {
            "_view_name": "HTMLView",
            "style": "IPY_MODEL_7fec0d02f62e4e5098a686bdb08511b6",
            "_dom_classes": [],
            "description": "",
            "_model_name": "HTMLModel",
            "placeholder": "​",
            "_view_module": "@jupyter-widgets/controls",
            "_model_module_version": "1.5.0",
            "value": " 563/563 [00:05&lt;00:00, 110.74it/s, loss=0.0842]",
            "_view_count": null,
            "_view_module_version": "1.5.0",
            "description_tooltip": null,
            "_model_module": "@jupyter-widgets/controls",
            "layout": "IPY_MODEL_52aa2e7a06ad4102b7a3b5fc02ee60c3"
          }
        },
        "a3fc7e00d9824516b7e71511cda93400": {
          "model_module": "@jupyter-widgets/controls",
          "model_name": "ProgressStyleModel",
          "state": {
            "_view_name": "StyleView",
            "_model_name": "ProgressStyleModel",
            "description_width": "initial",
            "_view_module": "@jupyter-widgets/base",
            "_model_module_version": "1.5.0",
            "_view_count": null,
            "_view_module_version": "1.2.0",
            "bar_color": null,
            "_model_module": "@jupyter-widgets/controls"
          }
        },
        "60cfaef388754c4eb766ca3d0dd55abe": {
          "model_module": "@jupyter-widgets/base",
          "model_name": "LayoutModel",
          "state": {
            "_view_name": "LayoutView",
            "grid_template_rows": null,
            "right": null,
            "justify_content": null,
            "_view_module": "@jupyter-widgets/base",
            "overflow": null,
            "_model_module_version": "1.2.0",
            "_view_count": null,
            "flex_flow": null,
            "width": null,
            "min_width": null,
            "border": null,
            "align_items": null,
            "bottom": null,
            "_model_module": "@jupyter-widgets/base",
            "top": null,
            "grid_column": null,
            "overflow_y": null,
            "overflow_x": null,
            "grid_auto_flow": null,
            "grid_area": null,
            "grid_template_columns": null,
            "flex": null,
            "_model_name": "LayoutModel",
            "justify_items": null,
            "grid_row": null,
            "max_height": null,
            "align_content": null,
            "visibility": null,
            "align_self": null,
            "height": null,
            "min_height": null,
            "padding": null,
            "grid_auto_rows": null,
            "grid_gap": null,
            "max_width": null,
            "order": null,
            "_view_module_version": "1.2.0",
            "grid_template_areas": null,
            "object_position": null,
            "object_fit": null,
            "grid_auto_columns": null,
            "margin": null,
            "display": null,
            "left": null
          }
        },
        "7fec0d02f62e4e5098a686bdb08511b6": {
          "model_module": "@jupyter-widgets/controls",
          "model_name": "DescriptionStyleModel",
          "state": {
            "_view_name": "StyleView",
            "_model_name": "DescriptionStyleModel",
            "description_width": "",
            "_view_module": "@jupyter-widgets/base",
            "_model_module_version": "1.5.0",
            "_view_count": null,
            "_view_module_version": "1.2.0",
            "_model_module": "@jupyter-widgets/controls"
          }
        },
        "52aa2e7a06ad4102b7a3b5fc02ee60c3": {
          "model_module": "@jupyter-widgets/base",
          "model_name": "LayoutModel",
          "state": {
            "_view_name": "LayoutView",
            "grid_template_rows": null,
            "right": null,
            "justify_content": null,
            "_view_module": "@jupyter-widgets/base",
            "overflow": null,
            "_model_module_version": "1.2.0",
            "_view_count": null,
            "flex_flow": null,
            "width": null,
            "min_width": null,
            "border": null,
            "align_items": null,
            "bottom": null,
            "_model_module": "@jupyter-widgets/base",
            "top": null,
            "grid_column": null,
            "overflow_y": null,
            "overflow_x": null,
            "grid_auto_flow": null,
            "grid_area": null,
            "grid_template_columns": null,
            "flex": null,
            "_model_name": "LayoutModel",
            "justify_items": null,
            "grid_row": null,
            "max_height": null,
            "align_content": null,
            "visibility": null,
            "align_self": null,
            "height": null,
            "min_height": null,
            "padding": null,
            "grid_auto_rows": null,
            "grid_gap": null,
            "max_width": null,
            "order": null,
            "_view_module_version": "1.2.0",
            "grid_template_areas": null,
            "object_position": null,
            "object_fit": null,
            "grid_auto_columns": null,
            "margin": null,
            "display": null,
            "left": null
          }
        },
        "fa25699648f44360bef5ef4c547992a1": {
          "model_module": "@jupyter-widgets/controls",
          "model_name": "HBoxModel",
          "state": {
            "_view_name": "HBoxView",
            "_dom_classes": [],
            "_model_name": "HBoxModel",
            "_view_module": "@jupyter-widgets/controls",
            "_model_module_version": "1.5.0",
            "_view_count": null,
            "_view_module_version": "1.5.0",
            "box_style": "",
            "layout": "IPY_MODEL_a85c1113cd9a4cca851e71d9d64ee99d",
            "_model_module": "@jupyter-widgets/controls",
            "children": [
              "IPY_MODEL_bf370375a70c41228a292dd7adaa4162",
              "IPY_MODEL_7059de8b79eb401a84aa4dfc27cedcb0"
            ]
          }
        },
        "a85c1113cd9a4cca851e71d9d64ee99d": {
          "model_module": "@jupyter-widgets/base",
          "model_name": "LayoutModel",
          "state": {
            "_view_name": "LayoutView",
            "grid_template_rows": null,
            "right": null,
            "justify_content": null,
            "_view_module": "@jupyter-widgets/base",
            "overflow": null,
            "_model_module_version": "1.2.0",
            "_view_count": null,
            "flex_flow": null,
            "width": null,
            "min_width": null,
            "border": null,
            "align_items": null,
            "bottom": null,
            "_model_module": "@jupyter-widgets/base",
            "top": null,
            "grid_column": null,
            "overflow_y": null,
            "overflow_x": null,
            "grid_auto_flow": null,
            "grid_area": null,
            "grid_template_columns": null,
            "flex": null,
            "_model_name": "LayoutModel",
            "justify_items": null,
            "grid_row": null,
            "max_height": null,
            "align_content": null,
            "visibility": null,
            "align_self": null,
            "height": null,
            "min_height": null,
            "padding": null,
            "grid_auto_rows": null,
            "grid_gap": null,
            "max_width": null,
            "order": null,
            "_view_module_version": "1.2.0",
            "grid_template_areas": null,
            "object_position": null,
            "object_fit": null,
            "grid_auto_columns": null,
            "margin": null,
            "display": null,
            "left": null
          }
        },
        "bf370375a70c41228a292dd7adaa4162": {
          "model_module": "@jupyter-widgets/controls",
          "model_name": "FloatProgressModel",
          "state": {
            "_view_name": "ProgressView",
            "style": "IPY_MODEL_7905cb27c0704170a80b34de3ac8a561",
            "_dom_classes": [],
            "description": "100%",
            "_model_name": "FloatProgressModel",
            "bar_style": "",
            "max": 141,
            "_view_module": "@jupyter-widgets/controls",
            "_model_module_version": "1.5.0",
            "value": 141,
            "_view_count": null,
            "_view_module_version": "1.5.0",
            "orientation": "horizontal",
            "min": 0,
            "description_tooltip": null,
            "_model_module": "@jupyter-widgets/controls",
            "layout": "IPY_MODEL_ab8bf4c63d194e93a8b1496cf2540bbe"
          }
        },
        "7059de8b79eb401a84aa4dfc27cedcb0": {
          "model_module": "@jupyter-widgets/controls",
          "model_name": "HTMLModel",
          "state": {
            "_view_name": "HTMLView",
            "style": "IPY_MODEL_8f7926add9d249bf90663cd637b59d90",
            "_dom_classes": [],
            "description": "",
            "_model_name": "HTMLModel",
            "placeholder": "​",
            "_view_module": "@jupyter-widgets/controls",
            "_model_module_version": "1.5.0",
            "value": " 141/141 [00:00&lt;00:00, 307.93it/s]",
            "_view_count": null,
            "_view_module_version": "1.5.0",
            "description_tooltip": null,
            "_model_module": "@jupyter-widgets/controls",
            "layout": "IPY_MODEL_a3d5474d6f7e48048b6d8529c45e44d0"
          }
        },
        "7905cb27c0704170a80b34de3ac8a561": {
          "model_module": "@jupyter-widgets/controls",
          "model_name": "ProgressStyleModel",
          "state": {
            "_view_name": "StyleView",
            "_model_name": "ProgressStyleModel",
            "description_width": "initial",
            "_view_module": "@jupyter-widgets/base",
            "_model_module_version": "1.5.0",
            "_view_count": null,
            "_view_module_version": "1.2.0",
            "bar_color": null,
            "_model_module": "@jupyter-widgets/controls"
          }
        },
        "ab8bf4c63d194e93a8b1496cf2540bbe": {
          "model_module": "@jupyter-widgets/base",
          "model_name": "LayoutModel",
          "state": {
            "_view_name": "LayoutView",
            "grid_template_rows": null,
            "right": null,
            "justify_content": null,
            "_view_module": "@jupyter-widgets/base",
            "overflow": null,
            "_model_module_version": "1.2.0",
            "_view_count": null,
            "flex_flow": null,
            "width": null,
            "min_width": null,
            "border": null,
            "align_items": null,
            "bottom": null,
            "_model_module": "@jupyter-widgets/base",
            "top": null,
            "grid_column": null,
            "overflow_y": null,
            "overflow_x": null,
            "grid_auto_flow": null,
            "grid_area": null,
            "grid_template_columns": null,
            "flex": null,
            "_model_name": "LayoutModel",
            "justify_items": null,
            "grid_row": null,
            "max_height": null,
            "align_content": null,
            "visibility": null,
            "align_self": null,
            "height": null,
            "min_height": null,
            "padding": null,
            "grid_auto_rows": null,
            "grid_gap": null,
            "max_width": null,
            "order": null,
            "_view_module_version": "1.2.0",
            "grid_template_areas": null,
            "object_position": null,
            "object_fit": null,
            "grid_auto_columns": null,
            "margin": null,
            "display": null,
            "left": null
          }
        },
        "8f7926add9d249bf90663cd637b59d90": {
          "model_module": "@jupyter-widgets/controls",
          "model_name": "DescriptionStyleModel",
          "state": {
            "_view_name": "StyleView",
            "_model_name": "DescriptionStyleModel",
            "description_width": "",
            "_view_module": "@jupyter-widgets/base",
            "_model_module_version": "1.5.0",
            "_view_count": null,
            "_view_module_version": "1.2.0",
            "_model_module": "@jupyter-widgets/controls"
          }
        },
        "a3d5474d6f7e48048b6d8529c45e44d0": {
          "model_module": "@jupyter-widgets/base",
          "model_name": "LayoutModel",
          "state": {
            "_view_name": "LayoutView",
            "grid_template_rows": null,
            "right": null,
            "justify_content": null,
            "_view_module": "@jupyter-widgets/base",
            "overflow": null,
            "_model_module_version": "1.2.0",
            "_view_count": null,
            "flex_flow": null,
            "width": null,
            "min_width": null,
            "border": null,
            "align_items": null,
            "bottom": null,
            "_model_module": "@jupyter-widgets/base",
            "top": null,
            "grid_column": null,
            "overflow_y": null,
            "overflow_x": null,
            "grid_auto_flow": null,
            "grid_area": null,
            "grid_template_columns": null,
            "flex": null,
            "_model_name": "LayoutModel",
            "justify_items": null,
            "grid_row": null,
            "max_height": null,
            "align_content": null,
            "visibility": null,
            "align_self": null,
            "height": null,
            "min_height": null,
            "padding": null,
            "grid_auto_rows": null,
            "grid_gap": null,
            "max_width": null,
            "order": null,
            "_view_module_version": "1.2.0",
            "grid_template_areas": null,
            "object_position": null,
            "object_fit": null,
            "grid_auto_columns": null,
            "margin": null,
            "display": null,
            "left": null
          }
        },
        "c89caea1498b4bccb8ee523f1a0a88ca": {
          "model_module": "@jupyter-widgets/controls",
          "model_name": "HBoxModel",
          "state": {
            "_view_name": "HBoxView",
            "_dom_classes": [],
            "_model_name": "HBoxModel",
            "_view_module": "@jupyter-widgets/controls",
            "_model_module_version": "1.5.0",
            "_view_count": null,
            "_view_module_version": "1.5.0",
            "box_style": "",
            "layout": "IPY_MODEL_fd7358a2eb9448c9aecefcc5ca8658fb",
            "_model_module": "@jupyter-widgets/controls",
            "children": [
              "IPY_MODEL_6f2af4be6d034bf6ac68ff52f3ac6146",
              "IPY_MODEL_2899d266e92b43779623187b81c00c0d"
            ]
          }
        },
        "fd7358a2eb9448c9aecefcc5ca8658fb": {
          "model_module": "@jupyter-widgets/base",
          "model_name": "LayoutModel",
          "state": {
            "_view_name": "LayoutView",
            "grid_template_rows": null,
            "right": null,
            "justify_content": null,
            "_view_module": "@jupyter-widgets/base",
            "overflow": null,
            "_model_module_version": "1.2.0",
            "_view_count": null,
            "flex_flow": null,
            "width": null,
            "min_width": null,
            "border": null,
            "align_items": null,
            "bottom": null,
            "_model_module": "@jupyter-widgets/base",
            "top": null,
            "grid_column": null,
            "overflow_y": null,
            "overflow_x": null,
            "grid_auto_flow": null,
            "grid_area": null,
            "grid_template_columns": null,
            "flex": null,
            "_model_name": "LayoutModel",
            "justify_items": null,
            "grid_row": null,
            "max_height": null,
            "align_content": null,
            "visibility": null,
            "align_self": null,
            "height": null,
            "min_height": null,
            "padding": null,
            "grid_auto_rows": null,
            "grid_gap": null,
            "max_width": null,
            "order": null,
            "_view_module_version": "1.2.0",
            "grid_template_areas": null,
            "object_position": null,
            "object_fit": null,
            "grid_auto_columns": null,
            "margin": null,
            "display": null,
            "left": null
          }
        },
        "6f2af4be6d034bf6ac68ff52f3ac6146": {
          "model_module": "@jupyter-widgets/controls",
          "model_name": "FloatProgressModel",
          "state": {
            "_view_name": "ProgressView",
            "style": "IPY_MODEL_0227c685e41045c18c72be7a4d3d47f5",
            "_dom_classes": [],
            "description": "Epoch 18: 100%",
            "_model_name": "FloatProgressModel",
            "bar_style": "",
            "max": 563,
            "_view_module": "@jupyter-widgets/controls",
            "_model_module_version": "1.5.0",
            "value": 563,
            "_view_count": null,
            "_view_module_version": "1.5.0",
            "orientation": "horizontal",
            "min": 0,
            "description_tooltip": null,
            "_model_module": "@jupyter-widgets/controls",
            "layout": "IPY_MODEL_f8beb5de6af84068a71cc77329e1c189"
          }
        },
        "2899d266e92b43779623187b81c00c0d": {
          "model_module": "@jupyter-widgets/controls",
          "model_name": "HTMLModel",
          "state": {
            "_view_name": "HTMLView",
            "style": "IPY_MODEL_1860d2247a8b480a865549afb2160efb",
            "_dom_classes": [],
            "description": "",
            "_model_name": "HTMLModel",
            "placeholder": "​",
            "_view_module": "@jupyter-widgets/controls",
            "_model_module_version": "1.5.0",
            "value": " 563/563 [00:05&lt;00:00, 102.61it/s, loss=0.0851]",
            "_view_count": null,
            "_view_module_version": "1.5.0",
            "description_tooltip": null,
            "_model_module": "@jupyter-widgets/controls",
            "layout": "IPY_MODEL_a414cc1711464340b58bc5c72a9a603e"
          }
        },
        "0227c685e41045c18c72be7a4d3d47f5": {
          "model_module": "@jupyter-widgets/controls",
          "model_name": "ProgressStyleModel",
          "state": {
            "_view_name": "StyleView",
            "_model_name": "ProgressStyleModel",
            "description_width": "initial",
            "_view_module": "@jupyter-widgets/base",
            "_model_module_version": "1.5.0",
            "_view_count": null,
            "_view_module_version": "1.2.0",
            "bar_color": null,
            "_model_module": "@jupyter-widgets/controls"
          }
        },
        "f8beb5de6af84068a71cc77329e1c189": {
          "model_module": "@jupyter-widgets/base",
          "model_name": "LayoutModel",
          "state": {
            "_view_name": "LayoutView",
            "grid_template_rows": null,
            "right": null,
            "justify_content": null,
            "_view_module": "@jupyter-widgets/base",
            "overflow": null,
            "_model_module_version": "1.2.0",
            "_view_count": null,
            "flex_flow": null,
            "width": null,
            "min_width": null,
            "border": null,
            "align_items": null,
            "bottom": null,
            "_model_module": "@jupyter-widgets/base",
            "top": null,
            "grid_column": null,
            "overflow_y": null,
            "overflow_x": null,
            "grid_auto_flow": null,
            "grid_area": null,
            "grid_template_columns": null,
            "flex": null,
            "_model_name": "LayoutModel",
            "justify_items": null,
            "grid_row": null,
            "max_height": null,
            "align_content": null,
            "visibility": null,
            "align_self": null,
            "height": null,
            "min_height": null,
            "padding": null,
            "grid_auto_rows": null,
            "grid_gap": null,
            "max_width": null,
            "order": null,
            "_view_module_version": "1.2.0",
            "grid_template_areas": null,
            "object_position": null,
            "object_fit": null,
            "grid_auto_columns": null,
            "margin": null,
            "display": null,
            "left": null
          }
        },
        "1860d2247a8b480a865549afb2160efb": {
          "model_module": "@jupyter-widgets/controls",
          "model_name": "DescriptionStyleModel",
          "state": {
            "_view_name": "StyleView",
            "_model_name": "DescriptionStyleModel",
            "description_width": "",
            "_view_module": "@jupyter-widgets/base",
            "_model_module_version": "1.5.0",
            "_view_count": null,
            "_view_module_version": "1.2.0",
            "_model_module": "@jupyter-widgets/controls"
          }
        },
        "a414cc1711464340b58bc5c72a9a603e": {
          "model_module": "@jupyter-widgets/base",
          "model_name": "LayoutModel",
          "state": {
            "_view_name": "LayoutView",
            "grid_template_rows": null,
            "right": null,
            "justify_content": null,
            "_view_module": "@jupyter-widgets/base",
            "overflow": null,
            "_model_module_version": "1.2.0",
            "_view_count": null,
            "flex_flow": null,
            "width": null,
            "min_width": null,
            "border": null,
            "align_items": null,
            "bottom": null,
            "_model_module": "@jupyter-widgets/base",
            "top": null,
            "grid_column": null,
            "overflow_y": null,
            "overflow_x": null,
            "grid_auto_flow": null,
            "grid_area": null,
            "grid_template_columns": null,
            "flex": null,
            "_model_name": "LayoutModel",
            "justify_items": null,
            "grid_row": null,
            "max_height": null,
            "align_content": null,
            "visibility": null,
            "align_self": null,
            "height": null,
            "min_height": null,
            "padding": null,
            "grid_auto_rows": null,
            "grid_gap": null,
            "max_width": null,
            "order": null,
            "_view_module_version": "1.2.0",
            "grid_template_areas": null,
            "object_position": null,
            "object_fit": null,
            "grid_auto_columns": null,
            "margin": null,
            "display": null,
            "left": null
          }
        },
        "fe49a698aeee43d6a0cfb2dd29a4cf78": {
          "model_module": "@jupyter-widgets/controls",
          "model_name": "HBoxModel",
          "state": {
            "_view_name": "HBoxView",
            "_dom_classes": [],
            "_model_name": "HBoxModel",
            "_view_module": "@jupyter-widgets/controls",
            "_model_module_version": "1.5.0",
            "_view_count": null,
            "_view_module_version": "1.5.0",
            "box_style": "",
            "layout": "IPY_MODEL_b16b491211154e26b70bca57f0182c7e",
            "_model_module": "@jupyter-widgets/controls",
            "children": [
              "IPY_MODEL_7b0bd8e7a88446bc91c43add4618dc2e",
              "IPY_MODEL_fbcd93ff69904b6f86cb5d42ebc5cbb2"
            ]
          }
        },
        "b16b491211154e26b70bca57f0182c7e": {
          "model_module": "@jupyter-widgets/base",
          "model_name": "LayoutModel",
          "state": {
            "_view_name": "LayoutView",
            "grid_template_rows": null,
            "right": null,
            "justify_content": null,
            "_view_module": "@jupyter-widgets/base",
            "overflow": null,
            "_model_module_version": "1.2.0",
            "_view_count": null,
            "flex_flow": null,
            "width": null,
            "min_width": null,
            "border": null,
            "align_items": null,
            "bottom": null,
            "_model_module": "@jupyter-widgets/base",
            "top": null,
            "grid_column": null,
            "overflow_y": null,
            "overflow_x": null,
            "grid_auto_flow": null,
            "grid_area": null,
            "grid_template_columns": null,
            "flex": null,
            "_model_name": "LayoutModel",
            "justify_items": null,
            "grid_row": null,
            "max_height": null,
            "align_content": null,
            "visibility": null,
            "align_self": null,
            "height": null,
            "min_height": null,
            "padding": null,
            "grid_auto_rows": null,
            "grid_gap": null,
            "max_width": null,
            "order": null,
            "_view_module_version": "1.2.0",
            "grid_template_areas": null,
            "object_position": null,
            "object_fit": null,
            "grid_auto_columns": null,
            "margin": null,
            "display": null,
            "left": null
          }
        },
        "7b0bd8e7a88446bc91c43add4618dc2e": {
          "model_module": "@jupyter-widgets/controls",
          "model_name": "FloatProgressModel",
          "state": {
            "_view_name": "ProgressView",
            "style": "IPY_MODEL_bacc39f1562749bd8246a1bc784e07d6",
            "_dom_classes": [],
            "description": "100%",
            "_model_name": "FloatProgressModel",
            "bar_style": "",
            "max": 141,
            "_view_module": "@jupyter-widgets/controls",
            "_model_module_version": "1.5.0",
            "value": 141,
            "_view_count": null,
            "_view_module_version": "1.5.0",
            "orientation": "horizontal",
            "min": 0,
            "description_tooltip": null,
            "_model_module": "@jupyter-widgets/controls",
            "layout": "IPY_MODEL_8935f8bd318f4973bdf5c24addbff3b9"
          }
        },
        "fbcd93ff69904b6f86cb5d42ebc5cbb2": {
          "model_module": "@jupyter-widgets/controls",
          "model_name": "HTMLModel",
          "state": {
            "_view_name": "HTMLView",
            "style": "IPY_MODEL_89d95504dc4d4808857615b5214f1e50",
            "_dom_classes": [],
            "description": "",
            "_model_name": "HTMLModel",
            "placeholder": "​",
            "_view_module": "@jupyter-widgets/controls",
            "_model_module_version": "1.5.0",
            "value": " 141/141 [00:00&lt;00:00, 286.09it/s]",
            "_view_count": null,
            "_view_module_version": "1.5.0",
            "description_tooltip": null,
            "_model_module": "@jupyter-widgets/controls",
            "layout": "IPY_MODEL_a08b7b9528a14e589650eeba6d6e26d3"
          }
        },
        "bacc39f1562749bd8246a1bc784e07d6": {
          "model_module": "@jupyter-widgets/controls",
          "model_name": "ProgressStyleModel",
          "state": {
            "_view_name": "StyleView",
            "_model_name": "ProgressStyleModel",
            "description_width": "initial",
            "_view_module": "@jupyter-widgets/base",
            "_model_module_version": "1.5.0",
            "_view_count": null,
            "_view_module_version": "1.2.0",
            "bar_color": null,
            "_model_module": "@jupyter-widgets/controls"
          }
        },
        "8935f8bd318f4973bdf5c24addbff3b9": {
          "model_module": "@jupyter-widgets/base",
          "model_name": "LayoutModel",
          "state": {
            "_view_name": "LayoutView",
            "grid_template_rows": null,
            "right": null,
            "justify_content": null,
            "_view_module": "@jupyter-widgets/base",
            "overflow": null,
            "_model_module_version": "1.2.0",
            "_view_count": null,
            "flex_flow": null,
            "width": null,
            "min_width": null,
            "border": null,
            "align_items": null,
            "bottom": null,
            "_model_module": "@jupyter-widgets/base",
            "top": null,
            "grid_column": null,
            "overflow_y": null,
            "overflow_x": null,
            "grid_auto_flow": null,
            "grid_area": null,
            "grid_template_columns": null,
            "flex": null,
            "_model_name": "LayoutModel",
            "justify_items": null,
            "grid_row": null,
            "max_height": null,
            "align_content": null,
            "visibility": null,
            "align_self": null,
            "height": null,
            "min_height": null,
            "padding": null,
            "grid_auto_rows": null,
            "grid_gap": null,
            "max_width": null,
            "order": null,
            "_view_module_version": "1.2.0",
            "grid_template_areas": null,
            "object_position": null,
            "object_fit": null,
            "grid_auto_columns": null,
            "margin": null,
            "display": null,
            "left": null
          }
        },
        "89d95504dc4d4808857615b5214f1e50": {
          "model_module": "@jupyter-widgets/controls",
          "model_name": "DescriptionStyleModel",
          "state": {
            "_view_name": "StyleView",
            "_model_name": "DescriptionStyleModel",
            "description_width": "",
            "_view_module": "@jupyter-widgets/base",
            "_model_module_version": "1.5.0",
            "_view_count": null,
            "_view_module_version": "1.2.0",
            "_model_module": "@jupyter-widgets/controls"
          }
        },
        "a08b7b9528a14e589650eeba6d6e26d3": {
          "model_module": "@jupyter-widgets/base",
          "model_name": "LayoutModel",
          "state": {
            "_view_name": "LayoutView",
            "grid_template_rows": null,
            "right": null,
            "justify_content": null,
            "_view_module": "@jupyter-widgets/base",
            "overflow": null,
            "_model_module_version": "1.2.0",
            "_view_count": null,
            "flex_flow": null,
            "width": null,
            "min_width": null,
            "border": null,
            "align_items": null,
            "bottom": null,
            "_model_module": "@jupyter-widgets/base",
            "top": null,
            "grid_column": null,
            "overflow_y": null,
            "overflow_x": null,
            "grid_auto_flow": null,
            "grid_area": null,
            "grid_template_columns": null,
            "flex": null,
            "_model_name": "LayoutModel",
            "justify_items": null,
            "grid_row": null,
            "max_height": null,
            "align_content": null,
            "visibility": null,
            "align_self": null,
            "height": null,
            "min_height": null,
            "padding": null,
            "grid_auto_rows": null,
            "grid_gap": null,
            "max_width": null,
            "order": null,
            "_view_module_version": "1.2.0",
            "grid_template_areas": null,
            "object_position": null,
            "object_fit": null,
            "grid_auto_columns": null,
            "margin": null,
            "display": null,
            "left": null
          }
        },
        "7ba7344ff34f4553ae5ce631f14d2db4": {
          "model_module": "@jupyter-widgets/controls",
          "model_name": "HBoxModel",
          "state": {
            "_view_name": "HBoxView",
            "_dom_classes": [],
            "_model_name": "HBoxModel",
            "_view_module": "@jupyter-widgets/controls",
            "_model_module_version": "1.5.0",
            "_view_count": null,
            "_view_module_version": "1.5.0",
            "box_style": "",
            "layout": "IPY_MODEL_b5067bc9f00542718ea2788fd38cebe0",
            "_model_module": "@jupyter-widgets/controls",
            "children": [
              "IPY_MODEL_54ceae6b9554422bb96b2e07739b70dc",
              "IPY_MODEL_56bcfd7a29fb4381b56b4af038aa21ff"
            ]
          }
        },
        "b5067bc9f00542718ea2788fd38cebe0": {
          "model_module": "@jupyter-widgets/base",
          "model_name": "LayoutModel",
          "state": {
            "_view_name": "LayoutView",
            "grid_template_rows": null,
            "right": null,
            "justify_content": null,
            "_view_module": "@jupyter-widgets/base",
            "overflow": null,
            "_model_module_version": "1.2.0",
            "_view_count": null,
            "flex_flow": null,
            "width": null,
            "min_width": null,
            "border": null,
            "align_items": null,
            "bottom": null,
            "_model_module": "@jupyter-widgets/base",
            "top": null,
            "grid_column": null,
            "overflow_y": null,
            "overflow_x": null,
            "grid_auto_flow": null,
            "grid_area": null,
            "grid_template_columns": null,
            "flex": null,
            "_model_name": "LayoutModel",
            "justify_items": null,
            "grid_row": null,
            "max_height": null,
            "align_content": null,
            "visibility": null,
            "align_self": null,
            "height": null,
            "min_height": null,
            "padding": null,
            "grid_auto_rows": null,
            "grid_gap": null,
            "max_width": null,
            "order": null,
            "_view_module_version": "1.2.0",
            "grid_template_areas": null,
            "object_position": null,
            "object_fit": null,
            "grid_auto_columns": null,
            "margin": null,
            "display": null,
            "left": null
          }
        },
        "54ceae6b9554422bb96b2e07739b70dc": {
          "model_module": "@jupyter-widgets/controls",
          "model_name": "FloatProgressModel",
          "state": {
            "_view_name": "ProgressView",
            "style": "IPY_MODEL_c90c425646c5496597d610cea7df4a03",
            "_dom_classes": [],
            "description": "Epoch 19: 100%",
            "_model_name": "FloatProgressModel",
            "bar_style": "",
            "max": 563,
            "_view_module": "@jupyter-widgets/controls",
            "_model_module_version": "1.5.0",
            "value": 563,
            "_view_count": null,
            "_view_module_version": "1.5.0",
            "orientation": "horizontal",
            "min": 0,
            "description_tooltip": null,
            "_model_module": "@jupyter-widgets/controls",
            "layout": "IPY_MODEL_62d0acccc115413b98ebb092cb3a9146"
          }
        },
        "56bcfd7a29fb4381b56b4af038aa21ff": {
          "model_module": "@jupyter-widgets/controls",
          "model_name": "HTMLModel",
          "state": {
            "_view_name": "HTMLView",
            "style": "IPY_MODEL_b389602fe343485ea2b68a9e7481e550",
            "_dom_classes": [],
            "description": "",
            "_model_name": "HTMLModel",
            "placeholder": "​",
            "_view_module": "@jupyter-widgets/controls",
            "_model_module_version": "1.5.0",
            "value": " 563/563 [00:05&lt;00:00, 107.36it/s, loss=0.31]",
            "_view_count": null,
            "_view_module_version": "1.5.0",
            "description_tooltip": null,
            "_model_module": "@jupyter-widgets/controls",
            "layout": "IPY_MODEL_bc80de3eb7be4183bd7aad30411c6550"
          }
        },
        "c90c425646c5496597d610cea7df4a03": {
          "model_module": "@jupyter-widgets/controls",
          "model_name": "ProgressStyleModel",
          "state": {
            "_view_name": "StyleView",
            "_model_name": "ProgressStyleModel",
            "description_width": "initial",
            "_view_module": "@jupyter-widgets/base",
            "_model_module_version": "1.5.0",
            "_view_count": null,
            "_view_module_version": "1.2.0",
            "bar_color": null,
            "_model_module": "@jupyter-widgets/controls"
          }
        },
        "62d0acccc115413b98ebb092cb3a9146": {
          "model_module": "@jupyter-widgets/base",
          "model_name": "LayoutModel",
          "state": {
            "_view_name": "LayoutView",
            "grid_template_rows": null,
            "right": null,
            "justify_content": null,
            "_view_module": "@jupyter-widgets/base",
            "overflow": null,
            "_model_module_version": "1.2.0",
            "_view_count": null,
            "flex_flow": null,
            "width": null,
            "min_width": null,
            "border": null,
            "align_items": null,
            "bottom": null,
            "_model_module": "@jupyter-widgets/base",
            "top": null,
            "grid_column": null,
            "overflow_y": null,
            "overflow_x": null,
            "grid_auto_flow": null,
            "grid_area": null,
            "grid_template_columns": null,
            "flex": null,
            "_model_name": "LayoutModel",
            "justify_items": null,
            "grid_row": null,
            "max_height": null,
            "align_content": null,
            "visibility": null,
            "align_self": null,
            "height": null,
            "min_height": null,
            "padding": null,
            "grid_auto_rows": null,
            "grid_gap": null,
            "max_width": null,
            "order": null,
            "_view_module_version": "1.2.0",
            "grid_template_areas": null,
            "object_position": null,
            "object_fit": null,
            "grid_auto_columns": null,
            "margin": null,
            "display": null,
            "left": null
          }
        },
        "b389602fe343485ea2b68a9e7481e550": {
          "model_module": "@jupyter-widgets/controls",
          "model_name": "DescriptionStyleModel",
          "state": {
            "_view_name": "StyleView",
            "_model_name": "DescriptionStyleModel",
            "description_width": "",
            "_view_module": "@jupyter-widgets/base",
            "_model_module_version": "1.5.0",
            "_view_count": null,
            "_view_module_version": "1.2.0",
            "_model_module": "@jupyter-widgets/controls"
          }
        },
        "bc80de3eb7be4183bd7aad30411c6550": {
          "model_module": "@jupyter-widgets/base",
          "model_name": "LayoutModel",
          "state": {
            "_view_name": "LayoutView",
            "grid_template_rows": null,
            "right": null,
            "justify_content": null,
            "_view_module": "@jupyter-widgets/base",
            "overflow": null,
            "_model_module_version": "1.2.0",
            "_view_count": null,
            "flex_flow": null,
            "width": null,
            "min_width": null,
            "border": null,
            "align_items": null,
            "bottom": null,
            "_model_module": "@jupyter-widgets/base",
            "top": null,
            "grid_column": null,
            "overflow_y": null,
            "overflow_x": null,
            "grid_auto_flow": null,
            "grid_area": null,
            "grid_template_columns": null,
            "flex": null,
            "_model_name": "LayoutModel",
            "justify_items": null,
            "grid_row": null,
            "max_height": null,
            "align_content": null,
            "visibility": null,
            "align_self": null,
            "height": null,
            "min_height": null,
            "padding": null,
            "grid_auto_rows": null,
            "grid_gap": null,
            "max_width": null,
            "order": null,
            "_view_module_version": "1.2.0",
            "grid_template_areas": null,
            "object_position": null,
            "object_fit": null,
            "grid_auto_columns": null,
            "margin": null,
            "display": null,
            "left": null
          }
        },
        "90729e182557435e84a79ced1ea73efa": {
          "model_module": "@jupyter-widgets/controls",
          "model_name": "HBoxModel",
          "state": {
            "_view_name": "HBoxView",
            "_dom_classes": [],
            "_model_name": "HBoxModel",
            "_view_module": "@jupyter-widgets/controls",
            "_model_module_version": "1.5.0",
            "_view_count": null,
            "_view_module_version": "1.5.0",
            "box_style": "",
            "layout": "IPY_MODEL_4587b344c1694b70ab7418319caca6a6",
            "_model_module": "@jupyter-widgets/controls",
            "children": [
              "IPY_MODEL_7b9da322f9bf40088d9e0ff3d5d5a7f4",
              "IPY_MODEL_1995741880084a69aafd104e1e8f4eb0"
            ]
          }
        },
        "4587b344c1694b70ab7418319caca6a6": {
          "model_module": "@jupyter-widgets/base",
          "model_name": "LayoutModel",
          "state": {
            "_view_name": "LayoutView",
            "grid_template_rows": null,
            "right": null,
            "justify_content": null,
            "_view_module": "@jupyter-widgets/base",
            "overflow": null,
            "_model_module_version": "1.2.0",
            "_view_count": null,
            "flex_flow": null,
            "width": null,
            "min_width": null,
            "border": null,
            "align_items": null,
            "bottom": null,
            "_model_module": "@jupyter-widgets/base",
            "top": null,
            "grid_column": null,
            "overflow_y": null,
            "overflow_x": null,
            "grid_auto_flow": null,
            "grid_area": null,
            "grid_template_columns": null,
            "flex": null,
            "_model_name": "LayoutModel",
            "justify_items": null,
            "grid_row": null,
            "max_height": null,
            "align_content": null,
            "visibility": null,
            "align_self": null,
            "height": null,
            "min_height": null,
            "padding": null,
            "grid_auto_rows": null,
            "grid_gap": null,
            "max_width": null,
            "order": null,
            "_view_module_version": "1.2.0",
            "grid_template_areas": null,
            "object_position": null,
            "object_fit": null,
            "grid_auto_columns": null,
            "margin": null,
            "display": null,
            "left": null
          }
        },
        "7b9da322f9bf40088d9e0ff3d5d5a7f4": {
          "model_module": "@jupyter-widgets/controls",
          "model_name": "FloatProgressModel",
          "state": {
            "_view_name": "ProgressView",
            "style": "IPY_MODEL_8516f631bff24453b8c4c3bc3f004a87",
            "_dom_classes": [],
            "description": "100%",
            "_model_name": "FloatProgressModel",
            "bar_style": "",
            "max": 141,
            "_view_module": "@jupyter-widgets/controls",
            "_model_module_version": "1.5.0",
            "value": 141,
            "_view_count": null,
            "_view_module_version": "1.5.0",
            "orientation": "horizontal",
            "min": 0,
            "description_tooltip": null,
            "_model_module": "@jupyter-widgets/controls",
            "layout": "IPY_MODEL_fb59db662df8473c9f23defb6b4744bc"
          }
        },
        "1995741880084a69aafd104e1e8f4eb0": {
          "model_module": "@jupyter-widgets/controls",
          "model_name": "HTMLModel",
          "state": {
            "_view_name": "HTMLView",
            "style": "IPY_MODEL_98ee012d01bd458ebb17d8875290e5c2",
            "_dom_classes": [],
            "description": "",
            "_model_name": "HTMLModel",
            "placeholder": "​",
            "_view_module": "@jupyter-widgets/controls",
            "_model_module_version": "1.5.0",
            "value": " 141/141 [00:00&lt;00:00, 266.73it/s]",
            "_view_count": null,
            "_view_module_version": "1.5.0",
            "description_tooltip": null,
            "_model_module": "@jupyter-widgets/controls",
            "layout": "IPY_MODEL_22fe7d9ebf32407fadbc294849fd46f7"
          }
        },
        "8516f631bff24453b8c4c3bc3f004a87": {
          "model_module": "@jupyter-widgets/controls",
          "model_name": "ProgressStyleModel",
          "state": {
            "_view_name": "StyleView",
            "_model_name": "ProgressStyleModel",
            "description_width": "initial",
            "_view_module": "@jupyter-widgets/base",
            "_model_module_version": "1.5.0",
            "_view_count": null,
            "_view_module_version": "1.2.0",
            "bar_color": null,
            "_model_module": "@jupyter-widgets/controls"
          }
        },
        "fb59db662df8473c9f23defb6b4744bc": {
          "model_module": "@jupyter-widgets/base",
          "model_name": "LayoutModel",
          "state": {
            "_view_name": "LayoutView",
            "grid_template_rows": null,
            "right": null,
            "justify_content": null,
            "_view_module": "@jupyter-widgets/base",
            "overflow": null,
            "_model_module_version": "1.2.0",
            "_view_count": null,
            "flex_flow": null,
            "width": null,
            "min_width": null,
            "border": null,
            "align_items": null,
            "bottom": null,
            "_model_module": "@jupyter-widgets/base",
            "top": null,
            "grid_column": null,
            "overflow_y": null,
            "overflow_x": null,
            "grid_auto_flow": null,
            "grid_area": null,
            "grid_template_columns": null,
            "flex": null,
            "_model_name": "LayoutModel",
            "justify_items": null,
            "grid_row": null,
            "max_height": null,
            "align_content": null,
            "visibility": null,
            "align_self": null,
            "height": null,
            "min_height": null,
            "padding": null,
            "grid_auto_rows": null,
            "grid_gap": null,
            "max_width": null,
            "order": null,
            "_view_module_version": "1.2.0",
            "grid_template_areas": null,
            "object_position": null,
            "object_fit": null,
            "grid_auto_columns": null,
            "margin": null,
            "display": null,
            "left": null
          }
        },
        "98ee012d01bd458ebb17d8875290e5c2": {
          "model_module": "@jupyter-widgets/controls",
          "model_name": "DescriptionStyleModel",
          "state": {
            "_view_name": "StyleView",
            "_model_name": "DescriptionStyleModel",
            "description_width": "",
            "_view_module": "@jupyter-widgets/base",
            "_model_module_version": "1.5.0",
            "_view_count": null,
            "_view_module_version": "1.2.0",
            "_model_module": "@jupyter-widgets/controls"
          }
        },
        "22fe7d9ebf32407fadbc294849fd46f7": {
          "model_module": "@jupyter-widgets/base",
          "model_name": "LayoutModel",
          "state": {
            "_view_name": "LayoutView",
            "grid_template_rows": null,
            "right": null,
            "justify_content": null,
            "_view_module": "@jupyter-widgets/base",
            "overflow": null,
            "_model_module_version": "1.2.0",
            "_view_count": null,
            "flex_flow": null,
            "width": null,
            "min_width": null,
            "border": null,
            "align_items": null,
            "bottom": null,
            "_model_module": "@jupyter-widgets/base",
            "top": null,
            "grid_column": null,
            "overflow_y": null,
            "overflow_x": null,
            "grid_auto_flow": null,
            "grid_area": null,
            "grid_template_columns": null,
            "flex": null,
            "_model_name": "LayoutModel",
            "justify_items": null,
            "grid_row": null,
            "max_height": null,
            "align_content": null,
            "visibility": null,
            "align_self": null,
            "height": null,
            "min_height": null,
            "padding": null,
            "grid_auto_rows": null,
            "grid_gap": null,
            "max_width": null,
            "order": null,
            "_view_module_version": "1.2.0",
            "grid_template_areas": null,
            "object_position": null,
            "object_fit": null,
            "grid_auto_columns": null,
            "margin": null,
            "display": null,
            "left": null
          }
        }
      }
    }
  },
  "cells": [
    {
      "cell_type": "markdown",
      "metadata": {
        "id": "view-in-github",
        "colab_type": "text"
      },
      "source": [
        "<a href=\"https://colab.research.google.com/github/arunt-sjsu/deep_learning/blob/main/Assignment5/Assignment5_Part_C_PyTorch.ipynb\" target=\"_parent\"><img src=\"https://colab.research.google.com/assets/colab-badge.svg\" alt=\"Open In Colab\"/></a>"
      ]
    },
    {
      "cell_type": "markdown",
      "metadata": {
        "id": "PNBTeQsT1Rn4"
      },
      "source": [
        "## Introduction\n",
        "### The goal of this notebook is to demonstrate the use of PyTorch model to build a pipeline to predict the price of a taxi ride in NYC, using the NYC Taxi Dataset that is available online"
      ]
    },
    {
      "cell_type": "markdown",
      "metadata": {
        "id": "uh2Y1u6JkBVG"
      },
      "source": [
        "## Import libraries\n"
      ]
    },
    {
      "cell_type": "code",
      "metadata": {
        "id": "3256OFoIjIrM"
      },
      "source": [
        "## import libraries\n",
        "\n",
        "#PyTorch \n",
        "\n",
        "import torch\n",
        "import torch.nn as nn\n",
        "from torch.utils.data import Dataset, DataLoader\n",
        "import torch.optim as torch_optim\n",
        "from torchvision import models\n",
        "from torch.nn import init\n",
        "import torch.optim as optim\n",
        "from torch.autograd import Variable\n",
        "import torch.nn.functional as F\n",
        "from torch.utils import data\n",
        "from torch.optim import lr_scheduler\n",
        "\n",
        "#sklearn\n",
        "from sklearn.model_selection import train_test_split\n",
        "from sklearn.preprocessing import LabelEncoder\n",
        "from sklearn.metrics import mean_squared_error\n",
        "from sklearn import preprocessing\n",
        "\n",
        "\n",
        "#other\n",
        "from IPython.core.debugger import set_trace\n",
        "import pandas as pd\n",
        "import numpy as np\n",
        "from collections import Counter\n",
        "from datetime import datetime\n",
        "import math \n",
        "from google.colab import files\n",
        "import io\n",
        "import datetime as dt\n",
        "import re\n",
        "import pandas_profiling\n",
        "import pandas_profiling as pp\n",
        "from math import sqrt\n",
        "\n",
        "#graphs\n",
        "import seaborn as sns\n",
        "import matplotlib.pyplot as plt\n",
        "import matplotlib.ticker as ticker\n",
        "import matplotlib.dates as mdates\n",
        "import matplotlib.cbook as cbook\n",
        "import pylab as plt\n",
        "import matplotlib.dates as dates\n",
        "import seaborn as sns\n",
        "import pylab\n",
        "import matplotlib\n",
        "import matplotlib.dates\n",
        "from IPython.display import display\n",
        "import plotly.graph_objects as go\n",
        "\n",
        "\n",
        "%matplotlib inline"
      ],
      "execution_count": 1,
      "outputs": []
    },
    {
      "cell_type": "code",
      "metadata": {
        "id": "jENRWz7YBP8v",
        "colab": {
          "base_uri": "https://localhost:8080/"
        },
        "outputId": "dbfa4a96-79c5-4b65-e42b-f6a58d773118"
      },
      "source": [
        "# load tqdm\n",
        "from tqdm import tqdm, tqdm_notebook, tnrange\n",
        "\n",
        "device = torch.device(\"cuda:0\" if torch.cuda.is_available() else \"cpu\")\n",
        "device"
      ],
      "execution_count": 2,
      "outputs": [
        {
          "output_type": "execute_result",
          "data": {
            "text/plain": [
              "device(type='cuda', index=0)"
            ]
          },
          "metadata": {
            "tags": []
          },
          "execution_count": 2
        }
      ]
    },
    {
      "cell_type": "code",
      "metadata": {
        "colab": {
          "base_uri": "https://localhost:8080/",
          "height": 279
        },
        "id": "9w2zahxUZzFs",
        "outputId": "8c0ac27d-b55e-4c00-8d38-4119e66044ae"
      },
      "source": [
        "import requests\n",
        "from io import BytesIO\n",
        "\n",
        "url = 'https://docs.google.com/spreadsheets/d/e/2PACX-1vSdR1c5jpsE5Kp2DzQoIm7H2XywINfGNMnTL7nP92mu_GBHgu2T0mPxnu5O0YVfSpAbAu1NGNrm0auq/pub?output=csv'\n",
        "r = requests.get(url)\n",
        "csv_data = r.content\n",
        "df = pd.read_csv(BytesIO(csv_data))\n",
        "df.head()"
      ],
      "execution_count": 3,
      "outputs": [
        {
          "output_type": "execute_result",
          "data": {
            "text/html": [
              "<div>\n",
              "<style scoped>\n",
              "    .dataframe tbody tr th:only-of-type {\n",
              "        vertical-align: middle;\n",
              "    }\n",
              "\n",
              "    .dataframe tbody tr th {\n",
              "        vertical-align: top;\n",
              "    }\n",
              "\n",
              "    .dataframe thead th {\n",
              "        text-align: right;\n",
              "    }\n",
              "</style>\n",
              "<table border=\"1\" class=\"dataframe\">\n",
              "  <thead>\n",
              "    <tr style=\"text-align: right;\">\n",
              "      <th></th>\n",
              "      <th>key</th>\n",
              "      <th>fare_amount</th>\n",
              "      <th>pickup_datetime</th>\n",
              "      <th>pickup_longitude</th>\n",
              "      <th>pickup_latitude</th>\n",
              "      <th>dropoff_longitude</th>\n",
              "      <th>dropoff_latitude</th>\n",
              "      <th>passenger_count</th>\n",
              "    </tr>\n",
              "  </thead>\n",
              "  <tbody>\n",
              "    <tr>\n",
              "      <th>0</th>\n",
              "      <td>2009-06-15 17:26:21</td>\n",
              "      <td>4.5</td>\n",
              "      <td>2009-06-15 17:26:21 UTC</td>\n",
              "      <td>-73.844311</td>\n",
              "      <td>40.721319</td>\n",
              "      <td>-73.841610</td>\n",
              "      <td>40.712278</td>\n",
              "      <td>1</td>\n",
              "    </tr>\n",
              "    <tr>\n",
              "      <th>1</th>\n",
              "      <td>2010-01-05 16:52:16</td>\n",
              "      <td>16.9</td>\n",
              "      <td>2010-01-05 16:52:16 UTC</td>\n",
              "      <td>-74.016048</td>\n",
              "      <td>40.711303</td>\n",
              "      <td>-73.979268</td>\n",
              "      <td>40.782004</td>\n",
              "      <td>1</td>\n",
              "    </tr>\n",
              "    <tr>\n",
              "      <th>2</th>\n",
              "      <td>2011-08-18 0:35:00</td>\n",
              "      <td>5.7</td>\n",
              "      <td>2011-08-18 00:35:00 UTC</td>\n",
              "      <td>-73.982738</td>\n",
              "      <td>40.761270</td>\n",
              "      <td>-73.991242</td>\n",
              "      <td>40.750562</td>\n",
              "      <td>2</td>\n",
              "    </tr>\n",
              "    <tr>\n",
              "      <th>3</th>\n",
              "      <td>2012-04-21 4:30:42</td>\n",
              "      <td>7.7</td>\n",
              "      <td>2012-04-21 04:30:42 UTC</td>\n",
              "      <td>-73.987130</td>\n",
              "      <td>40.733143</td>\n",
              "      <td>-73.991567</td>\n",
              "      <td>40.758092</td>\n",
              "      <td>1</td>\n",
              "    </tr>\n",
              "    <tr>\n",
              "      <th>4</th>\n",
              "      <td>2010-03-09 7:51:00</td>\n",
              "      <td>5.3</td>\n",
              "      <td>2010-03-09 07:51:00 UTC</td>\n",
              "      <td>-73.968095</td>\n",
              "      <td>40.768008</td>\n",
              "      <td>-73.956655</td>\n",
              "      <td>40.783762</td>\n",
              "      <td>1</td>\n",
              "    </tr>\n",
              "  </tbody>\n",
              "</table>\n",
              "</div>"
            ],
            "text/plain": [
              "                   key  fare_amount  ... dropoff_latitude  passenger_count\n",
              "0  2009-06-15 17:26:21          4.5  ...        40.712278                1\n",
              "1  2010-01-05 16:52:16         16.9  ...        40.782004                1\n",
              "2   2011-08-18 0:35:00          5.7  ...        40.750562                2\n",
              "3   2012-04-21 4:30:42          7.7  ...        40.758092                1\n",
              "4   2010-03-09 7:51:00          5.3  ...        40.783762                1\n",
              "\n",
              "[5 rows x 8 columns]"
            ]
          },
          "metadata": {
            "tags": []
          },
          "execution_count": 3
        }
      ]
    },
    {
      "cell_type": "markdown",
      "metadata": {
        "id": "QSAiBGfNkbhb"
      },
      "source": [
        "# Data preprocessing and transformation"
      ]
    },
    {
      "cell_type": "markdown",
      "metadata": {
        "id": "lbRO0s7mmtOz"
      },
      "source": [
        "##Calculate the distance traveled"
      ]
    },
    {
      "cell_type": "markdown",
      "metadata": {
        "id": "0PVX-6qokEWI"
      },
      "source": [
        "**Distance Function**\n",
        "\n"
      ]
    },
    {
      "cell_type": "code",
      "metadata": {
        "id": "uJoaYsqKjjTu"
      },
      "source": [
        "def haversine_distance(df, lat1, long1, lat2, long2):\n",
        "    \"\"\"\n",
        "    Calculates the haversine distance between 2 sets of GPS coordinates in df\n",
        "    \"\"\"\n",
        "    r = 6371  # average radius of Earth in kilometers\n",
        "       \n",
        "    phi1 = np.radians(df[lat1])\n",
        "    phi2 = np.radians(df[lat2])\n",
        "    \n",
        "    delta_phi = np.radians(df[lat2]-df[lat1])\n",
        "    delta_lambda = np.radians(df[long2]-df[long1])\n",
        "     \n",
        "    a = np.sin(delta_phi/2)**2 + np.cos(phi1) * np.cos(phi2) * np.sin(delta_lambda/2)**2\n",
        "    c = 2 * np.arctan2(np.sqrt(a), np.sqrt(1-a))\n",
        "    d = (r * c) # in kilometers\n",
        "\n",
        "    return d"
      ],
      "execution_count": 4,
      "outputs": []
    },
    {
      "cell_type": "code",
      "metadata": {
        "id": "U6prpp5lmivr"
      },
      "source": [
        "df['dist_km'] = haversine_distance(df,'pickup_latitude', 'pickup_longitude', 'dropoff_latitude', 'dropoff_longitude')"
      ],
      "execution_count": 5,
      "outputs": []
    },
    {
      "cell_type": "markdown",
      "metadata": {
        "id": "mxYVYQ3lm2dI"
      },
      "source": [
        "##Add a datetime column and derive useful statistics"
      ]
    },
    {
      "cell_type": "code",
      "metadata": {
        "id": "HLmdLkipktOK"
      },
      "source": [
        "df['EDTdate'] = pd.to_datetime(df['pickup_datetime'].str[:19]) - pd.Timedelta(hours=4)\n",
        "df['Hour'] = df['EDTdate'].dt.hour\n",
        "df['AMorPM'] = np.where(df['Hour']<12,'am','pm')\n",
        "df['Weekday'] = df['EDTdate'].dt.strftime(\"%a\")"
      ],
      "execution_count": 6,
      "outputs": []
    },
    {
      "cell_type": "code",
      "metadata": {
        "id": "mN0xUIP0nH-K"
      },
      "source": [
        "cat_cols = ['Hour', 'AMorPM', 'Weekday']\n",
        "cont_cols = ['pickup_latitude', 'pickup_longitude', 'dropoff_latitude', 'dropoff_longitude', 'passenger_count', 'dist_km']\n"
      ],
      "execution_count": 7,
      "outputs": []
    },
    {
      "cell_type": "code",
      "metadata": {
        "id": "G91bMyUroUMw",
        "colab": {
          "base_uri": "https://localhost:8080/",
          "height": 383
        },
        "outputId": "0446c4f9-ebd3-4351-9632-c5a9441e65eb"
      },
      "source": [
        "#make the cat categories as \"category\" and label encoder it.\n",
        "for col in df.columns:\n",
        "  if col in cat_cols:\n",
        "    df[col] = LabelEncoder().fit_transform(df[col])\n",
        "    df[col]= df[col].astype('category')\n",
        "\n",
        "df.head()"
      ],
      "execution_count": 8,
      "outputs": [
        {
          "output_type": "execute_result",
          "data": {
            "text/html": [
              "<div>\n",
              "<style scoped>\n",
              "    .dataframe tbody tr th:only-of-type {\n",
              "        vertical-align: middle;\n",
              "    }\n",
              "\n",
              "    .dataframe tbody tr th {\n",
              "        vertical-align: top;\n",
              "    }\n",
              "\n",
              "    .dataframe thead th {\n",
              "        text-align: right;\n",
              "    }\n",
              "</style>\n",
              "<table border=\"1\" class=\"dataframe\">\n",
              "  <thead>\n",
              "    <tr style=\"text-align: right;\">\n",
              "      <th></th>\n",
              "      <th>key</th>\n",
              "      <th>fare_amount</th>\n",
              "      <th>pickup_datetime</th>\n",
              "      <th>pickup_longitude</th>\n",
              "      <th>pickup_latitude</th>\n",
              "      <th>dropoff_longitude</th>\n",
              "      <th>dropoff_latitude</th>\n",
              "      <th>passenger_count</th>\n",
              "      <th>dist_km</th>\n",
              "      <th>EDTdate</th>\n",
              "      <th>Hour</th>\n",
              "      <th>AMorPM</th>\n",
              "      <th>Weekday</th>\n",
              "    </tr>\n",
              "  </thead>\n",
              "  <tbody>\n",
              "    <tr>\n",
              "      <th>0</th>\n",
              "      <td>2009-06-15 17:26:21</td>\n",
              "      <td>4.5</td>\n",
              "      <td>2009-06-15 17:26:21 UTC</td>\n",
              "      <td>-73.844311</td>\n",
              "      <td>40.721319</td>\n",
              "      <td>-73.841610</td>\n",
              "      <td>40.712278</td>\n",
              "      <td>1</td>\n",
              "      <td>1.030764</td>\n",
              "      <td>2009-06-15 13:26:21</td>\n",
              "      <td>13</td>\n",
              "      <td>1</td>\n",
              "      <td>1</td>\n",
              "    </tr>\n",
              "    <tr>\n",
              "      <th>1</th>\n",
              "      <td>2010-01-05 16:52:16</td>\n",
              "      <td>16.9</td>\n",
              "      <td>2010-01-05 16:52:16 UTC</td>\n",
              "      <td>-74.016048</td>\n",
              "      <td>40.711303</td>\n",
              "      <td>-73.979268</td>\n",
              "      <td>40.782004</td>\n",
              "      <td>1</td>\n",
              "      <td>8.450134</td>\n",
              "      <td>2010-01-05 12:52:16</td>\n",
              "      <td>12</td>\n",
              "      <td>1</td>\n",
              "      <td>5</td>\n",
              "    </tr>\n",
              "    <tr>\n",
              "      <th>2</th>\n",
              "      <td>2011-08-18 0:35:00</td>\n",
              "      <td>5.7</td>\n",
              "      <td>2011-08-18 00:35:00 UTC</td>\n",
              "      <td>-73.982738</td>\n",
              "      <td>40.761270</td>\n",
              "      <td>-73.991242</td>\n",
              "      <td>40.750562</td>\n",
              "      <td>2</td>\n",
              "      <td>1.389525</td>\n",
              "      <td>2011-08-17 20:35:00</td>\n",
              "      <td>20</td>\n",
              "      <td>1</td>\n",
              "      <td>6</td>\n",
              "    </tr>\n",
              "    <tr>\n",
              "      <th>3</th>\n",
              "      <td>2012-04-21 4:30:42</td>\n",
              "      <td>7.7</td>\n",
              "      <td>2012-04-21 04:30:42 UTC</td>\n",
              "      <td>-73.987130</td>\n",
              "      <td>40.733143</td>\n",
              "      <td>-73.991567</td>\n",
              "      <td>40.758092</td>\n",
              "      <td>1</td>\n",
              "      <td>2.799270</td>\n",
              "      <td>2012-04-21 00:30:42</td>\n",
              "      <td>0</td>\n",
              "      <td>0</td>\n",
              "      <td>2</td>\n",
              "    </tr>\n",
              "    <tr>\n",
              "      <th>4</th>\n",
              "      <td>2010-03-09 7:51:00</td>\n",
              "      <td>5.3</td>\n",
              "      <td>2010-03-09 07:51:00 UTC</td>\n",
              "      <td>-73.968095</td>\n",
              "      <td>40.768008</td>\n",
              "      <td>-73.956655</td>\n",
              "      <td>40.783762</td>\n",
              "      <td>1</td>\n",
              "      <td>1.999157</td>\n",
              "      <td>2010-03-09 03:51:00</td>\n",
              "      <td>3</td>\n",
              "      <td>0</td>\n",
              "      <td>5</td>\n",
              "    </tr>\n",
              "  </tbody>\n",
              "</table>\n",
              "</div>"
            ],
            "text/plain": [
              "                   key  fare_amount  ... AMorPM  Weekday\n",
              "0  2009-06-15 17:26:21          4.5  ...      1        1\n",
              "1  2010-01-05 16:52:16         16.9  ...      1        5\n",
              "2   2011-08-18 0:35:00          5.7  ...      1        6\n",
              "3   2012-04-21 4:30:42          7.7  ...      0        2\n",
              "4   2010-03-09 7:51:00          5.3  ...      0        5\n",
              "\n",
              "[5 rows x 13 columns]"
            ]
          },
          "metadata": {
            "tags": []
          },
          "execution_count": 8
        }
      ]
    },
    {
      "cell_type": "code",
      "metadata": {
        "colab": {
          "base_uri": "https://localhost:8080/"
        },
        "id": "BBmIeIYThlbz",
        "outputId": "fbcbaeb1-ae59-48e0-be76-47a78bdc9a62"
      },
      "source": [
        "# delete the fares that are less than 0\n",
        "df = df.loc[df.fare_amount > 0]\n",
        "df.fare_amount.min()"
      ],
      "execution_count": 9,
      "outputs": [
        {
          "output_type": "execute_result",
          "data": {
            "text/plain": [
              "0.01"
            ]
          },
          "metadata": {
            "tags": []
          },
          "execution_count": 9
        }
      ]
    },
    {
      "cell_type": "code",
      "metadata": {
        "id": "AoSYRIUD1Dbc"
      },
      "source": [
        "# keep only the cols for the model\n",
        "df = df[['Hour', 'AMorPM', 'Weekday','pickup_latitude', 'pickup_longitude', 'dropoff_latitude', 'dropoff_longitude', 'passenger_count', 'dist_km', 'fare_amount']]"
      ],
      "execution_count": 10,
      "outputs": []
    },
    {
      "cell_type": "code",
      "metadata": {
        "id": "WDuMjwYqxrZr"
      },
      "source": [
        "#Normalizing \n",
        "\n",
        "from pandas.api.types import is_numeric_dtype\n",
        "\n",
        "#\"Compute the means and stds of `self.cont_names` columns to normalize them.\"\n",
        "def Normalize(df):\n",
        "  means,stds = {},{}\n",
        "  cont_names = ['pickup_latitude', 'pickup_longitude', 'dropoff_latitude', 'dropoff_longitude', 'passenger_count', 'dist_km']\n",
        "  for n in cont_names:\n",
        "    assert is_numeric_dtype(df[n]), (f\"\"\"Cannot normalize '{n}' column as it isn't numerical. Are you sure it doesn't belong in the categorical set of columns?\"\"\")\n",
        "    means[n],stds[n] = df[n].mean(),df[n].std()\n",
        "    df[n] = (df[n]-means[n]) / (1e-7 + stds[n])\n",
        "\n",
        "\n",
        "Normalize(df)"
      ],
      "execution_count": 11,
      "outputs": []
    },
    {
      "cell_type": "code",
      "metadata": {
        "id": "6pyrDASAqcxM"
      },
      "source": [
        "df_train = df[:90000]\n",
        "df_test = df[90000:]"
      ],
      "execution_count": 12,
      "outputs": []
    },
    {
      "cell_type": "markdown",
      "metadata": {
        "id": "KFNfBofHn2OV"
      },
      "source": [
        "# Prepare the model"
      ]
    },
    {
      "cell_type": "markdown",
      "metadata": {
        "id": "G-0h_LjXn8ha"
      },
      "source": [
        "## define Categorical and continuous columns"
      ]
    },
    {
      "cell_type": "code",
      "metadata": {
        "id": "TtN1pnhIox7K",
        "colab": {
          "base_uri": "https://localhost:8080/",
          "height": 195
        },
        "outputId": "6ba20571-6606-48b3-9e33-d73787103502"
      },
      "source": [
        "df.head()"
      ],
      "execution_count": 13,
      "outputs": [
        {
          "output_type": "execute_result",
          "data": {
            "text/html": [
              "<div>\n",
              "<style scoped>\n",
              "    .dataframe tbody tr th:only-of-type {\n",
              "        vertical-align: middle;\n",
              "    }\n",
              "\n",
              "    .dataframe tbody tr th {\n",
              "        vertical-align: top;\n",
              "    }\n",
              "\n",
              "    .dataframe thead th {\n",
              "        text-align: right;\n",
              "    }\n",
              "</style>\n",
              "<table border=\"1\" class=\"dataframe\">\n",
              "  <thead>\n",
              "    <tr style=\"text-align: right;\">\n",
              "      <th></th>\n",
              "      <th>Hour</th>\n",
              "      <th>AMorPM</th>\n",
              "      <th>Weekday</th>\n",
              "      <th>pickup_latitude</th>\n",
              "      <th>pickup_longitude</th>\n",
              "      <th>dropoff_latitude</th>\n",
              "      <th>dropoff_longitude</th>\n",
              "      <th>passenger_count</th>\n",
              "      <th>dist_km</th>\n",
              "      <th>fare_amount</th>\n",
              "    </tr>\n",
              "  </thead>\n",
              "  <tbody>\n",
              "    <tr>\n",
              "      <th>0</th>\n",
              "      <td>13</td>\n",
              "      <td>1</td>\n",
              "      <td>1</td>\n",
              "      <td>0.129607</td>\n",
              "      <td>-0.126215</td>\n",
              "      <td>0.127633</td>\n",
              "      <td>-0.128954</td>\n",
              "      <td>-0.518257</td>\n",
              "      <td>-0.049129</td>\n",
              "      <td>4.5</td>\n",
              "    </tr>\n",
              "    <tr>\n",
              "      <th>1</th>\n",
              "      <td>12</td>\n",
              "      <td>1</td>\n",
              "      <td>5</td>\n",
              "      <td>0.127999</td>\n",
              "      <td>-0.142273</td>\n",
              "      <td>0.138857</td>\n",
              "      <td>-0.142103</td>\n",
              "      <td>-0.518257</td>\n",
              "      <td>-0.028273</td>\n",
              "      <td>16.9</td>\n",
              "    </tr>\n",
              "    <tr>\n",
              "      <th>2</th>\n",
              "      <td>20</td>\n",
              "      <td>1</td>\n",
              "      <td>6</td>\n",
              "      <td>0.136024</td>\n",
              "      <td>-0.139158</td>\n",
              "      <td>0.133796</td>\n",
              "      <td>-0.143246</td>\n",
              "      <td>0.250913</td>\n",
              "      <td>-0.048120</td>\n",
              "      <td>5.7</td>\n",
              "    </tr>\n",
              "    <tr>\n",
              "      <th>3</th>\n",
              "      <td>0</td>\n",
              "      <td>0</td>\n",
              "      <td>2</td>\n",
              "      <td>0.131506</td>\n",
              "      <td>-0.139569</td>\n",
              "      <td>0.135008</td>\n",
              "      <td>-0.143277</td>\n",
              "      <td>-0.518257</td>\n",
              "      <td>-0.044158</td>\n",
              "      <td>7.7</td>\n",
              "    </tr>\n",
              "    <tr>\n",
              "      <th>4</th>\n",
              "      <td>3</td>\n",
              "      <td>0</td>\n",
              "      <td>5</td>\n",
              "      <td>0.137106</td>\n",
              "      <td>-0.137789</td>\n",
              "      <td>0.139140</td>\n",
              "      <td>-0.139943</td>\n",
              "      <td>-0.518257</td>\n",
              "      <td>-0.046407</td>\n",
              "      <td>5.3</td>\n",
              "    </tr>\n",
              "  </tbody>\n",
              "</table>\n",
              "</div>"
            ],
            "text/plain": [
              "  Hour AMorPM Weekday  ...  passenger_count   dist_km  fare_amount\n",
              "0   13      1       1  ...        -0.518257 -0.049129          4.5\n",
              "1   12      1       5  ...        -0.518257 -0.028273         16.9\n",
              "2   20      1       6  ...         0.250913 -0.048120          5.7\n",
              "3    0      0       2  ...        -0.518257 -0.044158          7.7\n",
              "4    3      0       5  ...        -0.518257 -0.046407          5.3\n",
              "\n",
              "[5 rows x 10 columns]"
            ]
          },
          "metadata": {
            "tags": []
          },
          "execution_count": 13
        }
      ]
    },
    {
      "cell_type": "code",
      "metadata": {
        "id": "ZwW1Ubgeo5ea",
        "colab": {
          "base_uri": "https://localhost:8080/"
        },
        "outputId": "20cc27c6-1882-4b73-df22-926bb80eafe8"
      },
      "source": [
        "df.info()"
      ],
      "execution_count": 14,
      "outputs": [
        {
          "output_type": "stream",
          "text": [
            "<class 'pandas.core.frame.DataFrame'>\n",
            "Int64Index: 99987 entries, 0 to 99998\n",
            "Data columns (total 10 columns):\n",
            " #   Column             Non-Null Count  Dtype   \n",
            "---  ------             --------------  -----   \n",
            " 0   Hour               99987 non-null  category\n",
            " 1   AMorPM             99987 non-null  category\n",
            " 2   Weekday            99987 non-null  category\n",
            " 3   pickup_latitude    99987 non-null  float64 \n",
            " 4   pickup_longitude   99987 non-null  float64 \n",
            " 5   dropoff_latitude   99987 non-null  float64 \n",
            " 6   dropoff_longitude  99987 non-null  float64 \n",
            " 7   passenger_count    99987 non-null  float64 \n",
            " 8   dist_km            99987 non-null  float64 \n",
            " 9   fare_amount        99987 non-null  float64 \n",
            "dtypes: category(3), float64(7)\n",
            "memory usage: 6.4 MB\n"
          ],
          "name": "stdout"
        }
      ]
    },
    {
      "cell_type": "markdown",
      "metadata": {
        "id": "QsebxQMFrLkr"
      },
      "source": [
        "##Take the relevent columns for the Model and Split to train and test"
      ]
    },
    {
      "cell_type": "code",
      "metadata": {
        "id": "DMk-Q1RC0-aL",
        "colab": {
          "base_uri": "https://localhost:8080/"
        },
        "outputId": "24083b1c-c9ae-40f8-e92e-af0dc8a60915"
      },
      "source": [
        "df.columns"
      ],
      "execution_count": 15,
      "outputs": [
        {
          "output_type": "execute_result",
          "data": {
            "text/plain": [
              "Index(['Hour', 'AMorPM', 'Weekday', 'pickup_latitude', 'pickup_longitude',\n",
              "       'dropoff_latitude', 'dropoff_longitude', 'passenger_count', 'dist_km',\n",
              "       'fare_amount'],\n",
              "      dtype='object')"
            ]
          },
          "metadata": {
            "tags": []
          },
          "execution_count": 15
        }
      ]
    },
    {
      "cell_type": "code",
      "metadata": {
        "colab": {
          "base_uri": "https://localhost:8080/"
        },
        "id": "GMyDMKJrb4yJ",
        "outputId": "c8fb4fd9-81d7-4455-a605-6b18e42be03c"
      },
      "source": [
        "df_train.columns"
      ],
      "execution_count": 16,
      "outputs": [
        {
          "output_type": "execute_result",
          "data": {
            "text/plain": [
              "Index(['Hour', 'AMorPM', 'Weekday', 'pickup_latitude', 'pickup_longitude',\n",
              "       'dropoff_latitude', 'dropoff_longitude', 'passenger_count', 'dist_km',\n",
              "       'fare_amount'],\n",
              "      dtype='object')"
            ]
          },
          "metadata": {
            "tags": []
          },
          "execution_count": 16
        }
      ]
    },
    {
      "cell_type": "code",
      "metadata": {
        "id": "vgjHk0wzrb_L"
      },
      "source": [
        "X = df_train.drop(columns=['fare_amount'])\n",
        "Y = np.log(df_train.fare_amount)\n",
        "\n",
        "test_X = df_test"
      ],
      "execution_count": 17,
      "outputs": []
    },
    {
      "cell_type": "code",
      "metadata": {
        "id": "5cmS2F6crnFq",
        "colab": {
          "base_uri": "https://localhost:8080/",
          "height": 195
        },
        "outputId": "4a080c35-cc7c-40de-c7a2-bd05ee8b7082"
      },
      "source": [
        "df_train.head()"
      ],
      "execution_count": 18,
      "outputs": [
        {
          "output_type": "execute_result",
          "data": {
            "text/html": [
              "<div>\n",
              "<style scoped>\n",
              "    .dataframe tbody tr th:only-of-type {\n",
              "        vertical-align: middle;\n",
              "    }\n",
              "\n",
              "    .dataframe tbody tr th {\n",
              "        vertical-align: top;\n",
              "    }\n",
              "\n",
              "    .dataframe thead th {\n",
              "        text-align: right;\n",
              "    }\n",
              "</style>\n",
              "<table border=\"1\" class=\"dataframe\">\n",
              "  <thead>\n",
              "    <tr style=\"text-align: right;\">\n",
              "      <th></th>\n",
              "      <th>Hour</th>\n",
              "      <th>AMorPM</th>\n",
              "      <th>Weekday</th>\n",
              "      <th>pickup_latitude</th>\n",
              "      <th>pickup_longitude</th>\n",
              "      <th>dropoff_latitude</th>\n",
              "      <th>dropoff_longitude</th>\n",
              "      <th>passenger_count</th>\n",
              "      <th>dist_km</th>\n",
              "      <th>fare_amount</th>\n",
              "    </tr>\n",
              "  </thead>\n",
              "  <tbody>\n",
              "    <tr>\n",
              "      <th>0</th>\n",
              "      <td>13</td>\n",
              "      <td>1</td>\n",
              "      <td>1</td>\n",
              "      <td>0.129607</td>\n",
              "      <td>-0.126215</td>\n",
              "      <td>0.127633</td>\n",
              "      <td>-0.128954</td>\n",
              "      <td>-0.518257</td>\n",
              "      <td>-0.049129</td>\n",
              "      <td>4.5</td>\n",
              "    </tr>\n",
              "    <tr>\n",
              "      <th>1</th>\n",
              "      <td>12</td>\n",
              "      <td>1</td>\n",
              "      <td>5</td>\n",
              "      <td>0.127999</td>\n",
              "      <td>-0.142273</td>\n",
              "      <td>0.138857</td>\n",
              "      <td>-0.142103</td>\n",
              "      <td>-0.518257</td>\n",
              "      <td>-0.028273</td>\n",
              "      <td>16.9</td>\n",
              "    </tr>\n",
              "    <tr>\n",
              "      <th>2</th>\n",
              "      <td>20</td>\n",
              "      <td>1</td>\n",
              "      <td>6</td>\n",
              "      <td>0.136024</td>\n",
              "      <td>-0.139158</td>\n",
              "      <td>0.133796</td>\n",
              "      <td>-0.143246</td>\n",
              "      <td>0.250913</td>\n",
              "      <td>-0.048120</td>\n",
              "      <td>5.7</td>\n",
              "    </tr>\n",
              "    <tr>\n",
              "      <th>3</th>\n",
              "      <td>0</td>\n",
              "      <td>0</td>\n",
              "      <td>2</td>\n",
              "      <td>0.131506</td>\n",
              "      <td>-0.139569</td>\n",
              "      <td>0.135008</td>\n",
              "      <td>-0.143277</td>\n",
              "      <td>-0.518257</td>\n",
              "      <td>-0.044158</td>\n",
              "      <td>7.7</td>\n",
              "    </tr>\n",
              "    <tr>\n",
              "      <th>4</th>\n",
              "      <td>3</td>\n",
              "      <td>0</td>\n",
              "      <td>5</td>\n",
              "      <td>0.137106</td>\n",
              "      <td>-0.137789</td>\n",
              "      <td>0.139140</td>\n",
              "      <td>-0.139943</td>\n",
              "      <td>-0.518257</td>\n",
              "      <td>-0.046407</td>\n",
              "      <td>5.3</td>\n",
              "    </tr>\n",
              "  </tbody>\n",
              "</table>\n",
              "</div>"
            ],
            "text/plain": [
              "  Hour AMorPM Weekday  ...  passenger_count   dist_km  fare_amount\n",
              "0   13      1       1  ...        -0.518257 -0.049129          4.5\n",
              "1   12      1       5  ...        -0.518257 -0.028273         16.9\n",
              "2   20      1       6  ...         0.250913 -0.048120          5.7\n",
              "3    0      0       2  ...        -0.518257 -0.044158          7.7\n",
              "4    3      0       5  ...        -0.518257 -0.046407          5.3\n",
              "\n",
              "[5 rows x 10 columns]"
            ]
          },
          "metadata": {
            "tags": []
          },
          "execution_count": 18
        }
      ]
    },
    {
      "cell_type": "code",
      "metadata": {
        "id": "4urVKk9NxDCx",
        "colab": {
          "base_uri": "https://localhost:8080/"
        },
        "outputId": "33944975-3511-429a-925a-5dfe264749a2"
      },
      "source": [
        "Y.shape"
      ],
      "execution_count": 19,
      "outputs": [
        {
          "output_type": "execute_result",
          "data": {
            "text/plain": [
              "(90000,)"
            ]
          },
          "metadata": {
            "tags": []
          },
          "execution_count": 19
        }
      ]
    },
    {
      "cell_type": "code",
      "metadata": {
        "id": "7vV8_9do4-Oo",
        "colab": {
          "base_uri": "https://localhost:8080/"
        },
        "outputId": "72a0263f-0d8e-42cb-8e09-debeb97908a6"
      },
      "source": [
        "X.info()"
      ],
      "execution_count": 20,
      "outputs": [
        {
          "output_type": "stream",
          "text": [
            "<class 'pandas.core.frame.DataFrame'>\n",
            "Int64Index: 90000 entries, 0 to 90010\n",
            "Data columns (total 9 columns):\n",
            " #   Column             Non-Null Count  Dtype   \n",
            "---  ------             --------------  -----   \n",
            " 0   Hour               90000 non-null  category\n",
            " 1   AMorPM             90000 non-null  category\n",
            " 2   Weekday            90000 non-null  category\n",
            " 3   pickup_latitude    90000 non-null  float64 \n",
            " 4   pickup_longitude   90000 non-null  float64 \n",
            " 5   dropoff_latitude   90000 non-null  float64 \n",
            " 6   dropoff_longitude  90000 non-null  float64 \n",
            " 7   passenger_count    90000 non-null  float64 \n",
            " 8   dist_km            90000 non-null  float64 \n",
            "dtypes: category(3), float64(6)\n",
            "memory usage: 5.1 MB\n"
          ],
          "name": "stdout"
        }
      ]
    },
    {
      "cell_type": "markdown",
      "metadata": {
        "id": "fTHaK8PusKx9"
      },
      "source": [
        "**train-valid split**"
      ]
    },
    {
      "cell_type": "code",
      "metadata": {
        "id": "_RdHsihKtYLK",
        "colab": {
          "base_uri": "https://localhost:8080/",
          "height": 195
        },
        "outputId": "8a69db11-f696-4cf0-8fc6-72410f3aa888"
      },
      "source": [
        "X_train, X_val, y_train, y_val = train_test_split(X, Y, test_size=0.20, random_state=42,shuffle=True ) \n",
        "X_train.head()"
      ],
      "execution_count": 21,
      "outputs": [
        {
          "output_type": "execute_result",
          "data": {
            "text/html": [
              "<div>\n",
              "<style scoped>\n",
              "    .dataframe tbody tr th:only-of-type {\n",
              "        vertical-align: middle;\n",
              "    }\n",
              "\n",
              "    .dataframe tbody tr th {\n",
              "        vertical-align: top;\n",
              "    }\n",
              "\n",
              "    .dataframe thead th {\n",
              "        text-align: right;\n",
              "    }\n",
              "</style>\n",
              "<table border=\"1\" class=\"dataframe\">\n",
              "  <thead>\n",
              "    <tr style=\"text-align: right;\">\n",
              "      <th></th>\n",
              "      <th>Hour</th>\n",
              "      <th>AMorPM</th>\n",
              "      <th>Weekday</th>\n",
              "      <th>pickup_latitude</th>\n",
              "      <th>pickup_longitude</th>\n",
              "      <th>dropoff_latitude</th>\n",
              "      <th>dropoff_longitude</th>\n",
              "      <th>passenger_count</th>\n",
              "      <th>dist_km</th>\n",
              "    </tr>\n",
              "  </thead>\n",
              "  <tbody>\n",
              "    <tr>\n",
              "      <th>51013</th>\n",
              "      <td>13</td>\n",
              "      <td>1</td>\n",
              "      <td>5</td>\n",
              "      <td>0.137835</td>\n",
              "      <td>-0.135782</td>\n",
              "      <td>0.136943</td>\n",
              "      <td>-0.140388</td>\n",
              "      <td>-0.518257</td>\n",
              "      <td>-0.048468</td>\n",
              "    </tr>\n",
              "    <tr>\n",
              "      <th>11456</th>\n",
              "      <td>23</td>\n",
              "      <td>1</td>\n",
              "      <td>6</td>\n",
              "      <td>0.135027</td>\n",
              "      <td>-0.140099</td>\n",
              "      <td>0.137124</td>\n",
              "      <td>-0.135060</td>\n",
              "      <td>-0.518257</td>\n",
              "      <td>-0.030755</td>\n",
              "    </tr>\n",
              "    <tr>\n",
              "      <th>9693</th>\n",
              "      <td>3</td>\n",
              "      <td>0</td>\n",
              "      <td>4</td>\n",
              "      <td>0.142997</td>\n",
              "      <td>-0.134898</td>\n",
              "      <td>0.138698</td>\n",
              "      <td>-0.139930</td>\n",
              "      <td>-0.518257</td>\n",
              "      <td>-0.043326</td>\n",
              "    </tr>\n",
              "    <tr>\n",
              "      <th>52001</th>\n",
              "      <td>9</td>\n",
              "      <td>0</td>\n",
              "      <td>6</td>\n",
              "      <td>0.131347</td>\n",
              "      <td>-0.141163</td>\n",
              "      <td>0.132937</td>\n",
              "      <td>-0.143908</td>\n",
              "      <td>2.558423</td>\n",
              "      <td>-0.047698</td>\n",
              "    </tr>\n",
              "    <tr>\n",
              "      <th>23535</th>\n",
              "      <td>19</td>\n",
              "      <td>1</td>\n",
              "      <td>5</td>\n",
              "      <td>0.132095</td>\n",
              "      <td>-0.141385</td>\n",
              "      <td>0.127312</td>\n",
              "      <td>-0.144980</td>\n",
              "      <td>-0.518257</td>\n",
              "      <td>-0.043708</td>\n",
              "    </tr>\n",
              "  </tbody>\n",
              "</table>\n",
              "</div>"
            ],
            "text/plain": [
              "      Hour AMorPM Weekday  ...  dropoff_longitude  passenger_count   dist_km\n",
              "51013   13      1       5  ...          -0.140388        -0.518257 -0.048468\n",
              "11456   23      1       6  ...          -0.135060        -0.518257 -0.030755\n",
              "9693     3      0       4  ...          -0.139930        -0.518257 -0.043326\n",
              "52001    9      0       6  ...          -0.143908         2.558423 -0.047698\n",
              "23535   19      1       5  ...          -0.144980        -0.518257 -0.043708\n",
              "\n",
              "[5 rows x 9 columns]"
            ]
          },
          "metadata": {
            "tags": []
          },
          "execution_count": 21
        }
      ]
    },
    {
      "cell_type": "markdown",
      "metadata": {
        "id": "_oCxNy_X3Mp9"
      },
      "source": [
        "## Embeddings"
      ]
    },
    {
      "cell_type": "code",
      "metadata": {
        "id": "vCvmV8v1wMPs",
        "colab": {
          "base_uri": "https://localhost:8080/"
        },
        "outputId": "9d1d4b1b-50b0-4896-e51e-5a07bfa953da"
      },
      "source": [
        "cat_szs = [len(df[col].cat.categories) for col in cat_cols]\n",
        "emb_szs = [(size, min(50, (size+1)//2)) for size in cat_szs]\n",
        "emb_szs"
      ],
      "execution_count": 22,
      "outputs": [
        {
          "output_type": "execute_result",
          "data": {
            "text/plain": [
              "[(24, 12), (2, 1), (7, 4)]"
            ]
          },
          "metadata": {
            "tags": []
          },
          "execution_count": 22
        }
      ]
    },
    {
      "cell_type": "code",
      "metadata": {
        "id": "xB0WRovpW2Ui",
        "colab": {
          "base_uri": "https://localhost:8080/"
        },
        "outputId": "0552c507-3324-4695-adc4-26f710f0256b"
      },
      "source": [
        "print(\"Dim X Train \" + str(X_train.shape))\n",
        "print(\"Dim X Validation \" + str(X_val.shape))\n",
        "print(\"Dim Y Train \" + str(y_train.shape))\n",
        "print(\"Dim Y Validation \" + str(y_val.shape))\n"
      ],
      "execution_count": 23,
      "outputs": [
        {
          "output_type": "stream",
          "text": [
            "Dim X Train (72000, 9)\n",
            "Dim X Validation (18000, 9)\n",
            "Dim Y Train (72000,)\n",
            "Dim Y Validation (18000,)\n"
          ],
          "name": "stdout"
        }
      ]
    },
    {
      "cell_type": "markdown",
      "metadata": {
        "id": "DPSMOoA_5cRV"
      },
      "source": [
        "#Model"
      ]
    },
    {
      "cell_type": "markdown",
      "metadata": {
        "id": "PUt8V_eR56DU"
      },
      "source": [
        "##Pytorch datasets and dataloaders"
      ]
    },
    {
      "cell_type": "code",
      "metadata": {
        "id": "q2uUbOcllJdF"
      },
      "source": [
        "class RegressionColumnarDataset(data.Dataset):\n",
        "    def __init__(self, df, cats, y):\n",
        "        \n",
        "        \n",
        "        self.dfcats = df[cats] #type: pandas.core.frame.DataFrame\n",
        "        self.dfconts = df.drop(cats, axis=1) #type: pandas.core.frame.DataFrame\n",
        "        \n",
        "        \n",
        "        self.cats = np.stack([c.values for n, c in self.dfcats.items()], axis=1).astype(np.int64) #tpye: numpy.ndarray\n",
        "        self.conts = np.stack([c.values for n, c in self.dfconts.items()], axis=1).astype(np.float32) #tpye: numpy.ndarray\n",
        "        self.y = y.values.astype(np.float32)\n",
        "        \n",
        "        \n",
        "    def __len__(self): return len(self.y)\n",
        "\n",
        "    def __getitem__(self, idx):\n",
        "        \n",
        "        return [self.cats[idx], self.conts[idx], self.y[idx]]\n",
        "        \n",
        "        "
      ],
      "execution_count": 24,
      "outputs": []
    },
    {
      "cell_type": "code",
      "metadata": {
        "id": "kJ2KTRgolJA7"
      },
      "source": [
        "trainds = RegressionColumnarDataset(X_train, cat_cols, y_train) #type: __main__.RegressionColumnarDataset\n",
        "valds = RegressionColumnarDataset(X_val, cat_cols, y_val) #type: __main__.RegressionColumnarDataset"
      ],
      "execution_count": 25,
      "outputs": []
    },
    {
      "cell_type": "code",
      "metadata": {
        "id": "4iJaFR-24gFf"
      },
      "source": [
        "params = {'batch_size': 128,\n",
        "          'shuffle': True}\n",
        "\n",
        "\n",
        "traindl = DataLoader(trainds, **params) #type: torch.utils.data.dataloader.DataLoader\n",
        "valdl = DataLoader(valds, **params) #type: torch.utils.data.dataloader.DataLoader"
      ],
      "execution_count": 26,
      "outputs": []
    },
    {
      "cell_type": "markdown",
      "metadata": {
        "id": "HXMjyAMC-hNo"
      },
      "source": [
        "##Tabular Model"
      ]
    },
    {
      "cell_type": "code",
      "metadata": {
        "id": "dynnFczJ8UhL"
      },
      "source": [
        "# help functions\n",
        "\n",
        "from collections.abc import Iterable\n",
        "\n",
        "\n",
        "def bn_drop_lin(n_in:int, n_out:int, bn:bool=True, p:float=0., actn=None):\n",
        "    \"Sequence of batchnorm (if `bn`), dropout (with `p`) and linear (`n_in`,`n_out`) layers followed by `actn`.\"\n",
        "    layers = [nn.BatchNorm1d(n_in)] if bn else []\n",
        "    if p != 0: layers.append(nn.Dropout(p))\n",
        "    layers.append(nn.Linear(n_in, n_out))\n",
        "    if actn is not None: layers.append(actn)\n",
        "    return layers\n",
        "\n",
        "def ifnone(a,b):\n",
        "    \"`a` if `a` is not None, otherwise `b`.\"\n",
        "    return b if a is None else a\n",
        "\n",
        "def listify(p, q):\n",
        "    \"Make `p` listy and the same length as `q`.\"\n",
        "    if p is None: p=[]\n",
        "    elif isinstance(p, str):          p = [p]\n",
        "    elif not isinstance(p, Iterable): p = [p]\n",
        "    #Rank 0 tensors in PyTorch are Iterable but don't have a length.\n",
        "    else:\n",
        "        try: a = len(p)\n",
        "        except: p = [p]\n",
        "    n = q if type(q)==int else len(p) if q is None else len(q)\n",
        "    if len(p)==1: p = p * n\n",
        "    assert len(p)==n, f'List len mismatch ({len(p)} vs {n})'\n",
        "    return list(p)\n",
        "\n",
        "              \n",
        "\n",
        "class TabularModel(nn.Module):\n",
        "    \"Basic model for tabular data.\"\n",
        "    def __init__(self, emb_szs, n_cont:int, out_sz:int, layers, ps=None,\n",
        "                 emb_drop:float=0., y_range=None, use_bn:bool=True, bn_final:bool=False):\n",
        "        super().__init__()\n",
        "        ps = ifnone(ps, [0]*len(layers))\n",
        "        ps = listify(ps, layers)\n",
        "        self.embeds = nn.ModuleList([nn.Embedding(ni, nf) for ni,nf in emb_szs]) #type: torch.nn.modules.container.ModuleList\n",
        "        self.emb_drop = nn.Dropout(emb_drop) #type: torch.nn.modules.dropout.Dropout\n",
        "        self.bn_cont = nn.BatchNorm1d(n_cont) #type torch.nn.modules.batchnorm.BatchNorm1d\n",
        "        n_emb = sum(e.embedding_dim for e in self.embeds) # n_emb = 17 , type: int\n",
        "        self.n_emb,self.n_cont,self.y_range = n_emb,n_cont,y_range\n",
        "        sizes = [n_emb + n_cont] + layers + [out_sz] #typeL list, len: 4\n",
        "        actns = [nn.ReLU(inplace=True) for _ in range(len(sizes)-2)] + [None] #type: list, len: 3.  the last in None because we finish with linear\n",
        "        layers = []\n",
        "        for i,(n_in,n_out,dp,act) in enumerate(zip(sizes[:-1],sizes[1:],[0.]+ps,actns)):\n",
        "            layers += bn_drop_lin(n_in, n_out, bn=use_bn and i!=0, p=dp, actn=act)\n",
        "        if bn_final: layers.append(nn.BatchNorm1d(sizes[-1]))\n",
        "        self.layers = nn.Sequential(*layers) #type: torch.nn.modules.container.Sequential\n",
        "        \n",
        "\n",
        "\n",
        "\n",
        "    def forward(self, x_cat, x_cont):\n",
        "        if self.n_emb != 0:\n",
        "            x = [e(x_cat[:,i]) for i,e in enumerate(self.embeds)] #take the embedding list and grab an embedding and pass in our single row of data.        \n",
        "            x = torch.cat(x, 1) # concatenate it on dim 1 ## remeber that the len is the batch size\n",
        "            x = self.emb_drop(x) # pass it through a dropout layer\n",
        "        if self.n_cont != 0:\n",
        "            x_cont = self.bn_cont(x_cont) # batchnorm1d\n",
        "            x = torch.cat([x, x_cont], 1) if self.n_emb != 0 else x_cont # combine the categircal and continous variables on dim 1\n",
        "        x = self.layers(x)\n",
        "        if self.y_range is not None:\n",
        "            x = (self.y_range[1]-self.y_range[0]) * torch.sigmoid(x) + self.y_range[0] # deal with y_range\n",
        "        return x.squeeze()\n",
        "    "
      ],
      "execution_count": 27,
      "outputs": []
    },
    {
      "cell_type": "code",
      "metadata": {
        "id": "voS5fTPF-mFb",
        "colab": {
          "base_uri": "https://localhost:8080/"
        },
        "outputId": "ad4597c8-aa51-4381-8691-3993c952f234"
      },
      "source": [
        "torch.manual_seed(33)"
      ],
      "execution_count": 28,
      "outputs": [
        {
          "output_type": "execute_result",
          "data": {
            "text/plain": [
              "<torch._C.Generator at 0x7f53c65eb8f0>"
            ]
          },
          "metadata": {
            "tags": []
          },
          "execution_count": 28
        }
      ]
    },
    {
      "cell_type": "code",
      "metadata": {
        "id": "Qdy8Vq-eRPvh",
        "colab": {
          "base_uri": "https://localhost:8080/"
        },
        "outputId": "00a67ab8-ab81-419f-ae21-5368924ea30c"
      },
      "source": [
        "y_range = (0, y_train.max()*1.2)\n",
        "y_range"
      ],
      "execution_count": 29,
      "outputs": [
        {
          "output_type": "execute_result",
          "data": {
            "text/plain": [
              "(0, 6.357980839857643)"
            ]
          },
          "metadata": {
            "tags": []
          },
          "execution_count": 29
        }
      ]
    },
    {
      "cell_type": "code",
      "metadata": {
        "id": "UxDTmxl6_N_8",
        "colab": {
          "base_uri": "https://localhost:8080/"
        },
        "outputId": "04d5a216-adbf-4e5f-9ecc-f2b76e08b202"
      },
      "source": [
        "model = TabularModel(emb_szs = emb_szs,n_cont = len(cont_cols),out_sz = 1,layers = [1000,500,250],ps= [0.001,0.01,0.01],emb_drop=0.04, y_range=y_range).to(device)\n",
        "model"
      ],
      "execution_count": 30,
      "outputs": [
        {
          "output_type": "execute_result",
          "data": {
            "text/plain": [
              "TabularModel(\n",
              "  (embeds): ModuleList(\n",
              "    (0): Embedding(24, 12)\n",
              "    (1): Embedding(2, 1)\n",
              "    (2): Embedding(7, 4)\n",
              "  )\n",
              "  (emb_drop): Dropout(p=0.04, inplace=False)\n",
              "  (bn_cont): BatchNorm1d(6, eps=1e-05, momentum=0.1, affine=True, track_running_stats=True)\n",
              "  (layers): Sequential(\n",
              "    (0): Linear(in_features=23, out_features=1000, bias=True)\n",
              "    (1): ReLU(inplace=True)\n",
              "    (2): BatchNorm1d(1000, eps=1e-05, momentum=0.1, affine=True, track_running_stats=True)\n",
              "    (3): Dropout(p=0.001, inplace=False)\n",
              "    (4): Linear(in_features=1000, out_features=500, bias=True)\n",
              "    (5): ReLU(inplace=True)\n",
              "    (6): BatchNorm1d(500, eps=1e-05, momentum=0.1, affine=True, track_running_stats=True)\n",
              "    (7): Dropout(p=0.01, inplace=False)\n",
              "    (8): Linear(in_features=500, out_features=250, bias=True)\n",
              "    (9): ReLU(inplace=True)\n",
              "    (10): BatchNorm1d(250, eps=1e-05, momentum=0.1, affine=True, track_running_stats=True)\n",
              "    (11): Dropout(p=0.01, inplace=False)\n",
              "    (12): Linear(in_features=250, out_features=1, bias=True)\n",
              "  )\n",
              ")"
            ]
          },
          "metadata": {
            "tags": []
          },
          "execution_count": 30
        }
      ]
    },
    {
      "cell_type": "markdown",
      "metadata": {
        "id": "mCqq3sfY_mku"
      },
      "source": [
        "## Optimizer"
      ]
    },
    {
      "cell_type": "code",
      "metadata": {
        "id": "sOkFdhVN4Z6_"
      },
      "source": [
        "from collections import defaultdict\n",
        "opt = torch.optim.Adam(model.parameters(), lr=1e-2) # can add: weight_decay=\n",
        "#lr_cosine = lr_scheduler.CosineAnnealingLR(opt,T_max = 350) #1000 ## if you want to add lr_cosine\n",
        "\n",
        "\n",
        "\n",
        "lr = defaultdict(list)\n",
        "tloss = defaultdict(list)\n",
        "vloss = defaultdict(list)"
      ],
      "execution_count": 31,
      "outputs": []
    },
    {
      "cell_type": "markdown",
      "metadata": {
        "id": "dgSawsRpCd40"
      },
      "source": [
        "##Train and Fit"
      ]
    },
    {
      "cell_type": "code",
      "metadata": {
        "id": "IQ4sEx4NsAjO"
      },
      "source": [
        "def inv_y(y): return np.exp(y)\n",
        "\n",
        "def rmse(targ, y_pred):\n",
        "    return np.sqrt(mean_squared_error(inv_y(y_pred), inv_y(targ))) #.detach().numpy()\n",
        "    \n",
        "\n",
        "def rmse(targ, y_pred):\n",
        "   return np.sqrt(mean_squared_error(y_pred, targ)) #.detach().numpy()\n",
        "\n",
        "\n",
        "#def fit(model, train_dl, val_dl, loss_fn, opt, scheduler, epochs=3): ## if you want to add schedular\n",
        "def fit(model, train_dl, val_dl, loss_fn, opt, epochs=3):\n",
        "    num_batch = len(train_dl)\n",
        "    for epoch in tnrange(epochs):      \n",
        "        y_true_train = list()\n",
        "        y_pred_train = list()\n",
        "        total_loss_train = 0          \n",
        "        \n",
        "        t = tqdm_notebook(iter(train_dl), leave=False, total=num_batch)\n",
        "        for cat, cont, y in t:\n",
        "            cat = cat.cuda()\n",
        "            cont = cont.cuda()\n",
        "            y = y.cuda()\n",
        "            \n",
        "            t.set_description(f'Epoch {epoch}')\n",
        "            \n",
        "            opt.zero_grad() #find where the grads are zero\n",
        "            pred = model(cat, cont)\n",
        "            loss = loss_fn(pred, y)\n",
        "            \n",
        "            loss.backward() # do backprop\n",
        "            lr[epoch].append(opt.param_groups[0]['lr'])\n",
        "            tloss[epoch].append(loss.item())\n",
        "            opt.step()\n",
        "            #scheduler.step()\n",
        "            \n",
        "            \n",
        "            t.set_postfix(loss=loss.item())\n",
        "            \n",
        "            y_true_train += list(y.cpu().data.numpy())\n",
        "            y_pred_train += list(pred.cpu().data.numpy())\n",
        "            total_loss_train += loss.item()\n",
        "            \n",
        "        train_acc = rmse(y_true_train, y_pred_train)\n",
        "        train_loss = total_loss_train/len(train_dl) # len train_dl = 704. the calc is number of train examples (89991) / batch size (128)\n",
        "        \n",
        "        if val_dl:\n",
        "            y_true_val = list()\n",
        "            y_pred_val = list()\n",
        "            total_loss_val = 0\n",
        "            for cat, cont, y in tqdm_notebook(val_dl, leave=False):\n",
        "                cat = cat.cuda()\n",
        "                cont = cont.cuda()\n",
        "                y = y.cuda()\n",
        "                pred = model(cat, cont)\n",
        "                loss = loss_fn(pred, y)\n",
        "                \n",
        "                y_true_val += list(y.cpu().data.numpy())\n",
        "                y_pred_val += list(pred.cpu().data.numpy())\n",
        "                total_loss_val += loss.item()\n",
        "                vloss[epoch].append(loss.item())\n",
        "            valacc = rmse(y_true_val, y_pred_val)\n",
        "            valloss = total_loss_val/len(valdl)\n",
        "            print(f'Epoch {epoch}: train_loss: {train_loss:.4f} train_rmse: {train_acc:.4f} | val_loss: {valloss:.4f} val_rmse: {valacc:.4f}')\n",
        "        else:\n",
        "            print(f'Epoch {epoch}: train_loss: {train_loss:.4f} train_rmse: {train_acc:.4f}')\n",
        "    \n",
        "    return lr, tloss, vloss"
      ],
      "execution_count": 32,
      "outputs": []
    },
    {
      "cell_type": "markdown",
      "metadata": {
        "id": "CUORRsg-CWKp"
      },
      "source": [
        "## Train the model"
      ]
    },
    {
      "cell_type": "code",
      "metadata": {
        "id": "wAD4aful_uFX",
        "colab": {
          "base_uri": "https://localhost:8080/",
          "height": 1000,
          "referenced_widgets": [
            "7d5db93b3ebe4a8893c6f8ceef91845c",
            "ce8d219d31a84f1f96f2bdb45e888bf2",
            "eac17cb02ec24c2c9ff0ac88dfb08f64",
            "ac91bbbb889b40269d6e8a64d07e906d",
            "a58ee76d7b0a4ad8843bdf8a058a86af",
            "62210ddb75f149cabee268f5bb0bbd2c",
            "31ebcdf2fc2c4ec1b8984cf91d23727e",
            "e3ca9632de76484db2d837a1c14fd31d",
            "94b863fcb5a347c2b371159af917ec96",
            "6574f76a823b4a2794bba00aa44c88f9",
            "c7b6c16a847441b2899b7c0e0d64cf25",
            "3e5b106a545740d3bc875da9047ae40e",
            "c2c54436614c45638440b58f4c8e0048",
            "52c19d10dd084c9bbcedf298e6d69bc9",
            "dd13ae71152d47738ee6218ab2a130cb",
            "6a59075c9b91485fb51d53f0848683eb",
            "a0467a4d4cca4f17a863b5a2a15f35ed",
            "b3383400fd1146648ea2ac26cb5699c0",
            "143b986703b84c89874c0b4ffce498e4",
            "d1448b6ae01b4167bcbf817c8dfeca86",
            "dbaed97997234cc3896f7398c1214dd0",
            "3790dbfdc52b43caab604dd1c4d30f33",
            "3d12ae7d2769480f9a60508aa500de3e",
            "84e2608ed28d4289920729e7f551dd41",
            "5ac78c3ad6c24554875e3274a7b08dbc",
            "a4504c395ab04120a056da14b1a7ebb6",
            "de5f742cdf324307a0388194596480a7",
            "3c1cce8289774d61a08c5912f21ef4b9",
            "623ae10ad04e4a8f8acc2809c76d1ddd",
            "2a075cb2094142708ee9cc1e47ce49a8",
            "925822a585e7488a8d10098a2c90db58",
            "70a20149832642f3ab140094c322adb5",
            "1fdf78ac94df4e9aa638e44c1730656c",
            "74b064b641e645c1b8b66c43f06d6f14",
            "65930992b0884a42ab17e8252202a683",
            "a6f47ac39cc64aec8ca63f31d1510122",
            "7a21f501c9564bed89ba9470680c0247",
            "f7aa56b8cdb8441f8453377cc66de4b2",
            "e2e13d751e8e4383bf4dae6b6d9eab69",
            "3e41d87bba894dd3be0885f68dd49e4a",
            "c34cfcf71f524b9fa71177dfb41160fc",
            "ff20dbeec7c64a89bc99e97c447bb3f2",
            "1d7826ca69df4c4aa055cad3b2966168",
            "79208b37370c4668b172ee7e05fc9fbe",
            "471e157313f2499db7bbc449bf9931ea",
            "e03874f697bf4b75bd3114f14ca2c53f",
            "0d15ed293b974d0dbcee1f7352ad86b7",
            "614ec3cf7f314862aef22aeb162a146b",
            "81e7326c5c294aa9a45d13808b36fdee",
            "1c1102ba7a06473d8bea5057e5d4c0b1",
            "d69ac6fe45384c728ca37a75696ec090",
            "0767ddcc561f45408f3da3a158ce080f",
            "efbbcc1aeb314dcd941cf8ece21c879d",
            "36374357bd9041bb90acfb48e66108cc",
            "c4ec89c274274ea2a0555439a888f105",
            "57a18bc52cc049bfb51aeaff73e4f7d2",
            "cdda90baad2b4f5b90e177748facde8f",
            "c78139485635445bbcc40d0b45e8ce56",
            "f888aedca4d140799e0b529682681e11",
            "e31068f70ff1478b89df64ea84cf86bc",
            "811f94bab4bb4b7eabb0738338753193",
            "6bd5a4e70ff34043b98feba33c958154",
            "ea03fdcc8cf04d4f8f096b9e0b6a0f47",
            "57c40b8276084a6c97033fe585b9ecca",
            "388fedc08fb64a1ba0423d491756ff9b",
            "c2005d8521ff4d2195e1c77b7ef08bcf",
            "de559401ca2b4d178b310911fb9c4252",
            "ff9b1ebe6ac647d8a85532873ae17520",
            "a6f0bf144489430d91c7ca0f291a1fb2",
            "1e74b11f81d74a428e14972a42c1b5ce",
            "ca9f01dc76b64f11ae2b5a0365981ffa",
            "82661eba990e476193aea9f75438dcb0",
            "b236d445cbfe45f3a5f32a63fc76a7dd",
            "096d92fa4d3c445caf06796c82105a74",
            "e34204b3316c4f2ba75dd8463a5689f4",
            "3d7d21abfa464b0a9639f22fc14dbb31",
            "ab7f1e7ebb5248048a7210e0f247e4cb",
            "558e77e4645241fcb1490a66cd1bc9e7",
            "38fa4cc348594477baf4d4cef798fa4b",
            "3e29045919fb4cbeb77bf7f9da3be9d5",
            "de9aef50c9754f2ba8632256ce398946",
            "6ab8c8783e78440aa4a05ef27f0b3f02",
            "de8d0fc2186941908390355bf95b039b",
            "2ea22e8d4df3493bb0bd5637f2fce3be",
            "a7a508b4642748339c58eb8c302a59a7",
            "c1550e85b6a9498daa3e7f9542aef044",
            "c605ff8127834e6eb6f63c17e29ee674",
            "1b1a1bd9a14b4cfe8719f6136bd655b0",
            "c46363e3cab64f9b9c260738532a9b6a",
            "b08ce29e385d4857bc0456ea97e9f1d3",
            "0c6eb1a2824347a68e4579ca748b2869",
            "19478498a071468a992dee7db0ec25c1",
            "a9a578e93d6a4276bb957067105ebb26",
            "1e4da2b5bb1e4324ba41cd3a895bf0c6",
            "294e33c0bec14c6b8c67ca83190c3566",
            "75eafae5cadc44569665fdb788872ff6",
            "f810b3873efa498aa776b203f516f6f0",
            "e8f30d759b9a43948db97409d311b109",
            "80e778f6bfe14a50880cd3a2050075a6",
            "4841f47cf14e434ba4d6df061a0d244f",
            "08e9c24aa4d64acdac5dceb8940e1958",
            "4fe8cbe87091407b9b4ebe2eee9e2c82",
            "a01f0f92bd3c4dc2a7220a9e4a532448",
            "ffb9fb81108346678e8eed967ef7ba4e",
            "30f634997e254e3fa1edd159a424fc68",
            "aff7eeb6cad74d2fb5f04d162a02f905",
            "b5cb1627bc2a41dbbf995cf33699f78d",
            "0ce951b21e2141eaa29884499f44d32f",
            "e47677a98933417bb67c2c5bfb72a3e1",
            "4632f491df82404a88b541a732da37e9",
            "021118fd31464bf4a5a50daff605ab9e",
            "c0c9b4d5466a46b096b59c547fb9607b",
            "77378c6d071d4dd8a7c5b610fe019eb7",
            "ae1ef0fb5552422fbb049c5a799b45b1",
            "f7474403d98f43df9286fcdb43729412",
            "7b6a2f34a9f04936a4b350a65915f861",
            "81a05ae817ed4ff19f2db31317a0d622",
            "c97c0a8e823b46cdb5aeaeb622b69e63",
            "a125474e9092417d9d72a0766e198cea",
            "f66a71ac8988466bbfcaea94094e6b8a",
            "e26ca2db7e244b4e800a4a33cc17cbab",
            "887df62def594540919c2fa1ec2340ee",
            "25f48220aa4840b6bba1043e262c5def",
            "1fa9dafee4dd4f828e628b7a1dddd912",
            "3020db1f68b84329babc2be3320ff1bf",
            "507721210a1b4eba85b2d91b845b6f55",
            "715e649dab894e1e91c4e2bd0b32f209",
            "5cfbef8ae64842208a521366afebe206",
            "4e765673ef85487880aa9d00342833f7",
            "1b72109413424ae9919ab43b1fc58fee",
            "99b883275d5c430dae4609891fbc0652",
            "05b012c074874a68b73577e6801456d2",
            "014aee5e69b54125a41d1437b6716160",
            "d45015b0a1574d4bad109cbffb9fcc8f",
            "c562f4b57f97410982c450291169071f",
            "bae9e68a33854e37a7866a4f5173ec8e",
            "434d147a1eda4ec9840d247e32bcc2b4",
            "8db60d1c1fe2446a95197574956cf6dd",
            "2e549cef11cf4c4d8957ba8c7be1617e",
            "723b07bc657d4bbbb27c6235e91edaf7",
            "0f8642a78e44441c9fba84ff88eaf07c",
            "854c37c0528b4fad8e33bd3529af246e",
            "8f3f122c01784dd6ae8cd3f69aa8f11d",
            "c1c846fd03214f529a6ab460381f1d94",
            "63e5c81d379a4001a16f88de915256dc",
            "78ffe87b13f64d73911301d979689a79",
            "28ca87cf83d44c869ee5977fcb097284",
            "f94686d3de4f44fbba0a97ee39f79fac",
            "b03e9a3d9f67471ca764a3c2252a03f7",
            "03db738d26be43978bf60f550a7b642f",
            "0f2b7b7c19ff4e22bccea058cf9ddbc5",
            "d24b5b1b3bfb49b490f5a2295355eb68",
            "e28256868bca4304989771beab90afa4",
            "42a53294b68649d9adc3a9acd31ef838",
            "35b1a096213843cf8dbcfae4927ade8b",
            "0ff7bd34de6d465b87a2f3bf3907baba",
            "0071e8296c064471afe36178cef8835c",
            "ec0409a2176f49a6b16dca9ee499516d",
            "4ecba0f4774a444ea6197d4644dc1ead",
            "85308457ea6f4506b1c206bf554239be",
            "cd2b97a2c0b4454aba36216243a59fc6",
            "1906602ffc69476f8abda5eeed2734b3",
            "87b505031f154e05882ed986ba6658f9",
            "7e116a66d96c46258e2da6f36dee5940",
            "40cb2ea46df74239b6fb38da996dd79c",
            "95657b4d778d4698a2f0f91b8a2fc804",
            "39e64f44e1f44df5ad7eb3013f9b5fe7",
            "b14b015a260347129422d8245247e11e",
            "af3eb85e50894d8ba2168648290071b8",
            "cc58516a78ed4251b16bfb5acd2d53b2",
            "22e58d742a6d468b9d5d809e7bf50abe",
            "f500ac2b4f754efa89831d1752c9d7e0",
            "1bbe45d865a44bedb627217d553e027d",
            "16249da6281b425cbc428c4d9211d908",
            "57a98606b6894ab98cf11ed4e9405bec",
            "68ce4a4f915643b0aa74171b60391211",
            "f1c2fb8c091945988e4d1b9d1479e723",
            "ff80230b59be43d6b6e6df7a9cf040e6",
            "493d715d2b6149108d7cdb8186deb49e",
            "17fc4cfa30544559ad9f771299817931",
            "218da0c37eeb44efb2609cf61d3dbeee",
            "cd740dd76c29490e84ae08d9a395ba03",
            "0a82a5764aa344bb96d76206151ca9bf",
            "9650ca654549427493951be0c97e4200",
            "101fed167e5d478bbfe384d2151d3d4a",
            "d131cf50d62e42dd8be3cfabae3e8af4",
            "8d5bbbdca21a438c8e3044d7c8ff4b9d",
            "905cc6e2203641f2a0ae43c75bbc7afe",
            "b3e38f167025493d8f5cf13bd6811d8c",
            "b2b2086fd50f4c1784ff3e387c97c80a",
            "8e5c7754987f4d3480d940de156952d7",
            "fa71a39f25dd4721a4f95f020713cf19",
            "0d91f4cd75704153ae5c4abe9e6eaed1",
            "9e1f37ab42bd48758de1758b69723711",
            "4c3217044d79479199b35deaf72bd42d",
            "241a16350cb74eedbcd9430e2875fa9f",
            "b292e0c8eb144034945da39edacf9f2f",
            "314dd585b808402d9cd1fbac66425bea",
            "696e526409c346b3b34636ed2a8c982d",
            "3b24efb397f647ba9d8e246ee5542a92",
            "91d8a7c2f6224d2ba08dda52f0081599",
            "7f03feabca724055a7f5d0756bcd2ffb",
            "b283717a7a6b46fd93fe7ec778c2518b",
            "2dfab0ed2c724ebab42840760ba38608",
            "9c0dd9a6b0034cf98b700b367d6d63fb",
            "1e2f88d488df45bcb3c2b67bb66d6a70",
            "b79b0428b02644af822a0064329c2614",
            "5b504da00a8b4578891ab22da150a2cd",
            "3e84faf7d9354315bbe5e68f0e45e7b3",
            "2a1da42cdfd44056837ec8d9a3c30d80",
            "158ee37ba9a8412dab3c95678b8b464d",
            "8a9e8ba7b0f64c909c47dd873dd58927",
            "5728e60c55cb497781ee07cec705e000",
            "94f0ce9414ad412ba527ecdf3c14a38b",
            "e253aa5c915f4909b16044c53af1d802",
            "0b43bd7b1a8e46b2b4737ab3e9015168",
            "4b4f472b8227433f8ca397c3e3917e92",
            "2a5f9d893fc4458db51bd57200ef8b8a",
            "c4443cff58664a839ea7dda4862f9698",
            "68ff7f0e053041bb9aeea1d66f889049",
            "1a923b79642940d4b8ccda7d68417a5a",
            "02f88b1d95ef4098b5f6307d70652f34",
            "4e79bfdc7137462e99420643a6d89bea",
            "d883582f38914ecea035fd03f4dfa0d3",
            "11952297749c4305b531bc1c07391f0b",
            "e2b73ad2cf5d46078b2fe51234035d37",
            "88056dcece0744a69c98eba9e809f4c1",
            "74a56371c2ee467da06d6e3118fe3c3b",
            "1a7aa7e39aff4d9da99fa199198433fc",
            "0b5f8c1551954665b18981e031459320",
            "202c70e543af4101b9abb3603d644130",
            "cb05e5df7c164d4b876555b489933f63",
            "492704aafa8f41e186f81317128bb025",
            "7854bea61258447181b5ade5c52f9539",
            "0109f496e7b94b2b9f440154d4fac4cd",
            "d86b4e63b2684e7aab0b6fea41fc9db3",
            "38b6c1d763184d7991a877db1f469e35",
            "ea46d9a5943b484894bf1591c5a1a325",
            "b2771cfe8bfb40fa9cc736c0f724d6e0",
            "7c3ce78bee834aa5bcf86c62e5350fd2",
            "3ba4a576365a4b638391a2242b1dc61c",
            "f080ffaab2a64b028ebc468865ae5754",
            "413d6cda0bfc4a83afd19375a3369c16",
            "06a06eb62c8d44378589a06fc3ed4abc",
            "e895d882b1fd487abd576fa8b0509184",
            "813e44eab44d453aa958a3c7917ab633",
            "8ffc315501984bbab7cbfdd9f03d1834",
            "201092d86270402585d755da2f7bc71d",
            "f18f6de0cdc244a4af95d2664320f687",
            "cc1dfab18378463aa1fa98dea3254e0e",
            "9cf9c8cfa30d443ebd430f9704b021fa",
            "9c11a9282690417d9e4b21453df13736",
            "fb7b6a6effeb45f78bc9092abba4c4be",
            "762c9f274c8049e4985e42439aa2378b",
            "99fb3f80fc104773a68ea6687c0de652",
            "1f9f001d17154366b2c6281aa6955115",
            "4c26e61f0ade48cf919f408f62191862",
            "1f67d495da6045dc9bd7c313fe42e7c9",
            "98c89a4a7d314ab79f6548f026106310",
            "45abeb4ff0ad4f589544e824045c6841",
            "f9237ef58125460884d8e6c8e583f6f3",
            "912c5eafeee4484c968b333ccbd85cd1",
            "ee4d3b97bfce41518cc3c64c47e92302",
            "e0498d80667f47eb8aeb3e230cc62686",
            "52495e66f6174649beb6b4dbca5c2a07",
            "ce0ae17797a24424ba20e99195367125",
            "e8f80f0165fa45f69db8a4a17a03a700",
            "c413eea404534d18bcfe138d3fa8d70c",
            "ae082ecbfc9e4efaafe51b1dcdfeb954",
            "36ba8350d8b84bef972afaf10a120d55",
            "8fbb9017cbfd43658aed69a33571820a",
            "17ef76081c6046cf8b5434a3f2eb273c",
            "36658e93e27c41c59b535f2d5e2d1131",
            "492035eb2cc9445f800429cf9a536427",
            "b77f7ae5689046e1b0fa692da1be5ded",
            "b33fc584ee724857a10f9c11375552d4",
            "8ffd7dd2f55a48c8b4594c726d29f5d3",
            "5a09c8f02d144ca48ae6f0fe200570ff",
            "775acbc275164ab793aba5a6d0f5805d",
            "ec54d5cc8a6a4c66ad03b047c60b8fda",
            "d07e07d1467a4382a4e2dad2ecda6cc0",
            "3137410cf1d24079ab9333c46f941980",
            "02250baf43d54f6bb7b3735ab1680df4",
            "ced7c6482a634534a6078dbc941cfd79",
            "a3fc7e00d9824516b7e71511cda93400",
            "60cfaef388754c4eb766ca3d0dd55abe",
            "7fec0d02f62e4e5098a686bdb08511b6",
            "52aa2e7a06ad4102b7a3b5fc02ee60c3",
            "fa25699648f44360bef5ef4c547992a1",
            "a85c1113cd9a4cca851e71d9d64ee99d",
            "bf370375a70c41228a292dd7adaa4162",
            "7059de8b79eb401a84aa4dfc27cedcb0",
            "7905cb27c0704170a80b34de3ac8a561",
            "ab8bf4c63d194e93a8b1496cf2540bbe",
            "8f7926add9d249bf90663cd637b59d90",
            "a3d5474d6f7e48048b6d8529c45e44d0",
            "c89caea1498b4bccb8ee523f1a0a88ca",
            "fd7358a2eb9448c9aecefcc5ca8658fb",
            "6f2af4be6d034bf6ac68ff52f3ac6146",
            "2899d266e92b43779623187b81c00c0d",
            "0227c685e41045c18c72be7a4d3d47f5",
            "f8beb5de6af84068a71cc77329e1c189",
            "1860d2247a8b480a865549afb2160efb",
            "a414cc1711464340b58bc5c72a9a603e",
            "fe49a698aeee43d6a0cfb2dd29a4cf78",
            "b16b491211154e26b70bca57f0182c7e",
            "7b0bd8e7a88446bc91c43add4618dc2e",
            "fbcd93ff69904b6f86cb5d42ebc5cbb2",
            "bacc39f1562749bd8246a1bc784e07d6",
            "8935f8bd318f4973bdf5c24addbff3b9",
            "89d95504dc4d4808857615b5214f1e50",
            "a08b7b9528a14e589650eeba6d6e26d3",
            "7ba7344ff34f4553ae5ce631f14d2db4",
            "b5067bc9f00542718ea2788fd38cebe0",
            "54ceae6b9554422bb96b2e07739b70dc",
            "56bcfd7a29fb4381b56b4af038aa21ff",
            "c90c425646c5496597d610cea7df4a03",
            "62d0acccc115413b98ebb092cb3a9146",
            "b389602fe343485ea2b68a9e7481e550",
            "bc80de3eb7be4183bd7aad30411c6550",
            "90729e182557435e84a79ced1ea73efa",
            "4587b344c1694b70ab7418319caca6a6",
            "7b9da322f9bf40088d9e0ff3d5d5a7f4",
            "1995741880084a69aafd104e1e8f4eb0",
            "8516f631bff24453b8c4c3bc3f004a87",
            "fb59db662df8473c9f23defb6b4744bc",
            "98ee012d01bd458ebb17d8875290e5c2",
            "22fe7d9ebf32407fadbc294849fd46f7"
          ]
        },
        "outputId": "6b83fb4a-01bd-4360-ae62-36600ffe56ec"
      },
      "source": [
        "lr, tloss, vloss = fit(model=model, train_dl=traindl, val_dl=valdl, loss_fn=nn.MSELoss(), opt=opt,  epochs=20)"
      ],
      "execution_count": 33,
      "outputs": [
        {
          "output_type": "stream",
          "text": [
            "/usr/local/lib/python3.7/dist-packages/ipykernel_launcher.py:14: TqdmDeprecationWarning:\n",
            "\n",
            "Please use `tqdm.notebook.trange` instead of `tqdm.tnrange`\n",
            "\n"
          ],
          "name": "stderr"
        },
        {
          "output_type": "display_data",
          "data": {
            "application/vnd.jupyter.widget-view+json": {
              "model_id": "7d5db93b3ebe4a8893c6f8ceef91845c",
              "version_minor": 0,
              "version_major": 2
            },
            "text/plain": [
              "HBox(children=(FloatProgress(value=0.0, max=20.0), HTML(value='')))"
            ]
          },
          "metadata": {
            "tags": []
          }
        },
        {
          "output_type": "stream",
          "text": [
            "/usr/local/lib/python3.7/dist-packages/ipykernel_launcher.py:19: TqdmDeprecationWarning:\n",
            "\n",
            "This function will be removed in tqdm==5.0.0\n",
            "Please use `tqdm.notebook.tqdm` instead of `tqdm.tqdm_notebook`\n",
            "\n"
          ],
          "name": "stderr"
        },
        {
          "output_type": "display_data",
          "data": {
            "application/vnd.jupyter.widget-view+json": {
              "model_id": "94b863fcb5a347c2b371159af917ec96",
              "version_minor": 0,
              "version_major": 2
            },
            "text/plain": [
              "HBox(children=(FloatProgress(value=0.0, max=563.0), HTML(value='')))"
            ]
          },
          "metadata": {
            "tags": []
          }
        },
        {
          "output_type": "stream",
          "text": [
            "/usr/local/lib/python3.7/dist-packages/ipykernel_launcher.py:51: TqdmDeprecationWarning:\n",
            "\n",
            "This function will be removed in tqdm==5.0.0\n",
            "Please use `tqdm.notebook.tqdm` instead of `tqdm.tqdm_notebook`\n",
            "\n"
          ],
          "name": "stderr"
        },
        {
          "output_type": "display_data",
          "data": {
            "application/vnd.jupyter.widget-view+json": {
              "model_id": "a0467a4d4cca4f17a863b5a2a15f35ed",
              "version_minor": 0,
              "version_major": 2
            },
            "text/plain": [
              "HBox(children=(FloatProgress(value=0.0, max=141.0), HTML(value='')))"
            ]
          },
          "metadata": {
            "tags": []
          }
        },
        {
          "output_type": "stream",
          "text": [
            "Epoch 0: train_loss: 0.2798 train_rmse: 0.5291 | val_loss: 0.1780 val_rmse: 0.4219\n"
          ],
          "name": "stdout"
        },
        {
          "output_type": "stream",
          "text": [
            "/usr/local/lib/python3.7/dist-packages/ipykernel_launcher.py:19: TqdmDeprecationWarning:\n",
            "\n",
            "This function will be removed in tqdm==5.0.0\n",
            "Please use `tqdm.notebook.tqdm` instead of `tqdm.tqdm_notebook`\n",
            "\n"
          ],
          "name": "stderr"
        },
        {
          "output_type": "display_data",
          "data": {
            "application/vnd.jupyter.widget-view+json": {
              "model_id": "5ac78c3ad6c24554875e3274a7b08dbc",
              "version_minor": 0,
              "version_major": 2
            },
            "text/plain": [
              "HBox(children=(FloatProgress(value=0.0, max=563.0), HTML(value='')))"
            ]
          },
          "metadata": {
            "tags": []
          }
        },
        {
          "output_type": "stream",
          "text": [
            "/usr/local/lib/python3.7/dist-packages/ipykernel_launcher.py:51: TqdmDeprecationWarning:\n",
            "\n",
            "This function will be removed in tqdm==5.0.0\n",
            "Please use `tqdm.notebook.tqdm` instead of `tqdm.tqdm_notebook`\n",
            "\n"
          ],
          "name": "stderr"
        },
        {
          "output_type": "display_data",
          "data": {
            "application/vnd.jupyter.widget-view+json": {
              "model_id": "1fdf78ac94df4e9aa638e44c1730656c",
              "version_minor": 0,
              "version_major": 2
            },
            "text/plain": [
              "HBox(children=(FloatProgress(value=0.0, max=141.0), HTML(value='')))"
            ]
          },
          "metadata": {
            "tags": []
          }
        },
        {
          "output_type": "stream",
          "text": [
            "Epoch 1: train_loss: 0.1731 train_rmse: 0.4162 | val_loss: 0.1595 val_rmse: 0.3997\n"
          ],
          "name": "stdout"
        },
        {
          "output_type": "stream",
          "text": [
            "/usr/local/lib/python3.7/dist-packages/ipykernel_launcher.py:19: TqdmDeprecationWarning:\n",
            "\n",
            "This function will be removed in tqdm==5.0.0\n",
            "Please use `tqdm.notebook.tqdm` instead of `tqdm.tqdm_notebook`\n",
            "\n"
          ],
          "name": "stderr"
        },
        {
          "output_type": "display_data",
          "data": {
            "application/vnd.jupyter.widget-view+json": {
              "model_id": "c34cfcf71f524b9fa71177dfb41160fc",
              "version_minor": 0,
              "version_major": 2
            },
            "text/plain": [
              "HBox(children=(FloatProgress(value=0.0, max=563.0), HTML(value='')))"
            ]
          },
          "metadata": {
            "tags": []
          }
        },
        {
          "output_type": "stream",
          "text": [
            "/usr/local/lib/python3.7/dist-packages/ipykernel_launcher.py:51: TqdmDeprecationWarning:\n",
            "\n",
            "This function will be removed in tqdm==5.0.0\n",
            "Please use `tqdm.notebook.tqdm` instead of `tqdm.tqdm_notebook`\n",
            "\n"
          ],
          "name": "stderr"
        },
        {
          "output_type": "display_data",
          "data": {
            "application/vnd.jupyter.widget-view+json": {
              "model_id": "81e7326c5c294aa9a45d13808b36fdee",
              "version_minor": 0,
              "version_major": 2
            },
            "text/plain": [
              "HBox(children=(FloatProgress(value=0.0, max=141.0), HTML(value='')))"
            ]
          },
          "metadata": {
            "tags": []
          }
        },
        {
          "output_type": "stream",
          "text": [
            "Epoch 2: train_loss: 0.1535 train_rmse: 0.3918 | val_loss: 0.1334 val_rmse: 0.3656\n"
          ],
          "name": "stdout"
        },
        {
          "output_type": "stream",
          "text": [
            "/usr/local/lib/python3.7/dist-packages/ipykernel_launcher.py:19: TqdmDeprecationWarning:\n",
            "\n",
            "This function will be removed in tqdm==5.0.0\n",
            "Please use `tqdm.notebook.tqdm` instead of `tqdm.tqdm_notebook`\n",
            "\n"
          ],
          "name": "stderr"
        },
        {
          "output_type": "display_data",
          "data": {
            "application/vnd.jupyter.widget-view+json": {
              "model_id": "cdda90baad2b4f5b90e177748facde8f",
              "version_minor": 0,
              "version_major": 2
            },
            "text/plain": [
              "HBox(children=(FloatProgress(value=0.0, max=563.0), HTML(value='')))"
            ]
          },
          "metadata": {
            "tags": []
          }
        },
        {
          "output_type": "stream",
          "text": [
            "/usr/local/lib/python3.7/dist-packages/ipykernel_launcher.py:51: TqdmDeprecationWarning:\n",
            "\n",
            "This function will be removed in tqdm==5.0.0\n",
            "Please use `tqdm.notebook.tqdm` instead of `tqdm.tqdm_notebook`\n",
            "\n"
          ],
          "name": "stderr"
        },
        {
          "output_type": "display_data",
          "data": {
            "application/vnd.jupyter.widget-view+json": {
              "model_id": "388fedc08fb64a1ba0423d491756ff9b",
              "version_minor": 0,
              "version_major": 2
            },
            "text/plain": [
              "HBox(children=(FloatProgress(value=0.0, max=141.0), HTML(value='')))"
            ]
          },
          "metadata": {
            "tags": []
          }
        },
        {
          "output_type": "stream",
          "text": [
            "Epoch 3: train_loss: 0.1220 train_rmse: 0.3495 | val_loss: 0.1032 val_rmse: 0.3211\n"
          ],
          "name": "stdout"
        },
        {
          "output_type": "stream",
          "text": [
            "/usr/local/lib/python3.7/dist-packages/ipykernel_launcher.py:19: TqdmDeprecationWarning:\n",
            "\n",
            "This function will be removed in tqdm==5.0.0\n",
            "Please use `tqdm.notebook.tqdm` instead of `tqdm.tqdm_notebook`\n",
            "\n"
          ],
          "name": "stderr"
        },
        {
          "output_type": "display_data",
          "data": {
            "application/vnd.jupyter.widget-view+json": {
              "model_id": "b236d445cbfe45f3a5f32a63fc76a7dd",
              "version_minor": 0,
              "version_major": 2
            },
            "text/plain": [
              "HBox(children=(FloatProgress(value=0.0, max=563.0), HTML(value='')))"
            ]
          },
          "metadata": {
            "tags": []
          }
        },
        {
          "output_type": "stream",
          "text": [
            "/usr/local/lib/python3.7/dist-packages/ipykernel_launcher.py:51: TqdmDeprecationWarning:\n",
            "\n",
            "This function will be removed in tqdm==5.0.0\n",
            "Please use `tqdm.notebook.tqdm` instead of `tqdm.tqdm_notebook`\n",
            "\n"
          ],
          "name": "stderr"
        },
        {
          "output_type": "display_data",
          "data": {
            "application/vnd.jupyter.widget-view+json": {
              "model_id": "de9aef50c9754f2ba8632256ce398946",
              "version_minor": 0,
              "version_major": 2
            },
            "text/plain": [
              "HBox(children=(FloatProgress(value=0.0, max=141.0), HTML(value='')))"
            ]
          },
          "metadata": {
            "tags": []
          }
        },
        {
          "output_type": "stream",
          "text": [
            "Epoch 4: train_loss: 0.1094 train_rmse: 0.3308 | val_loss: 0.1091 val_rmse: 0.3302\n"
          ],
          "name": "stdout"
        },
        {
          "output_type": "stream",
          "text": [
            "/usr/local/lib/python3.7/dist-packages/ipykernel_launcher.py:19: TqdmDeprecationWarning:\n",
            "\n",
            "This function will be removed in tqdm==5.0.0\n",
            "Please use `tqdm.notebook.tqdm` instead of `tqdm.tqdm_notebook`\n",
            "\n"
          ],
          "name": "stderr"
        },
        {
          "output_type": "display_data",
          "data": {
            "application/vnd.jupyter.widget-view+json": {
              "model_id": "c46363e3cab64f9b9c260738532a9b6a",
              "version_minor": 0,
              "version_major": 2
            },
            "text/plain": [
              "HBox(children=(FloatProgress(value=0.0, max=563.0), HTML(value='')))"
            ]
          },
          "metadata": {
            "tags": []
          }
        },
        {
          "output_type": "stream",
          "text": [
            "/usr/local/lib/python3.7/dist-packages/ipykernel_launcher.py:51: TqdmDeprecationWarning:\n",
            "\n",
            "This function will be removed in tqdm==5.0.0\n",
            "Please use `tqdm.notebook.tqdm` instead of `tqdm.tqdm_notebook`\n",
            "\n"
          ],
          "name": "stderr"
        },
        {
          "output_type": "display_data",
          "data": {
            "application/vnd.jupyter.widget-view+json": {
              "model_id": "f810b3873efa498aa776b203f516f6f0",
              "version_minor": 0,
              "version_major": 2
            },
            "text/plain": [
              "HBox(children=(FloatProgress(value=0.0, max=141.0), HTML(value='')))"
            ]
          },
          "metadata": {
            "tags": []
          }
        },
        {
          "output_type": "stream",
          "text": [
            "Epoch 5: train_loss: 0.1076 train_rmse: 0.3281 | val_loss: 0.1063 val_rmse: 0.3261\n"
          ],
          "name": "stdout"
        },
        {
          "output_type": "stream",
          "text": [
            "/usr/local/lib/python3.7/dist-packages/ipykernel_launcher.py:19: TqdmDeprecationWarning:\n",
            "\n",
            "This function will be removed in tqdm==5.0.0\n",
            "Please use `tqdm.notebook.tqdm` instead of `tqdm.tqdm_notebook`\n",
            "\n"
          ],
          "name": "stderr"
        },
        {
          "output_type": "display_data",
          "data": {
            "application/vnd.jupyter.widget-view+json": {
              "model_id": "30f634997e254e3fa1edd159a424fc68",
              "version_minor": 0,
              "version_major": 2
            },
            "text/plain": [
              "HBox(children=(FloatProgress(value=0.0, max=563.0), HTML(value='')))"
            ]
          },
          "metadata": {
            "tags": []
          }
        },
        {
          "output_type": "stream",
          "text": [
            "/usr/local/lib/python3.7/dist-packages/ipykernel_launcher.py:51: TqdmDeprecationWarning:\n",
            "\n",
            "This function will be removed in tqdm==5.0.0\n",
            "Please use `tqdm.notebook.tqdm` instead of `tqdm.tqdm_notebook`\n",
            "\n"
          ],
          "name": "stderr"
        },
        {
          "output_type": "display_data",
          "data": {
            "application/vnd.jupyter.widget-view+json": {
              "model_id": "77378c6d071d4dd8a7c5b610fe019eb7",
              "version_minor": 0,
              "version_major": 2
            },
            "text/plain": [
              "HBox(children=(FloatProgress(value=0.0, max=141.0), HTML(value='')))"
            ]
          },
          "metadata": {
            "tags": []
          }
        },
        {
          "output_type": "stream",
          "text": [
            "Epoch 6: train_loss: 0.1054 train_rmse: 0.3247 | val_loss: 0.1013 val_rmse: 0.3184\n"
          ],
          "name": "stdout"
        },
        {
          "output_type": "stream",
          "text": [
            "/usr/local/lib/python3.7/dist-packages/ipykernel_launcher.py:19: TqdmDeprecationWarning:\n",
            "\n",
            "This function will be removed in tqdm==5.0.0\n",
            "Please use `tqdm.notebook.tqdm` instead of `tqdm.tqdm_notebook`\n",
            "\n"
          ],
          "name": "stderr"
        },
        {
          "output_type": "display_data",
          "data": {
            "application/vnd.jupyter.widget-view+json": {
              "model_id": "e26ca2db7e244b4e800a4a33cc17cbab",
              "version_minor": 0,
              "version_major": 2
            },
            "text/plain": [
              "HBox(children=(FloatProgress(value=0.0, max=563.0), HTML(value='')))"
            ]
          },
          "metadata": {
            "tags": []
          }
        },
        {
          "output_type": "stream",
          "text": [
            "/usr/local/lib/python3.7/dist-packages/ipykernel_launcher.py:51: TqdmDeprecationWarning:\n",
            "\n",
            "This function will be removed in tqdm==5.0.0\n",
            "Please use `tqdm.notebook.tqdm` instead of `tqdm.tqdm_notebook`\n",
            "\n"
          ],
          "name": "stderr"
        },
        {
          "output_type": "display_data",
          "data": {
            "application/vnd.jupyter.widget-view+json": {
              "model_id": "4e765673ef85487880aa9d00342833f7",
              "version_minor": 0,
              "version_major": 2
            },
            "text/plain": [
              "HBox(children=(FloatProgress(value=0.0, max=141.0), HTML(value='')))"
            ]
          },
          "metadata": {
            "tags": []
          }
        },
        {
          "output_type": "stream",
          "text": [
            "Epoch 7: train_loss: 0.1054 train_rmse: 0.3247 | val_loss: 0.1071 val_rmse: 0.3274\n"
          ],
          "name": "stdout"
        },
        {
          "output_type": "stream",
          "text": [
            "/usr/local/lib/python3.7/dist-packages/ipykernel_launcher.py:19: TqdmDeprecationWarning:\n",
            "\n",
            "This function will be removed in tqdm==5.0.0\n",
            "Please use `tqdm.notebook.tqdm` instead of `tqdm.tqdm_notebook`\n",
            "\n"
          ],
          "name": "stderr"
        },
        {
          "output_type": "display_data",
          "data": {
            "application/vnd.jupyter.widget-view+json": {
              "model_id": "434d147a1eda4ec9840d247e32bcc2b4",
              "version_minor": 0,
              "version_major": 2
            },
            "text/plain": [
              "HBox(children=(FloatProgress(value=0.0, max=563.0), HTML(value='')))"
            ]
          },
          "metadata": {
            "tags": []
          }
        },
        {
          "output_type": "stream",
          "text": [
            "/usr/local/lib/python3.7/dist-packages/ipykernel_launcher.py:51: TqdmDeprecationWarning:\n",
            "\n",
            "This function will be removed in tqdm==5.0.0\n",
            "Please use `tqdm.notebook.tqdm` instead of `tqdm.tqdm_notebook`\n",
            "\n"
          ],
          "name": "stderr"
        },
        {
          "output_type": "display_data",
          "data": {
            "application/vnd.jupyter.widget-view+json": {
              "model_id": "63e5c81d379a4001a16f88de915256dc",
              "version_minor": 0,
              "version_major": 2
            },
            "text/plain": [
              "HBox(children=(FloatProgress(value=0.0, max=141.0), HTML(value='')))"
            ]
          },
          "metadata": {
            "tags": []
          }
        },
        {
          "output_type": "stream",
          "text": [
            "Epoch 8: train_loss: 0.1070 train_rmse: 0.3272 | val_loss: 0.1017 val_rmse: 0.3189\n"
          ],
          "name": "stdout"
        },
        {
          "output_type": "stream",
          "text": [
            "/usr/local/lib/python3.7/dist-packages/ipykernel_launcher.py:19: TqdmDeprecationWarning:\n",
            "\n",
            "This function will be removed in tqdm==5.0.0\n",
            "Please use `tqdm.notebook.tqdm` instead of `tqdm.tqdm_notebook`\n",
            "\n"
          ],
          "name": "stderr"
        },
        {
          "output_type": "display_data",
          "data": {
            "application/vnd.jupyter.widget-view+json": {
              "model_id": "e28256868bca4304989771beab90afa4",
              "version_minor": 0,
              "version_major": 2
            },
            "text/plain": [
              "HBox(children=(FloatProgress(value=0.0, max=563.0), HTML(value='')))"
            ]
          },
          "metadata": {
            "tags": []
          }
        },
        {
          "output_type": "stream",
          "text": [
            "/usr/local/lib/python3.7/dist-packages/ipykernel_launcher.py:51: TqdmDeprecationWarning:\n",
            "\n",
            "This function will be removed in tqdm==5.0.0\n",
            "Please use `tqdm.notebook.tqdm` instead of `tqdm.tqdm_notebook`\n",
            "\n"
          ],
          "name": "stderr"
        },
        {
          "output_type": "display_data",
          "data": {
            "application/vnd.jupyter.widget-view+json": {
              "model_id": "cd2b97a2c0b4454aba36216243a59fc6",
              "version_minor": 0,
              "version_major": 2
            },
            "text/plain": [
              "HBox(children=(FloatProgress(value=0.0, max=141.0), HTML(value='')))"
            ]
          },
          "metadata": {
            "tags": []
          }
        },
        {
          "output_type": "stream",
          "text": [
            "Epoch 9: train_loss: 0.1064 train_rmse: 0.3262 | val_loss: 0.1046 val_rmse: 0.3234\n"
          ],
          "name": "stdout"
        },
        {
          "output_type": "stream",
          "text": [
            "/usr/local/lib/python3.7/dist-packages/ipykernel_launcher.py:19: TqdmDeprecationWarning:\n",
            "\n",
            "This function will be removed in tqdm==5.0.0\n",
            "Please use `tqdm.notebook.tqdm` instead of `tqdm.tqdm_notebook`\n",
            "\n"
          ],
          "name": "stderr"
        },
        {
          "output_type": "display_data",
          "data": {
            "application/vnd.jupyter.widget-view+json": {
              "model_id": "af3eb85e50894d8ba2168648290071b8",
              "version_minor": 0,
              "version_major": 2
            },
            "text/plain": [
              "HBox(children=(FloatProgress(value=0.0, max=563.0), HTML(value='')))"
            ]
          },
          "metadata": {
            "tags": []
          }
        },
        {
          "output_type": "stream",
          "text": [
            "/usr/local/lib/python3.7/dist-packages/ipykernel_launcher.py:51: TqdmDeprecationWarning:\n",
            "\n",
            "This function will be removed in tqdm==5.0.0\n",
            "Please use `tqdm.notebook.tqdm` instead of `tqdm.tqdm_notebook`\n",
            "\n"
          ],
          "name": "stderr"
        },
        {
          "output_type": "display_data",
          "data": {
            "application/vnd.jupyter.widget-view+json": {
              "model_id": "f1c2fb8c091945988e4d1b9d1479e723",
              "version_minor": 0,
              "version_major": 2
            },
            "text/plain": [
              "HBox(children=(FloatProgress(value=0.0, max=141.0), HTML(value='')))"
            ]
          },
          "metadata": {
            "tags": []
          }
        },
        {
          "output_type": "stream",
          "text": [
            "Epoch 10: train_loss: 0.1055 train_rmse: 0.3247 | val_loss: 0.1043 val_rmse: 0.3230\n"
          ],
          "name": "stdout"
        },
        {
          "output_type": "stream",
          "text": [
            "/usr/local/lib/python3.7/dist-packages/ipykernel_launcher.py:19: TqdmDeprecationWarning:\n",
            "\n",
            "This function will be removed in tqdm==5.0.0\n",
            "Please use `tqdm.notebook.tqdm` instead of `tqdm.tqdm_notebook`\n",
            "\n"
          ],
          "name": "stderr"
        },
        {
          "output_type": "display_data",
          "data": {
            "application/vnd.jupyter.widget-view+json": {
              "model_id": "101fed167e5d478bbfe384d2151d3d4a",
              "version_minor": 0,
              "version_major": 2
            },
            "text/plain": [
              "HBox(children=(FloatProgress(value=0.0, max=563.0), HTML(value='')))"
            ]
          },
          "metadata": {
            "tags": []
          }
        },
        {
          "output_type": "stream",
          "text": [
            "/usr/local/lib/python3.7/dist-packages/ipykernel_launcher.py:51: TqdmDeprecationWarning:\n",
            "\n",
            "This function will be removed in tqdm==5.0.0\n",
            "Please use `tqdm.notebook.tqdm` instead of `tqdm.tqdm_notebook`\n",
            "\n"
          ],
          "name": "stderr"
        },
        {
          "output_type": "display_data",
          "data": {
            "application/vnd.jupyter.widget-view+json": {
              "model_id": "0d91f4cd75704153ae5c4abe9e6eaed1",
              "version_minor": 0,
              "version_major": 2
            },
            "text/plain": [
              "HBox(children=(FloatProgress(value=0.0, max=141.0), HTML(value='')))"
            ]
          },
          "metadata": {
            "tags": []
          }
        },
        {
          "output_type": "stream",
          "text": [
            "Epoch 11: train_loss: 0.1063 train_rmse: 0.3261 | val_loss: 0.1053 val_rmse: 0.3244\n"
          ],
          "name": "stdout"
        },
        {
          "output_type": "stream",
          "text": [
            "/usr/local/lib/python3.7/dist-packages/ipykernel_launcher.py:19: TqdmDeprecationWarning:\n",
            "\n",
            "This function will be removed in tqdm==5.0.0\n",
            "Please use `tqdm.notebook.tqdm` instead of `tqdm.tqdm_notebook`\n",
            "\n"
          ],
          "name": "stderr"
        },
        {
          "output_type": "display_data",
          "data": {
            "application/vnd.jupyter.widget-view+json": {
              "model_id": "91d8a7c2f6224d2ba08dda52f0081599",
              "version_minor": 0,
              "version_major": 2
            },
            "text/plain": [
              "HBox(children=(FloatProgress(value=0.0, max=563.0), HTML(value='')))"
            ]
          },
          "metadata": {
            "tags": []
          }
        },
        {
          "output_type": "stream",
          "text": [
            "/usr/local/lib/python3.7/dist-packages/ipykernel_launcher.py:51: TqdmDeprecationWarning:\n",
            "\n",
            "This function will be removed in tqdm==5.0.0\n",
            "Please use `tqdm.notebook.tqdm` instead of `tqdm.tqdm_notebook`\n",
            "\n"
          ],
          "name": "stderr"
        },
        {
          "output_type": "display_data",
          "data": {
            "application/vnd.jupyter.widget-view+json": {
              "model_id": "3e84faf7d9354315bbe5e68f0e45e7b3",
              "version_minor": 0,
              "version_major": 2
            },
            "text/plain": [
              "HBox(children=(FloatProgress(value=0.0, max=141.0), HTML(value='')))"
            ]
          },
          "metadata": {
            "tags": []
          }
        },
        {
          "output_type": "stream",
          "text": [
            "Epoch 12: train_loss: 0.1063 train_rmse: 0.3260 | val_loss: 0.1122 val_rmse: 0.3350\n"
          ],
          "name": "stdout"
        },
        {
          "output_type": "stream",
          "text": [
            "/usr/local/lib/python3.7/dist-packages/ipykernel_launcher.py:19: TqdmDeprecationWarning:\n",
            "\n",
            "This function will be removed in tqdm==5.0.0\n",
            "Please use `tqdm.notebook.tqdm` instead of `tqdm.tqdm_notebook`\n",
            "\n"
          ],
          "name": "stderr"
        },
        {
          "output_type": "display_data",
          "data": {
            "application/vnd.jupyter.widget-view+json": {
              "model_id": "4b4f472b8227433f8ca397c3e3917e92",
              "version_minor": 0,
              "version_major": 2
            },
            "text/plain": [
              "HBox(children=(FloatProgress(value=0.0, max=563.0), HTML(value='')))"
            ]
          },
          "metadata": {
            "tags": []
          }
        },
        {
          "output_type": "stream",
          "text": [
            "/usr/local/lib/python3.7/dist-packages/ipykernel_launcher.py:51: TqdmDeprecationWarning:\n",
            "\n",
            "This function will be removed in tqdm==5.0.0\n",
            "Please use `tqdm.notebook.tqdm` instead of `tqdm.tqdm_notebook`\n",
            "\n"
          ],
          "name": "stderr"
        },
        {
          "output_type": "display_data",
          "data": {
            "application/vnd.jupyter.widget-view+json": {
              "model_id": "11952297749c4305b531bc1c07391f0b",
              "version_minor": 0,
              "version_major": 2
            },
            "text/plain": [
              "HBox(children=(FloatProgress(value=0.0, max=141.0), HTML(value='')))"
            ]
          },
          "metadata": {
            "tags": []
          }
        },
        {
          "output_type": "stream",
          "text": [
            "Epoch 13: train_loss: 0.1059 train_rmse: 0.3254 | val_loss: 0.1005 val_rmse: 0.3171\n"
          ],
          "name": "stdout"
        },
        {
          "output_type": "stream",
          "text": [
            "/usr/local/lib/python3.7/dist-packages/ipykernel_launcher.py:19: TqdmDeprecationWarning:\n",
            "\n",
            "This function will be removed in tqdm==5.0.0\n",
            "Please use `tqdm.notebook.tqdm` instead of `tqdm.tqdm_notebook`\n",
            "\n"
          ],
          "name": "stderr"
        },
        {
          "output_type": "display_data",
          "data": {
            "application/vnd.jupyter.widget-view+json": {
              "model_id": "492704aafa8f41e186f81317128bb025",
              "version_minor": 0,
              "version_major": 2
            },
            "text/plain": [
              "HBox(children=(FloatProgress(value=0.0, max=563.0), HTML(value='')))"
            ]
          },
          "metadata": {
            "tags": []
          }
        },
        {
          "output_type": "stream",
          "text": [
            "/usr/local/lib/python3.7/dist-packages/ipykernel_launcher.py:51: TqdmDeprecationWarning:\n",
            "\n",
            "This function will be removed in tqdm==5.0.0\n",
            "Please use `tqdm.notebook.tqdm` instead of `tqdm.tqdm_notebook`\n",
            "\n"
          ],
          "name": "stderr"
        },
        {
          "output_type": "display_data",
          "data": {
            "application/vnd.jupyter.widget-view+json": {
              "model_id": "3ba4a576365a4b638391a2242b1dc61c",
              "version_minor": 0,
              "version_major": 2
            },
            "text/plain": [
              "HBox(children=(FloatProgress(value=0.0, max=141.0), HTML(value='')))"
            ]
          },
          "metadata": {
            "tags": []
          }
        },
        {
          "output_type": "stream",
          "text": [
            "Epoch 14: train_loss: 0.1056 train_rmse: 0.3249 | val_loss: 0.1016 val_rmse: 0.3188\n"
          ],
          "name": "stdout"
        },
        {
          "output_type": "stream",
          "text": [
            "/usr/local/lib/python3.7/dist-packages/ipykernel_launcher.py:19: TqdmDeprecationWarning:\n",
            "\n",
            "This function will be removed in tqdm==5.0.0\n",
            "Please use `tqdm.notebook.tqdm` instead of `tqdm.tqdm_notebook`\n",
            "\n"
          ],
          "name": "stderr"
        },
        {
          "output_type": "display_data",
          "data": {
            "application/vnd.jupyter.widget-view+json": {
              "model_id": "f18f6de0cdc244a4af95d2664320f687",
              "version_minor": 0,
              "version_major": 2
            },
            "text/plain": [
              "HBox(children=(FloatProgress(value=0.0, max=563.0), HTML(value='')))"
            ]
          },
          "metadata": {
            "tags": []
          }
        },
        {
          "output_type": "stream",
          "text": [
            "/usr/local/lib/python3.7/dist-packages/ipykernel_launcher.py:51: TqdmDeprecationWarning:\n",
            "\n",
            "This function will be removed in tqdm==5.0.0\n",
            "Please use `tqdm.notebook.tqdm` instead of `tqdm.tqdm_notebook`\n",
            "\n"
          ],
          "name": "stderr"
        },
        {
          "output_type": "display_data",
          "data": {
            "application/vnd.jupyter.widget-view+json": {
              "model_id": "4c26e61f0ade48cf919f408f62191862",
              "version_minor": 0,
              "version_major": 2
            },
            "text/plain": [
              "HBox(children=(FloatProgress(value=0.0, max=141.0), HTML(value='')))"
            ]
          },
          "metadata": {
            "tags": []
          }
        },
        {
          "output_type": "stream",
          "text": [
            "Epoch 15: train_loss: 0.1047 train_rmse: 0.3237 | val_loss: 0.1072 val_rmse: 0.3276\n"
          ],
          "name": "stdout"
        },
        {
          "output_type": "stream",
          "text": [
            "/usr/local/lib/python3.7/dist-packages/ipykernel_launcher.py:19: TqdmDeprecationWarning:\n",
            "\n",
            "This function will be removed in tqdm==5.0.0\n",
            "Please use `tqdm.notebook.tqdm` instead of `tqdm.tqdm_notebook`\n",
            "\n"
          ],
          "name": "stderr"
        },
        {
          "output_type": "display_data",
          "data": {
            "application/vnd.jupyter.widget-view+json": {
              "model_id": "52495e66f6174649beb6b4dbca5c2a07",
              "version_minor": 0,
              "version_major": 2
            },
            "text/plain": [
              "HBox(children=(FloatProgress(value=0.0, max=563.0), HTML(value='')))"
            ]
          },
          "metadata": {
            "tags": []
          }
        },
        {
          "output_type": "stream",
          "text": [
            "/usr/local/lib/python3.7/dist-packages/ipykernel_launcher.py:51: TqdmDeprecationWarning:\n",
            "\n",
            "This function will be removed in tqdm==5.0.0\n",
            "Please use `tqdm.notebook.tqdm` instead of `tqdm.tqdm_notebook`\n",
            "\n"
          ],
          "name": "stderr"
        },
        {
          "output_type": "display_data",
          "data": {
            "application/vnd.jupyter.widget-view+json": {
              "model_id": "36658e93e27c41c59b535f2d5e2d1131",
              "version_minor": 0,
              "version_major": 2
            },
            "text/plain": [
              "HBox(children=(FloatProgress(value=0.0, max=141.0), HTML(value='')))"
            ]
          },
          "metadata": {
            "tags": []
          }
        },
        {
          "output_type": "stream",
          "text": [
            "Epoch 16: train_loss: 0.1047 train_rmse: 0.3236 | val_loss: 0.0990 val_rmse: 0.3147\n"
          ],
          "name": "stdout"
        },
        {
          "output_type": "stream",
          "text": [
            "/usr/local/lib/python3.7/dist-packages/ipykernel_launcher.py:19: TqdmDeprecationWarning:\n",
            "\n",
            "This function will be removed in tqdm==5.0.0\n",
            "Please use `tqdm.notebook.tqdm` instead of `tqdm.tqdm_notebook`\n",
            "\n"
          ],
          "name": "stderr"
        },
        {
          "output_type": "display_data",
          "data": {
            "application/vnd.jupyter.widget-view+json": {
              "model_id": "d07e07d1467a4382a4e2dad2ecda6cc0",
              "version_minor": 0,
              "version_major": 2
            },
            "text/plain": [
              "HBox(children=(FloatProgress(value=0.0, max=563.0), HTML(value='')))"
            ]
          },
          "metadata": {
            "tags": []
          }
        },
        {
          "output_type": "stream",
          "text": [
            "/usr/local/lib/python3.7/dist-packages/ipykernel_launcher.py:51: TqdmDeprecationWarning:\n",
            "\n",
            "This function will be removed in tqdm==5.0.0\n",
            "Please use `tqdm.notebook.tqdm` instead of `tqdm.tqdm_notebook`\n",
            "\n"
          ],
          "name": "stderr"
        },
        {
          "output_type": "display_data",
          "data": {
            "application/vnd.jupyter.widget-view+json": {
              "model_id": "fa25699648f44360bef5ef4c547992a1",
              "version_minor": 0,
              "version_major": 2
            },
            "text/plain": [
              "HBox(children=(FloatProgress(value=0.0, max=141.0), HTML(value='')))"
            ]
          },
          "metadata": {
            "tags": []
          }
        },
        {
          "output_type": "stream",
          "text": [
            "Epoch 17: train_loss: 0.1043 train_rmse: 0.3230 | val_loss: 0.1005 val_rmse: 0.3171\n"
          ],
          "name": "stdout"
        },
        {
          "output_type": "stream",
          "text": [
            "/usr/local/lib/python3.7/dist-packages/ipykernel_launcher.py:19: TqdmDeprecationWarning:\n",
            "\n",
            "This function will be removed in tqdm==5.0.0\n",
            "Please use `tqdm.notebook.tqdm` instead of `tqdm.tqdm_notebook`\n",
            "\n"
          ],
          "name": "stderr"
        },
        {
          "output_type": "display_data",
          "data": {
            "application/vnd.jupyter.widget-view+json": {
              "model_id": "c89caea1498b4bccb8ee523f1a0a88ca",
              "version_minor": 0,
              "version_major": 2
            },
            "text/plain": [
              "HBox(children=(FloatProgress(value=0.0, max=563.0), HTML(value='')))"
            ]
          },
          "metadata": {
            "tags": []
          }
        },
        {
          "output_type": "stream",
          "text": [
            "/usr/local/lib/python3.7/dist-packages/ipykernel_launcher.py:51: TqdmDeprecationWarning:\n",
            "\n",
            "This function will be removed in tqdm==5.0.0\n",
            "Please use `tqdm.notebook.tqdm` instead of `tqdm.tqdm_notebook`\n",
            "\n"
          ],
          "name": "stderr"
        },
        {
          "output_type": "display_data",
          "data": {
            "application/vnd.jupyter.widget-view+json": {
              "model_id": "fe49a698aeee43d6a0cfb2dd29a4cf78",
              "version_minor": 0,
              "version_major": 2
            },
            "text/plain": [
              "HBox(children=(FloatProgress(value=0.0, max=141.0), HTML(value='')))"
            ]
          },
          "metadata": {
            "tags": []
          }
        },
        {
          "output_type": "stream",
          "text": [
            "Epoch 18: train_loss: 0.1063 train_rmse: 0.3260 | val_loss: 0.1011 val_rmse: 0.3180\n"
          ],
          "name": "stdout"
        },
        {
          "output_type": "stream",
          "text": [
            "/usr/local/lib/python3.7/dist-packages/ipykernel_launcher.py:19: TqdmDeprecationWarning:\n",
            "\n",
            "This function will be removed in tqdm==5.0.0\n",
            "Please use `tqdm.notebook.tqdm` instead of `tqdm.tqdm_notebook`\n",
            "\n"
          ],
          "name": "stderr"
        },
        {
          "output_type": "display_data",
          "data": {
            "application/vnd.jupyter.widget-view+json": {
              "model_id": "7ba7344ff34f4553ae5ce631f14d2db4",
              "version_minor": 0,
              "version_major": 2
            },
            "text/plain": [
              "HBox(children=(FloatProgress(value=0.0, max=563.0), HTML(value='')))"
            ]
          },
          "metadata": {
            "tags": []
          }
        },
        {
          "output_type": "stream",
          "text": [
            "/usr/local/lib/python3.7/dist-packages/ipykernel_launcher.py:51: TqdmDeprecationWarning:\n",
            "\n",
            "This function will be removed in tqdm==5.0.0\n",
            "Please use `tqdm.notebook.tqdm` instead of `tqdm.tqdm_notebook`\n",
            "\n"
          ],
          "name": "stderr"
        },
        {
          "output_type": "display_data",
          "data": {
            "application/vnd.jupyter.widget-view+json": {
              "model_id": "90729e182557435e84a79ced1ea73efa",
              "version_minor": 0,
              "version_major": 2
            },
            "text/plain": [
              "HBox(children=(FloatProgress(value=0.0, max=141.0), HTML(value='')))"
            ]
          },
          "metadata": {
            "tags": []
          }
        },
        {
          "output_type": "stream",
          "text": [
            "Epoch 19: train_loss: 0.1050 train_rmse: 0.3237 | val_loss: 0.1027 val_rmse: 0.3203\n",
            "\n"
          ],
          "name": "stdout"
        }
      ]
    },
    {
      "cell_type": "markdown",
      "metadata": {
        "id": "dg-YyTMzChI7"
      },
      "source": [
        "## Plots"
      ]
    },
    {
      "cell_type": "code",
      "metadata": {
        "id": "SyqjNOfiIFGB",
        "colab": {
          "base_uri": "https://localhost:8080/",
          "height": 281
        },
        "outputId": "8ce6344d-38e1-47b3-91ba-b51c76c20702"
      },
      "source": [
        "#Plot the Learning rate\n",
        "_ = plt.plot(lr[0])\n",
        "_ = plt.title('LR over Epoch (Epoch 0)')"
      ],
      "execution_count": 34,
      "outputs": [
        {
          "output_type": "display_data",
          "data": {
            "image/png": "[encoded data removed]",
            "text/plain": [
              "<Figure size 432x288 with 1 Axes>"
            ]
          },
          "metadata": {
            "tags": [],
            "needs_background": "light"
          }
        }
      ]
    },
    {
      "cell_type": "code",
      "metadata": {
        "id": "Y35tlzFRrCPZ"
      },
      "source": [
        ""
      ],
      "execution_count": 34,
      "outputs": []
    },
    {
      "cell_type": "code",
      "metadata": {
        "id": "4q-a7-Ylp6JN",
        "colab": {
          "base_uri": "https://localhost:8080/",
          "height": 313
        },
        "outputId": "9307d150-de95-4938-e28a-265cb0be7aad"
      },
      "source": [
        "#inspired from: https://nbviewer.jupyter.org/github/FraPochetti/KagglePlaygrounds/blob/master/NYC%20Taxi%20Fares%20Prediction.ipynb \n",
        "# Train VS Validaton Loss\n",
        "\n",
        "t = [np.mean(tloss[el]) for el in tloss]\n",
        "v = [np.mean(vloss[el]) for el in vloss]\n",
        "\n",
        "plt.plot(t, label='Training loss')\n",
        "plt.plot(v, label='Validation loss')\n",
        "plt.title(\"Train VS Validation Loss over Epochs\")\n",
        "plt.xlabel(\"Epochs\")\n",
        "plt.legend(frameon=False)"
      ],
      "execution_count": 35,
      "outputs": [
        {
          "output_type": "execute_result",
          "data": {
            "text/plain": [
              "<matplotlib.legend.Legend at 0x7f53a845e090>"
            ]
          },
          "metadata": {
            "tags": []
          },
          "execution_count": 35
        },
        {
          "output_type": "display_data",
          "data": {
            "image/png": "[encoded data removed]",
            "text/plain": [
              "<Figure size 432x288 with 1 Axes>"
            ]
          },
          "metadata": {
            "tags": [],
            "needs_background": "light"
          }
        }
      ]
    },
    {
      "cell_type": "markdown",
      "metadata": {
        "id": "e0lSOupcxzIZ"
      },
      "source": [
        "# Test "
      ]
    },
    {
      "cell_type": "code",
      "metadata": {
        "id": "_xsc3FhFbsGz",
        "colab": {
          "base_uri": "https://localhost:8080/"
        },
        "outputId": "62ab5ec9-1b61-4df9-ee82-e4c15c89e5f8"
      },
      "source": [
        "df_test.info()"
      ],
      "execution_count": 36,
      "outputs": [
        {
          "output_type": "stream",
          "text": [
            "<class 'pandas.core.frame.DataFrame'>\n",
            "Int64Index: 9987 entries, 90011 to 99998\n",
            "Data columns (total 10 columns):\n",
            " #   Column             Non-Null Count  Dtype   \n",
            "---  ------             --------------  -----   \n",
            " 0   Hour               9987 non-null   category\n",
            " 1   AMorPM             9987 non-null   category\n",
            " 2   Weekday            9987 non-null   category\n",
            " 3   pickup_latitude    9987 non-null   float64 \n",
            " 4   pickup_longitude   9987 non-null   float64 \n",
            " 5   dropoff_latitude   9987 non-null   float64 \n",
            " 6   dropoff_longitude  9987 non-null   float64 \n",
            " 7   passenger_count    9987 non-null   float64 \n",
            " 8   dist_km            9987 non-null   float64 \n",
            " 9   fare_amount        9987 non-null   float64 \n",
            "dtypes: category(3), float64(7)\n",
            "memory usage: 654.7 KB\n"
          ],
          "name": "stdout"
        }
      ]
    },
    {
      "cell_type": "code",
      "metadata": {
        "id": "3nrV9kSilNCS"
      },
      "source": [
        "# divide to cats and conts columns + make them a tensor + to.cuda()\n",
        "\n",
        "df_test_cats = df_test[['Hour', 'AMorPM', 'Weekday']]\n",
        "test_cats = df_test_cats.astype(np.int64)\n",
        "test_cats = torch.tensor(test_cats.values).cuda()\n",
        "\n",
        "df_test_conts = df_test[['pickup_latitude', 'pickup_longitude', 'dropoff_latitude', 'dropoff_longitude', 'passenger_count', 'dist_km']]\n",
        "test_conts = df_test_conts.astype(np.float32)\n",
        "test_conts = torch.tensor(test_conts.values).cuda()"
      ],
      "execution_count": 37,
      "outputs": []
    },
    {
      "cell_type": "code",
      "metadata": {
        "id": "jgYTtfyVxUFJ"
      },
      "source": [
        "# make prediction\n",
        "\n",
        "with torch.no_grad():\n",
        "    model.eval()\n",
        "    output = model.forward(test_cats,test_conts).cuda()"
      ],
      "execution_count": 38,
      "outputs": []
    },
    {
      "cell_type": "code",
      "metadata": {
        "id": "E8Rl4zVZ93ag",
        "colab": {
          "base_uri": "https://localhost:8080/"
        },
        "outputId": "a6c7d820-bff4-4a06-bc3d-c369f9989215"
      },
      "source": [
        "output"
      ],
      "execution_count": 39,
      "outputs": [
        {
          "output_type": "execute_result",
          "data": {
            "text/plain": [
              "tensor([2.4053, 2.4117, 2.5049,  ..., 2.4897, 2.4571, 2.4191], device='cuda:0')"
            ]
          },
          "metadata": {
            "tags": []
          },
          "execution_count": 39
        }
      ]
    },
    {
      "cell_type": "code",
      "metadata": {
        "id": "nw6AZdZXAfv7",
        "colab": {
          "base_uri": "https://localhost:8080/"
        },
        "outputId": "06f7b402-14f5-45d4-fe68-86daf634e354"
      },
      "source": [
        "len(output)"
      ],
      "execution_count": 40,
      "outputs": [
        {
          "output_type": "execute_result",
          "data": {
            "text/plain": [
              "9987"
            ]
          },
          "metadata": {
            "tags": []
          },
          "execution_count": 40
        }
      ]
    },
    {
      "cell_type": "code",
      "metadata": {
        "id": "AFJ9Ny5nAjWA",
        "colab": {
          "base_uri": "https://localhost:8080/"
        },
        "outputId": "ecc0f783-74b1-40fc-ca55-d7746f99f336"
      },
      "source": [
        "type(output)"
      ],
      "execution_count": 41,
      "outputs": [
        {
          "output_type": "execute_result",
          "data": {
            "text/plain": [
              "torch.Tensor"
            ]
          },
          "metadata": {
            "tags": []
          },
          "execution_count": 41
        }
      ]
    },
    {
      "cell_type": "code",
      "metadata": {
        "id": "iLEtdrOoDIBA"
      },
      "source": [
        "# convert to numpy array\n",
        "np_output = output.cpu().numpy()"
      ],
      "execution_count": 42,
      "outputs": []
    },
    {
      "cell_type": "code",
      "metadata": {
        "id": "s4HOvUYIE7jx",
        "colab": {
          "base_uri": "https://localhost:8080/"
        },
        "outputId": "3a5ae386-02e6-49cf-8323-dee53ea91676"
      },
      "source": [
        "type(np_output)"
      ],
      "execution_count": 43,
      "outputs": [
        {
          "output_type": "execute_result",
          "data": {
            "text/plain": [
              "numpy.ndarray"
            ]
          },
          "metadata": {
            "tags": []
          },
          "execution_count": 43
        }
      ]
    },
    {
      "cell_type": "code",
      "metadata": {
        "id": "CKp9G4XTDZNI",
        "colab": {
          "base_uri": "https://localhost:8080/"
        },
        "outputId": "ea7c69d3-f129-4ded-f6b1-804ca5477152"
      },
      "source": [
        "np_output"
      ],
      "execution_count": 44,
      "outputs": [
        {
          "output_type": "execute_result",
          "data": {
            "text/plain": [
              "array([2.4052656, 2.4117434, 2.504948 , ..., 2.4896955, 2.457145 ,\n",
              "       2.4190965], dtype=float32)"
            ]
          },
          "metadata": {
            "tags": []
          },
          "execution_count": 44
        }
      ]
    },
    {
      "cell_type": "code",
      "metadata": {
        "id": "EHo-Vq3AE5zE"
      },
      "source": [
        "#  exp to the output data\n",
        "\n",
        "np_output_exp = np.exp(np_output)"
      ],
      "execution_count": 45,
      "outputs": []
    },
    {
      "cell_type": "code",
      "metadata": {
        "id": "hCeCxOKpFayL",
        "colab": {
          "base_uri": "https://localhost:8080/"
        },
        "outputId": "8d6c9a66-4d9f-47fc-bd5c-97704812c07b"
      },
      "source": [
        "np_output_exp"
      ],
      "execution_count": 46,
      "outputs": [
        {
          "output_type": "execute_result",
          "data": {
            "text/plain": [
              "array([11.081373 , 11.153389 , 12.242921 , ..., 12.057604 , 11.671442 ,\n",
              "       11.2357025], dtype=float32)"
            ]
          },
          "metadata": {
            "tags": []
          },
          "execution_count": 46
        }
      ]
    },
    {
      "cell_type": "code",
      "metadata": {
        "id": "wC-v0WfmCwEw"
      },
      "source": [
        "# CONVERT to pandas data frame \n",
        "\n",
        "df_output =  pd.DataFrame(np_output_exp)"
      ],
      "execution_count": 47,
      "outputs": []
    },
    {
      "cell_type": "code",
      "metadata": {
        "id": "EWeienWcC2t1",
        "colab": {
          "base_uri": "https://localhost:8080/",
          "height": 402
        },
        "outputId": "78d3ed53-a769-4efb-f41c-7ba81ecf6e56"
      },
      "source": [
        "df_output"
      ],
      "execution_count": 48,
      "outputs": [
        {
          "output_type": "execute_result",
          "data": {
            "text/html": [
              "<div>\n",
              "<style scoped>\n",
              "    .dataframe tbody tr th:only-of-type {\n",
              "        vertical-align: middle;\n",
              "    }\n",
              "\n",
              "    .dataframe tbody tr th {\n",
              "        vertical-align: top;\n",
              "    }\n",
              "\n",
              "    .dataframe thead th {\n",
              "        text-align: right;\n",
              "    }\n",
              "</style>\n",
              "<table border=\"1\" class=\"dataframe\">\n",
              "  <thead>\n",
              "    <tr style=\"text-align: right;\">\n",
              "      <th></th>\n",
              "      <th>0</th>\n",
              "    </tr>\n",
              "  </thead>\n",
              "  <tbody>\n",
              "    <tr>\n",
              "      <th>0</th>\n",
              "      <td>11.081373</td>\n",
              "    </tr>\n",
              "    <tr>\n",
              "      <th>1</th>\n",
              "      <td>11.153389</td>\n",
              "    </tr>\n",
              "    <tr>\n",
              "      <th>2</th>\n",
              "      <td>12.242921</td>\n",
              "    </tr>\n",
              "    <tr>\n",
              "      <th>3</th>\n",
              "      <td>11.646379</td>\n",
              "    </tr>\n",
              "    <tr>\n",
              "      <th>4</th>\n",
              "      <td>11.835722</td>\n",
              "    </tr>\n",
              "    <tr>\n",
              "      <th>...</th>\n",
              "      <td>...</td>\n",
              "    </tr>\n",
              "    <tr>\n",
              "      <th>9982</th>\n",
              "      <td>11.988622</td>\n",
              "    </tr>\n",
              "    <tr>\n",
              "      <th>9983</th>\n",
              "      <td>10.960185</td>\n",
              "    </tr>\n",
              "    <tr>\n",
              "      <th>9984</th>\n",
              "      <td>12.057604</td>\n",
              "    </tr>\n",
              "    <tr>\n",
              "      <th>9985</th>\n",
              "      <td>11.671442</td>\n",
              "    </tr>\n",
              "    <tr>\n",
              "      <th>9986</th>\n",
              "      <td>11.235703</td>\n",
              "    </tr>\n",
              "  </tbody>\n",
              "</table>\n",
              "<p>9987 rows × 1 columns</p>\n",
              "</div>"
            ],
            "text/plain": [
              "              0\n",
              "0     11.081373\n",
              "1     11.153389\n",
              "2     12.242921\n",
              "3     11.646379\n",
              "4     11.835722\n",
              "...         ...\n",
              "9982  11.988622\n",
              "9983  10.960185\n",
              "9984  12.057604\n",
              "9985  11.671442\n",
              "9986  11.235703\n",
              "\n",
              "[9987 rows x 1 columns]"
            ]
          },
          "metadata": {
            "tags": []
          },
          "execution_count": 48
        }
      ]
    },
    {
      "cell_type": "code",
      "metadata": {
        "id": "UtBEyhHPKCCO",
        "colab": {
          "base_uri": "https://localhost:8080/"
        },
        "outputId": "81f6f041-dac1-4296-c314-51579a4cc3d3"
      },
      "source": [
        "type(df_output)"
      ],
      "execution_count": 49,
      "outputs": [
        {
          "output_type": "execute_result",
          "data": {
            "text/plain": [
              "pandas.core.frame.DataFrame"
            ]
          },
          "metadata": {
            "tags": []
          },
          "execution_count": 49
        }
      ]
    },
    {
      "cell_type": "code",
      "metadata": {
        "id": "BHl0PIlDH9ZU"
      },
      "source": [
        "#output file\n",
        "\n",
        "df_output.to_csv('submission.csv', index=False)\n"
      ],
      "execution_count": 50,
      "outputs": []
    },
    {
      "cell_type": "code",
      "metadata": {
        "id": "1-y9qE3yIenz"
      },
      "source": [
        "# function that takes in a dataframe and creates a text link to  \n",
        "# download it (will only work for files < 2MB or so)\n",
        "\n",
        "from IPython.display import HTML\n",
        "import base64\n",
        "\n",
        "def create_download_link(df, title = \"Download CSV file\", filename = \"submission.csv\"):  \n",
        "    csv = df.to_csv()\n",
        "    b64 = base64.b64encode(csv.encode())\n",
        "    payload = b64.decode()\n",
        "    html = '<a download=\"{filename}\" href=\"data:text/csv;base64,{payload}\" target=\"_blank\">{title}</a>'\n",
        "    html = html.format(payload=payload,title=title,filename=filename)\n",
        "    return HTML(html)"
      ],
      "execution_count": 51,
      "outputs": []
    },
    {
      "cell_type": "code",
      "metadata": {
        "id": "f_jMDav8I82M",
        "colab": {
          "base_uri": "https://localhost:8080/",
          "height": 34
        },
        "outputId": "9011ad76-2bca-45a9-e899-3b68ab7d1030"
      },
      "source": [
        "# create a link to download the dataframe\n",
        "create_download_link(df_output)"
      ],
      "execution_count": 52,
      "outputs": [
        {
          "output_type": "execute_result",
          "data": {
            "text/html": [
              "<a download=\"submission.csv\" href=\"data:text/csv;base64,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\" target=\"_blank\">Download CSV file</a>"
            ],
            "text/plain": [
              "<IPython.core.display.HTML object>"
            ]
          },
          "metadata": {
            "tags": []
          },
          "execution_count": 52
        }
      ]
    }
  ]
}