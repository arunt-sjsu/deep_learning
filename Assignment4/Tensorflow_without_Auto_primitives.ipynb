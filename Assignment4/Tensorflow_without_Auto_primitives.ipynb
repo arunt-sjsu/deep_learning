{
  "nbformat": 4,
  "nbformat_minor": 0,
  "metadata": {
    "colab": {
      "name": "Tensorflow without Auto primitives.ipynb",
      "provenance": [],
      "authorship_tag": "ABX9TyOtKfJB4JNTjjE2+6C6N1tv",
      "include_colab_link": true
    },
    "kernelspec": {
      "name": "python3",
      "display_name": "Python 3"
    },
    "language_info": {
      "name": "python"
    }
  },
  "cells": [
    {
      "cell_type": "markdown",
      "metadata": {
        "id": "view-in-github",
        "colab_type": "text"
      },
      "source": [
        "<a href=\"https://colab.research.google.com/github/arunt-sjsu/deep_learning/blob/main/Assignment4/Tensorflow_without_Auto_primitives.ipynb\" target=\"_parent\"><img src=\"https://colab.research.google.com/assets/colab-badge.svg\" alt=\"Open In Colab\"/></a>"
      ]
    },
    {
      "cell_type": "markdown",
      "metadata": {
        "id": "b5xIPlzG3SS8"
      },
      "source": [
        "**The Goal of this notebook is to demonstrate tensorflow based linear regression to predict 'a' from the dummy data. This notebook does not use auto primitives**"
      ]
    },
    {
      "cell_type": "code",
      "metadata": {
        "pycharm": {
          "is_executing": false
        },
        "colab": {
          "base_uri": "https://localhost:8080/"
        },
        "id": "0MZhD7LL0JQO",
        "outputId": "d275026a-ea9c-45d5-a99d-40d4b95187a7"
      },
      "source": [
        "%matplotlib inline\n",
        "import numpy as np\n",
        "import pandas as pd\n",
        "import tensorflow as tf\n",
        "print(tf.__version__)"
      ],
      "execution_count": 5,
      "outputs": [
        {
          "output_type": "stream",
          "text": [
            "2.4.1\n"
          ],
          "name": "stdout"
        }
      ]
    },
    {
      "cell_type": "code",
      "metadata": {
        "id": "TBAOrW20yjku"
      },
      "source": [
        "df = pd.DataFrame(np.random.randn(10000, 3)*10, columns=list('xyz'))\n",
        "weights = pd.DataFrame(np.random.randn(10000,1), columns=['weights_a'])\n",
        "weights['weights_b'] = np.random.randn(10000,1)\n",
        "weights['weights_c'] = np.random.randn(10000,1)"
      ],
      "execution_count": 6,
      "outputs": []
    },
    {
      "cell_type": "code",
      "metadata": {
        "id": "UY8qWBP26EwC"
      },
      "source": [
        "df[\"a\"] = 2 * weights['weights_a'] * np.square(df['x']) + 8 * weights['weights_b'] * np.power(df['y'],3) - 3 * df['z'] \n",
        "df[\"b\"] = 3 * weights['weights_a'] * np.square(df['x']) - 5 * weights['weights_b'] * np.square(df['y']) - 2 * weights['weights_c'] * np.power(df['z'],3) "
      ],
      "execution_count": 7,
      "outputs": []
    },
    {
      "cell_type": "code",
      "metadata": {
        "id": "kQy1QTmQKSJB"
      },
      "source": [
        "bin_labels = ['Low', 'Mid', 'High', 'Very High']\n",
        "df['Level_A'] = pd.qcut(df['a'], q=4, labels=bin_labels)\n",
        "df['Level_B'] = pd.qcut(df['b'], q=4, labels=bin_labels)\n"
      ],
      "execution_count": 8,
      "outputs": []
    },
    {
      "cell_type": "code",
      "metadata": {
        "id": "fNw1AvS0ArB3"
      },
      "source": [
        "# Let's use gradient descent to learn the weights and bias that minimizes the loss function.\n",
        "# For this, we need the gradient of the loss function and the gradients of the linear function.\n",
        "\n",
        "class MSE:\n",
        "  def __call__(self, y_pred, y_true):\n",
        "    self.y_pred = y_pred\n",
        "    self.y_true = y_true\n",
        "    return ((y_pred - y_true) ** 2).mean()\n",
        "\n",
        "  def backward(self):\n",
        "    n = self.y_true.shape[0]\n",
        "    self.gradient = 2. * (self.y_pred - self.y_true) / n\n",
        "    # print('MSE backward', self.y_pred.shape, self.y_true.shape, self.gradient.shape)\n",
        "    return self.gradient\n",
        "\n",
        "\n",
        "class Linear:\n",
        "  def __init__(self, input_dim: int, num_hidden: int = 1):\n",
        "    self.weights = np.random.randn(input_dim, num_hidden) * np.sqrt(2. / input_dim)\n",
        "    self.bias = np.zeros(num_hidden)\n",
        "  \n",
        "  def __call__(self, x):\n",
        "    self.x = x\n",
        "    output = x @ self.weights + self.bias\n",
        "    return output\n",
        "\n",
        "  def backward(self, gradient):\n",
        "    self.weights_gradient = self.x.T @ gradient\n",
        "    self.bias_gradient = gradient.sum(axis=0)\n",
        "    self.x_gradient = gradient @ self.weights.T\n",
        "    return self.x_gradient\n",
        "\n",
        "  def update(self, lr):\n",
        "    self.weights = self.weights - lr * self.weights_gradient\n",
        "    self.bias = self.bias - lr * self.bias_gradient"
      ],
      "execution_count": 11,
      "outputs": []
    },
    {
      "cell_type": "code",
      "metadata": {
        "id": "RWqEaOWqNbwV",
        "colab": {
          "base_uri": "https://localhost:8080/"
        },
        "outputId": "01c78734-4889-46e9-fb13-5d27a15304b3"
      },
      "source": [
        "d = 3\n",
        "x = df[[\"x\",\"y\",\"z\"]]\n",
        "bias_true = np.array([0.5])\n",
        "print(x.shape, bias_true.shape)"
      ],
      "execution_count": 21,
      "outputs": [
        {
          "output_type": "stream",
          "text": [
            "(10000, 3) (1,)\n"
          ],
          "name": "stdout"
        }
      ]
    },
    {
      "cell_type": "code",
      "metadata": {
        "id": "pZwGG7rAUJfe",
        "colab": {
          "base_uri": "https://localhost:8080/"
        },
        "outputId": "43b37ec7-95c3-4bbf-8b66-f549e45b5b32"
      },
      "source": [
        "loss = MSE()\n",
        "linear = Linear(3)\n",
        "y_pred = linear(x)\n",
        "print(loss(y_pred, y_true))"
      ],
      "execution_count": 22,
      "outputs": [
        {
          "output_type": "stream",
          "text": [
            "0    763.169197\n",
            "dtype: float64\n"
          ],
          "name": "stdout"
        }
      ]
    },
    {
      "cell_type": "code",
      "metadata": {
        "id": "ZydPQYKIUtNT",
        "colab": {
          "base_uri": "https://localhost:8080/"
        },
        "outputId": "10cc93a4-e894-4d02-915e-4fc27e586cf8"
      },
      "source": [
        "from typing import Callable\n",
        "\n",
        "def fit(x: np.ndarray, y: np.ndarray, model: Callable, loss: Callable, lr: float, num_epochs: int):\n",
        "  for epoch in range(num_epochs):\n",
        "    y_pred = model(x)\n",
        "    loss_value = loss(y_pred, y)\n",
        "    print(f'Epoch {epoch}, loss {loss_value}')\n",
        "    gradient_from_loss = loss.backward()\n",
        "    model.backward(gradient_from_loss)\n",
        "    model.update(lr)\n",
        "\n",
        "fit(x, y_true, model=linear, loss=loss, lr=0.1, num_epochs=20)"
      ],
      "execution_count": 23,
      "outputs": [
        {
          "output_type": "stream",
          "text": [
            "Epoch 0, loss 0    763.169197\n",
            "dtype: float64\n",
            "Epoch 1, loss 0    280043.140618\n",
            "dtype: float64\n",
            "Epoch 2, loss 0    1.028788e+08\n",
            "dtype: float64\n",
            "Epoch 3, loss 0    3.782597e+10\n",
            "dtype: float64\n",
            "Epoch 4, loss 0    1.391955e+13\n",
            "dtype: float64\n",
            "Epoch 5, loss 0    5.126714e+15\n",
            "dtype: float64\n",
            "Epoch 6, loss 0    1.889904e+18\n",
            "dtype: float64\n",
            "Epoch 7, loss 0    6.973241e+20\n",
            "dtype: float64\n",
            "Epoch 8, loss 0    2.575316e+23\n",
            "dtype: float64\n",
            "Epoch 9, loss 0    9.519930e+25\n",
            "dtype: float64\n",
            "Epoch 10, loss 0    3.522494e+28\n",
            "dtype: float64\n",
            "Epoch 11, loss 0    1.304624e+31\n",
            "dtype: float64\n",
            "Epoch 12, loss 0    4.836642e+33\n",
            "dtype: float64\n",
            "Epoch 13, loss 0    1.794857e+36\n",
            "dtype: float64\n",
            "Epoch 14, loss 0    6.667246e+38\n",
            "dtype: float64\n",
            "Epoch 15, loss 0    2.479115e+41\n",
            "dtype: float64\n",
            "Epoch 16, loss 0    9.227460e+43\n",
            "dtype: float64\n",
            "Epoch 17, loss 0    3.437988e+46\n",
            "dtype: float64\n",
            "Epoch 18, loss 0    1.282223e+49\n",
            "dtype: float64\n",
            "Epoch 19, loss 0    4.786959e+51\n",
            "dtype: float64\n"
          ],
          "name": "stdout"
        }
      ]
    }
  ]
}