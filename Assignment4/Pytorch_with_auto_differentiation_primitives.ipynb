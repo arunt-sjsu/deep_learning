{
  "nbformat": 4,
  "nbformat_minor": 0,
  "metadata": {
    "kernelspec": {
      "display_name": "Python 3",
      "language": "python",
      "name": "python3"
    },
    "language_info": {
      "codemirror_mode": {
        "name": "ipython",
        "version": 3
      },
      "file_extension": ".py",
      "mimetype": "text/x-python",
      "name": "python",
      "nbconvert_exporter": "python",
      "pygments_lexer": "ipython3",
      "version": "3.7.6"
    },
    "colab": {
      "name": "Pytorch with auto differentiation primitives.ipynb",
      "provenance": [],
      "include_colab_link": true
    }
  },
  "cells": [
    {
      "cell_type": "markdown",
      "metadata": {
        "id": "view-in-github",
        "colab_type": "text"
      },
      "source": [
        "<a href=\"https://colab.research.google.com/github/arunt-sjsu/deep_learning/blob/main/Assignment4/Pytorch_with_auto_differentiation_primitives.ipynb\" target=\"_parent\"><img src=\"https://colab.research.google.com/assets/colab-badge.svg\" alt=\"Open In Colab\"/></a>"
      ]
    },
    {
      "cell_type": "markdown",
      "metadata": {
        "id": "NU-1emXs33pF"
      },
      "source": [
        "**The Goal of this notebook is to demonstrate pytorch based linear regression to predict 'a' from the dummy data. This notebook does uses auto differentiation primitives and the results are eventually plotted**\n"
      ]
    },
    {
      "cell_type": "code",
      "metadata": {
        "pycharm": {
          "is_executing": false
        },
        "id": "7EGa9mnYKbQc"
      },
      "source": [
        "%matplotlib inline\n",
        "import numpy as np\n",
        "import torch\n",
        "from torch.autograd import Variable\n",
        "import pandas as pd\n",
        "torch.set_printoptions(edgeitems=2, linewidth=75)"
      ],
      "execution_count": 30,
      "outputs": []
    },
    {
      "cell_type": "code",
      "metadata": {
        "id": "TBAOrW20yjku"
      },
      "source": [
        "df = pd.DataFrame(np.random.randn(10000, 3)*10, columns=list('xyz'))\n",
        "weights = pd.DataFrame(np.random.randn(10000,1), columns=['weights_a'])\n",
        "weights['weights_b'] = np.random.randn(10000,1)\n",
        "weights['weights_c'] = np.random.randn(10000,1)"
      ],
      "execution_count": 4,
      "outputs": []
    },
    {
      "cell_type": "code",
      "metadata": {
        "id": "UY8qWBP26EwC"
      },
      "source": [
        "df[\"a\"] = 2 * weights['weights_a'] * np.square(df['x']) + 8 * weights['weights_b'] * np.power(df['y'],3) - 3 * df['z'] \n",
        "df[\"b\"] = 3 * weights['weights_a'] * np.square(df['x']) - 5 * weights['weights_b'] * np.square(df['y']) - 2 * weights['weights_c'] * np.power(df['z'],3) "
      ],
      "execution_count": 5,
      "outputs": []
    },
    {
      "cell_type": "code",
      "metadata": {
        "id": "kQy1QTmQKSJB"
      },
      "source": [
        "bin_labels = ['Low', 'Mid', 'High', 'Very High']\n",
        "df['Level_A'] = pd.qcut(df['a'], q=4, labels=bin_labels)\n",
        "df['Level_B'] = pd.qcut(df['b'], q=4, labels=bin_labels)\n"
      ],
      "execution_count": 6,
      "outputs": []
    },
    {
      "cell_type": "code",
      "metadata": {
        "pycharm": {
          "is_executing": false
        },
        "id": "NIieXkhCKbQj"
      },
      "source": [
        "t_c = torch.tensor(df[\"a\"])\n",
        "t_u = torch.tensor(df[\"x\"])\n",
        "t_v = torch.tensor(df[\"y\"])\n",
        "t_w = torch.tensor(df[\"z\"])\n",
        "t_un = 0.1 * t_u\n",
        "t_vn = 0.1 * t_v\n",
        "t_wn = 0.1 * t_w"
      ],
      "execution_count": 21,
      "outputs": []
    },
    {
      "cell_type": "code",
      "metadata": {
        "id": "DSHw-JAoc3o_"
      },
      "source": [
        "def model(t_u,t_v,t_w, w1 ,w2 ,w3, b):\n",
        "    return w1 * t_u + w2 * t_v + w3 * t_w + b"
      ],
      "execution_count": 22,
      "outputs": []
    },
    {
      "cell_type": "code",
      "metadata": {
        "id": "wN3BWi3Bc3o_"
      },
      "source": [
        "def loss_fn(t_p, t_c):\n",
        "    squared_diffs = Va(t_p - t_c)**2\n",
        "    return squared_diffs.mean()"
      ],
      "execution_count": 23,
      "outputs": []
    },
    {
      "cell_type": "code",
      "metadata": {
        "colab": {
          "base_uri": "https://localhost:8080/"
        },
        "id": "AZbh7JTQc3o_",
        "outputId": "67a58bd4-4892-4e8f-c427-55295cde6c99"
      },
      "source": [
        "import torch.optim as optim\n",
        "\n",
        "dir(optim)"
      ],
      "execution_count": 24,
      "outputs": [
        {
          "output_type": "execute_result",
          "data": {
            "text/plain": [
              "['ASGD',\n",
              " 'Adadelta',\n",
              " 'Adagrad',\n",
              " 'Adam',\n",
              " 'AdamW',\n",
              " 'Adamax',\n",
              " 'LBFGS',\n",
              " 'Optimizer',\n",
              " 'RMSprop',\n",
              " 'Rprop',\n",
              " 'SGD',\n",
              " 'SparseAdam',\n",
              " '__builtins__',\n",
              " '__cached__',\n",
              " '__doc__',\n",
              " '__file__',\n",
              " '__loader__',\n",
              " '__name__',\n",
              " '__package__',\n",
              " '__path__',\n",
              " '__spec__',\n",
              " '_functional',\n",
              " '_multi_tensor',\n",
              " 'lr_scheduler',\n",
              " 'swa_utils']"
            ]
          },
          "metadata": {
            "tags": []
          },
          "execution_count": 24
        }
      ]
    },
    {
      "cell_type": "code",
      "metadata": {
        "id": "x6gv3V9ac3pA"
      },
      "source": [
        "params = torch.tensor([1.0,1.0,1.0, 0.0], requires_grad=True)\n",
        "learning_rate = 1e-5\n",
        "optimizer = optim.SGD([params], lr=learning_rate)"
      ],
      "execution_count": 25,
      "outputs": []
    },
    {
      "cell_type": "code",
      "metadata": {
        "colab": {
          "base_uri": "https://localhost:8080/"
        },
        "id": "ZUSFDbTgc3pB",
        "outputId": "ac814743-0217-4398-dc25-43666ccc10f3"
      },
      "source": [
        "w1 = torch.ones(())\n",
        "w2 = torch.ones(())\n",
        "w3 = torch.ones(())\n",
        "b = torch.zeros(())\n",
        "\n",
        "t_p = model(t_u,t_v,t_w, w1 ,w2 ,w3, b)\n",
        "\n",
        "loss = Variable(loss_fn(t_p, t_c), requires_grad = True)\n",
        "loss.backward()\n",
        "\n",
        "optimizer.step()\n",
        "\n",
        "params"
      ],
      "execution_count": 31,
      "outputs": [
        {
          "output_type": "execute_result",
          "data": {
            "text/plain": [
              "tensor([1., 1., 1., 0.], requires_grad=True)"
            ]
          },
          "metadata": {
            "tags": []
          },
          "execution_count": 31
        }
      ]
    },
    {
      "cell_type": "code",
      "metadata": {
        "colab": {
          "base_uri": "https://localhost:8080/"
        },
        "id": "sDyoxPdcc3pB",
        "outputId": "b0a0bcd8-f9ae-47a0-8d68-59e84563a615"
      },
      "source": [
        "params = torch.tensor([1.0,1.0,1.0, 0.0], requires_grad=True)\n",
        "learning_rate = 1e-2\n",
        "optimizer = optim.SGD([params], lr=learning_rate)\n",
        "\n",
        "t_p = model(t_u,t_v,t_w, w1 ,w2 ,w3, b)\n",
        "loss = Variable(loss_fn(t_p, t_c), requires_grad = True)\n",
        "\n",
        "optimizer.zero_grad() # <1>\n",
        "loss.backward()\n",
        "optimizer.step()\n",
        "\n",
        "params"
      ],
      "execution_count": 33,
      "outputs": [
        {
          "output_type": "execute_result",
          "data": {
            "text/plain": [
              "tensor([1., 1., 1., 0.], requires_grad=True)"
            ]
          },
          "metadata": {
            "tags": []
          },
          "execution_count": 33
        }
      ]
    },
    {
      "cell_type": "code",
      "metadata": {
        "id": "cGjYBweic3pC"
      },
      "source": [
        "def training_loop(n_epochs, optimizer, params,  t_u,t_v,t_w, t_c):\n",
        "    for epoch in range(1, n_epochs + 1):\n",
        "      w1,w2,w3, b = params\n",
        "      t_p = model(t_u,t_v,t_w, w1 ,w2 ,w3, b)\n",
        "      loss = loss_fn(t_p, t_c)\n",
        "        \n",
        "      optimizer.zero_grad()\n",
        "      loss.backward()\n",
        "      optimizer.step()\n",
        "\n",
        "      if epoch % 500 == 0:\n",
        "        print('Epoch %d, Loss %f' % (epoch, float(loss)))\n",
        "    return params"
      ],
      "execution_count": 36,
      "outputs": []
    },
    {
      "cell_type": "code",
      "metadata": {
        "colab": {
          "base_uri": "https://localhost:8080/"
        },
        "id": "OQNLORd1c3pC",
        "outputId": "8b7717e1-c412-40fb-cd08-3e9bd098bd00"
      },
      "source": [
        "params = torch.tensor([1.0,1.0,1.0, 0.0], requires_grad=True)\n",
        "learning_rate = 1e-2\n",
        "optimizer = optim.SGD([params], lr=learning_rate) # <1>\n",
        "\n",
        "training_loop(\n",
        "    n_epochs = 5000, \n",
        "    optimizer = optimizer,\n",
        "    params = params,\n",
        "    t_u = t_un,\n",
        "    t_v = t_vn,\n",
        "    t_w = t_wn,\n",
        "    t_c = t_c)"
      ],
      "execution_count": 38,
      "outputs": [
        {
          "output_type": "stream",
          "text": [
            "Epoch 500, Loss 791348308.293187\n",
            "Epoch 1000, Loss 791348308.281718\n",
            "Epoch 1500, Loss 791348308.281718\n",
            "Epoch 2000, Loss 791348308.281718\n",
            "Epoch 2500, Loss 791348308.281718\n",
            "Epoch 3000, Loss 791348308.281718\n",
            "Epoch 3500, Loss 791348308.281718\n",
            "Epoch 4000, Loss 791348308.281718\n",
            "Epoch 4500, Loss 791348308.281718\n",
            "Epoch 5000, Loss 791348308.281718\n"
          ],
          "name": "stdout"
        },
        {
          "output_type": "execute_result",
          "data": {
            "text/plain": [
              "tensor([ 384.3183, 2255.9260,  106.2089,  -69.7810], requires_grad=True)"
            ]
          },
          "metadata": {
            "tags": []
          },
          "execution_count": 38
        }
      ]
    },
    {
      "cell_type": "code",
      "metadata": {
        "colab": {
          "base_uri": "https://localhost:8080/"
        },
        "id": "GDo1g2nFc3pC",
        "outputId": "0f629eaa-07b4-4973-9332-d0e9e975373a"
      },
      "source": [
        "params = torch.tensor([1.0,1.0,1.0, 0.0], requires_grad=True)\n",
        "learning_rate = 1e-1\n",
        "optimizer = optim.Adam([params], lr=learning_rate) # <1>\n",
        "\n",
        "training_loop(\n",
        "    n_epochs = 2000, \n",
        "    optimizer = optimizer,\n",
        "    params = params, \n",
        "    t_u = t_u, \n",
        "    t_v = t_v, \n",
        "    t_w = t_w, \n",
        "    t_c = t_c)"
      ],
      "execution_count": 40,
      "outputs": [
        {
          "output_type": "stream",
          "text": [
            "Epoch 500, Loss 794456882.287282\n",
            "Epoch 1000, Loss 793154206.754855\n",
            "Epoch 1500, Loss 792307899.915300\n",
            "Epoch 2000, Loss 791799266.543073\n"
          ],
          "name": "stdout"
        },
        {
          "output_type": "execute_result",
          "data": {
            "text/plain": [
              "tensor([ 38.3066, 158.0980,  10.6942, -77.2065], requires_grad=True)"
            ]
          },
          "metadata": {
            "tags": []
          },
          "execution_count": 40
        }
      ]
    },
    {
      "cell_type": "code",
      "metadata": {
        "colab": {
          "base_uri": "https://localhost:8080/"
        },
        "id": "lHoJFInfc3pD",
        "outputId": "0684ef5f-d7a7-4c5f-c037-1f1ea854465e"
      },
      "source": [
        "n_samples = t_u.shape[0]\n",
        "n_val = int(0.2 * n_samples)\n",
        "\n",
        "shuffled_indices = torch.randperm(n_samples)\n",
        "\n",
        "train_indices = shuffled_indices[:-n_val]\n",
        "val_indices = shuffled_indices[-n_val:]\n",
        "\n",
        "train_indices, val_indices  # <1>"
      ],
      "execution_count": 41,
      "outputs": [
        {
          "output_type": "execute_result",
          "data": {
            "text/plain": [
              "(tensor([8408, 6447,  ...,  791, 9913]),\n",
              " tensor([4458, 5702,  ..., 6559, 9523]))"
            ]
          },
          "metadata": {
            "tags": []
          },
          "execution_count": 41
        }
      ]
    },
    {
      "cell_type": "code",
      "metadata": {
        "id": "E0QLBtgBc3pD"
      },
      "source": [
        "train_t_u = t_u[train_indices]\n",
        "train_t_v = t_v[train_indices]\n",
        "train_t_w = t_w[train_indices]\n",
        "train_t_c = t_c[train_indices]\n",
        "\n",
        "val_t_u = t_u[val_indices]\n",
        "val_t_v = t_v[val_indices]\n",
        "val_t_w = t_w[val_indices]\n",
        "val_t_c = t_c[val_indices]"
      ],
      "execution_count": 42,
      "outputs": []
    },
    {
      "cell_type": "code",
      "metadata": {
        "id": "6juTx54vc3pD"
      },
      "source": [
        "def training_loop(n_epochs, optimizer, params, train_t_u, val_t_u,\n",
        "                  train_t_v, val_t_v,\n",
        "                  train_t_w, val_t_w,\n",
        "                  train_t_c, val_t_c):\n",
        "    for epoch in range(1, n_epochs + 1):\n",
        "        train_t_p = model(train_t_u,train_t_v, train_t_w,  *params)\n",
        "        train_loss = loss_fn(train_t_p, train_t_c)\n",
        "                             \n",
        "        val_t_p = model(val_t_u, val_t_v, val_t_w, *params) # <1>\n",
        "        val_loss = loss_fn(val_t_p, val_t_c)\n",
        "        \n",
        "        optimizer.zero_grad()\n",
        "        train_loss.backward() # <2>\n",
        "        optimizer.step()\n",
        "\n",
        "        if epoch <= 3 or epoch % 500 == 0:\n",
        "            print(f\"Epoch {epoch}, Training loss {train_loss.item():.4f},\"\n",
        "                  f\" Validation loss {val_loss.item():.4f}\")\n",
        "            \n",
        "    return params"
      ],
      "execution_count": 43,
      "outputs": []
    },
    {
      "cell_type": "code",
      "metadata": {
        "colab": {
          "base_uri": "https://localhost:8080/"
        },
        "id": "qPJ7Zjwoc3pE",
        "outputId": "e12afd4d-4c94-4650-c1d6-a430c35943a0"
      },
      "source": [
        "params = torch.tensor([1.0,1.0,1.0, 0.0], requires_grad=True)\n",
        "learning_rate = 1e-2\n",
        "optimizer = optim.SGD([params], lr=learning_rate)\n",
        "\n",
        "training_loop(\n",
        "    n_epochs = 1000, \n",
        "    optimizer = optimizer,\n",
        "    params = params,\n",
        "    train_t_u = train_t_u,  \n",
        "    val_t_u = val_t_u, \n",
        "    train_t_v = train_t_v,  \n",
        "    val_t_v = val_t_v, \n",
        "    train_t_w = train_t_w,  \n",
        "    val_t_w = val_t_w, \n",
        "    train_t_c = train_t_c,\n",
        "    val_t_c = val_t_c)"
      ],
      "execution_count": 47,
      "outputs": [
        {
          "output_type": "stream",
          "text": [
            "Epoch 1, Training loss 784069871.2835, Validation loss 846163619.4170\n",
            "Epoch 2, Training loss 783854168.7692, Validation loss 864916334.7080\n",
            "Epoch 3, Training loss 783648497.7165, Validation loss 846087321.3424\n",
            "Epoch 500, Training loss 66368545160876711936.0000, Validation loss 64524931872558784512.0000\n",
            "Epoch 1000, Training loss 19299226125442052373222334840963072.0000, Validation loss 18763124391034684638428554015539200.0000\n"
          ],
          "name": "stdout"
        },
        {
          "output_type": "execute_result",
          "data": {
            "text/plain": [
              "tensor([-1.2660e+16, -7.9494e+14, -6.4756e+15, -2.9895e+13],\n",
              "       requires_grad=True)"
            ]
          },
          "metadata": {
            "tags": []
          },
          "execution_count": 47
        }
      ]
    },
    {
      "cell_type": "code",
      "metadata": {
        "id": "mAwDQTWqc3pE"
      },
      "source": [
        "def training_loop(n_epochs, optimizer, params, train_t_u, val_t_u,\n",
        "                  train_t_v, val_t_v, train_t_w, val_t_w,\n",
        "                  train_t_c, val_t_c):\n",
        "                  for epoch in range(1, n_epochs + 1):\n",
        "                    train_t_p = model(train_t_u,train_t_v, train_t_w,  *params)\n",
        "                    train_loss = loss_fn(train_t_p, train_t_c)\n",
        "                                        \n",
        "                    with torch.no_grad(): # <1>\n",
        "                        val_t_p = model(val_t_u, val_t_v, val_t_w, *params) # <1>\n",
        "                        val_loss = loss_fn(val_t_p, val_t_c)\n",
        "                        assert val_loss.requires_grad == False # <2>\n",
        "                        \n",
        "                    optimizer.zero_grad()\n",
        "                    train_loss.backward()\n",
        "                    optimizer.step()"
      ],
      "execution_count": 51,
      "outputs": []
    },
    {
      "cell_type": "code",
      "metadata": {
        "id": "pgI_KeZtc3pE"
      },
      "source": [
        "def calc_forward(t_u,t_v,t_w, t_c, is_train):\n",
        "    with torch.set_grad_enabled(is_train):\n",
        "        t_p = model(t_u,t_v,t_w, t_c, *params)\n",
        "        loss = loss_fn(t_p, t_c)\n",
        "    return loss"
      ],
      "execution_count": 52,
      "outputs": []
    },
    {
      "cell_type": "code",
      "metadata": {
        "colab": {
          "base_uri": "https://localhost:8080/",
          "height": 297
        },
        "id": "h4zzqMcfyJWJ",
        "outputId": "40011073-75b0-4e40-e0c7-9b8a8dcfc0f1"
      },
      "source": [
        "%matplotlib inline\n",
        "from matplotlib import pyplot as plt\n",
        "\n",
        "t_p = model(t_u,t_v,t_w, w1 ,w2 ,w3, b)\n",
        "\n",
        "fig = plt.figure()\n",
        "plt.xlabel(\"Actual\")\n",
        "plt.ylabel(\"Predicted\")\n",
        "plt.plot(t_c.numpy(), t_p.detach().numpy())"
      ],
      "execution_count": 53,
      "outputs": [
        {
          "output_type": "execute_result",
          "data": {
            "text/plain": [
              "[<matplotlib.lines.Line2D at 0x7f14daccf710>]"
            ]
          },
          "metadata": {
            "tags": []
          },
          "execution_count": 53
        },
        {
          "output_type": "display_data",
          "data": {
            "image/png": "[encoded data removed]",
            "text/plain": [
              "<Figure size 432x288 with 1 Axes>"
            ]
          },
          "metadata": {
            "tags": [],
            "needs_background": "light"
          }
        }
      ]
    }
  ]
}