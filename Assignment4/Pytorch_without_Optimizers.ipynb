{
  "nbformat": 4,
  "nbformat_minor": 0,
  "metadata": {
    "colab": {
      "name": "Pytorch without Optimizers.ipynb",
      "provenance": [],
      "authorship_tag": "ABX9TyPscEOCgr2BTJDvQbaKP2z5",
      "include_colab_link": true
    },
    "kernelspec": {
      "name": "python3",
      "display_name": "Python 3"
    },
    "language_info": {
      "name": "python"
    }
  },
  "cells": [
    {
      "cell_type": "markdown",
      "metadata": {
        "id": "view-in-github",
        "colab_type": "text"
      },
      "source": [
        "<a href=\"https://colab.research.google.com/github/arunt-sjsu/deep_learning/blob/main/Assignment4/Pytorch_without_Optimizers.ipynb\" target=\"_parent\"><img src=\"https://colab.research.google.com/assets/colab-badge.svg\" alt=\"Open In Colab\"/></a>"
      ]
    },
    {
      "cell_type": "markdown",
      "metadata": {
        "id": "lt5tXqRh4F5v"
      },
      "source": [
        "**The Goal of this notebook is to demonstrate pytorch based linear regression to predict 'a' from the dummy data. This notebook does not use auto differentiation primitives or optimizers and the results are eventually plotted**\n"
      ]
    },
    {
      "cell_type": "code",
      "metadata": {
        "pycharm": {
          "is_executing": false
        },
        "id": "7EGa9mnYKbQc"
      },
      "source": [
        "%matplotlib inline\n",
        "import numpy as np\n",
        "import torch\n",
        "import pandas as pd\n",
        "torch.set_printoptions(edgeitems=2, linewidth=75)"
      ],
      "execution_count": null,
      "outputs": []
    },
    {
      "cell_type": "code",
      "metadata": {
        "id": "TBAOrW20yjku"
      },
      "source": [
        "df = pd.DataFrame(np.random.randn(10000, 3)*10, columns=list('xyz'))\n",
        "weights = pd.DataFrame(np.random.randn(10000,1), columns=['weights_a'])\n",
        "weights['weights_b'] = np.random.randn(10000,1)\n",
        "weights['weights_c'] = np.random.randn(10000,1)"
      ],
      "execution_count": null,
      "outputs": []
    },
    {
      "cell_type": "code",
      "metadata": {
        "id": "UY8qWBP26EwC"
      },
      "source": [
        "df[\"a\"] = 2 * weights['weights_a'] * np.square(df['x']) + 8 * weights['weights_b'] * np.power(df['y'],3) - 3 * df['z'] \n",
        "df[\"b\"] = 3 * weights['weights_a'] * np.square(df['x']) - 5 * weights['weights_b'] * np.square(df['y']) - 2 * weights['weights_c'] * np.power(df['z'],3) "
      ],
      "execution_count": null,
      "outputs": []
    },
    {
      "cell_type": "code",
      "metadata": {
        "id": "kQy1QTmQKSJB"
      },
      "source": [
        "bin_labels = ['Low', 'Mid', 'High', 'Very High']\n",
        "df['Level_A'] = pd.qcut(df['a'], q=4, labels=bin_labels)\n",
        "df['Level_B'] = pd.qcut(df['b'], q=4, labels=bin_labels)\n"
      ],
      "execution_count": null,
      "outputs": []
    },
    {
      "cell_type": "code",
      "metadata": {
        "pycharm": {
          "is_executing": false
        },
        "id": "NIieXkhCKbQj"
      },
      "source": [
        "t_c = torch.tensor(df[\"a\"])\n",
        "t_u = torch.tensor(df[\"x\"])\n",
        "t_v = torch.tensor(df[\"y\"])\n",
        "t_w = torch.tensor(df[\"z\"])\n",
        "t_un = 0.1 * t_u\n",
        "t_vn = 0.1 * t_v\n",
        "t_wn = 0.1 * t_w"
      ],
      "execution_count": null,
      "outputs": []
    },
    {
      "cell_type": "code",
      "metadata": {
        "pycharm": {
          "is_executing": false
        },
        "id": "NDnGqILyKbQj"
      },
      "source": [
        "def model(t_u,t_v,t_w, w1 ,w2 ,w3, b):\n",
        "    return w1 * t_u + w2 * t_v + w3 * t_w + b"
      ],
      "execution_count": null,
      "outputs": []
    },
    {
      "cell_type": "code",
      "metadata": {
        "pycharm": {
          "is_executing": false
        },
        "id": "CchLZ5S3KbQk"
      },
      "source": [
        "def loss_fn(t_p, t_c):\n",
        "    squared_diffs = (t_p - t_c)**2\n",
        "    return squared_diffs.mean()"
      ],
      "execution_count": null,
      "outputs": []
    },
    {
      "cell_type": "code",
      "metadata": {
        "pycharm": {
          "is_executing": false
        },
        "id": "zVm-6lZDKbQk",
        "colab": {
          "base_uri": "https://localhost:8080/"
        },
        "outputId": "d60c44c2-c5e4-4d86-dba5-7b8a9f37412e"
      },
      "source": [
        "w1 = torch.ones(())\n",
        "w2 = torch.ones(())\n",
        "w3 = torch.zeros(())\n",
        "b = torch.zeros(())\n",
        "\n",
        "t_p = model(t_u,t_v,t_w, w1 ,w2 ,w3, b)\n",
        "t_p"
      ],
      "execution_count": null,
      "outputs": [
        {
          "output_type": "execute_result",
          "data": {
            "text/plain": [
              "tensor([ -8.5613, -20.4256,  ..., -11.1297,  27.1331],\n",
              "       dtype=torch.float64)"
            ]
          },
          "metadata": {
            "tags": []
          },
          "execution_count": 15
        }
      ]
    },
    {
      "cell_type": "code",
      "metadata": {
        "pycharm": {
          "is_executing": false
        },
        "id": "nW-WX0eNKbQl",
        "colab": {
          "base_uri": "https://localhost:8080/"
        },
        "outputId": "14d827f7-20cc-47f0-99b9-b72f2511a4e9"
      },
      "source": [
        "loss = loss_fn(t_p, t_c)\n",
        "loss"
      ],
      "execution_count": null,
      "outputs": [
        {
          "output_type": "execute_result",
          "data": {
            "text/plain": [
              "tensor(9.3306e+08, dtype=torch.float64)"
            ]
          },
          "metadata": {
            "tags": []
          },
          "execution_count": 16
        }
      ]
    },
    {
      "cell_type": "code",
      "metadata": {
        "pycharm": {
          "is_executing": false
        },
        "id": "qGGP41gCKbQm"
      },
      "source": [
        "delta = 0.1\n",
        "\n",
        "loss_rate_of_change_w = (loss_fn(model(t_u,t_v,t_w, w1+delta ,w2+delta ,w3+delta, b), t_c) -  loss_fn(model(t_u,t_v,t_w, w1-delta ,w2-delta ,w3-delta, b), t_c)) / (2.0 * delta)"
      ],
      "execution_count": null,
      "outputs": []
    },
    {
      "cell_type": "code",
      "metadata": {
        "pycharm": {
          "is_executing": false
        },
        "id": "XPt7UkeZKbQn"
      },
      "source": [
        "learning_rate = 1e-2\n",
        "\n",
        "w1 = w1 - learning_rate * loss_rate_of_change_w\n",
        "w2 = w2 - learning_rate * loss_rate_of_change_w\n",
        "w3 = w3 - learning_rate * loss_rate_of_change_w"
      ],
      "execution_count": null,
      "outputs": []
    },
    {
      "cell_type": "code",
      "metadata": {
        "pycharm": {
          "is_executing": false
        },
        "id": "nDwGrrmwKbQn"
      },
      "source": [
        "loss_rate_of_change_b = (loss_fn(model(t_u,t_v,t_w, w1 ,w2 ,w3, b + delta), t_c) - loss_fn(model(t_u,t_v,t_w, w1 ,w2 ,w3, b - delta), t_c)) / (2.0 * delta)\n",
        "\n",
        "b = b - learning_rate * loss_rate_of_change_b"
      ],
      "execution_count": null,
      "outputs": []
    },
    {
      "cell_type": "code",
      "metadata": {
        "pycharm": {
          "is_executing": false
        },
        "id": "uZ5k6wc2KbQo"
      },
      "source": [
        "def dloss_fn(t_p, t_c):\n",
        "    dsq_diffs = 2 * (t_p - t_c) / t_p.size(0)  \n",
        "    return dsq_diffs"
      ],
      "execution_count": null,
      "outputs": []
    },
    {
      "cell_type": "code",
      "metadata": {
        "pycharm": {
          "is_executing": false
        },
        "id": "k9CJkgOnKbQo"
      },
      "source": [
        "def dmodel_dw1(t_u, w1, b):\n",
        "    return t_u\n",
        "\n",
        "def dmodel_dw2(t_v, w2, b):\n",
        "    return t_v\n",
        "\n",
        "def dmodel_dw3(t_w, w3, b):\n",
        "    return t_w"
      ],
      "execution_count": null,
      "outputs": []
    },
    {
      "cell_type": "code",
      "metadata": {
        "pycharm": {
          "is_executing": false
        },
        "id": "GuIWqCQCKbQo"
      },
      "source": [
        "def dmodel_db():\n",
        "    return 1.0"
      ],
      "execution_count": null,
      "outputs": []
    },
    {
      "cell_type": "code",
      "metadata": {
        "pycharm": {
          "is_executing": false
        },
        "id": "86VCQq3sKbQp"
      },
      "source": [
        "def grad_fn(t_u,t_v,t_w, t_c, t_p, w1,w2,w3, b):\n",
        "    dloss_dtp = dloss_fn(t_p, t_c)\n",
        "    dloss_dw1 = dloss_dtp * dmodel_dw1(t_u, w1, b)  \n",
        "    dloss_dw2 = dloss_dtp * dmodel_dw2(t_v, w2, b)  \n",
        "    dloss_dw3 = dloss_dtp * dmodel_dw3(t_w, w3, b) \n",
        "    dloss_db = dloss_dtp * dmodel_db()\n",
        "    return torch.stack([dloss_dw1.sum(),dloss_dw2.sum(),dloss_dw3.sum(), dloss_db.sum()])  # <1>"
      ],
      "execution_count": null,
      "outputs": []
    },
    {
      "cell_type": "code",
      "metadata": {
        "pycharm": {
          "is_executing": false
        },
        "id": "5TGCfZFoKbQp"
      },
      "source": [
        "def training_loop(n_epochs, learning_rate, params, t_u,t_v,t_w, t_c):\n",
        "    for epoch in range(1, n_epochs + 1):\n",
        "        w1,w2,w3, b = params\n",
        "\n",
        "        t_p = model(t_u,t_v,t_w, w1 ,w2 ,w3, b)  # <1>\n",
        "        loss = loss_fn(t_p, t_c)\n",
        "        grad = grad_fn(t_u,t_v,t_w, t_c, t_p, w1,w2,w3, b)  # <2>\n",
        "\n",
        "        params = params - learning_rate * grad\n",
        "\n",
        "        print('Epoch %d, Loss %f' % (epoch, float(loss))) # <3>\n",
        "            \n",
        "    return params"
      ],
      "execution_count": null,
      "outputs": []
    },
    {
      "cell_type": "code",
      "metadata": {
        "pycharm": {
          "is_executing": false
        },
        "id": "-FRZ1p2SKbQp"
      },
      "source": [
        "def training_loop(n_epochs, learning_rate, params, t_u,t_v,t_w, t_c, print_params=True):\n",
        "    for epoch in range(1, n_epochs + 1):\n",
        "        w1,w2,w3, b = params\n",
        "\n",
        "        t_p = model(t_u,t_v,t_w, w1 ,w2 ,w3, b)  # <1>\n",
        "        loss = loss_fn(t_p, t_c)\n",
        "        grad = grad_fn(t_u,t_v,t_w, t_c, t_p, w1,w2,w3, b)  # <2>\n",
        "\n",
        "        params = params - learning_rate * grad\n",
        "\n",
        "        if epoch in {1, 2, 3, 10, 11, 99, 100, 4000, 5000}:  # <3>\n",
        "            print('Epoch %d, Loss %f' % (epoch, float(loss)))\n",
        "            if print_params:\n",
        "                print('    Params:', params)\n",
        "                print('    Grad:  ', grad)\n",
        "        if epoch in {4, 12, 101}:\n",
        "            print('...')\n",
        "\n",
        "        if not torch.isfinite(loss).all():\n",
        "            break  # <3>\n",
        "            \n",
        "    return params"
      ],
      "execution_count": null,
      "outputs": []
    },
    {
      "cell_type": "code",
      "metadata": {
        "pycharm": {
          "is_executing": false
        },
        "id": "1wOKyZ5LKbQp",
        "colab": {
          "base_uri": "https://localhost:8080/"
        },
        "outputId": "180243b3-a713-40a9-eb4e-575c09de9c50"
      },
      "source": [
        "training_loop(\n",
        "    n_epochs = 100, \n",
        "    learning_rate = 1e-2, \n",
        "    params = torch.tensor([1.0,1.0,1.0,0.0]), \n",
        "    t_u = t_u, \n",
        "    t_v = t_v, \n",
        "    t_w = t_w, \n",
        "    t_c = t_c)"
      ],
      "execution_count": null,
      "outputs": [
        {
          "output_type": "stream",
          "text": [
            "Epoch 1, Loss 933058551.305152\n",
            "    Params: tensor([ -47.8684, -154.1567,  -28.9851,   -1.4370], dtype=torch.float64)\n",
            "    Grad:   tensor([ 4886.8398, 15515.6681,  2998.5140,   143.7010],\n",
            "       dtype=torch.float64)\n",
            "Epoch 2, Loss 933072494.274284\n",
            "    Params: tensor([ 5.5062,  2.6298, -5.3488, -2.6845], dtype=torch.float64)\n",
            "    Grad:   tensor([ -5337.4558, -15678.6499,  -2363.6365,    124.7493],\n",
            "       dtype=torch.float64)\n",
            "Epoch 3, Loss 933092818.436288\n",
            "    Params: tensor([ -52.4966, -156.1478,  -22.6628,   -4.0785], dtype=torch.float64)\n",
            "    Grad:   tensor([ 5800.2750, 15877.7666,  1731.4022,   139.4025],\n",
            "       dtype=torch.float64)\n",
            "...\n",
            "Epoch 10, Loss 933441173.394813\n",
            "    Params: tensor([ 26.7149,  16.7272, -30.8969, -12.3943], dtype=torch.float64)\n",
            "    Grad:   tensor([ -9505.0882, -18341.6359,   2734.8900,     99.8185],\n",
            "       dtype=torch.float64)\n",
            "Epoch 11, Loss 933526409.636708\n",
            "    Params: tensor([ -74.4339, -171.8495,    3.0658,  -13.6465], dtype=torch.float64)\n",
            "    Grad:   tensor([10114.8801, 18857.6623, -3396.2755,   125.2137],\n",
            "       dtype=torch.float64)\n",
            "...\n",
            "Epoch 99, Loss 6864547595.229608\n",
            "    Params: tensor([-4410.3176, -5827.9104,  3376.6830,   -64.5245],\n",
            "       dtype=torch.float64)\n",
            "    Grad:   tensor([ 856563.8272, 1122732.2113, -662158.9749,    1139.9374],\n",
            "       dtype=torch.float64)\n",
            "Epoch 100, Loss 7477778123.570120\n",
            "    Params: tensor([ 4587.0038,  5965.4532, -3578.9408,   -52.9318],\n",
            "       dtype=torch.float64)\n",
            "    Grad:   tensor([-8.9973e+05, -1.1793e+06,  6.9556e+05, -1.1593e+03],\n",
            "       dtype=torch.float64)\n"
          ],
          "name": "stdout"
        },
        {
          "output_type": "execute_result",
          "data": {
            "text/plain": [
              "tensor([ 4587.0038,  5965.4532, -3578.9408,   -52.9318],\n",
              "       dtype=torch.float64)"
            ]
          },
          "metadata": {
            "tags": []
          },
          "execution_count": 53
        }
      ]
    },
    {
      "cell_type": "code",
      "metadata": {
        "pycharm": {
          "is_executing": false
        },
        "id": "kWBwEv6MKbQq",
        "colab": {
          "base_uri": "https://localhost:8080/"
        },
        "outputId": "68c3563e-3f0c-4faa-a217-af4983928219"
      },
      "source": [
        "training_loop(\n",
        "    n_epochs = 100, \n",
        "    learning_rate = 1e-4, \n",
        "    params = torch.tensor([1.0,1.0,1.0,0.0]), \n",
        "    t_u = t_u, \n",
        "    t_v = t_v, \n",
        "    t_w = t_w, \n",
        "    t_c = t_c)"
      ],
      "execution_count": null,
      "outputs": [
        {
          "output_type": "stream",
          "text": [
            "Epoch 1, Loss 933058551.305152\n",
            "    Params: tensor([ 0.5113, -0.5516,  0.7001, -0.0144], dtype=torch.float64)\n",
            "    Grad:   tensor([ 4886.8398, 15515.6681,  2998.5140,   143.7010],\n",
            "       dtype=torch.float64)\n",
            "Epoch 2, Loss 933031463.438662\n",
            "    Params: tensor([ 0.0329, -2.0719,  0.4057, -0.0287], dtype=torch.float64)\n",
            "    Grad:   tensor([ 4784.5968, 15203.7250,  2944.8925,   143.5115],\n",
            "       dtype=torch.float64)\n",
            "Epoch 3, Loss 933005453.648782\n",
            "    Params: tensor([-0.4356, -3.5617,  0.1164, -0.0431], dtype=torch.float64)\n",
            "    Grad:   tensor([ 4684.4901, 14898.0569,  2892.2167,   143.3253],\n",
            "       dtype=torch.float64)\n",
            "...\n",
            "Epoch 10, Loss 932850172.109205\n",
            "    Params: tensor([ -3.4515, -13.1846,  -1.7682,  -0.1429], dtype=torch.float64)\n",
            "    Grad:   tensor([ 4039.9266, 12923.7872,  2548.6244,   142.1107],\n",
            "       dtype=torch.float64)\n",
            "Epoch 11, Loss 932831376.797206\n",
            "    Params: tensor([ -3.8470, -14.4510,  -2.0185,  -0.1571], dtype=torch.float64)\n",
            "    Grad:   tensor([ 3955.3803, 12663.9802,  2502.9472,   141.9490],\n",
            "       dtype=torch.float64)\n",
            "...\n",
            "Epoch 99, Loss 932390289.794309\n",
            "    Params: tensor([-19.4661, -65.8534, -12.9033,  -1.3650], dtype=torch.float64)\n",
            "    Grad:   tensor([ 613.3327, 2122.4786,  501.9275,  134.2245], dtype=torch.float64)\n",
            "Epoch 100, Loss 932389779.838862\n",
            "    Params: tensor([-19.5261, -66.0614, -12.9525,  -1.3784], dtype=torch.float64)\n",
            "    Grad:   tensor([ 600.4574, 2079.8536,  492.7698,  134.1769], dtype=torch.float64)\n"
          ],
          "name": "stdout"
        },
        {
          "output_type": "execute_result",
          "data": {
            "text/plain": [
              "tensor([-19.5261, -66.0614, -12.9525,  -1.3784], dtype=torch.float64)"
            ]
          },
          "metadata": {
            "tags": []
          },
          "execution_count": 54
        }
      ]
    },
    {
      "cell_type": "code",
      "metadata": {
        "pycharm": {
          "is_executing": false
        },
        "scrolled": true,
        "id": "-Erm2aQjKbQq",
        "colab": {
          "base_uri": "https://localhost:8080/"
        },
        "outputId": "e29d6c4f-63b5-41ef-c931-d8b11e5be56a"
      },
      "source": [
        "training_loop(\n",
        "    n_epochs = 100, \n",
        "    learning_rate = 1e-2, \n",
        "    params = torch.tensor([1.0,1.0,1.0,0.0]), \n",
        "    t_u = t_un,\n",
        "    t_v = t_vn,\n",
        "    t_w = t_wn,\n",
        "    t_c = t_c)"
      ],
      "execution_count": null,
      "outputs": [
        {
          "output_type": "stream",
          "text": [
            "Epoch 1, Loss 933037732.609028\n",
            "    Params: tensor([ -3.7033, -14.3359,  -1.8235,  -1.4337], dtype=torch.float64)\n",
            "    Grad:   tensor([ 470.3340, 1533.5940,  282.3467,  143.3685], dtype=torch.float64)\n",
            "Epoch 2, Loss 933011267.593982\n",
            "    Params: tensor([ -8.3077, -29.3635,  -4.5966,  -2.8372], dtype=torch.float64)\n",
            "    Grad:   tensor([ 460.4382, 1502.7600,  277.3168,  140.3470], dtype=torch.float64)\n",
            "Epoch 3, Loss 932985856.914923\n",
            "    Params: tensor([-12.8152, -44.0890,  -7.3204,  -4.2110], dtype=torch.float64)\n",
            "    Grad:   tensor([ 450.7503, 1472.5464,  272.3751,  137.3893], dtype=torch.float64)\n",
            "...\n",
            "Epoch 10, Loss 932834176.256310\n",
            "    Params: tensor([ -41.8208, -139.2029,  -25.0740,  -13.0508], dtype=torch.float64)\n",
            "    Grad:   tensor([ 388.4007, 1277.4010,  240.1310,  118.3574], dtype=torch.float64)\n",
            "Epoch 11, Loss 932815819.977772\n",
            "    Params: tensor([ -45.6231, -151.7201,  -27.4324,  -14.2095], dtype=torch.float64)\n",
            "    Grad:   tensor([ 380.2263, 1251.7207,  235.8430,  115.8628], dtype=torch.float64)\n",
            "...\n",
            "Epoch 99, Loss 932385506.095082\n",
            "    Params: tensor([-195.1856, -659.7773, -130.2029,  -59.7539], dtype=torch.float64)\n",
            "    Grad:   tensor([ 58.3171, 209.7790,  47.5340,  17.7513], dtype=torch.float64)\n",
            "Epoch 100, Loss 932385011.284776\n",
            "    Params: tensor([-195.7564, -661.8330, -130.6696,  -59.9276], dtype=torch.float64)\n",
            "    Grad:   tensor([ 57.0857, 205.5661,  46.6690,  17.3767], dtype=torch.float64)\n"
          ],
          "name": "stdout"
        },
        {
          "output_type": "execute_result",
          "data": {
            "text/plain": [
              "tensor([-195.7564, -661.8330, -130.6696,  -59.9276], dtype=torch.float64)"
            ]
          },
          "metadata": {
            "tags": []
          },
          "execution_count": 57
        }
      ]
    },
    {
      "cell_type": "code",
      "metadata": {
        "pycharm": {
          "is_executing": false
        },
        "scrolled": true,
        "id": "94N0hh95KbQq",
        "colab": {
          "base_uri": "https://localhost:8080/"
        },
        "outputId": "fa5c890d-3b8e-41d8-9013-ffa366a0330b"
      },
      "source": [
        "params = training_loop(\n",
        "    n_epochs = 5000, \n",
        "    learning_rate = 1e-2, \n",
        "    params = torch.tensor([1.0,1.0,1.0,0.0]), \n",
        "    t_u = t_un,\n",
        "    t_v = t_vn,\n",
        "    t_w = t_wn,\n",
        "    t_c = t_c,\n",
        "    print_params = False)\n",
        "\n",
        "params"
      ],
      "execution_count": null,
      "outputs": [
        {
          "output_type": "stream",
          "text": [
            "Epoch 1, Loss 933037732.609028\n",
            "Epoch 2, Loss 933011267.593982\n",
            "Epoch 3, Loss 932985856.914923\n",
            "...\n",
            "Epoch 10, Loss 932834176.256310\n",
            "Epoch 11, Loss 932815819.977772\n",
            "...\n",
            "Epoch 99, Loss 932385506.095082\n",
            "Epoch 100, Loss 932385011.284776\n",
            "...\n",
            "Epoch 4000, Loss 932373049.328151\n",
            "Epoch 5000, Loss 932373049.328151\n"
          ],
          "name": "stdout"
        },
        {
          "output_type": "execute_result",
          "data": {
            "text/plain": [
              "tensor([-222.1622, -762.1946, -155.6476,  -67.9802], dtype=torch.float64)"
            ]
          },
          "metadata": {
            "tags": []
          },
          "execution_count": 74
        }
      ]
    },
    {
      "cell_type": "code",
      "metadata": {
        "pycharm": {
          "is_executing": false
        },
        "scrolled": true,
        "id": "oYMQWZXhKbQr",
        "colab": {
          "base_uri": "https://localhost:8080/",
          "height": 298
        },
        "outputId": "4f65a995-4877-48a7-a711-3de5961ab16c"
      },
      "source": [
        "%matplotlib inline\n",
        "from matplotlib import pyplot as plt\n",
        "\n",
        "t_p = model(t_u,t_v,t_w, w1 ,w2 ,w3, b)\n",
        "\n",
        "fig = plt.figure()\n",
        "plt.xlabel(\"Actual\")\n",
        "plt.ylabel(\"Predicted\")\n",
        "plt.plot(t_c.numpy(), t_p.detach().numpy())"
      ],
      "execution_count": null,
      "outputs": [
        {
          "output_type": "execute_result",
          "data": {
            "text/plain": [
              "[<matplotlib.lines.Line2D at 0x7f18428bad50>]"
            ]
          },
          "metadata": {
            "tags": []
          },
          "execution_count": 75
        },
        {
          "output_type": "display_data",
          "data": {
            "image/png": "[encoded data removed]",
            "text/plain": [
              "<Figure size 432x288 with 1 Axes>"
            ]
          },
          "metadata": {
            "tags": [],
            "needs_background": "light"
          }
        }
      ]
    }
  ]
}